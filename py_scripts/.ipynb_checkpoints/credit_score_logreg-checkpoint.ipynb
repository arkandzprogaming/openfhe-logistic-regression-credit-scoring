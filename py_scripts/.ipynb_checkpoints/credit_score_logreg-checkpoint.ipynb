{
 "cells": [
  {
   "cell_type": "markdown",
   "id": "dab2dd2e-97ae-441b-a3ad-8fa37f50e703",
   "metadata": {},
   "source": [
    "# Credit score classification using logistic regression "
   ]
  },
  {
   "cell_type": "markdown",
   "id": "88f92936-ae0e-4a91-becb-b274541a008d",
   "metadata": {},
   "source": [
    "We are using a credit-related dataset found in Kaggle (source: https://www.kaggle.com/datasets/parisrohan/credit-score-classification/data). The dataset consists of 27 input features and one target label, that is the credit score."
   ]
  },
  {
   "cell_type": "markdown",
   "id": "7482adc8-bb1b-4458-8d73-7457db8e82ae",
   "metadata": {},
   "source": [
    "Goal : To predict the credit score of a new, unseen data using logistic regression model."
   ]
  },
  {
   "cell_type": "code",
   "execution_count": 1,
   "id": "4766b21f-e8c0-43a6-86df-f89f2d11da45",
   "metadata": {},
   "outputs": [
    {
     "data": {
      "text/plain": [
       "{'divide': 'warn', 'over': 'warn', 'under': 'ignore', 'invalid': 'warn'}"
      ]
     },
     "execution_count": 1,
     "metadata": {},
     "output_type": "execute_result"
    }
   ],
   "source": [
    "import numpy as np\n",
    "np.random.seed(42)\n",
    "import pandas as pd\n",
    "import tqdm\n",
    "import time\n",
    "\n",
    "from sklearn.model_selection import train_test_split\n",
    "from sklearn.feature_selection import SelectKBest, f_classif\n",
    "from sklearn.preprocessing import StandardScaler\n",
    "from sklearn.metrics import roc_auc_score, precision_score, recall_score\n",
    "from sklearn.metrics import confusion_matrix, accuracy_score, f1_score\n",
    "from sklearn.impute import KNNImputer\n",
    "from numba import njit\n",
    "\n",
    "np.seterr(all='raise')"
   ]
  },
  {
   "cell_type": "markdown",
   "id": "e51ed538-0687-4235-9e4b-9526f7397194",
   "metadata": {},
   "source": [
    "## Load and clean the data"
   ]
  },
  {
   "cell_type": "code",
   "execution_count": 2,
   "id": "64034e0b-460c-4d41-8478-516cf9a866a6",
   "metadata": {},
   "outputs": [],
   "source": [
    "def load_data():\n",
    "    filename = \"../train_data/cs_train.csv\"\n",
    "    df = pd.read_csv(filename)\n",
    "\n",
    "    ## Separate target from features\n",
    "    X = df.drop(columns=['Credit_Score'])\n",
    "    y = df['Credit_Score']\n",
    "\n",
    "    return X, y"
   ]
  },
  {
   "cell_type": "code",
   "execution_count": 3,
   "id": "f2c654aa-4cb0-4733-a1dd-1117e1ec4005",
   "metadata": {},
   "outputs": [],
   "source": [
    "def slice_split(X, y, num_samples, compare_to_r_ref):\n",
    "    X = X.to_numpy()[:num_samples]\n",
    "    y = y.to_numpy()[:num_samples]\n",
    "    \n",
    "    ## Split into training and test set\n",
    "    X_train, X_test, y_train, y_test = train_test_split(X, y, test_size=0.5, random_state=1332)\n",
    "    \n",
    "    print(f\"Train X shape is: {X_train.shape}\")\n",
    "    print(f\"Train Y shape is: {y_train.shape}\")\n",
    "    print(f\"Test X shape is: {X_test.shape}\")\n",
    "    print(f\"Test Y shape is: {y_test.shape}\")\n",
    "    return X_train, X_test, y_train, y_test"
   ]
  },
  {
   "cell_type": "code",
   "execution_count": 4,
   "id": "95631795-2313-4740-8e98-9fdb16e3b426",
   "metadata": {},
   "outputs": [
    {
     "name": "stderr",
     "output_type": "stream",
     "text": [
      "/tmp/ipykernel_233837/566418612.py:3: DtypeWarning: Columns (26) have mixed types. Specify dtype option on import or set low_memory=False.\n",
      "  df = pd.read_csv(filename)\n"
     ]
    },
    {
     "data": {
      "text/html": [
       "<div>\n",
       "<style scoped>\n",
       "    .dataframe tbody tr th:only-of-type {\n",
       "        vertical-align: middle;\n",
       "    }\n",
       "\n",
       "    .dataframe tbody tr th {\n",
       "        vertical-align: top;\n",
       "    }\n",
       "\n",
       "    .dataframe thead th {\n",
       "        text-align: right;\n",
       "    }\n",
       "</style>\n",
       "<table border=\"1\" class=\"dataframe\">\n",
       "  <thead>\n",
       "    <tr style=\"text-align: right;\">\n",
       "      <th></th>\n",
       "      <th>ID</th>\n",
       "      <th>Customer_ID</th>\n",
       "      <th>Month</th>\n",
       "      <th>Name</th>\n",
       "      <th>Age</th>\n",
       "      <th>SSN</th>\n",
       "      <th>Occupation</th>\n",
       "      <th>Annual_Income</th>\n",
       "      <th>Monthly_Inhand_Salary</th>\n",
       "      <th>Num_Bank_Accounts</th>\n",
       "      <th>...</th>\n",
       "      <th>Num_Credit_Inquiries</th>\n",
       "      <th>Credit_Mix</th>\n",
       "      <th>Outstanding_Debt</th>\n",
       "      <th>Credit_Utilization_Ratio</th>\n",
       "      <th>Credit_History_Age</th>\n",
       "      <th>Payment_of_Min_Amount</th>\n",
       "      <th>Total_EMI_per_month</th>\n",
       "      <th>Amount_invested_monthly</th>\n",
       "      <th>Payment_Behaviour</th>\n",
       "      <th>Monthly_Balance</th>\n",
       "    </tr>\n",
       "  </thead>\n",
       "  <tbody>\n",
       "    <tr>\n",
       "      <th>0</th>\n",
       "      <td>0x1602</td>\n",
       "      <td>CUS_0xd40</td>\n",
       "      <td>January</td>\n",
       "      <td>Aaron Maashoh</td>\n",
       "      <td>23</td>\n",
       "      <td>821-00-0265</td>\n",
       "      <td>Scientist</td>\n",
       "      <td>19114.12</td>\n",
       "      <td>1824.843333</td>\n",
       "      <td>3</td>\n",
       "      <td>...</td>\n",
       "      <td>4.0</td>\n",
       "      <td>_</td>\n",
       "      <td>809.98</td>\n",
       "      <td>26.822620</td>\n",
       "      <td>22 Years and 1 Months</td>\n",
       "      <td>No</td>\n",
       "      <td>49.574949</td>\n",
       "      <td>80.41529543900253</td>\n",
       "      <td>High_spent_Small_value_payments</td>\n",
       "      <td>312.49408867943663</td>\n",
       "    </tr>\n",
       "    <tr>\n",
       "      <th>1</th>\n",
       "      <td>0x1603</td>\n",
       "      <td>CUS_0xd40</td>\n",
       "      <td>February</td>\n",
       "      <td>Aaron Maashoh</td>\n",
       "      <td>23</td>\n",
       "      <td>821-00-0265</td>\n",
       "      <td>Scientist</td>\n",
       "      <td>19114.12</td>\n",
       "      <td>NaN</td>\n",
       "      <td>3</td>\n",
       "      <td>...</td>\n",
       "      <td>4.0</td>\n",
       "      <td>Good</td>\n",
       "      <td>809.98</td>\n",
       "      <td>31.944960</td>\n",
       "      <td>NaN</td>\n",
       "      <td>No</td>\n",
       "      <td>49.574949</td>\n",
       "      <td>118.28022162236736</td>\n",
       "      <td>Low_spent_Large_value_payments</td>\n",
       "      <td>284.62916249607184</td>\n",
       "    </tr>\n",
       "    <tr>\n",
       "      <th>2</th>\n",
       "      <td>0x1604</td>\n",
       "      <td>CUS_0xd40</td>\n",
       "      <td>March</td>\n",
       "      <td>Aaron Maashoh</td>\n",
       "      <td>-500</td>\n",
       "      <td>821-00-0265</td>\n",
       "      <td>Scientist</td>\n",
       "      <td>19114.12</td>\n",
       "      <td>NaN</td>\n",
       "      <td>3</td>\n",
       "      <td>...</td>\n",
       "      <td>4.0</td>\n",
       "      <td>Good</td>\n",
       "      <td>809.98</td>\n",
       "      <td>28.609352</td>\n",
       "      <td>22 Years and 3 Months</td>\n",
       "      <td>No</td>\n",
       "      <td>49.574949</td>\n",
       "      <td>81.699521264648</td>\n",
       "      <td>Low_spent_Medium_value_payments</td>\n",
       "      <td>331.2098628537912</td>\n",
       "    </tr>\n",
       "    <tr>\n",
       "      <th>3</th>\n",
       "      <td>0x1605</td>\n",
       "      <td>CUS_0xd40</td>\n",
       "      <td>April</td>\n",
       "      <td>Aaron Maashoh</td>\n",
       "      <td>23</td>\n",
       "      <td>821-00-0265</td>\n",
       "      <td>Scientist</td>\n",
       "      <td>19114.12</td>\n",
       "      <td>NaN</td>\n",
       "      <td>3</td>\n",
       "      <td>...</td>\n",
       "      <td>4.0</td>\n",
       "      <td>Good</td>\n",
       "      <td>809.98</td>\n",
       "      <td>31.377862</td>\n",
       "      <td>22 Years and 4 Months</td>\n",
       "      <td>No</td>\n",
       "      <td>49.574949</td>\n",
       "      <td>199.4580743910713</td>\n",
       "      <td>Low_spent_Small_value_payments</td>\n",
       "      <td>223.45130972736786</td>\n",
       "    </tr>\n",
       "    <tr>\n",
       "      <th>4</th>\n",
       "      <td>0x1606</td>\n",
       "      <td>CUS_0xd40</td>\n",
       "      <td>May</td>\n",
       "      <td>Aaron Maashoh</td>\n",
       "      <td>23</td>\n",
       "      <td>821-00-0265</td>\n",
       "      <td>Scientist</td>\n",
       "      <td>19114.12</td>\n",
       "      <td>1824.843333</td>\n",
       "      <td>3</td>\n",
       "      <td>...</td>\n",
       "      <td>4.0</td>\n",
       "      <td>Good</td>\n",
       "      <td>809.98</td>\n",
       "      <td>24.797347</td>\n",
       "      <td>22 Years and 5 Months</td>\n",
       "      <td>No</td>\n",
       "      <td>49.574949</td>\n",
       "      <td>41.420153086217326</td>\n",
       "      <td>High_spent_Medium_value_payments</td>\n",
       "      <td>341.48923103222177</td>\n",
       "    </tr>\n",
       "  </tbody>\n",
       "</table>\n",
       "<p>5 rows × 27 columns</p>\n",
       "</div>"
      ],
      "text/plain": [
       "       ID Customer_ID     Month           Name   Age          SSN Occupation  \\\n",
       "0  0x1602   CUS_0xd40   January  Aaron Maashoh    23  821-00-0265  Scientist   \n",
       "1  0x1603   CUS_0xd40  February  Aaron Maashoh    23  821-00-0265  Scientist   \n",
       "2  0x1604   CUS_0xd40     March  Aaron Maashoh  -500  821-00-0265  Scientist   \n",
       "3  0x1605   CUS_0xd40     April  Aaron Maashoh    23  821-00-0265  Scientist   \n",
       "4  0x1606   CUS_0xd40       May  Aaron Maashoh    23  821-00-0265  Scientist   \n",
       "\n",
       "  Annual_Income  Monthly_Inhand_Salary  Num_Bank_Accounts  ...  \\\n",
       "0      19114.12            1824.843333                  3  ...   \n",
       "1      19114.12                    NaN                  3  ...   \n",
       "2      19114.12                    NaN                  3  ...   \n",
       "3      19114.12                    NaN                  3  ...   \n",
       "4      19114.12            1824.843333                  3  ...   \n",
       "\n",
       "   Num_Credit_Inquiries  Credit_Mix Outstanding_Debt Credit_Utilization_Ratio  \\\n",
       "0                   4.0           _           809.98                26.822620   \n",
       "1                   4.0        Good           809.98                31.944960   \n",
       "2                   4.0        Good           809.98                28.609352   \n",
       "3                   4.0        Good           809.98                31.377862   \n",
       "4                   4.0        Good           809.98                24.797347   \n",
       "\n",
       "      Credit_History_Age Payment_of_Min_Amount Total_EMI_per_month  \\\n",
       "0  22 Years and 1 Months                    No           49.574949   \n",
       "1                    NaN                    No           49.574949   \n",
       "2  22 Years and 3 Months                    No           49.574949   \n",
       "3  22 Years and 4 Months                    No           49.574949   \n",
       "4  22 Years and 5 Months                    No           49.574949   \n",
       "\n",
       "   Amount_invested_monthly                 Payment_Behaviour  \\\n",
       "0        80.41529543900253   High_spent_Small_value_payments   \n",
       "1       118.28022162236736    Low_spent_Large_value_payments   \n",
       "2          81.699521264648   Low_spent_Medium_value_payments   \n",
       "3        199.4580743910713    Low_spent_Small_value_payments   \n",
       "4       41.420153086217326  High_spent_Medium_value_payments   \n",
       "\n",
       "      Monthly_Balance  \n",
       "0  312.49408867943663  \n",
       "1  284.62916249607184  \n",
       "2   331.2098628537912  \n",
       "3  223.45130972736786  \n",
       "4  341.48923103222177  \n",
       "\n",
       "[5 rows x 27 columns]"
      ]
     },
     "execution_count": 4,
     "metadata": {},
     "output_type": "execute_result"
    }
   ],
   "source": [
    "X, y = load_data()\n",
    "X.head()"
   ]
  },
  {
   "cell_type": "markdown",
   "id": "fb8e3154-9126-4ace-b8ba-6743473696f7",
   "metadata": {},
   "source": [
    "We'll then perform data cleaning to filter out irrelevant features for our prediction. A little bit of feature engineering after might be necessary."
   ]
  },
  {
   "cell_type": "markdown",
   "id": "349fe467-4d9d-40dc-9ec8-6f88fef0e32f",
   "metadata": {},
   "source": [
    "First of all, we need to look more into our 'Monthly_Balance' column, which holds more than one data type, hence detected as DTypeWarning. "
   ]
  },
  {
   "cell_type": "code",
   "execution_count": 5,
   "id": "9cfc84d9-1db2-4d4c-baac-2b97e12a35cd",
   "metadata": {},
   "outputs": [
    {
     "name": "stdout",
     "output_type": "stream",
     "text": [
      "['312.49408867943663' '284.62916249607184' '331.2098628537912' ...\n",
      " 516.8090832742814 319.1649785257098 393.6736955618808]\n"
     ]
    }
   ],
   "source": [
    "print(X['Monthly_Balance'].unique())"
   ]
  },
  {
   "cell_type": "code",
   "execution_count": 6,
   "id": "6a41b7b8-30e9-403f-b727-28252852ab81",
   "metadata": {},
   "outputs": [
    {
     "data": {
      "text/html": [
       "<div>\n",
       "<style scoped>\n",
       "    .dataframe tbody tr th:only-of-type {\n",
       "        vertical-align: middle;\n",
       "    }\n",
       "\n",
       "    .dataframe tbody tr th {\n",
       "        vertical-align: top;\n",
       "    }\n",
       "\n",
       "    .dataframe thead th {\n",
       "        text-align: right;\n",
       "    }\n",
       "</style>\n",
       "<table border=\"1\" class=\"dataframe\">\n",
       "  <thead>\n",
       "    <tr style=\"text-align: right;\">\n",
       "      <th></th>\n",
       "      <th>ID</th>\n",
       "      <th>Customer_ID</th>\n",
       "      <th>Month</th>\n",
       "      <th>Name</th>\n",
       "      <th>Age</th>\n",
       "      <th>SSN</th>\n",
       "      <th>Occupation</th>\n",
       "      <th>Annual_Income</th>\n",
       "      <th>Monthly_Inhand_Salary</th>\n",
       "      <th>Num_Bank_Accounts</th>\n",
       "      <th>...</th>\n",
       "      <th>Num_Credit_Inquiries</th>\n",
       "      <th>Credit_Mix</th>\n",
       "      <th>Outstanding_Debt</th>\n",
       "      <th>Credit_Utilization_Ratio</th>\n",
       "      <th>Credit_History_Age</th>\n",
       "      <th>Payment_of_Min_Amount</th>\n",
       "      <th>Total_EMI_per_month</th>\n",
       "      <th>Amount_invested_monthly</th>\n",
       "      <th>Payment_Behaviour</th>\n",
       "      <th>Monthly_Balance</th>\n",
       "    </tr>\n",
       "  </thead>\n",
       "  <tbody>\n",
       "    <tr>\n",
       "      <th>0</th>\n",
       "      <td>0x1602</td>\n",
       "      <td>CUS_0xd40</td>\n",
       "      <td>January</td>\n",
       "      <td>Aaron Maashoh</td>\n",
       "      <td>23</td>\n",
       "      <td>821-00-0265</td>\n",
       "      <td>Scientist</td>\n",
       "      <td>19114.12</td>\n",
       "      <td>1824.843333</td>\n",
       "      <td>3</td>\n",
       "      <td>...</td>\n",
       "      <td>4.0</td>\n",
       "      <td>_</td>\n",
       "      <td>809.98</td>\n",
       "      <td>26.822620</td>\n",
       "      <td>22 Years and 1 Months</td>\n",
       "      <td>No</td>\n",
       "      <td>49.574949</td>\n",
       "      <td>80.41529543900253</td>\n",
       "      <td>High_spent_Small_value_payments</td>\n",
       "      <td>312.494089</td>\n",
       "    </tr>\n",
       "    <tr>\n",
       "      <th>1</th>\n",
       "      <td>0x1603</td>\n",
       "      <td>CUS_0xd40</td>\n",
       "      <td>February</td>\n",
       "      <td>Aaron Maashoh</td>\n",
       "      <td>23</td>\n",
       "      <td>821-00-0265</td>\n",
       "      <td>Scientist</td>\n",
       "      <td>19114.12</td>\n",
       "      <td>NaN</td>\n",
       "      <td>3</td>\n",
       "      <td>...</td>\n",
       "      <td>4.0</td>\n",
       "      <td>Good</td>\n",
       "      <td>809.98</td>\n",
       "      <td>31.944960</td>\n",
       "      <td>NaN</td>\n",
       "      <td>No</td>\n",
       "      <td>49.574949</td>\n",
       "      <td>118.28022162236736</td>\n",
       "      <td>Low_spent_Large_value_payments</td>\n",
       "      <td>284.629162</td>\n",
       "    </tr>\n",
       "    <tr>\n",
       "      <th>2</th>\n",
       "      <td>0x1604</td>\n",
       "      <td>CUS_0xd40</td>\n",
       "      <td>March</td>\n",
       "      <td>Aaron Maashoh</td>\n",
       "      <td>-500</td>\n",
       "      <td>821-00-0265</td>\n",
       "      <td>Scientist</td>\n",
       "      <td>19114.12</td>\n",
       "      <td>NaN</td>\n",
       "      <td>3</td>\n",
       "      <td>...</td>\n",
       "      <td>4.0</td>\n",
       "      <td>Good</td>\n",
       "      <td>809.98</td>\n",
       "      <td>28.609352</td>\n",
       "      <td>22 Years and 3 Months</td>\n",
       "      <td>No</td>\n",
       "      <td>49.574949</td>\n",
       "      <td>81.699521264648</td>\n",
       "      <td>Low_spent_Medium_value_payments</td>\n",
       "      <td>331.209863</td>\n",
       "    </tr>\n",
       "    <tr>\n",
       "      <th>3</th>\n",
       "      <td>0x1605</td>\n",
       "      <td>CUS_0xd40</td>\n",
       "      <td>April</td>\n",
       "      <td>Aaron Maashoh</td>\n",
       "      <td>23</td>\n",
       "      <td>821-00-0265</td>\n",
       "      <td>Scientist</td>\n",
       "      <td>19114.12</td>\n",
       "      <td>NaN</td>\n",
       "      <td>3</td>\n",
       "      <td>...</td>\n",
       "      <td>4.0</td>\n",
       "      <td>Good</td>\n",
       "      <td>809.98</td>\n",
       "      <td>31.377862</td>\n",
       "      <td>22 Years and 4 Months</td>\n",
       "      <td>No</td>\n",
       "      <td>49.574949</td>\n",
       "      <td>199.4580743910713</td>\n",
       "      <td>Low_spent_Small_value_payments</td>\n",
       "      <td>223.451310</td>\n",
       "    </tr>\n",
       "    <tr>\n",
       "      <th>4</th>\n",
       "      <td>0x1606</td>\n",
       "      <td>CUS_0xd40</td>\n",
       "      <td>May</td>\n",
       "      <td>Aaron Maashoh</td>\n",
       "      <td>23</td>\n",
       "      <td>821-00-0265</td>\n",
       "      <td>Scientist</td>\n",
       "      <td>19114.12</td>\n",
       "      <td>1824.843333</td>\n",
       "      <td>3</td>\n",
       "      <td>...</td>\n",
       "      <td>4.0</td>\n",
       "      <td>Good</td>\n",
       "      <td>809.98</td>\n",
       "      <td>24.797347</td>\n",
       "      <td>22 Years and 5 Months</td>\n",
       "      <td>No</td>\n",
       "      <td>49.574949</td>\n",
       "      <td>41.420153086217326</td>\n",
       "      <td>High_spent_Medium_value_payments</td>\n",
       "      <td>341.489231</td>\n",
       "    </tr>\n",
       "  </tbody>\n",
       "</table>\n",
       "<p>5 rows × 27 columns</p>\n",
       "</div>"
      ],
      "text/plain": [
       "       ID Customer_ID     Month           Name   Age          SSN Occupation  \\\n",
       "0  0x1602   CUS_0xd40   January  Aaron Maashoh    23  821-00-0265  Scientist   \n",
       "1  0x1603   CUS_0xd40  February  Aaron Maashoh    23  821-00-0265  Scientist   \n",
       "2  0x1604   CUS_0xd40     March  Aaron Maashoh  -500  821-00-0265  Scientist   \n",
       "3  0x1605   CUS_0xd40     April  Aaron Maashoh    23  821-00-0265  Scientist   \n",
       "4  0x1606   CUS_0xd40       May  Aaron Maashoh    23  821-00-0265  Scientist   \n",
       "\n",
       "  Annual_Income  Monthly_Inhand_Salary  Num_Bank_Accounts  ...  \\\n",
       "0      19114.12            1824.843333                  3  ...   \n",
       "1      19114.12                    NaN                  3  ...   \n",
       "2      19114.12                    NaN                  3  ...   \n",
       "3      19114.12                    NaN                  3  ...   \n",
       "4      19114.12            1824.843333                  3  ...   \n",
       "\n",
       "   Num_Credit_Inquiries  Credit_Mix Outstanding_Debt Credit_Utilization_Ratio  \\\n",
       "0                   4.0           _           809.98                26.822620   \n",
       "1                   4.0        Good           809.98                31.944960   \n",
       "2                   4.0        Good           809.98                28.609352   \n",
       "3                   4.0        Good           809.98                31.377862   \n",
       "4                   4.0        Good           809.98                24.797347   \n",
       "\n",
       "      Credit_History_Age Payment_of_Min_Amount Total_EMI_per_month  \\\n",
       "0  22 Years and 1 Months                    No           49.574949   \n",
       "1                    NaN                    No           49.574949   \n",
       "2  22 Years and 3 Months                    No           49.574949   \n",
       "3  22 Years and 4 Months                    No           49.574949   \n",
       "4  22 Years and 5 Months                    No           49.574949   \n",
       "\n",
       "   Amount_invested_monthly                 Payment_Behaviour Monthly_Balance  \n",
       "0        80.41529543900253   High_spent_Small_value_payments      312.494089  \n",
       "1       118.28022162236736    Low_spent_Large_value_payments      284.629162  \n",
       "2          81.699521264648   Low_spent_Medium_value_payments      331.209863  \n",
       "3        199.4580743910713    Low_spent_Small_value_payments      223.451310  \n",
       "4       41.420153086217326  High_spent_Medium_value_payments      341.489231  \n",
       "\n",
       "[5 rows x 27 columns]"
      ]
     },
     "execution_count": 6,
     "metadata": {},
     "output_type": "execute_result"
    }
   ],
   "source": [
    "X['Monthly_Balance'] = pd.to_numeric(X['Monthly_Balance'], errors='coerce')\n",
    "X.head()"
   ]
  },
  {
   "cell_type": "code",
   "execution_count": 7,
   "id": "ba06fa87-ce54-4f5c-bdbf-686f94b59054",
   "metadata": {},
   "outputs": [
    {
     "data": {
      "text/plain": [
       "(100000, 27)"
      ]
     },
     "execution_count": 7,
     "metadata": {},
     "output_type": "execute_result"
    }
   ],
   "source": [
    "X.shape"
   ]
  },
  {
   "cell_type": "markdown",
   "id": "52e466b3-77b9-491d-a623-f73c06f2ed15",
   "metadata": {},
   "source": [
    "'ID', 'Customer_ID', 'Name', 'SSN', 'Occupation', and 'Type_of_Loan' are, for now, **irrelevant** to the prediction."
   ]
  },
  {
   "cell_type": "code",
   "execution_count": 8,
   "id": "bf654d7e-caac-47b4-ad23-0131bf836c9a",
   "metadata": {},
   "outputs": [
    {
     "data": {
      "text/plain": [
       "(100000, 21)"
      ]
     },
     "execution_count": 8,
     "metadata": {},
     "output_type": "execute_result"
    }
   ],
   "source": [
    "## Drop irrelevant features\n",
    "X = X.drop(columns=['ID', 'Customer_ID', 'Name', 'SSN', 'Occupation', 'Type_of_Loan'])\n",
    "X.shape"
   ]
  },
  {
   "cell_type": "markdown",
   "id": "10338ddb-901f-4469-8f29-14587a489a66",
   "metadata": {},
   "source": [
    "Furthermore, there are features that hold string values, which obviously cannot be processed by the logistic regression model. We need to convert them into one-hot encoding vectors."
   ]
  },
  {
   "cell_type": "code",
   "execution_count": 9,
   "id": "b7447fc0-5f19-4407-8c42-5546d2ef72ed",
   "metadata": {},
   "outputs": [
    {
     "name": "stdout",
     "output_type": "stream",
     "text": [
      "New shape of X: (100000, 39)\n",
      "New shape of y: (100000, 3)\n"
     ]
    }
   ],
   "source": [
    "## One-hot encoding\n",
    "X = pd.get_dummies(X, columns=['Month', 'Credit_Mix', 'Payment_of_Min_Amount', 'Payment_Behaviour'])\n",
    "y = pd.get_dummies(y)\n",
    "print(f\"New shape of X: {X.shape}\")\n",
    "print(f\"New shape of y: {y.shape}\")"
   ]
  },
  {
   "cell_type": "code",
   "execution_count": 10,
   "id": "f430b316-e980-4af1-bb71-3abbec223237",
   "metadata": {},
   "outputs": [
    {
     "name": "stderr",
     "output_type": "stream",
     "text": [
      "/tmp/ipykernel_233837/2337723389.py:5: FutureWarning: A value is trying to be set on a copy of a DataFrame or Series through chained assignment using an inplace method.\n",
      "The behavior will change in pandas 3.0. This inplace method will never work because the intermediate object on which we are setting values always behaves as a copy.\n",
      "\n",
      "For example, when doing 'df[col].method(value, inplace=True)', try using 'df.method({col: value}, inplace=True)' or df[col] = df[col].method(value) instead, to perform the operation inplace on the original object.\n",
      "\n",
      "\n",
      "  X['Credit_History_Age'].replace('NA', pd.NA, inplace=True)\n"
     ]
    }
   ],
   "source": [
    "## Map 'Credit_History_Age' into decimals and NaN values\n",
    "import re\n",
    "\n",
    "# Replace 'NA' with NaN\n",
    "X['Credit_History_Age'].replace('NA', pd.NA, inplace=True)\n",
    "\n",
    "# Function to extract years and months\n",
    "def extract_years_months(value):\n",
    "    if pd.isna(value):\n",
    "        return value\n",
    "    match = re.match(r'(\\d+)\\s+Years?\\s+and\\s+(\\d+)\\s+Months?', value)\n",
    "    if match:\n",
    "        years, months = map(int, match.groups())\n",
    "        return years + months / 12\n",
    "    return None\n",
    "\n",
    "# Apply the function to the column\n",
    "X['Credit_History_Age'] = X['Credit_History_Age'].apply(extract_years_months)"
   ]
  },
  {
   "cell_type": "code",
   "execution_count": 11,
   "id": "5da62984-fd0d-4ab7-acec-a027b7f35a9b",
   "metadata": {},
   "outputs": [
    {
     "data": {
      "text/plain": [
       "0    22.083333\n",
       "1          NaN\n",
       "2    22.250000\n",
       "3    22.333333\n",
       "4    22.416667\n",
       "Name: Credit_History_Age, dtype: float64"
      ]
     },
     "execution_count": 11,
     "metadata": {},
     "output_type": "execute_result"
    }
   ],
   "source": [
    "X['Credit_History_Age'].head()"
   ]
  },
  {
   "cell_type": "markdown",
   "id": "c4fc936c-dfb3-496b-831c-760f817e2889",
   "metadata": {},
   "source": [
    "Now, we need to address NaN values as a part of data cleaning process."
   ]
  },
  {
   "cell_type": "code",
   "execution_count": 12,
   "id": "d0f45efb-ed04-444c-88ed-957ce07fa28b",
   "metadata": {},
   "outputs": [],
   "source": [
    "## Make sure all values are numerical\n",
    "X_num = X.apply(pd.to_numeric, errors='coerce')"
   ]
  },
  {
   "cell_type": "code",
   "execution_count": 13,
   "id": "408b910f-c3ac-4f4b-9029-2c26ad7ff08a",
   "metadata": {},
   "outputs": [
    {
     "data": {
      "text/plain": [
       "Age                                                    4939\n",
       "Annual_Income                                          6980\n",
       "Monthly_Inhand_Salary                                 15002\n",
       "Num_Bank_Accounts                                         0\n",
       "Num_Credit_Card                                           0\n",
       "Interest_Rate                                             0\n",
       "Num_of_Loan                                            4785\n",
       "Delay_from_due_date                                       0\n",
       "Num_of_Delayed_Payment                                 9746\n",
       "Changed_Credit_Limit                                   2091\n",
       "Num_Credit_Inquiries                                   1965\n",
       "Outstanding_Debt                                       1009\n",
       "Credit_Utilization_Ratio                                  0\n",
       "Credit_History_Age                                     9030\n",
       "Total_EMI_per_month                                       0\n",
       "Amount_invested_monthly                                8784\n",
       "Monthly_Balance                                        1209\n",
       "Month_April                                               0\n",
       "Month_August                                              0\n",
       "Month_February                                            0\n",
       "Month_January                                             0\n",
       "Month_July                                                0\n",
       "Month_June                                                0\n",
       "Month_March                                               0\n",
       "Month_May                                                 0\n",
       "Credit_Mix_Bad                                            0\n",
       "Credit_Mix_Good                                           0\n",
       "Credit_Mix_Standard                                       0\n",
       "Credit_Mix__                                              0\n",
       "Payment_of_Min_Amount_NM                                  0\n",
       "Payment_of_Min_Amount_No                                  0\n",
       "Payment_of_Min_Amount_Yes                                 0\n",
       "Payment_Behaviour_!@9#%8                                  0\n",
       "Payment_Behaviour_High_spent_Large_value_payments         0\n",
       "Payment_Behaviour_High_spent_Medium_value_payments        0\n",
       "Payment_Behaviour_High_spent_Small_value_payments         0\n",
       "Payment_Behaviour_Low_spent_Large_value_payments          0\n",
       "Payment_Behaviour_Low_spent_Medium_value_payments         0\n",
       "Payment_Behaviour_Low_spent_Small_value_payments          0\n",
       "dtype: int64"
      ]
     },
     "execution_count": 13,
     "metadata": {},
     "output_type": "execute_result"
    }
   ],
   "source": [
    "X_num.isna().sum()"
   ]
  },
  {
   "cell_type": "code",
   "execution_count": 14,
   "id": "5ded4b04-3c8e-4c6e-af66-72d7314d5c86",
   "metadata": {},
   "outputs": [],
   "source": [
    "## Fill the missing values with mean in each column\n",
    "X_num = X_num.fillna(X_num.mean())\n",
    "\n",
    "# Initialize the KNN imputer\n",
    "# imputer = KNNImputer(missing_values=np.nan, n_neighbors=5)\n",
    "\n",
    "# # Fit and transform the data\n",
    "# start_time = time.time()\n",
    "# X_imputed = imputer.fit_transform(X_num)\n",
    "# end_time = time.time()\n",
    "\n",
    "# print(f\"KNNImputer fitting time: {end_time - start_time} seconds\")\n",
    "\n",
    "# # Convert back to DataFrame\n",
    "# X_num = pd.DataFrame(X_imputed, columns=X_num.columns)\n",
    "# del X_imputed"
   ]
  },
  {
   "cell_type": "code",
   "execution_count": 15,
   "id": "df447e4f-561f-40f8-89bd-945d9c953d26",
   "metadata": {},
   "outputs": [
    {
     "data": {
      "text/plain": [
       "Age                                                   0\n",
       "Annual_Income                                         0\n",
       "Monthly_Inhand_Salary                                 0\n",
       "Num_Bank_Accounts                                     0\n",
       "Num_Credit_Card                                       0\n",
       "Interest_Rate                                         0\n",
       "Num_of_Loan                                           0\n",
       "Delay_from_due_date                                   0\n",
       "Num_of_Delayed_Payment                                0\n",
       "Changed_Credit_Limit                                  0\n",
       "Num_Credit_Inquiries                                  0\n",
       "Outstanding_Debt                                      0\n",
       "Credit_Utilization_Ratio                              0\n",
       "Credit_History_Age                                    0\n",
       "Total_EMI_per_month                                   0\n",
       "Amount_invested_monthly                               0\n",
       "Monthly_Balance                                       0\n",
       "Month_April                                           0\n",
       "Month_August                                          0\n",
       "Month_February                                        0\n",
       "Month_January                                         0\n",
       "Month_July                                            0\n",
       "Month_June                                            0\n",
       "Month_March                                           0\n",
       "Month_May                                             0\n",
       "Credit_Mix_Bad                                        0\n",
       "Credit_Mix_Good                                       0\n",
       "Credit_Mix_Standard                                   0\n",
       "Credit_Mix__                                          0\n",
       "Payment_of_Min_Amount_NM                              0\n",
       "Payment_of_Min_Amount_No                              0\n",
       "Payment_of_Min_Amount_Yes                             0\n",
       "Payment_Behaviour_!@9#%8                              0\n",
       "Payment_Behaviour_High_spent_Large_value_payments     0\n",
       "Payment_Behaviour_High_spent_Medium_value_payments    0\n",
       "Payment_Behaviour_High_spent_Small_value_payments     0\n",
       "Payment_Behaviour_Low_spent_Large_value_payments      0\n",
       "Payment_Behaviour_Low_spent_Medium_value_payments     0\n",
       "Payment_Behaviour_Low_spent_Small_value_payments      0\n",
       "dtype: int64"
      ]
     },
     "execution_count": 15,
     "metadata": {},
     "output_type": "execute_result"
    }
   ],
   "source": [
    "X_num.isna().sum()"
   ]
  },
  {
   "cell_type": "markdown",
   "id": "3ef41deb-76fd-4b1d-a488-a40109156fb1",
   "metadata": {},
   "source": [
    "## Feature engineering"
   ]
  },
  {
   "cell_type": "markdown",
   "id": "0d134afc-0d0e-462d-aa91-c0e07618e425",
   "metadata": {},
   "source": [
    "Feature engineering lets us create new features by combining existing ones. These new features help the model to see the relationship between features and can improve the model's performance."
   ]
  },
  {
   "cell_type": "code",
   "execution_count": 16,
   "id": "a7e84fe0-58d7-41ef-93af-bb097fe172d3",
   "metadata": {},
   "outputs": [],
   "source": [
    "## Interaction features\n",
    "X_num['Debt_to_Income_Ratio'] = X_num['Outstanding_Debt'] / X_num['Annual_Income']\n",
    "X_num['Loan_to_Income_Ratio'] = X_num['Num_of_Loan'] / X_num['Annual_Income']\n",
    "X_num['Investment_Ratio'] = X_num['Amount_invested_monthly'] / X_num['Monthly_Inhand_Salary']\n",
    "X_num['Credit_Card_Utilization'] = X_num['Credit_Utilization_Ratio'] * X_num['Num_Credit_Card']\n",
    "\n",
    "## Aggregated features\n",
    "X_num['Total_Debt'] = X_num['Outstanding_Debt'] + X_num['Total_EMI_per_month']\n",
    "\n",
    "## One-hot encoding for seasons\n",
    "## --> Winter\n",
    "X_num['Winter'] = X_num['Month_January'] + X_num['Month_February']\n",
    "## --> Spring\n",
    "X_num['Spring'] = X_num['Month_March'] + X_num['Month_April'] + X_num['Month_May']\n",
    "## --> Summer\n",
    "X_num['Summer'] = X_num['Month_June'] + X_num['Month_July'] + X_num['Month_August']"
   ]
  },
  {
   "cell_type": "markdown",
   "id": "581e4c28-c7aa-424c-b77b-e04a6d649a65",
   "metadata": {},
   "source": [
    "We also need to perform normalization to some features so that all features are in a virtually comparable range of values (feature scaling). We will use z-score normalization that subtracts the mean from each feature and divide the resulting value by its standard deviation."
   ]
  },
  {
   "cell_type": "markdown",
   "id": "75684c34-bb54-4110-af84-9a840028085f",
   "metadata": {},
   "source": [
    "First, we will reduce the impact of **outliers** (i.e., skewed, and possibly incorrect,\n",
    "values in columns that might distort z-score normalization results) by applying natural log transformation."
   ]
  },
  {
   "cell_type": "code",
   "execution_count": 17,
   "id": "c6504a45-ec66-4f77-b2a5-378efb4dc73b",
   "metadata": {},
   "outputs": [],
   "source": [
    "columns_log = [\n",
    "    'Age', 'Annual_Income', 'Monthly_Inhand_Salary', 'Num_Bank_Accounts',\n",
    "    'Num_Credit_Card',\n",
    "    'Interest_Rate', 'Num_of_Loan', 'Delay_from_due_date', 'Num_of_Delayed_Payment',\n",
    "    'Changed_Credit_Limit', 'Num_Credit_Inquiries', 'Outstanding_Debt',\n",
    "    'Credit_Utilization_Ratio', 'Credit_History_Age', 'Total_EMI_per_month',\n",
    "    'Amount_invested_monthly', 'Monthly_Balance',\n",
    "    'Debt_to_Income_Ratio', 'Loan_to_Income_Ratio', 'Investment_Ratio', \n",
    "    'Credit_Card_Utilization', 'Total_Debt'\n",
    "]\n",
    "\n",
    "## Prevent FloatingPointError\n",
    "X_num[columns_log] = X_num[columns_log].map(lambda x: x if x >= 0 else 0.01)\n",
    "\n",
    "## Apply log transformation to necessary columns\n",
    "X_num[columns_log] = np.log1p(X_num[columns_log])"
   ]
  },
  {
   "cell_type": "markdown",
   "id": "afb4b188-0f8f-40bb-8f6b-e1b19450dc62",
   "metadata": {},
   "source": [
    "We can then proceed for normalization."
   ]
  },
  {
   "cell_type": "code",
   "execution_count": 18,
   "id": "07bee17f-5bdc-41b7-944e-e020477c9dc2",
   "metadata": {},
   "outputs": [],
   "source": [
    "## We want to normalize all columns except one-hot encoding vectors\n",
    "columns_norm = [\n",
    "    'Age', 'Annual_Income', 'Monthly_Inhand_Salary', 'Num_Bank_Accounts', \n",
    "    'Num_Credit_Card',\n",
    "    'Interest_Rate', 'Num_of_Loan', 'Delay_from_due_date', 'Num_of_Delayed_Payment',\n",
    "    'Changed_Credit_Limit', 'Num_Credit_Inquiries', 'Outstanding_Debt',\n",
    "    'Credit_Utilization_Ratio', 'Credit_History_Age', 'Total_EMI_per_month',\n",
    "    'Amount_invested_monthly', 'Monthly_Balance',\n",
    "    'Debt_to_Income_Ratio', 'Loan_to_Income_Ratio', 'Investment_Ratio', \n",
    "    'Credit_Card_Utilization', 'Total_Debt'\n",
    "]\n",
    "\n",
    "## Initialize the scaler\n",
    "scaler = StandardScaler()\n",
    "\n",
    "## Fit and transform the selected columns\n",
    "X_num[columns_norm] = scaler.fit_transform(X_num[columns_norm])"
   ]
  },
  {
   "cell_type": "code",
   "execution_count": 19,
   "id": "5433c7bf-76db-4231-bf35-ce6d0124215a",
   "metadata": {},
   "outputs": [
    {
     "data": {
      "text/plain": [
       "0   -0.1441\n",
       "1   -0.1441\n",
       "2   -0.1441\n",
       "3   -0.1441\n",
       "4   -0.1441\n",
       "Name: Debt_to_Income_Ratio, dtype: float64"
      ]
     },
     "execution_count": 19,
     "metadata": {},
     "output_type": "execute_result"
    }
   ],
   "source": [
    "X_num['Debt_to_Income_Ratio'].head()"
   ]
  },
  {
   "cell_type": "code",
   "execution_count": 20,
   "id": "625511f3-2f45-46b1-8d8d-7b3439d29991",
   "metadata": {},
   "outputs": [
    {
     "data": {
      "text/plain": [
       "0   -0.409512\n",
       "1   -0.409512\n",
       "2   -0.409512\n",
       "3   -0.409512\n",
       "4   -0.409512\n",
       "Name: Num_Credit_Card, dtype: float64"
      ]
     },
     "execution_count": 20,
     "metadata": {},
     "output_type": "execute_result"
    }
   ],
   "source": [
    "X_num['Num_Credit_Card'].head()"
   ]
  },
  {
   "cell_type": "markdown",
   "id": "0112f27d-3673-4f07-ba4b-10e8246cf68e",
   "metadata": {},
   "source": [
    "## Risk minimization"
   ]
  },
  {
   "cell_type": "markdown",
   "id": "c82d198a-686d-41a2-8db0-53db37783c2e",
   "metadata": {},
   "source": [
    "We need to come to an understanding that logistic regression model cannot be trained on the target label of three possible binary values."
   ]
  },
  {
   "cell_type": "code",
   "execution_count": 21,
   "id": "40eedbf1-30ee-4560-adda-1eee27b3e4de",
   "metadata": {},
   "outputs": [
    {
     "data": {
      "text/html": [
       "<div>\n",
       "<style scoped>\n",
       "    .dataframe tbody tr th:only-of-type {\n",
       "        vertical-align: middle;\n",
       "    }\n",
       "\n",
       "    .dataframe tbody tr th {\n",
       "        vertical-align: top;\n",
       "    }\n",
       "\n",
       "    .dataframe thead th {\n",
       "        text-align: right;\n",
       "    }\n",
       "</style>\n",
       "<table border=\"1\" class=\"dataframe\">\n",
       "  <thead>\n",
       "    <tr style=\"text-align: right;\">\n",
       "      <th></th>\n",
       "      <th>Good</th>\n",
       "      <th>Poor</th>\n",
       "      <th>Standard</th>\n",
       "    </tr>\n",
       "  </thead>\n",
       "  <tbody>\n",
       "    <tr>\n",
       "      <th>0</th>\n",
       "      <td>True</td>\n",
       "      <td>False</td>\n",
       "      <td>False</td>\n",
       "    </tr>\n",
       "    <tr>\n",
       "      <th>1</th>\n",
       "      <td>True</td>\n",
       "      <td>False</td>\n",
       "      <td>False</td>\n",
       "    </tr>\n",
       "    <tr>\n",
       "      <th>2</th>\n",
       "      <td>True</td>\n",
       "      <td>False</td>\n",
       "      <td>False</td>\n",
       "    </tr>\n",
       "    <tr>\n",
       "      <th>3</th>\n",
       "      <td>True</td>\n",
       "      <td>False</td>\n",
       "      <td>False</td>\n",
       "    </tr>\n",
       "    <tr>\n",
       "      <th>4</th>\n",
       "      <td>True</td>\n",
       "      <td>False</td>\n",
       "      <td>False</td>\n",
       "    </tr>\n",
       "  </tbody>\n",
       "</table>\n",
       "</div>"
      ],
      "text/plain": [
       "   Good   Poor  Standard\n",
       "0  True  False     False\n",
       "1  True  False     False\n",
       "2  True  False     False\n",
       "3  True  False     False\n",
       "4  True  False     False"
      ]
     },
     "execution_count": 21,
     "metadata": {},
     "output_type": "execute_result"
    }
   ],
   "source": [
    "y.head()"
   ]
  },
  {
   "cell_type": "markdown",
   "id": "01bf6a51-d7df-429d-b9d9-58eedd9eb15d",
   "metadata": {},
   "source": [
    "Let's assume that the global finance company we're working with is not looking for more market expansion and is trying to minimize loan risk. Therefore, we want to label parties with **Good** credit scores as being eligible for loans, while the rest are not."
   ]
  },
  {
   "cell_type": "code",
   "execution_count": 22,
   "id": "c664fe69-3232-45b4-8fbe-c672c2c19ed3",
   "metadata": {},
   "outputs": [],
   "source": [
    "## Create a new binary label\n",
    "y['Target'] = y['Good']\n",
    "\n",
    "## Drop the original one-hot encoded columns\n",
    "y = y.drop(columns=['Good', 'Standard', 'Poor'])"
   ]
  },
  {
   "cell_type": "code",
   "execution_count": 23,
   "id": "f3401fcc-8904-4c0d-bd18-f33b0e09ea1d",
   "metadata": {},
   "outputs": [
    {
     "data": {
      "text/plain": [
       "(100000, 1)"
      ]
     },
     "execution_count": 23,
     "metadata": {},
     "output_type": "execute_result"
    }
   ],
   "source": [
    "y.shape"
   ]
  },
  {
   "cell_type": "markdown",
   "id": "61296dd4-850f-4964-a19b-26987958daad",
   "metadata": {},
   "source": [
    "## Using feature selection"
   ]
  },
  {
   "cell_type": "markdown",
   "id": "eade3bfd-848d-4179-a696-31eccb0371d8",
   "metadata": {},
   "source": [
    "Use feature selection to reduce dimension."
   ]
  },
  {
   "cell_type": "code",
   "execution_count": 24,
   "id": "184e32dc-66a5-43ac-af9c-2118fff12b1b",
   "metadata": {},
   "outputs": [],
   "source": [
    "def apply_selection(X, y, k):\n",
    "    selector = SelectKBest(f_classif, k=k)\n",
    "    y_new = y.values.ravel()\n",
    "    X_new = pd.DataFrame(selector.fit_transform(X, y_new), columns=X.columns[selector.get_support()])\n",
    "\n",
    "    print(f\"Selected features shape: {X_new.shape}\")\n",
    "    return X_new"
   ]
  },
  {
   "cell_type": "code",
   "execution_count": 25,
   "id": "732f8884-bdf9-437e-81e0-8e6d4d55f121",
   "metadata": {},
   "outputs": [
    {
     "name": "stdout",
     "output_type": "stream",
     "text": [
      "Selected features shape: (100000, 32)\n"
     ]
    }
   ],
   "source": [
    "X_fs = apply_selection(X_num, y, 32)"
   ]
  },
  {
   "cell_type": "markdown",
   "id": "b8323b09-2c8a-4e56-8783-840e378f70ee",
   "metadata": {},
   "source": [
    "## Preparing data for training"
   ]
  },
  {
   "cell_type": "code",
   "execution_count": 26,
   "id": "e67b5852-cde1-44c9-a243-e2c055d7a6ed",
   "metadata": {},
   "outputs": [
    {
     "name": "stdout",
     "output_type": "stream",
     "text": [
      "Train X shape is: (1024, 32)\n",
      "Train Y shape is: (1024, 1)\n",
      "Test X shape is: (1024, 32)\n",
      "Test Y shape is: (1024, 1)\n"
     ]
    }
   ],
   "source": [
    "## NUM_SAMPLES is the combination of all sets (NUM_TRAINING + NUM_TEST)\n",
    "NUM_SAMPLES = 2048\n",
    "COMPARE_TO_R_REF = False\n",
    "lr = 0.001\n",
    "mu = 0.5\n",
    "\n",
    "## Slice data into NumPy arrays and split into training and test sets\n",
    "X_train, X_test, y_train, y_test = slice_split(\n",
    "    X_fs, y,\n",
    "    num_samples=NUM_SAMPLES,\n",
    "    compare_to_r_ref=COMPARE_TO_R_REF\n",
    ")\n",
    "\n",
    "## n = num_of_features\n",
    "n = X_train.shape[1]\n",
    "\n",
    "# Same shape as Marcelo's reference code\n",
    "betas = np.zeros((n, ))\n",
    "# betas = np.random.randn(n)"
   ]
  },
  {
   "cell_type": "code",
   "execution_count": 27,
   "id": "4d3dac9a-80a4-4212-b985-c7185b4b645c",
   "metadata": {},
   "outputs": [
    {
     "data": {
      "text/plain": [
       "32"
      ]
     },
     "execution_count": 27,
     "metadata": {},
     "output_type": "execute_result"
    }
   ],
   "source": [
    "n"
   ]
  },
  {
   "cell_type": "markdown",
   "id": "8420f71b-22cd-4359-81e9-7e3611916ce9",
   "metadata": {},
   "source": [
    "## Applying Principal Component Analysis"
   ]
  },
  {
   "cell_type": "markdown",
   "id": "1ee3c68c-afce-425d-be4c-5a32f48dd375",
   "metadata": {},
   "source": [
    "Principal Component Analysis (PCA) allows for a reduced dataset, meaning the new dataset will have a small number of new features (called the principal components), which explains all original features. \n",
    "\n",
    "How well these new features explain the original ones is parameterized by explained variance ratio."
   ]
  },
  {
   "cell_type": "code",
   "execution_count": null,
   "id": "6c9d3d70-5a61-4c01-85cb-bfc8ae877a85",
   "metadata": {},
   "outputs": [],
   "source": [
    "from sklearn.decomposition import PCA\n",
    "\n",
    "def apply_pca(X_train, X_test, n_components):\n",
    "    pca = PCA(n_components=n_components)\n",
    "    X_train_pca = pca.fit_transform(X_train)\n",
    "    X_test_pca = pca.transform(X_test)\n",
    "    \n",
    "    print(f\"Explained variance ratio: {pca.explained_variance_ratio_}\")\n",
    "    print(f\"Number of components after PCA: {X_train_pca.shape[1]}\")\n",
    "    \n",
    "    return X_train_pca, X_test_pca"
   ]
  },
  {
   "cell_type": "code",
   "execution_count": null,
   "id": "216f5d07-cad5-458e-9b67-c5d49c28856d",
   "metadata": {},
   "outputs": [],
   "source": [
    "X_train, X_test = apply_pca(X_train, X_test, n_components=32)\n",
    "\n",
    "## n = num_of_features\n",
    "n = X_train.shape[1]\n",
    "print(f\"n = {n}\")\n",
    "\n",
    "# Same shape as Marcelo's reference code\n",
    "betas = np.zeros((n, ))"
   ]
  },
  {
   "cell_type": "code",
   "execution_count": null,
   "id": "cf93a652-ddc7-4341-bf03-4312e8aaa411",
   "metadata": {},
   "outputs": [],
   "source": [
    "print(f\"Train X shape is: {X_train.shape}\")\n",
    "print(f\"Train Y shape is: {y_train.shape}\")\n",
    "print(f\"Test X shape is: {X_test.shape}\")\n",
    "print(f\"Test Y shape is: {y_test.shape}\")"
   ]
  },
  {
   "cell_type": "markdown",
   "id": "efc52987-85d1-4be1-96a5-921d52f46586",
   "metadata": {},
   "source": [
    "## Nesterov model training"
   ]
  },
  {
   "cell_type": "code",
   "execution_count": 28,
   "id": "e4ac1694-7e68-4e4a-999a-b60e3b564b3f",
   "metadata": {},
   "outputs": [],
   "source": [
    "@njit\n",
    "def sigmoid(z):\n",
    "    return 1 / (1 + np.exp(-z))\n",
    "\n",
    "@njit\n",
    "def fwd(train_x, betas, dbg=False):\n",
    "    preds = train_x @ betas   # A vector of linear_predictions/logits z = train_x @ weights\n",
    "    if dbg:\n",
    "        print(f\"Logits: {preds}\")\n",
    "    return np.expand_dims(sigmoid(preds), -1)   # Shape: (m, 1)\n",
    "\n",
    "@njit\n",
    "def calculate_gradient(train_x, train_y, betas, fwd, dbg):\n",
    "    preds = fwd(train_x, betas, dbg)   # A vector of logistic predictions y_hat = sigmoid(z)\n",
    "    gradient = -train_x.T @ (train_y - preds) / len(train_y)\n",
    "    return gradient   # Shape: (10, 1) == Rows correspond to num_features\n",
    "    ## This function is used to update the values of betas: w_new = w_old + lr * gradient\n",
    "\n",
    "def cost(x, y, theta):\n",
    "    m = x.shape[0]\n",
    "    h = sigmoid(np.matmul(x, theta))   # h: hypothesis, basically preds/y_hat\n",
    "    t1 = np.matmul(-y.T, np.log(np.clip(h, 0.000000000000001, np.max(h))))\n",
    "    t2_a = (1 - y.T)\n",
    "    t2_b = np.log(np.clip(1 - h, 0.000000000000001, np.max(1 - h)))  # Used to get numerical issues\n",
    "    ## np.clip() function prevents computing the log of 0, by taking the minimum of 1e-15.\n",
    "    t2 = np.matmul(t2_a, t2_b)\n",
    "\n",
    "    return ((t1 - t2) / m)[0]   # Shape: (1,) == scalar value\n",
    "\n",
    "def nesterov(betas, epochs, patience, lr, mu, train_x, train_y):\n",
    "    import copy\n",
    "\n",
    "    phi = copy.deepcopy(betas)\n",
    "    theta = copy.deepcopy(betas)\n",
    "\n",
    "    check_early = 0\n",
    "    best_loss = float('inf')\n",
    "    best_epochs_list = []\n",
    "\n",
    "    nesterov_loss = [0 for _ in range(epochs)]\n",
    "    for i in tqdm.trange(epochs):\n",
    "    # for i in range(epochs):\n",
    "        gradient = calculate_gradient(train_x, train_y, theta, fwd, dbg=False)\n",
    "\n",
    "        ## Assign updated weights into phi_prime\n",
    "        phi_prime = theta - lr * np.squeeze(gradient)   # np.squeeze() removes single dimensions --> shape (10,)\n",
    "        \n",
    "        ## Nesterov acceleration process\n",
    "        if i == 0:\n",
    "            theta = phi_prime\n",
    "        else:\n",
    "            ## If current updated weight (phi_prime) < previous weight (phi), \n",
    "            ## The updated weight theta will be even smaller.\n",
    "            theta = phi_prime + mu * (phi_prime - phi)\n",
    "        phi = phi_prime   # phi is then the weight of the previous epoch/update\n",
    "        loss = cost(train_x, train_y, theta)\n",
    "\n",
    "        ## Early stopping\n",
    "        if patience > 0:\n",
    "            if loss < best_loss:\n",
    "                best_loss = loss\n",
    "                best_epoch = i\n",
    "                best_theta = theta\n",
    "                best_epochs_list.append(best_epoch)\n",
    "                check_early = 0\n",
    "            else:\n",
    "                check_early += 1\n",
    "                if check_early >= patience:\n",
    "                    print(f\"Early stopping at {patience} epochs after {best_epoch} with best loss {best_loss}\")\n",
    "                    return nesterov_loss[:best_epoch + 1], best_theta, phi, best_epochs_list\n",
    "        else:\n",
    "            best_epoch = epochs - 1\n",
    "            best_theta = theta\n",
    "\n",
    "        ## Update list\n",
    "        nesterov_loss[i] = loss\n",
    "\n",
    "        # print(f\"New loss: {cost(train_x, train_y, v)[0]}\")\n",
    "    return nesterov_loss[:best_epoch + 1], best_theta, phi, best_epochs_list\n"
   ]
  },
  {
   "cell_type": "code",
   "execution_count": 29,
   "id": "682bb6fb-95bc-4d2d-b8f6-2cff40112de7",
   "metadata": {},
   "outputs": [],
   "source": [
    "# Ensure inputs are of the correct type\n",
    "betas = np.array(betas, dtype=np.float64)\n",
    "X_train = np.array(X_train, dtype=np.float64)\n",
    "y_train = np.array(y_train, dtype=np.float64)\n",
    "X_test = np.array(X_test, dtype=np.float64)\n",
    "y_test = np.array(y_test, dtype=np.float64)\n",
    "lr = float(lr)\n",
    "mu = float(mu)"
   ]
  },
  {
   "cell_type": "code",
   "execution_count": 30,
   "id": "c0271d02-84d7-47cf-bc92-7a3c41b22631",
   "metadata": {},
   "outputs": [
    {
     "name": "stderr",
     "output_type": "stream",
     "text": [
      "100%|██████████████████████████████████████████████████████████████████████████████████████████████████████████████████████████████| 800/800 [00:03<00:00, 219.77it/s]\n"
     ]
    }
   ],
   "source": [
    "losses, theta, phi, best_epochs_list = nesterov(betas, 800, -1, lr, mu, X_train, y_train)"
   ]
  },
  {
   "cell_type": "code",
   "execution_count": 31,
   "id": "eb5e2d30-f268-4348-9bb0-10182cf18bdf",
   "metadata": {
    "scrolled": true
   },
   "outputs": [
    {
     "name": "stdout",
     "output_type": "stream",
     "text": [
      "0: 0.6928952860229045\n",
      "1: 0.6925181641879511\n",
      "2: 0.6920792723811859\n",
      "3: 0.6916103537911873\n",
      "4: 0.6911272739443894\n",
      "5: 0.6906379577612585\n",
      "6: 0.6901463611117161\n",
      "7: 0.6896544565082234\n",
      "8: 0.689163225509971\n",
      "9: 0.6886731546037826\n",
      "10: 0.6881844829590243\n",
      "11: 0.6876973262060886\n",
      "12: 0.6872117382746185\n",
      "13: 0.6867277422867349\n",
      "14: 0.686245345990611\n",
      "15: 0.6857645494707096\n",
      "16: 0.6852853489996134\n",
      "17: 0.6848077389622802\n",
      "18: 0.6843317128173305\n",
      "19: 0.6838572635772557\n",
      "20: 0.6833843840482906\n",
      "21: 0.6829130669502195\n",
      "22: 0.6824433049761989\n",
      "23: 0.6819750908226132\n",
      "24: 0.6815084172039599\n",
      "25: 0.6810432768602526\n",
      "26: 0.6805796625606894\n",
      "27: 0.6801175671054493\n",
      "28: 0.6796569833265609\n",
      "29: 0.6791979040882974\n",
      "30: 0.6787403222873419\n",
      "31: 0.6782842308528343\n",
      "32: 0.6778296227463577\n",
      "33: 0.6773764909618967\n",
      "34: 0.6769248285257775\n",
      "35: 0.676474628496602\n",
      "36: 0.6760258839651754\n",
      "37: 0.6755785880544322\n",
      "38: 0.6751327339193591\n",
      "39: 0.674688314746918\n",
      "40: 0.6742453237559656\n",
      "41: 0.673803754197173\n",
      "42: 0.6733635993529451\n",
      "43: 0.6729248525373377\n",
      "44: 0.6724875070959742\n",
      "45: 0.6720515564059608\n",
      "46: 0.6716169938758024\n",
      "47: 0.6711838129453154\n",
      "48: 0.6707520070855411\n",
      "49: 0.6703215697986583\n",
      "50: 0.6698924946178947\n",
      "51: 0.6694647751074365\n",
      "52: 0.6690384048623396\n",
      "53: 0.6686133775084377\n",
      "54: 0.6681896867022512\n",
      "55: 0.6677673261308947\n",
      "56: 0.6673462895119833\n",
      "57: 0.6669265705935403\n",
      "58: 0.6665081631539007\n",
      "59: 0.6660910610016181\n",
      "60: 0.665675257975368\n",
      "61: 0.665260747943851\n",
      "62: 0.6648475248056978\n",
      "63: 0.6644355824893693\n",
      "64: 0.6640249149530604\n",
      "65: 0.6636155161846004\n",
      "66: 0.6632073802013543\n",
      "67: 0.6628005010501231\n",
      "68: 0.6623948728070439\n",
      "69: 0.6619904895774891\n",
      "70: 0.6615873454959651\n",
      "71: 0.6611854347260115\n",
      "72: 0.6607847514600984\n",
      "73: 0.6603852899195245\n",
      "74: 0.6599870443543148\n",
      "75: 0.6595900090431164\n",
      "76: 0.6591941782930958\n",
      "77: 0.6587995464398351\n",
      "78: 0.6584061078472273\n",
      "79: 0.658013856907372\n",
      "80: 0.6576227880404711\n",
      "81: 0.6572328956947228\n",
      "82: 0.6568441743462167\n",
      "83: 0.6564566184988281\n",
      "84: 0.6560702226841121\n",
      "85: 0.6556849814611974\n",
      "86: 0.6553008894166792\n",
      "87: 0.6549179411645136\n",
      "88: 0.6545361313459106\n",
      "89: 0.654155454629226\n",
      "90: 0.6537759057098554\n",
      "91: 0.6533974793101264\n",
      "92: 0.6530201701791903\n",
      "93: 0.652643973092916\n",
      "94: 0.6522688828537803\n",
      "95: 0.6518948942907612\n",
      "96: 0.6515220022592292\n",
      "97: 0.6511502016408394\n",
      "98: 0.650779487343423\n",
      "99: 0.6504098543008793\n",
      "100: 0.6500412974730667\n",
      "101: 0.6496738118456942\n",
      "102: 0.6493073924302134\n",
      "103: 0.6489420342637096\n",
      "104: 0.6485777324087927\n",
      "105: 0.6482144819534891\n",
      "106: 0.6478522780111329\n",
      "107: 0.6474911157202571\n",
      "108: 0.647130990244485\n",
      "109: 0.646771896772421\n",
      "110: 0.6464138305175431\n",
      "111: 0.6460567867180929\n",
      "112: 0.6457007606369678\n",
      "113: 0.6453457475616124\n",
      "114: 0.6449917428039103\n",
      "115: 0.6446387417000745\n",
      "116: 0.6442867396105404\n",
      "117: 0.6439357319198564\n",
      "118: 0.643585714036577\n",
      "119: 0.643236681393153\n",
      "120: 0.6428886294458251\n",
      "121: 0.6425415536745152\n",
      "122: 0.6421954495827182\n",
      "123: 0.6418503126973956\n",
      "124: 0.6415061385688666\n",
      "125: 0.641162922770702\n",
      "126: 0.6408206608996155\n",
      "127: 0.6404793485753582\n",
      "128: 0.6401389814406095\n",
      "129: 0.6397995551608733\n",
      "130: 0.6394610654243683\n",
      "131: 0.6391235079419233\n",
      "132: 0.6387868784468709\n",
      "133: 0.6384511726949407\n",
      "134: 0.6381163864641534\n",
      "135: 0.6377825155547161\n",
      "136: 0.6374495557889154\n",
      "137: 0.6371175030110132\n",
      "138: 0.6367863530871412\n",
      "139: 0.6364561019051956\n",
      "140: 0.6361267453747332\n",
      "141: 0.6357982794268664\n",
      "142: 0.6354707000141593\n",
      "143: 0.6351440031105233\n",
      "144: 0.634818184711114\n",
      "145: 0.6344932408322274\n",
      "146: 0.634169167511196\n",
      "147: 0.6338459608062873\n",
      "148: 0.6335236167965995\n",
      "149: 0.63320213158196\n",
      "150: 0.6328815012828231\n",
      "151: 0.6325617220401669\n",
      "152: 0.632242790015394\n",
      "153: 0.6319247013902269\n",
      "154: 0.6316074523666105\n",
      "155: 0.6312910391666078\n",
      "156: 0.6309754580323017\n",
      "157: 0.6306607052256938\n",
      "158: 0.6303467770286046\n",
      "159: 0.6300336697425735\n",
      "160: 0.62972137968876\n",
      "161: 0.6294099032078441\n",
      "162: 0.6290992366599275\n",
      "163: 0.6287893764244359\n",
      "164: 0.6284803189000194\n",
      "165: 0.6281720605044562\n",
      "166: 0.627864597674554\n",
      "167: 0.627557926866053\n",
      "168: 0.6272520445535295\n",
      "169: 0.6269469472302981\n",
      "170: 0.6266426314083169\n",
      "171: 0.6263390936180905\n",
      "172: 0.626036330408575\n",
      "173: 0.6257343383470819\n",
      "174: 0.6254331140191842\n",
      "175: 0.625132654028621\n",
      "176: 0.6248329549972036\n",
      "177: 0.6245340135647213\n",
      "178: 0.6242358263888477\n",
      "179: 0.6239383901450478\n",
      "180: 0.623641701526485\n",
      "181: 0.6233457572439278\n",
      "182: 0.6230505540256588\n",
      "183: 0.6227560886173815\n",
      "184: 0.6224623577821298\n",
      "185: 0.6221693583001758\n",
      "186: 0.6218770869689401\n",
      "187: 0.6215855406029\n",
      "188: 0.6212947160335007\n",
      "189: 0.621004610109064\n",
      "190: 0.6207152196947003\n",
      "191: 0.6204265416722186\n",
      "192: 0.6201385729400376\n",
      "193: 0.6198513104130984\n",
      "194: 0.6195647510227753\n",
      "195: 0.6192788917167886\n",
      "196: 0.6189937294591177\n",
      "197: 0.618709261229913\n",
      "198: 0.6184254840254109\n",
      "199: 0.6181423948578461\n",
      "200: 0.6178599907553665\n",
      "201: 0.6175782687619474\n",
      "202: 0.6172972259373072\n",
      "203: 0.6170168593568207\n",
      "204: 0.6167371661114366\n",
      "205: 0.6164581433075926\n",
      "206: 0.6161797880671318\n",
      "207: 0.6159020975272195\n",
      "208: 0.6156250688402596\n",
      "209: 0.6153486991738129\n",
      "210: 0.6150729857105145\n",
      "211: 0.6147979256479916\n",
      "212: 0.6145235161987826\n",
      "213: 0.6142497545902553\n",
      "214: 0.6139766380645264\n",
      "215: 0.6137041638783812\n",
      "216: 0.6134323293031936\n",
      "217: 0.6131611316248461\n",
      "218: 0.6128905681436503\n",
      "219: 0.6126206361742689\n",
      "220: 0.6123513330456356\n",
      "221: 0.6120826561008786\n",
      "222: 0.6118146026972412\n",
      "223: 0.6115471702060051\n",
      "224: 0.6112803560124132\n",
      "225: 0.6110141575155921\n",
      "226: 0.6107485721284767\n",
      "227: 0.6104835972777338\n",
      "228: 0.6102192304036859\n",
      "229: 0.6099554689602362\n",
      "230: 0.6096923104147939\n",
      "231: 0.609429752248199\n",
      "232: 0.6091677919546482\n",
      "233: 0.6089064270416216\n",
      "234: 0.6086456550298083\n",
      "235: 0.6083854734530334\n",
      "236: 0.6081258798581854\n",
      "237: 0.6078668718051442\n",
      "238: 0.6076084468667072\n",
      "239: 0.60735060262852\n",
      "240: 0.6070933366890027\n",
      "241: 0.60683664665928\n",
      "242: 0.606580530163111\n",
      "243: 0.6063249848368171\n",
      "244: 0.6060700083292138\n",
      "245: 0.6058155983015396\n",
      "246: 0.6055617524273881\n",
      "247: 0.6053084683926374\n",
      "248: 0.6050557438953831\n",
      "249: 0.6048035766458687\n",
      "250: 0.6045519643664187\n",
      "251: 0.60430090479137\n",
      "252: 0.6040503956670058\n",
      "253: 0.6038004347514877\n",
      "254: 0.6035510198147896\n",
      "255: 0.6033021486386319\n",
      "256: 0.6030538190164143\n",
      "257: 0.602806028753152\n",
      "258: 0.6025587756654092\n",
      "259: 0.6023120575812347\n",
      "260: 0.6020658723400976\n",
      "261: 0.6018202177928225\n",
      "262: 0.6015750918015265\n",
      "263: 0.6013304922395546\n",
      "264: 0.6010864169914176\n",
      "265: 0.6008428639527288\n",
      "266: 0.6005998310301408\n",
      "267: 0.6003573161412848\n",
      "268: 0.6001153172147072\n",
      "269: 0.5998738321898089\n",
      "270: 0.5996328590167842\n",
      "271: 0.5993923956565592\n",
      "272: 0.5991524400807319\n",
      "273: 0.5989129902715116\n",
      "274: 0.5986740442216589\n",
      "275: 0.5984355999344267\n",
      "276: 0.5981976554235003\n",
      "277: 0.5979602087129385\n",
      "278: 0.5977232578371151\n",
      "279: 0.5974868008406604\n",
      "280: 0.5972508357784038\n",
      "281: 0.597015360715315\n",
      "282: 0.5967803737264475\n",
      "283: 0.5965458728968813\n",
      "284: 0.5963118563216657\n",
      "285: 0.5960783221057637\n",
      "286: 0.5958452683639945\n",
      "287: 0.5956126932209794\n",
      "288: 0.5953805948110847\n",
      "289: 0.5951489712783671\n",
      "290: 0.5949178207765189\n",
      "291: 0.5946871414688131\n",
      "292: 0.5944569315280489\n",
      "293: 0.5942271891364983\n",
      "294: 0.5939979124858517\n",
      "295: 0.5937690997771645\n",
      "296: 0.5935407492208045\n",
      "297: 0.5933128590363983\n",
      "298: 0.5930854274527793\n",
      "299: 0.5928584527079352\n",
      "300: 0.592631933048956\n",
      "301: 0.5924058667319821\n",
      "302: 0.5921802520221537\n",
      "303: 0.5919550871935583\n",
      "304: 0.5917303705291811\n",
      "305: 0.5915061003208539\n",
      "306: 0.5912822748692049\n",
      "307: 0.5910588924836089\n",
      "308: 0.5908359514821366\n",
      "309: 0.5906134501915071\n",
      "310: 0.5903913869470367\n",
      "311: 0.5901697600925913\n",
      "312: 0.5899485679805373\n",
      "313: 0.5897278089716933\n",
      "314: 0.5895074814352822\n",
      "315: 0.5892875837488833\n",
      "316: 0.5890681142983851\n",
      "317: 0.588849071477937\n",
      "318: 0.5886304536899034\n",
      "319: 0.588412259344817\n",
      "320: 0.5881944868613314\n",
      "321: 0.5879771346661758\n",
      "322: 0.5877602011941088\n",
      "323: 0.5875436848878723\n",
      "324: 0.5873275841981471\n",
      "325: 0.5871118975835063\n",
      "326: 0.5868966235103723\n",
      "327: 0.5866817604529698\n",
      "328: 0.5864673068932839\n",
      "329: 0.5862532613210139\n",
      "330: 0.5860396222335309\n",
      "331: 0.5858263881358333\n",
      "332: 0.5856135575405037\n",
      "333: 0.585401128967666\n",
      "334: 0.585189100944942\n",
      "335: 0.584977472007409\n",
      "336: 0.584766240697558\n",
      "337: 0.5845554055652504\n",
      "338: 0.5843449651676773\n",
      "339: 0.5841349180693168\n",
      "340: 0.5839252628418931\n",
      "341: 0.5837159980643357\n",
      "342: 0.5835071223227373\n",
      "343: 0.5832986342103144\n",
      "344: 0.5830905323273659\n",
      "345: 0.5828828152812333\n",
      "346: 0.5826754816862607\n",
      "347: 0.5824685301637548\n",
      "348: 0.582261959341945\n",
      "349: 0.5820557678559455\n",
      "350: 0.5818499543477145\n",
      "351: 0.5816445174660162\n",
      "352: 0.5814394558663822\n",
      "353: 0.5812347682110731\n",
      "354: 0.5810304531690396\n",
      "355: 0.5808265094158855\n",
      "356: 0.5806229356338296\n",
      "357: 0.5804197305116678\n",
      "358: 0.5802168927447363\n",
      "359: 0.5800144210348742\n",
      "360: 0.5798123140903867\n",
      "361: 0.5796105706260087\n",
      "362: 0.5794091893628678\n",
      "363: 0.5792081690284486\n",
      "364: 0.5790075083565565\n",
      "365: 0.5788072060872815\n",
      "366: 0.5786072609669635\n",
      "367: 0.5784076717481559\n",
      "368: 0.5782084371895908\n",
      "369: 0.5780095560561448\n",
      "370: 0.5778110271188026\n",
      "371: 0.577612849154624\n",
      "372: 0.5774150209467083\n",
      "373: 0.5772175412841613\n",
      "374: 0.5770204089620602\n",
      "375: 0.5768236227814206\n",
      "376: 0.5766271815491628\n",
      "377: 0.576431084078078\n",
      "378: 0.5762353291867953\n",
      "379: 0.5760399156997498\n",
      "380: 0.5758448424471474\n",
      "381: 0.5756501082649349\n",
      "382: 0.5754557119947656\n",
      "383: 0.5752616524839682\n",
      "384: 0.5750679285855143\n",
      "385: 0.5748745391579864\n",
      "386: 0.574681483065547\n",
      "387: 0.5744887591779062\n",
      "388: 0.5742963663702914\n",
      "389: 0.5741043035234149\n",
      "390: 0.5739125695234445\n",
      "391: 0.5737211632619718\n",
      "392: 0.5735300836359813\n",
      "393: 0.5733393295478219\n",
      "394: 0.5731488999051739\n",
      "395: 0.5729587936210219\n",
      "396: 0.5727690096136225\n",
      "397: 0.5725795468064765\n",
      "398: 0.5723904041282981\n",
      "399: 0.5722015805129865\n",
      "400: 0.5720130748995962\n",
      "401: 0.5718248862323081\n",
      "402: 0.5716370134604013\n",
      "403: 0.5714494555382233\n",
      "404: 0.5712622114251632\n",
      "405: 0.5710752800856217\n",
      "406: 0.570888660488984\n",
      "407: 0.5707023516095916\n",
      "408: 0.5705163524267146\n",
      "409: 0.570330661924524\n",
      "410: 0.570145279092064\n",
      "411: 0.5699602029232252\n",
      "412: 0.5697754324167174\n",
      "413: 0.5695909665760417\n",
      "414: 0.5694068044094651\n",
      "415: 0.5692229449299929\n",
      "416: 0.5690393871553425\n",
      "417: 0.568856130107917\n",
      "418: 0.568673172814779\n",
      "419: 0.5684905143076249\n",
      "420: 0.5683081536227581\n",
      "421: 0.5681260898010644\n",
      "422: 0.5679443218879859\n",
      "423: 0.5677628489334955\n",
      "424: 0.5675816699920717\n",
      "425: 0.5674007841226738\n",
      "426: 0.5672201903887162\n",
      "427: 0.5670398878580444\n",
      "428: 0.5668598756029096\n",
      "429: 0.5666801526999452\n",
      "430: 0.5665007182301411\n",
      "431: 0.5663215712788201\n",
      "432: 0.5661427109356145\n",
      "433: 0.5659641362944405\n",
      "434: 0.5657858464534761\n",
      "435: 0.5656078405151361\n",
      "436: 0.56543011758605\n",
      "437: 0.5652526767770366\n",
      "438: 0.5650755172030828\n",
      "439: 0.5648986379833194\n",
      "440: 0.5647220382409978\n",
      "441: 0.5645457171034683\n",
      "442: 0.5643696737021567\n",
      "443: 0.5641939071725415\n",
      "444: 0.5640184166541318\n",
      "445: 0.5638432012904451\n",
      "446: 0.5636682602289851\n",
      "447: 0.5634935926212191\n",
      "448: 0.563319197622557\n",
      "449: 0.563145074392329\n",
      "450: 0.5629712220937635\n",
      "451: 0.5627976398939666\n",
      "452: 0.5626243269639\n",
      "453: 0.5624512824783601\n",
      "454: 0.5622785056159563\n",
      "455: 0.5621059955590908\n",
      "456: 0.5619337514939369\n",
      "457: 0.5617617726104186\n",
      "458: 0.5615900581021903\n",
      "459: 0.5614186071666157\n",
      "460: 0.5612474190047475\n",
      "461: 0.5610764928213076\n",
      "462: 0.5609058278246659\n",
      "463: 0.5607354232268218\n",
      "464: 0.5605652782433829\n",
      "465: 0.5603953920935457\n",
      "466: 0.5602257640000763\n",
      "467: 0.5600563931892899\n",
      "468: 0.5598872788910323\n",
      "469: 0.55971842033866\n",
      "470: 0.5595498167690214\n",
      "471: 0.5593814674224368\n",
      "472: 0.5592133715426806\n",
      "473: 0.5590455283769618\n",
      "474: 0.5588779371759047\n",
      "475: 0.5587105971935314\n",
      "476: 0.5585435076872425\n",
      "477: 0.5583766679177986\n",
      "478: 0.5582100771493023\n",
      "479: 0.5580437346491797\n",
      "480: 0.5578776396881625\n",
      "481: 0.55771179154027\n",
      "482: 0.5575461894827909\n",
      "483: 0.5573808327962658\n",
      "484: 0.5572157207644697\n",
      "485: 0.5570508526743931\n",
      "486: 0.5568862278162269\n",
      "487: 0.5567218454833427\n",
      "488: 0.5565577049722767\n",
      "489: 0.5563938055827122\n",
      "490: 0.5562301466174628\n",
      "491: 0.5560667273824553\n",
      "492: 0.5559035471867122\n",
      "493: 0.5557406053423362\n",
      "494: 0.5555779011644921\n",
      "495: 0.5554154339713915\n",
      "496: 0.5552532030842755\n",
      "497: 0.5550912078273983\n",
      "498: 0.5549294475280117\n",
      "499: 0.5547679215163479\n",
      "500: 0.554606629125604\n",
      "501: 0.5544455696919259\n",
      "502: 0.5542847425543926\n",
      "503: 0.5541241470549996\n",
      "504: 0.5539637825386442\n",
      "505: 0.5538036483531092\n",
      "506: 0.5536437438490478\n",
      "507: 0.5534840683799672\n",
      "508: 0.5533246213022149\n",
      "509: 0.5531654019749621\n",
      "510: 0.5530064097601887\n",
      "511: 0.5528476440226686\n",
      "512: 0.5526891041299548\n",
      "513: 0.5525307894523637\n",
      "514: 0.5523726993629613\n",
      "515: 0.5522148332375477\n",
      "516: 0.552057190454643\n",
      "517: 0.551899770395472\n",
      "518: 0.5517425724439506\n",
      "519: 0.5515855959866711\n",
      "520: 0.5514288404128872\n",
      "521: 0.551272305114501\n",
      "522: 0.5511159894860477\n",
      "523: 0.5509598929246826\n",
      "524: 0.5508040148301663\n",
      "525: 0.5506483546048511\n",
      "526: 0.5504929116536671\n",
      "527: 0.5503376853841089\n",
      "528: 0.5501826752062214\n",
      "529: 0.5500278805325866\n",
      "530: 0.5498733007783095\n",
      "531: 0.5497189353610057\n",
      "532: 0.5495647837007874\n",
      "533: 0.5494108452202497\n",
      "534: 0.5492571193444591\n",
      "535: 0.549103605500938\n",
      "536: 0.5489503031196538\n",
      "537: 0.5487972116330048\n",
      "538: 0.5486443304758076\n",
      "539: 0.5484916590852846\n",
      "540: 0.5483391969010508\n",
      "541: 0.5481869433651013\n",
      "542: 0.548034897921799\n",
      "543: 0.5478830600178617\n",
      "544: 0.54773142910235\n",
      "545: 0.5475800046266546\n",
      "546: 0.5474287860444845\n",
      "547: 0.5472777728118542\n",
      "548: 0.5471269643870721\n",
      "549: 0.5469763602307282\n",
      "550: 0.5468259598056819\n",
      "551: 0.5466757625770503\n",
      "552: 0.5465257680121967\n",
      "553: 0.5463759755807176\n",
      "554: 0.5462263847544324\n",
      "555: 0.5460769950073713\n",
      "556: 0.545927805815763\n",
      "557: 0.5457788166580236\n",
      "558: 0.5456300270147463\n",
      "559: 0.5454814363686877\n",
      "560: 0.5453330442047586\n",
      "561: 0.5451848500100116\n",
      "562: 0.5450368532736303\n",
      "563: 0.5448890534869177\n",
      "564: 0.5447414501432865\n",
      "565: 0.5445940427382457\n",
      "566: 0.5444468307693926\n",
      "567: 0.5442998137363991\n",
      "568: 0.5441529911410032\n",
      "569: 0.5440063624869966\n",
      "570: 0.5438599272802151\n",
      "571: 0.5437136850285276\n",
      "572: 0.5435676352418249\n",
      "573: 0.5434217774320106\n",
      "574: 0.5432761111129893\n",
      "575: 0.5431306358006573\n",
      "576: 0.5429853510128911\n",
      "577: 0.5428402562695385\n",
      "578: 0.5426953510924073\n",
      "579: 0.5425506350052557\n",
      "580: 0.542406107533782\n",
      "581: 0.5422617682056149\n",
      "582: 0.5421176165503032\n",
      "583: 0.5419736520993058\n",
      "584: 0.5418298743859823\n",
      "585: 0.541686282945583\n",
      "586: 0.5415428773152386\n",
      "587: 0.5413996570339519\n",
      "588: 0.5412566216425866\n",
      "589: 0.5411137706838587\n",
      "590: 0.5409711037023265\n",
      "591: 0.5408286202443817\n",
      "592: 0.5406863198582397\n",
      "593: 0.5405442020939295\n",
      "594: 0.5404022665032858\n",
      "595: 0.5402605126399389\n",
      "596: 0.5401189400593056\n",
      "597: 0.5399775483185799\n",
      "598: 0.5398363369767245\n",
      "599: 0.5396953055944611\n",
      "600: 0.5395544537342617\n",
      "601: 0.5394137809603401\n",
      "602: 0.5392732868386421\n",
      "603: 0.5391329709368374\n",
      "604: 0.5389928328243105\n",
      "605: 0.538852872072152\n",
      "606: 0.5387130882531501\n",
      "607: 0.5385734809417819\n",
      "608: 0.5384340497142044\n",
      "609: 0.5382947941482467\n",
      "610: 0.5381557138234008\n",
      "611: 0.5380168083208139\n",
      "612: 0.5378780772232794\n",
      "613: 0.5377395201152286\n",
      "614: 0.537601136582723\n",
      "615: 0.537462926213445\n",
      "616: 0.5373248885966913\n",
      "617: 0.5371870233233629\n",
      "618: 0.5370493299859581\n",
      "619: 0.5369118081785644\n",
      "620: 0.5367744574968504\n",
      "621: 0.5366372775380575\n",
      "622: 0.5365002679009919\n",
      "623: 0.5363634281860181\n",
      "624: 0.5362267579950489\n",
      "625: 0.5360902569315393\n",
      "626: 0.5359539246004781\n",
      "627: 0.5358177606083799\n",
      "628: 0.5356817645632784\n",
      "629: 0.5355459360747179\n",
      "630: 0.5354102747537459\n",
      "631: 0.5352747802129061\n",
      "632: 0.5351394520662299\n",
      "633: 0.5350042899292303\n",
      "634: 0.5348692934188933\n",
      "635: 0.5347344621536714\n",
      "636: 0.5345997957534752\n",
      "637: 0.5344652938396676\n",
      "638: 0.5343309560350553\n",
      "639: 0.5341967819638823\n",
      "640: 0.5340627712518227\n",
      "641: 0.533928923525973\n",
      "642: 0.5337952384148457\n",
      "643: 0.5336617155483621\n",
      "644: 0.5335283545578451\n",
      "645: 0.5333951550760124\n",
      "646: 0.5332621167369697\n",
      "647: 0.5331292391762033\n",
      "648: 0.5329965220305742\n",
      "649: 0.5328639649383102\n",
      "650: 0.5327315675390001\n",
      "651: 0.5325993294735863\n",
      "652: 0.5324672503843586\n",
      "653: 0.532335329914947\n",
      "654: 0.5322035677103157\n",
      "655: 0.5320719634167562\n",
      "656: 0.5319405166818807\n",
      "657: 0.5318092271546159\n",
      "658: 0.531678094485196\n",
      "659: 0.5315471183251571\n",
      "660: 0.5314162983273298\n",
      "661: 0.531285634145834\n",
      "662: 0.531155125436071\n",
      "663: 0.5310247718547193\n",
      "664: 0.5308945730597263\n",
      "665: 0.5307645287103034\n",
      "666: 0.5306346384669196\n",
      "667: 0.5305049019912947\n",
      "668: 0.530375318946394\n",
      "669: 0.5302458889964218\n",
      "670: 0.5301166118068152\n",
      "671: 0.5299874870442388\n",
      "672: 0.5298585143765779\n",
      "673: 0.529729693472933\n",
      "674: 0.5296010240036139\n",
      "675: 0.5294725056401334\n",
      "676: 0.5293441380552022\n",
      "677: 0.5292159209227224\n",
      "678: 0.529087853917782\n",
      "679: 0.5289599367166492\n",
      "680: 0.5288321689967665\n",
      "681: 0.5287045504367457\n",
      "682: 0.5285770807163606\n",
      "683: 0.5284497595165433\n",
      "684: 0.5283225865193776\n",
      "685: 0.5281955614080933\n",
      "686: 0.5280686838670616\n",
      "687: 0.5279419535817884\n",
      "688: 0.5278153702389097\n",
      "689: 0.5276889335261856\n",
      "690: 0.5275626431324955\n",
      "691: 0.5274364987478323\n",
      "692: 0.5273105000632969\n",
      "693: 0.5271846467710937\n",
      "694: 0.5270589385645238\n",
      "695: 0.5269333751379817\n",
      "696: 0.5268079561869483\n",
      "697: 0.5266826814079868\n",
      "698: 0.526557550498737\n",
      "699: 0.5264325631579104\n",
      "700: 0.5263077190852852\n",
      "701: 0.5261830179817004\n",
      "702: 0.5260584595490521\n",
      "703: 0.5259340434902873\n",
      "704: 0.5258097695093993\n",
      "705: 0.5256856373114227\n",
      "706: 0.525561646602429\n",
      "707: 0.5254377970895205\n",
      "708: 0.5253140884808265\n",
      "709: 0.5251905204854975\n",
      "710: 0.5250670928137016\n",
      "711: 0.5249438051766183\n",
      "712: 0.5248206572864346\n",
      "713: 0.5246976488563397\n",
      "714: 0.5245747796005212\n",
      "715: 0.5244520492341591\n",
      "716: 0.5243294574734219\n",
      "717: 0.5242070040354619\n",
      "718: 0.5240846886384104\n",
      "719: 0.5239625110013731\n",
      "720: 0.5238404708444256\n",
      "721: 0.5237185678886087\n",
      "722: 0.5235968018559239\n",
      "723: 0.5234751724693293\n",
      "724: 0.5233536794527343\n",
      "725: 0.5232323225309959\n",
      "726: 0.5231111014299138\n",
      "727: 0.5229900158762262\n",
      "728: 0.5228690655976055\n",
      "729: 0.5227482503226534\n",
      "730: 0.5226275697808973\n",
      "731: 0.5225070237027856\n",
      "732: 0.5223866118196833\n",
      "733: 0.5222663338638678\n",
      "734: 0.5221461895685249\n",
      "735: 0.5220261786677444\n",
      "736: 0.5219063008965158\n",
      "737: 0.521786555990724\n",
      "738: 0.5216669436871456\n",
      "739: 0.5215474637234445\n",
      "740: 0.5214281158381678\n",
      "741: 0.5213088997707416\n",
      "742: 0.5211898152614671\n",
      "743: 0.5210708620515163\n",
      "744: 0.5209520398829287\n",
      "745: 0.5208333484986061\n",
      "746: 0.5207147876423098\n",
      "747: 0.5205963570586557\n",
      "748: 0.5204780564931113\n",
      "749: 0.5203598856919905\n",
      "750: 0.5202418444024515\n",
      "751: 0.5201239323724909\n",
      "752: 0.5200061493509414\n",
      "753: 0.5198884950874672\n",
      "754: 0.5197709693325605\n",
      "755: 0.5196535718375375\n",
      "756: 0.5195363023545349\n",
      "757: 0.5194191606365057\n",
      "758: 0.5193021464372158\n",
      "759: 0.5191852595112405\n",
      "760: 0.5190684996139604\n",
      "761: 0.5189518665015574\n",
      "762: 0.5188353599310124\n",
      "763: 0.5187189796600997\n",
      "764: 0.5186027254473855\n",
      "765: 0.5184865970522227\n",
      "766: 0.5183705942347477\n",
      "767: 0.5182547167558775\n",
      "768: 0.5181389643773056\n",
      "769: 0.5180233368614983\n",
      "770: 0.5179078339716916\n",
      "771: 0.5177924554718878\n",
      "772: 0.5176772011268514\n",
      "773: 0.5175620707021065\n",
      "774: 0.5174470639639328\n",
      "775: 0.5173321806793622\n",
      "776: 0.5172174206161757\n",
      "777: 0.5171027835429\n",
      "778: 0.5169882692288035\n",
      "779: 0.5168738774438943\n",
      "780: 0.5167596079589156\n",
      "781: 0.5166454605453427\n",
      "782: 0.5165314349753802\n",
      "783: 0.5164175310219583\n",
      "784: 0.5163037484587297\n",
      "785: 0.5161900870600665\n",
      "786: 0.5160765466010564\n",
      "787: 0.5159631268575001\n",
      "788: 0.5158498276059084\n",
      "789: 0.5157366486234978\n",
      "790: 0.5156235896881888\n",
      "791: 0.5155106505786016\n",
      "792: 0.5153978310740538\n",
      "793: 0.515285130954557\n",
      "794: 0.5151725500008133\n",
      "795: 0.5150600879942132\n",
      "796: 0.5149477447168316\n",
      "797: 0.5148355199514251\n",
      "798: 0.5147234134814295\n",
      "799: 0.5146114250909558\n"
     ]
    }
   ],
   "source": [
    "for j in range(len(losses)):\n",
    "    print(f\"{j}: {losses[j]}\", end='\\n')\n",
    "# Ideal Gradient (800 epochs) #\n",
    "## seed(42), lr = 0.001, mu = 0.3 --> loss = 0.5433165928958901\n",
    "## seed(42), lr = 0.001, mu = 0.5 --> loss = 0.5139704562064134\n",
    "\n",
    "# Oscillating Gradient (800 epochs) #\n",
    "## seed(42), lr = 0.003, mu = 0.5 --> loss = 0.49509424569059735\n",
    "## seed(42), lr = 0.003, mu = 0.6 --> loss = 0.4102733269497619\n",
    "\n",
    "# Early stopping (patience = 50) #\n",
    "## seed(42), lr = 0.003, mu = 0.5 --> 964: 0.410228534339208\n",
    "## seed(42), lr = 0.003, mu = 0.6 --> 422: 0.46334269494781627\n",
    "\n",
    "# Ideal Gradient (800 epochs) with Feature Engineering #\n",
    "## seed(42), lr = 0.001, mu = 0.3 --> loss = 0.523951850559082\n",
    "## seed(42), lr = 0.001, mu = 0.5 --> loss = 0.4922252143522289\n",
    "\n",
    "# Early stopping (patience = 50) with Feature Engineering #\n",
    "## seed(42), lr = 0.003, mu = 0.5 --> 739: 0.41164361016071044\n",
    "## seed(42), lr = 0.003, mu = 0.6 --> 314: 0.4688941580652026"
   ]
  },
  {
   "cell_type": "code",
   "execution_count": 32,
   "id": "476c796f-207e-442b-ad72-e9716763c7bb",
   "metadata": {
    "scrolled": true
   },
   "outputs": [],
   "source": [
    "for j in range(len(best_epochs_list)):\n",
    "    print(f\"{j}: {best_epochs_list[j]}\", end='\\n')"
   ]
  },
  {
   "cell_type": "code",
   "execution_count": 33,
   "id": "cbdfe00a-3a2c-4552-81cf-276f49b0eb33",
   "metadata": {},
   "outputs": [
    {
     "data": {
      "text/plain": [
       "array([ 0.06071289,  0.06570108,  0.07276308, -0.09921095, -0.05383501,\n",
       "       -0.0267059 , -0.0750103 , -0.12956163, -0.06080921, -0.06432063,\n",
       "       -0.02603787, -0.05835854, -0.00815923,  0.04501573,  0.04515731,\n",
       "        0.04815062,  0.06122624, -0.05404778, -0.09400817,  0.00346601,\n",
       "       -0.21367224, -0.08010036, -0.2701502 , -0.05123288, -0.06952604,\n",
       "       -0.11360832, -0.03413024, -0.02032905, -0.06676963, -0.0009431 ,\n",
       "       -0.10956687, -0.13314136])"
      ]
     },
     "execution_count": 33,
     "metadata": {},
     "output_type": "execute_result"
    }
   ],
   "source": [
    "theta"
   ]
  },
  {
   "cell_type": "markdown",
   "id": "e224970a-dd25-48f1-84b9-34b7f75b5558",
   "metadata": {},
   "source": [
    "## Model performance on training set"
   ]
  },
  {
   "cell_type": "markdown",
   "id": "299f24da-bee9-41ce-9496-a6a7d4ef66f8",
   "metadata": {},
   "source": [
    "We can test the performance of the model through its confusion matrix, F1 score, and accuracy score."
   ]
  },
  {
   "cell_type": "markdown",
   "id": "8b4dc532-cdd6-4e7d-b420-e1f932155e94",
   "metadata": {},
   "source": [
    "First, we predict on the training set."
   ]
  },
  {
   "cell_type": "code",
   "execution_count": 34,
   "id": "d1b1b0a7-3759-491d-a2be-255da74061b3",
   "metadata": {},
   "outputs": [],
   "source": [
    "## On training data\n",
    "pred = fwd(X_train, theta, dbg=False)\n",
    "\n",
    "## Decision (Threshold = 0.5)\n",
    "y_train_hat = (pred >= 0.5).astype(int)"
   ]
  },
  {
   "cell_type": "code",
   "execution_count": 35,
   "id": "daeeb20c-970f-4ad6-90b8-fdb4aaf80dfb",
   "metadata": {},
   "outputs": [
    {
     "data": {
      "text/plain": [
       "(1024, 1)"
      ]
     },
     "execution_count": 35,
     "metadata": {},
     "output_type": "execute_result"
    }
   ],
   "source": [
    "y_train_hat.shape"
   ]
  },
  {
   "cell_type": "code",
   "execution_count": 36,
   "id": "ec33b49e-a044-4fb4-83a1-014773609e85",
   "metadata": {},
   "outputs": [
    {
     "data": {
      "text/plain": [
       "(1024, 1)"
      ]
     },
     "execution_count": 36,
     "metadata": {},
     "output_type": "execute_result"
    }
   ],
   "source": [
    "y_train.shape"
   ]
  },
  {
   "cell_type": "code",
   "execution_count": 37,
   "id": "736d05c1-d3e8-4f96-b3d8-a77e0baeb242",
   "metadata": {},
   "outputs": [
    {
     "name": "stdout",
     "output_type": "stream",
     "text": [
      "[[655 163]\n",
      " [ 47 159]]\n"
     ]
    }
   ],
   "source": [
    "print(confusion_matrix(y_train, y_train_hat))"
   ]
  },
  {
   "cell_type": "code",
   "execution_count": 38,
   "id": "0e758c39-d892-4bae-9850-e4f198cc1adc",
   "metadata": {},
   "outputs": [
    {
     "name": "stdout",
     "output_type": "stream",
     "text": [
      "0.6022727272727273\n"
     ]
    }
   ],
   "source": [
    "print(f1_score(y_train, y_train_hat))"
   ]
  },
  {
   "cell_type": "code",
   "execution_count": 39,
   "id": "39363b39-a534-4dd2-8b62-4d0584334cad",
   "metadata": {},
   "outputs": [
    {
     "name": "stdout",
     "output_type": "stream",
     "text": [
      "0.4937888198757764\n"
     ]
    }
   ],
   "source": [
    "print(precision_score(y_train, y_train_hat))"
   ]
  },
  {
   "cell_type": "code",
   "execution_count": 40,
   "id": "87bd042a-d37e-42da-a22b-30ffca437722",
   "metadata": {},
   "outputs": [
    {
     "name": "stdout",
     "output_type": "stream",
     "text": [
      "0.7718446601941747\n"
     ]
    }
   ],
   "source": [
    "print(recall_score(y_train, y_train_hat))"
   ]
  },
  {
   "cell_type": "code",
   "execution_count": 41,
   "id": "0a6baea1-60a5-48cb-8f99-099a9cf7f40d",
   "metadata": {},
   "outputs": [
    {
     "name": "stdout",
     "output_type": "stream",
     "text": [
      "0.8598879578417643\n"
     ]
    }
   ],
   "source": [
    "print(roc_auc_score(y_train, pred))"
   ]
  },
  {
   "cell_type": "code",
   "execution_count": 42,
   "id": "e550946e-d85e-4f1d-a61f-45b1023c2adb",
   "metadata": {},
   "outputs": [
    {
     "name": "stdout",
     "output_type": "stream",
     "text": [
      "0.794921875\n"
     ]
    }
   ],
   "source": [
    "print(accuracy_score(y_train, y_train_hat))"
   ]
  },
  {
   "cell_type": "markdown",
   "id": "8a282797-cbb6-4758-98fc-0493a8806112",
   "metadata": {},
   "source": [
    "## Model performance on test set"
   ]
  },
  {
   "cell_type": "markdown",
   "id": "cb8e923c-5aa5-43a1-9368-08a1b6d89162",
   "metadata": {},
   "source": [
    "Now, we predict on the test set."
   ]
  },
  {
   "cell_type": "code",
   "execution_count": 43,
   "id": "8f7563e6-be5e-4eac-94b5-fe0403d2a8e3",
   "metadata": {},
   "outputs": [],
   "source": [
    "## On test data\n",
    "\n",
    "pred = fwd(X_test, theta, dbg=False)\n",
    "\n",
    "## Decision (Threshold = 0.5)\n",
    "y_test_hat = (pred >= 0.5).astype(int)"
   ]
  },
  {
   "cell_type": "code",
   "execution_count": 44,
   "id": "65b8cbab-e86f-422b-9e28-6c757710fa48",
   "metadata": {},
   "outputs": [
    {
     "data": {
      "text/plain": [
       "(1024, 1)"
      ]
     },
     "execution_count": 44,
     "metadata": {},
     "output_type": "execute_result"
    }
   ],
   "source": [
    "y_test_hat.shape"
   ]
  },
  {
   "cell_type": "code",
   "execution_count": 45,
   "id": "7243e085-bec0-4925-a951-6176ec93d355",
   "metadata": {},
   "outputs": [
    {
     "data": {
      "text/plain": [
       "(1024, 1)"
      ]
     },
     "execution_count": 45,
     "metadata": {},
     "output_type": "execute_result"
    }
   ],
   "source": [
    "y_test.shape"
   ]
  },
  {
   "cell_type": "code",
   "execution_count": 46,
   "id": "12b74855-2278-4ca2-8666-ef44f2570b6c",
   "metadata": {},
   "outputs": [
    {
     "name": "stdout",
     "output_type": "stream",
     "text": [
      "[[651 162]\n",
      " [ 48 163]]\n"
     ]
    }
   ],
   "source": [
    "print(confusion_matrix(y_test, y_test_hat))"
   ]
  },
  {
   "cell_type": "code",
   "execution_count": 47,
   "id": "28d2b97d-3609-4d17-9c64-f3b70ed67fb4",
   "metadata": {},
   "outputs": [
    {
     "name": "stdout",
     "output_type": "stream",
     "text": [
      "0.6082089552238806\n"
     ]
    }
   ],
   "source": [
    "print(f1_score(y_test, y_test_hat))"
   ]
  },
  {
   "cell_type": "code",
   "execution_count": 48,
   "id": "8630873e-a3d8-48ee-99d9-a1f05e6ca0a0",
   "metadata": {},
   "outputs": [
    {
     "name": "stdout",
     "output_type": "stream",
     "text": [
      "0.868802574281667\n"
     ]
    }
   ],
   "source": [
    "print(roc_auc_score(y_test, pred))"
   ]
  },
  {
   "cell_type": "code",
   "execution_count": 49,
   "id": "964b4d21-ad2e-435c-a411-8912ce882b16",
   "metadata": {},
   "outputs": [
    {
     "name": "stdout",
     "output_type": "stream",
     "text": [
      "0.794921875\n"
     ]
    }
   ],
   "source": [
    "print(accuracy_score(y_test, y_test_hat))"
   ]
  },
  {
   "cell_type": "code",
   "execution_count": 50,
   "id": "eddcbbf7-a40b-45b1-bf8e-72ae9cd0f43a",
   "metadata": {},
   "outputs": [
    {
     "name": "stdout",
     "output_type": "stream",
     "text": [
      "0.5015384615384615\n"
     ]
    }
   ],
   "source": [
    "print(precision_score(y_test, y_test_hat))"
   ]
  },
  {
   "cell_type": "code",
   "execution_count": 51,
   "id": "fd69d618-cca3-4db8-b7d0-72c7ded9353d",
   "metadata": {},
   "outputs": [
    {
     "name": "stdout",
     "output_type": "stream",
     "text": [
      "0.7725118483412322\n"
     ]
    }
   ],
   "source": [
    "print(recall_score(y_test, y_test_hat))"
   ]
  },
  {
   "cell_type": "markdown",
   "id": "e0f60e83-7208-489b-9e46-b727051d0873",
   "metadata": {},
   "source": [
    "## Write to a CSV file"
   ]
  },
  {
   "cell_type": "code",
   "execution_count": 52,
   "id": "02b3c5af-1c3f-452e-9f2a-4d3fe178e64b",
   "metadata": {},
   "outputs": [],
   "source": [
    "# Convert the NumPy array to a DataFrame\n",
    "X_train_csv = pd.DataFrame(X_train)\n",
    "y_train_csv = pd.DataFrame(y_train)\n",
    "X_test_csv = pd.DataFrame(X_test)\n",
    "y_test_csv = pd.DataFrame(y_test)\n",
    "\n",
    "# Save the DataFrame to a CSV file\n",
    "X_train_csv.to_csv(\"../cscore_data/X_train_1024fs.csv\", index=False)\n",
    "y_train_csv.to_csv(\"../cscore_data/y_train_1024fs.csv\", index=False)\n",
    "X_test_csv.to_csv(\"../cscore_data/X_test_1024fs.csv\", index=False)\n",
    "y_test_csv.to_csv(\"../cscore_data/y_test_1024fs.csv\", index=False)"
   ]
  },
  {
   "cell_type": "code",
   "execution_count": 53,
   "id": "aec99244-3473-4416-b2fe-66a81ce93f61",
   "metadata": {},
   "outputs": [],
   "source": [
    "del X"
   ]
  },
  {
   "cell_type": "code",
   "execution_count": 54,
   "id": "a70a0e2d-1bdb-4844-93b0-a88ced8e16b8",
   "metadata": {},
   "outputs": [
    {
     "data": {
      "text/html": [
       "<div>\n",
       "<style scoped>\n",
       "    .dataframe tbody tr th:only-of-type {\n",
       "        vertical-align: middle;\n",
       "    }\n",
       "\n",
       "    .dataframe tbody tr th {\n",
       "        vertical-align: top;\n",
       "    }\n",
       "\n",
       "    .dataframe thead th {\n",
       "        text-align: right;\n",
       "    }\n",
       "</style>\n",
       "<table border=\"1\" class=\"dataframe\">\n",
       "  <thead>\n",
       "    <tr style=\"text-align: right;\">\n",
       "      <th></th>\n",
       "      <th>0</th>\n",
       "      <th>1</th>\n",
       "      <th>2</th>\n",
       "      <th>3</th>\n",
       "      <th>4</th>\n",
       "      <th>5</th>\n",
       "      <th>6</th>\n",
       "      <th>7</th>\n",
       "      <th>8</th>\n",
       "      <th>9</th>\n",
       "      <th>...</th>\n",
       "      <th>22</th>\n",
       "      <th>23</th>\n",
       "      <th>24</th>\n",
       "      <th>25</th>\n",
       "      <th>26</th>\n",
       "      <th>27</th>\n",
       "      <th>28</th>\n",
       "      <th>29</th>\n",
       "      <th>30</th>\n",
       "      <th>31</th>\n",
       "    </tr>\n",
       "  </thead>\n",
       "  <tbody>\n",
       "    <tr>\n",
       "      <th>0</th>\n",
       "      <td>-0.460089</td>\n",
       "      <td>0.319067</td>\n",
       "      <td>0.636022</td>\n",
       "      <td>0.771718</td>\n",
       "      <td>-0.172056</td>\n",
       "      <td>0.847819</td>\n",
       "      <td>0.408311</td>\n",
       "      <td>0.007451</td>\n",
       "      <td>0.447042</td>\n",
       "      <td>1.104410</td>\n",
       "      <td>...</td>\n",
       "      <td>1.0</td>\n",
       "      <td>0.0</td>\n",
       "      <td>1.0</td>\n",
       "      <td>0.0</td>\n",
       "      <td>-0.324485</td>\n",
       "      <td>-0.410564</td>\n",
       "      <td>0.173646</td>\n",
       "      <td>0.423971</td>\n",
       "      <td>0.0</td>\n",
       "      <td>1.0</td>\n",
       "    </tr>\n",
       "    <tr>\n",
       "      <th>1</th>\n",
       "      <td>-0.366288</td>\n",
       "      <td>0.305226</td>\n",
       "      <td>0.626379</td>\n",
       "      <td>-0.003572</td>\n",
       "      <td>0.202622</td>\n",
       "      <td>-0.866501</td>\n",
       "      <td>1.034754</td>\n",
       "      <td>0.143579</td>\n",
       "      <td>0.004386</td>\n",
       "      <td>0.744293</td>\n",
       "      <td>...</td>\n",
       "      <td>1.0</td>\n",
       "      <td>1.0</td>\n",
       "      <td>0.0</td>\n",
       "      <td>0.0</td>\n",
       "      <td>-0.479415</td>\n",
       "      <td>-0.409154</td>\n",
       "      <td>-0.012949</td>\n",
       "      <td>0.025207</td>\n",
       "      <td>0.0</td>\n",
       "      <td>1.0</td>\n",
       "    </tr>\n",
       "    <tr>\n",
       "      <th>2</th>\n",
       "      <td>0.360107</td>\n",
       "      <td>-0.174785</td>\n",
       "      <td>-0.108077</td>\n",
       "      <td>-1.408773</td>\n",
       "      <td>0.028710</td>\n",
       "      <td>-0.711485</td>\n",
       "      <td>0.408311</td>\n",
       "      <td>-0.145735</td>\n",
       "      <td>-1.047162</td>\n",
       "      <td>0.288454</td>\n",
       "      <td>...</td>\n",
       "      <td>0.0</td>\n",
       "      <td>1.0</td>\n",
       "      <td>0.0</td>\n",
       "      <td>0.0</td>\n",
       "      <td>-0.395609</td>\n",
       "      <td>-0.895605</td>\n",
       "      <td>0.022229</td>\n",
       "      <td>-0.236370</td>\n",
       "      <td>0.0</td>\n",
       "      <td>0.0</td>\n",
       "    </tr>\n",
       "    <tr>\n",
       "      <th>3</th>\n",
       "      <td>0.081902</td>\n",
       "      <td>-0.089745</td>\n",
       "      <td>0.040337</td>\n",
       "      <td>0.771718</td>\n",
       "      <td>0.202622</td>\n",
       "      <td>0.292650</td>\n",
       "      <td>0.110895</td>\n",
       "      <td>0.855789</td>\n",
       "      <td>0.673314</td>\n",
       "      <td>-1.003964</td>\n",
       "      <td>...</td>\n",
       "      <td>1.0</td>\n",
       "      <td>0.0</td>\n",
       "      <td>0.0</td>\n",
       "      <td>1.0</td>\n",
       "      <td>-0.066335</td>\n",
       "      <td>1.138855</td>\n",
       "      <td>0.480004</td>\n",
       "      <td>0.454371</td>\n",
       "      <td>0.0</td>\n",
       "      <td>1.0</td>\n",
       "    </tr>\n",
       "    <tr>\n",
       "      <th>4</th>\n",
       "      <td>-0.049991</td>\n",
       "      <td>0.992729</td>\n",
       "      <td>1.489341</td>\n",
       "      <td>-0.236773</td>\n",
       "      <td>0.202622</td>\n",
       "      <td>-1.563541</td>\n",
       "      <td>0.408311</td>\n",
       "      <td>-0.641981</td>\n",
       "      <td>-0.543955</td>\n",
       "      <td>-2.285441</td>\n",
       "      <td>...</td>\n",
       "      <td>0.0</td>\n",
       "      <td>1.0</td>\n",
       "      <td>0.0</td>\n",
       "      <td>0.0</td>\n",
       "      <td>-0.555817</td>\n",
       "      <td>-1.146745</td>\n",
       "      <td>0.414829</td>\n",
       "      <td>0.262347</td>\n",
       "      <td>0.0</td>\n",
       "      <td>1.0</td>\n",
       "    </tr>\n",
       "  </tbody>\n",
       "</table>\n",
       "<p>5 rows × 32 columns</p>\n",
       "</div>"
      ],
      "text/plain": [
       "         0         1         2         3         4         5         6   \\\n",
       "0 -0.460089  0.319067  0.636022  0.771718 -0.172056  0.847819  0.408311   \n",
       "1 -0.366288  0.305226  0.626379 -0.003572  0.202622 -0.866501  1.034754   \n",
       "2  0.360107 -0.174785 -0.108077 -1.408773  0.028710 -0.711485  0.408311   \n",
       "3  0.081902 -0.089745  0.040337  0.771718  0.202622  0.292650  0.110895   \n",
       "4 -0.049991  0.992729  1.489341 -0.236773  0.202622 -1.563541  0.408311   \n",
       "\n",
       "         7         8         9   ...   22   23   24   25        26        27  \\\n",
       "0  0.007451  0.447042  1.104410  ...  1.0  0.0  1.0  0.0 -0.324485 -0.410564   \n",
       "1  0.143579  0.004386  0.744293  ...  1.0  1.0  0.0  0.0 -0.479415 -0.409154   \n",
       "2 -0.145735 -1.047162  0.288454  ...  0.0  1.0  0.0  0.0 -0.395609 -0.895605   \n",
       "3  0.855789  0.673314 -1.003964  ...  1.0  0.0  0.0  1.0 -0.066335  1.138855   \n",
       "4 -0.641981 -0.543955 -2.285441  ...  0.0  1.0  0.0  0.0 -0.555817 -1.146745   \n",
       "\n",
       "         28        29   30   31  \n",
       "0  0.173646  0.423971  0.0  1.0  \n",
       "1 -0.012949  0.025207  0.0  1.0  \n",
       "2  0.022229 -0.236370  0.0  0.0  \n",
       "3  0.480004  0.454371  0.0  1.0  \n",
       "4  0.414829  0.262347  0.0  1.0  \n",
       "\n",
       "[5 rows x 32 columns]"
      ]
     },
     "execution_count": 54,
     "metadata": {},
     "output_type": "execute_result"
    }
   ],
   "source": [
    "X_train_csv[X_train_csv.columns[:]].head()"
   ]
  },
  {
   "cell_type": "code",
   "execution_count": null,
   "id": "c523c5a8-2f97-45c7-aa55-48e47d1e14b2",
   "metadata": {},
   "outputs": [],
   "source": []
  }
 ],
 "metadata": {
  "kernelspec": {
   "display_name": "Python 3 (ipykernel)",
   "language": "python",
   "name": "python3"
  },
  "language_info": {
   "codemirror_mode": {
    "name": "ipython",
    "version": 3
   },
   "file_extension": ".py",
   "mimetype": "text/x-python",
   "name": "python",
   "nbconvert_exporter": "python",
   "pygments_lexer": "ipython3",
   "version": "3.10.17"
  }
 },
 "nbformat": 4,
 "nbformat_minor": 5
}
