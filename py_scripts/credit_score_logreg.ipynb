{
 "cells": [
  {
   "cell_type": "markdown",
   "id": "dab2dd2e-97ae-441b-a3ad-8fa37f50e703",
   "metadata": {},
   "source": [
    "# Credit score classification using logistic regression "
   ]
  },
  {
   "cell_type": "markdown",
   "id": "88f92936-ae0e-4a91-becb-b274541a008d",
   "metadata": {},
   "source": [
    "We are using a credit-related dataset found in Kaggle (source: https://www.kaggle.com/datasets/parisrohan/credit-score-classification/data). The dataset consists of 27 input features and one target label, that is the credit score."
   ]
  },
  {
   "cell_type": "markdown",
   "id": "7482adc8-bb1b-4458-8d73-7457db8e82ae",
   "metadata": {},
   "source": [
    "Goal : To predict the credit score of a new, unseen data using logistic regression model."
   ]
  },
  {
   "cell_type": "code",
   "execution_count": 15,
   "id": "4766b21f-e8c0-43a6-86df-f89f2d11da45",
   "metadata": {},
   "outputs": [
    {
     "data": {
      "text/plain": [
       "{'divide': 'raise', 'over': 'raise', 'under': 'raise', 'invalid': 'raise'}"
      ]
     },
     "execution_count": 15,
     "metadata": {},
     "output_type": "execute_result"
    }
   ],
   "source": [
    "import numpy as np\n",
    "np.random.seed(42)\n",
    "import pandas as pd\n",
    "import tqdm\n",
    "import time\n",
    "\n",
    "from sklearn.model_selection import train_test_split\n",
    "from sklearn.preprocessing import StandardScaler\n",
    "from sklearn.metrics import roc_auc_score, precision_score, recall_score\n",
    "from sklearn.metrics import confusion_matrix, accuracy_score, f1_score\n",
    "from sklearn.impute import KNNImputer\n",
    "from numba import njit\n",
    "\n",
    "np.seterr(all='raise')"
   ]
  },
  {
   "cell_type": "markdown",
   "id": "e51ed538-0687-4235-9e4b-9526f7397194",
   "metadata": {},
   "source": [
    "## Load and clean the data"
   ]
  },
  {
   "cell_type": "code",
   "execution_count": 2,
   "id": "64034e0b-460c-4d41-8478-516cf9a866a6",
   "metadata": {},
   "outputs": [],
   "source": [
    "def load_data():\n",
    "    filename = \"../train_data/cs_train.csv\"\n",
    "    df = pd.read_csv(filename)\n",
    "\n",
    "    ## Separate target from features\n",
    "    X = df.drop(columns=['Credit_Score'])\n",
    "    y = df['Credit_Score']\n",
    "\n",
    "    return X, y"
   ]
  },
  {
   "cell_type": "code",
   "execution_count": null,
   "id": "4f8eeac9-8bdb-4a4a-8dee-4f05db9cd6f1",
   "metadata": {},
   "outputs": [],
   "source": [
    "def split_random_sample(X, y, num_samples, compare_to_r_ref):\n",
    "    "
   ]
  },
  {
   "cell_type": "code",
   "execution_count": 26,
   "id": "f2c654aa-4cb0-4733-a1dd-1117e1ec4005",
   "metadata": {},
   "outputs": [],
   "source": [
    "def slice_split(X, y, num_samples, compare_to_r_ref):\n",
    "    X = X.to_numpy()[:num_samples]\n",
    "    y = y.to_numpy()[:num_samples]\n",
    "    \n",
    "    ## Split into training and test set\n",
    "    X_train, X_test, y_train, y_test = train_test_split(X, y, test_size=0.5, random_state=1332)\n",
    "    \n",
    "    print(f\"Train X shape is: {X_train.shape}\")\n",
    "    print(f\"Train Y shape is: {y_train.shape}\")\n",
    "    print(f\"Test X shape is: {X_test.shape}\")\n",
    "    print(f\"Test Y shape is: {y_test.shape}\")\n",
    "    return X_train, X_test, y_train, y_test"
   ]
  },
  {
   "cell_type": "code",
   "execution_count": 4,
   "id": "95631795-2313-4740-8e98-9fdb16e3b426",
   "metadata": {},
   "outputs": [
    {
     "name": "stderr",
     "output_type": "stream",
     "text": [
      "C:\\Users\\USER\\AppData\\Local\\Temp\\ipykernel_29320\\566418612.py:3: DtypeWarning: Columns (26) have mixed types. Specify dtype option on import or set low_memory=False.\n",
      "  df = pd.read_csv(filename)\n"
     ]
    },
    {
     "data": {
      "text/html": [
       "<div>\n",
       "<style scoped>\n",
       "    .dataframe tbody tr th:only-of-type {\n",
       "        vertical-align: middle;\n",
       "    }\n",
       "\n",
       "    .dataframe tbody tr th {\n",
       "        vertical-align: top;\n",
       "    }\n",
       "\n",
       "    .dataframe thead th {\n",
       "        text-align: right;\n",
       "    }\n",
       "</style>\n",
       "<table border=\"1\" class=\"dataframe\">\n",
       "  <thead>\n",
       "    <tr style=\"text-align: right;\">\n",
       "      <th></th>\n",
       "      <th>ID</th>\n",
       "      <th>Customer_ID</th>\n",
       "      <th>Month</th>\n",
       "      <th>Name</th>\n",
       "      <th>Age</th>\n",
       "      <th>SSN</th>\n",
       "      <th>Occupation</th>\n",
       "      <th>Annual_Income</th>\n",
       "      <th>Monthly_Inhand_Salary</th>\n",
       "      <th>Num_Bank_Accounts</th>\n",
       "      <th>...</th>\n",
       "      <th>Num_Credit_Inquiries</th>\n",
       "      <th>Credit_Mix</th>\n",
       "      <th>Outstanding_Debt</th>\n",
       "      <th>Credit_Utilization_Ratio</th>\n",
       "      <th>Credit_History_Age</th>\n",
       "      <th>Payment_of_Min_Amount</th>\n",
       "      <th>Total_EMI_per_month</th>\n",
       "      <th>Amount_invested_monthly</th>\n",
       "      <th>Payment_Behaviour</th>\n",
       "      <th>Monthly_Balance</th>\n",
       "    </tr>\n",
       "  </thead>\n",
       "  <tbody>\n",
       "    <tr>\n",
       "      <th>0</th>\n",
       "      <td>0x1602</td>\n",
       "      <td>CUS_0xd40</td>\n",
       "      <td>January</td>\n",
       "      <td>Aaron Maashoh</td>\n",
       "      <td>23</td>\n",
       "      <td>821-00-0265</td>\n",
       "      <td>Scientist</td>\n",
       "      <td>19114.12</td>\n",
       "      <td>1824.843333</td>\n",
       "      <td>3</td>\n",
       "      <td>...</td>\n",
       "      <td>4.0</td>\n",
       "      <td>_</td>\n",
       "      <td>809.98</td>\n",
       "      <td>26.822620</td>\n",
       "      <td>22 Years and 1 Months</td>\n",
       "      <td>No</td>\n",
       "      <td>49.574949</td>\n",
       "      <td>80.41529543900253</td>\n",
       "      <td>High_spent_Small_value_payments</td>\n",
       "      <td>312.49408867943663</td>\n",
       "    </tr>\n",
       "    <tr>\n",
       "      <th>1</th>\n",
       "      <td>0x1603</td>\n",
       "      <td>CUS_0xd40</td>\n",
       "      <td>February</td>\n",
       "      <td>Aaron Maashoh</td>\n",
       "      <td>23</td>\n",
       "      <td>821-00-0265</td>\n",
       "      <td>Scientist</td>\n",
       "      <td>19114.12</td>\n",
       "      <td>NaN</td>\n",
       "      <td>3</td>\n",
       "      <td>...</td>\n",
       "      <td>4.0</td>\n",
       "      <td>Good</td>\n",
       "      <td>809.98</td>\n",
       "      <td>31.944960</td>\n",
       "      <td>NaN</td>\n",
       "      <td>No</td>\n",
       "      <td>49.574949</td>\n",
       "      <td>118.28022162236736</td>\n",
       "      <td>Low_spent_Large_value_payments</td>\n",
       "      <td>284.62916249607184</td>\n",
       "    </tr>\n",
       "    <tr>\n",
       "      <th>2</th>\n",
       "      <td>0x1604</td>\n",
       "      <td>CUS_0xd40</td>\n",
       "      <td>March</td>\n",
       "      <td>Aaron Maashoh</td>\n",
       "      <td>-500</td>\n",
       "      <td>821-00-0265</td>\n",
       "      <td>Scientist</td>\n",
       "      <td>19114.12</td>\n",
       "      <td>NaN</td>\n",
       "      <td>3</td>\n",
       "      <td>...</td>\n",
       "      <td>4.0</td>\n",
       "      <td>Good</td>\n",
       "      <td>809.98</td>\n",
       "      <td>28.609352</td>\n",
       "      <td>22 Years and 3 Months</td>\n",
       "      <td>No</td>\n",
       "      <td>49.574949</td>\n",
       "      <td>81.699521264648</td>\n",
       "      <td>Low_spent_Medium_value_payments</td>\n",
       "      <td>331.2098628537912</td>\n",
       "    </tr>\n",
       "    <tr>\n",
       "      <th>3</th>\n",
       "      <td>0x1605</td>\n",
       "      <td>CUS_0xd40</td>\n",
       "      <td>April</td>\n",
       "      <td>Aaron Maashoh</td>\n",
       "      <td>23</td>\n",
       "      <td>821-00-0265</td>\n",
       "      <td>Scientist</td>\n",
       "      <td>19114.12</td>\n",
       "      <td>NaN</td>\n",
       "      <td>3</td>\n",
       "      <td>...</td>\n",
       "      <td>4.0</td>\n",
       "      <td>Good</td>\n",
       "      <td>809.98</td>\n",
       "      <td>31.377862</td>\n",
       "      <td>22 Years and 4 Months</td>\n",
       "      <td>No</td>\n",
       "      <td>49.574949</td>\n",
       "      <td>199.4580743910713</td>\n",
       "      <td>Low_spent_Small_value_payments</td>\n",
       "      <td>223.45130972736786</td>\n",
       "    </tr>\n",
       "    <tr>\n",
       "      <th>4</th>\n",
       "      <td>0x1606</td>\n",
       "      <td>CUS_0xd40</td>\n",
       "      <td>May</td>\n",
       "      <td>Aaron Maashoh</td>\n",
       "      <td>23</td>\n",
       "      <td>821-00-0265</td>\n",
       "      <td>Scientist</td>\n",
       "      <td>19114.12</td>\n",
       "      <td>1824.843333</td>\n",
       "      <td>3</td>\n",
       "      <td>...</td>\n",
       "      <td>4.0</td>\n",
       "      <td>Good</td>\n",
       "      <td>809.98</td>\n",
       "      <td>24.797347</td>\n",
       "      <td>22 Years and 5 Months</td>\n",
       "      <td>No</td>\n",
       "      <td>49.574949</td>\n",
       "      <td>41.420153086217326</td>\n",
       "      <td>High_spent_Medium_value_payments</td>\n",
       "      <td>341.48923103222177</td>\n",
       "    </tr>\n",
       "  </tbody>\n",
       "</table>\n",
       "<p>5 rows × 27 columns</p>\n",
       "</div>"
      ],
      "text/plain": [
       "       ID Customer_ID     Month           Name   Age          SSN Occupation  \\\n",
       "0  0x1602   CUS_0xd40   January  Aaron Maashoh    23  821-00-0265  Scientist   \n",
       "1  0x1603   CUS_0xd40  February  Aaron Maashoh    23  821-00-0265  Scientist   \n",
       "2  0x1604   CUS_0xd40     March  Aaron Maashoh  -500  821-00-0265  Scientist   \n",
       "3  0x1605   CUS_0xd40     April  Aaron Maashoh    23  821-00-0265  Scientist   \n",
       "4  0x1606   CUS_0xd40       May  Aaron Maashoh    23  821-00-0265  Scientist   \n",
       "\n",
       "  Annual_Income  Monthly_Inhand_Salary  Num_Bank_Accounts  ...  \\\n",
       "0      19114.12            1824.843333                  3  ...   \n",
       "1      19114.12                    NaN                  3  ...   \n",
       "2      19114.12                    NaN                  3  ...   \n",
       "3      19114.12                    NaN                  3  ...   \n",
       "4      19114.12            1824.843333                  3  ...   \n",
       "\n",
       "   Num_Credit_Inquiries  Credit_Mix Outstanding_Debt Credit_Utilization_Ratio  \\\n",
       "0                   4.0           _           809.98                26.822620   \n",
       "1                   4.0        Good           809.98                31.944960   \n",
       "2                   4.0        Good           809.98                28.609352   \n",
       "3                   4.0        Good           809.98                31.377862   \n",
       "4                   4.0        Good           809.98                24.797347   \n",
       "\n",
       "      Credit_History_Age Payment_of_Min_Amount Total_EMI_per_month  \\\n",
       "0  22 Years and 1 Months                    No           49.574949   \n",
       "1                    NaN                    No           49.574949   \n",
       "2  22 Years and 3 Months                    No           49.574949   \n",
       "3  22 Years and 4 Months                    No           49.574949   \n",
       "4  22 Years and 5 Months                    No           49.574949   \n",
       "\n",
       "   Amount_invested_monthly                 Payment_Behaviour  \\\n",
       "0        80.41529543900253   High_spent_Small_value_payments   \n",
       "1       118.28022162236736    Low_spent_Large_value_payments   \n",
       "2          81.699521264648   Low_spent_Medium_value_payments   \n",
       "3        199.4580743910713    Low_spent_Small_value_payments   \n",
       "4       41.420153086217326  High_spent_Medium_value_payments   \n",
       "\n",
       "      Monthly_Balance  \n",
       "0  312.49408867943663  \n",
       "1  284.62916249607184  \n",
       "2   331.2098628537912  \n",
       "3  223.45130972736786  \n",
       "4  341.48923103222177  \n",
       "\n",
       "[5 rows x 27 columns]"
      ]
     },
     "execution_count": 4,
     "metadata": {},
     "output_type": "execute_result"
    }
   ],
   "source": [
    "X, y = load_data()\n",
    "X.head()"
   ]
  },
  {
   "cell_type": "markdown",
   "id": "fb8e3154-9126-4ace-b8ba-6743473696f7",
   "metadata": {},
   "source": [
    "We'll then perform data cleaning to filter out irrelevant features for our prediction. A little bit of feature engineering after might be necessary."
   ]
  },
  {
   "cell_type": "markdown",
   "id": "349fe467-4d9d-40dc-9ec8-6f88fef0e32f",
   "metadata": {},
   "source": [
    "First of all, we need to look more into our 'Monthly_Balance' column, which holds more than one data type, hence detected as DTypeWarning. "
   ]
  },
  {
   "cell_type": "code",
   "execution_count": 5,
   "id": "9cfc84d9-1db2-4d4c-baac-2b97e12a35cd",
   "metadata": {},
   "outputs": [
    {
     "name": "stdout",
     "output_type": "stream",
     "text": [
      "['312.49408867943663' '284.62916249607184' '331.2098628537912' ...\n",
      " 516.8090832742814 319.1649785257098 393.6736955618808]\n"
     ]
    }
   ],
   "source": [
    "print(X['Monthly_Balance'].unique())"
   ]
  },
  {
   "cell_type": "code",
   "execution_count": 6,
   "id": "6a41b7b8-30e9-403f-b727-28252852ab81",
   "metadata": {},
   "outputs": [
    {
     "data": {
      "text/html": [
       "<div>\n",
       "<style scoped>\n",
       "    .dataframe tbody tr th:only-of-type {\n",
       "        vertical-align: middle;\n",
       "    }\n",
       "\n",
       "    .dataframe tbody tr th {\n",
       "        vertical-align: top;\n",
       "    }\n",
       "\n",
       "    .dataframe thead th {\n",
       "        text-align: right;\n",
       "    }\n",
       "</style>\n",
       "<table border=\"1\" class=\"dataframe\">\n",
       "  <thead>\n",
       "    <tr style=\"text-align: right;\">\n",
       "      <th></th>\n",
       "      <th>ID</th>\n",
       "      <th>Customer_ID</th>\n",
       "      <th>Month</th>\n",
       "      <th>Name</th>\n",
       "      <th>Age</th>\n",
       "      <th>SSN</th>\n",
       "      <th>Occupation</th>\n",
       "      <th>Annual_Income</th>\n",
       "      <th>Monthly_Inhand_Salary</th>\n",
       "      <th>Num_Bank_Accounts</th>\n",
       "      <th>...</th>\n",
       "      <th>Num_Credit_Inquiries</th>\n",
       "      <th>Credit_Mix</th>\n",
       "      <th>Outstanding_Debt</th>\n",
       "      <th>Credit_Utilization_Ratio</th>\n",
       "      <th>Credit_History_Age</th>\n",
       "      <th>Payment_of_Min_Amount</th>\n",
       "      <th>Total_EMI_per_month</th>\n",
       "      <th>Amount_invested_monthly</th>\n",
       "      <th>Payment_Behaviour</th>\n",
       "      <th>Monthly_Balance</th>\n",
       "    </tr>\n",
       "  </thead>\n",
       "  <tbody>\n",
       "    <tr>\n",
       "      <th>0</th>\n",
       "      <td>0x1602</td>\n",
       "      <td>CUS_0xd40</td>\n",
       "      <td>January</td>\n",
       "      <td>Aaron Maashoh</td>\n",
       "      <td>23</td>\n",
       "      <td>821-00-0265</td>\n",
       "      <td>Scientist</td>\n",
       "      <td>19114.12</td>\n",
       "      <td>1824.843333</td>\n",
       "      <td>3</td>\n",
       "      <td>...</td>\n",
       "      <td>4.0</td>\n",
       "      <td>_</td>\n",
       "      <td>809.98</td>\n",
       "      <td>26.822620</td>\n",
       "      <td>22 Years and 1 Months</td>\n",
       "      <td>No</td>\n",
       "      <td>49.574949</td>\n",
       "      <td>80.41529543900253</td>\n",
       "      <td>High_spent_Small_value_payments</td>\n",
       "      <td>312.494089</td>\n",
       "    </tr>\n",
       "    <tr>\n",
       "      <th>1</th>\n",
       "      <td>0x1603</td>\n",
       "      <td>CUS_0xd40</td>\n",
       "      <td>February</td>\n",
       "      <td>Aaron Maashoh</td>\n",
       "      <td>23</td>\n",
       "      <td>821-00-0265</td>\n",
       "      <td>Scientist</td>\n",
       "      <td>19114.12</td>\n",
       "      <td>NaN</td>\n",
       "      <td>3</td>\n",
       "      <td>...</td>\n",
       "      <td>4.0</td>\n",
       "      <td>Good</td>\n",
       "      <td>809.98</td>\n",
       "      <td>31.944960</td>\n",
       "      <td>NaN</td>\n",
       "      <td>No</td>\n",
       "      <td>49.574949</td>\n",
       "      <td>118.28022162236736</td>\n",
       "      <td>Low_spent_Large_value_payments</td>\n",
       "      <td>284.629162</td>\n",
       "    </tr>\n",
       "    <tr>\n",
       "      <th>2</th>\n",
       "      <td>0x1604</td>\n",
       "      <td>CUS_0xd40</td>\n",
       "      <td>March</td>\n",
       "      <td>Aaron Maashoh</td>\n",
       "      <td>-500</td>\n",
       "      <td>821-00-0265</td>\n",
       "      <td>Scientist</td>\n",
       "      <td>19114.12</td>\n",
       "      <td>NaN</td>\n",
       "      <td>3</td>\n",
       "      <td>...</td>\n",
       "      <td>4.0</td>\n",
       "      <td>Good</td>\n",
       "      <td>809.98</td>\n",
       "      <td>28.609352</td>\n",
       "      <td>22 Years and 3 Months</td>\n",
       "      <td>No</td>\n",
       "      <td>49.574949</td>\n",
       "      <td>81.699521264648</td>\n",
       "      <td>Low_spent_Medium_value_payments</td>\n",
       "      <td>331.209863</td>\n",
       "    </tr>\n",
       "    <tr>\n",
       "      <th>3</th>\n",
       "      <td>0x1605</td>\n",
       "      <td>CUS_0xd40</td>\n",
       "      <td>April</td>\n",
       "      <td>Aaron Maashoh</td>\n",
       "      <td>23</td>\n",
       "      <td>821-00-0265</td>\n",
       "      <td>Scientist</td>\n",
       "      <td>19114.12</td>\n",
       "      <td>NaN</td>\n",
       "      <td>3</td>\n",
       "      <td>...</td>\n",
       "      <td>4.0</td>\n",
       "      <td>Good</td>\n",
       "      <td>809.98</td>\n",
       "      <td>31.377862</td>\n",
       "      <td>22 Years and 4 Months</td>\n",
       "      <td>No</td>\n",
       "      <td>49.574949</td>\n",
       "      <td>199.4580743910713</td>\n",
       "      <td>Low_spent_Small_value_payments</td>\n",
       "      <td>223.451310</td>\n",
       "    </tr>\n",
       "    <tr>\n",
       "      <th>4</th>\n",
       "      <td>0x1606</td>\n",
       "      <td>CUS_0xd40</td>\n",
       "      <td>May</td>\n",
       "      <td>Aaron Maashoh</td>\n",
       "      <td>23</td>\n",
       "      <td>821-00-0265</td>\n",
       "      <td>Scientist</td>\n",
       "      <td>19114.12</td>\n",
       "      <td>1824.843333</td>\n",
       "      <td>3</td>\n",
       "      <td>...</td>\n",
       "      <td>4.0</td>\n",
       "      <td>Good</td>\n",
       "      <td>809.98</td>\n",
       "      <td>24.797347</td>\n",
       "      <td>22 Years and 5 Months</td>\n",
       "      <td>No</td>\n",
       "      <td>49.574949</td>\n",
       "      <td>41.420153086217326</td>\n",
       "      <td>High_spent_Medium_value_payments</td>\n",
       "      <td>341.489231</td>\n",
       "    </tr>\n",
       "  </tbody>\n",
       "</table>\n",
       "<p>5 rows × 27 columns</p>\n",
       "</div>"
      ],
      "text/plain": [
       "       ID Customer_ID     Month           Name   Age          SSN Occupation  \\\n",
       "0  0x1602   CUS_0xd40   January  Aaron Maashoh    23  821-00-0265  Scientist   \n",
       "1  0x1603   CUS_0xd40  February  Aaron Maashoh    23  821-00-0265  Scientist   \n",
       "2  0x1604   CUS_0xd40     March  Aaron Maashoh  -500  821-00-0265  Scientist   \n",
       "3  0x1605   CUS_0xd40     April  Aaron Maashoh    23  821-00-0265  Scientist   \n",
       "4  0x1606   CUS_0xd40       May  Aaron Maashoh    23  821-00-0265  Scientist   \n",
       "\n",
       "  Annual_Income  Monthly_Inhand_Salary  Num_Bank_Accounts  ...  \\\n",
       "0      19114.12            1824.843333                  3  ...   \n",
       "1      19114.12                    NaN                  3  ...   \n",
       "2      19114.12                    NaN                  3  ...   \n",
       "3      19114.12                    NaN                  3  ...   \n",
       "4      19114.12            1824.843333                  3  ...   \n",
       "\n",
       "   Num_Credit_Inquiries  Credit_Mix Outstanding_Debt Credit_Utilization_Ratio  \\\n",
       "0                   4.0           _           809.98                26.822620   \n",
       "1                   4.0        Good           809.98                31.944960   \n",
       "2                   4.0        Good           809.98                28.609352   \n",
       "3                   4.0        Good           809.98                31.377862   \n",
       "4                   4.0        Good           809.98                24.797347   \n",
       "\n",
       "      Credit_History_Age Payment_of_Min_Amount Total_EMI_per_month  \\\n",
       "0  22 Years and 1 Months                    No           49.574949   \n",
       "1                    NaN                    No           49.574949   \n",
       "2  22 Years and 3 Months                    No           49.574949   \n",
       "3  22 Years and 4 Months                    No           49.574949   \n",
       "4  22 Years and 5 Months                    No           49.574949   \n",
       "\n",
       "   Amount_invested_monthly                 Payment_Behaviour Monthly_Balance  \n",
       "0        80.41529543900253   High_spent_Small_value_payments      312.494089  \n",
       "1       118.28022162236736    Low_spent_Large_value_payments      284.629162  \n",
       "2          81.699521264648   Low_spent_Medium_value_payments      331.209863  \n",
       "3        199.4580743910713    Low_spent_Small_value_payments      223.451310  \n",
       "4       41.420153086217326  High_spent_Medium_value_payments      341.489231  \n",
       "\n",
       "[5 rows x 27 columns]"
      ]
     },
     "execution_count": 6,
     "metadata": {},
     "output_type": "execute_result"
    }
   ],
   "source": [
    "X['Monthly_Balance'] = pd.to_numeric(X['Monthly_Balance'], errors='coerce')\n",
    "X.head()"
   ]
  },
  {
   "cell_type": "code",
   "execution_count": 7,
   "id": "ba06fa87-ce54-4f5c-bdbf-686f94b59054",
   "metadata": {},
   "outputs": [
    {
     "data": {
      "text/plain": [
       "(100000, 27)"
      ]
     },
     "execution_count": 7,
     "metadata": {},
     "output_type": "execute_result"
    }
   ],
   "source": [
    "X.shape"
   ]
  },
  {
   "cell_type": "markdown",
   "id": "52e466b3-77b9-491d-a623-f73c06f2ed15",
   "metadata": {},
   "source": [
    "'ID', 'Customer_ID', 'Name', 'SSN', 'Occupation', and 'Type_of_Loan' are, for now, **irrelevant** to the prediction."
   ]
  },
  {
   "cell_type": "code",
   "execution_count": 8,
   "id": "bf654d7e-caac-47b4-ad23-0131bf836c9a",
   "metadata": {},
   "outputs": [
    {
     "data": {
      "text/plain": [
       "(100000, 21)"
      ]
     },
     "execution_count": 8,
     "metadata": {},
     "output_type": "execute_result"
    }
   ],
   "source": [
    "## Drop irrelevant features\n",
    "X = X.drop(columns=['ID', 'Customer_ID', 'Name', 'SSN', 'Occupation', 'Type_of_Loan'])\n",
    "X.shape"
   ]
  },
  {
   "cell_type": "markdown",
   "id": "10338ddb-901f-4469-8f29-14587a489a66",
   "metadata": {},
   "source": [
    "Furthermore, there are features that hold string values, which obviously cannot be processed by the logistic regression model. We need to convert them into one-hot encoding vectors."
   ]
  },
  {
   "cell_type": "code",
   "execution_count": 9,
   "id": "b7447fc0-5f19-4407-8c42-5546d2ef72ed",
   "metadata": {},
   "outputs": [
    {
     "name": "stdout",
     "output_type": "stream",
     "text": [
      "New shape of X: (100000, 39)\n",
      "New shape of y: (100000, 3)\n"
     ]
    }
   ],
   "source": [
    "## One-hot encoding\n",
    "X = pd.get_dummies(X, columns=['Month', 'Credit_Mix', 'Payment_of_Min_Amount', 'Payment_Behaviour'])\n",
    "y = pd.get_dummies(y)\n",
    "print(f\"New shape of X: {X.shape}\")\n",
    "print(f\"New shape of y: {y.shape}\")"
   ]
  },
  {
   "cell_type": "code",
   "execution_count": 10,
   "id": "f430b316-e980-4af1-bb71-3abbec223237",
   "metadata": {},
   "outputs": [
    {
     "name": "stderr",
     "output_type": "stream",
     "text": [
      "C:\\Users\\USER\\AppData\\Local\\Temp\\ipykernel_29320\\2337723389.py:5: FutureWarning: A value is trying to be set on a copy of a DataFrame or Series through chained assignment using an inplace method.\n",
      "The behavior will change in pandas 3.0. This inplace method will never work because the intermediate object on which we are setting values always behaves as a copy.\n",
      "\n",
      "For example, when doing 'df[col].method(value, inplace=True)', try using 'df.method({col: value}, inplace=True)' or df[col] = df[col].method(value) instead, to perform the operation inplace on the original object.\n",
      "\n",
      "\n",
      "  X['Credit_History_Age'].replace('NA', pd.NA, inplace=True)\n"
     ]
    }
   ],
   "source": [
    "## Map 'Credit_History_Age' into decimals and NaN values\n",
    "import re\n",
    "\n",
    "# Replace 'NA' with NaN\n",
    "X['Credit_History_Age'].replace('NA', pd.NA, inplace=True)\n",
    "\n",
    "# Function to extract years and months\n",
    "def extract_years_months(value):\n",
    "    if pd.isna(value):\n",
    "        return value\n",
    "    match = re.match(r'(\\d+)\\s+Years?\\s+and\\s+(\\d+)\\s+Months?', value)\n",
    "    if match:\n",
    "        years, months = map(int, match.groups())\n",
    "        return years + months / 12\n",
    "    return None\n",
    "\n",
    "# Apply the function to the column\n",
    "X['Credit_History_Age'] = X['Credit_History_Age'].apply(extract_years_months)"
   ]
  },
  {
   "cell_type": "code",
   "execution_count": 11,
   "id": "5da62984-fd0d-4ab7-acec-a027b7f35a9b",
   "metadata": {},
   "outputs": [
    {
     "data": {
      "text/plain": [
       "0    22.083333\n",
       "1          NaN\n",
       "2    22.250000\n",
       "3    22.333333\n",
       "4    22.416667\n",
       "Name: Credit_History_Age, dtype: float64"
      ]
     },
     "execution_count": 11,
     "metadata": {},
     "output_type": "execute_result"
    }
   ],
   "source": [
    "X['Credit_History_Age'].head()"
   ]
  },
  {
   "cell_type": "markdown",
   "id": "c4fc936c-dfb3-496b-831c-760f817e2889",
   "metadata": {},
   "source": [
    "Now, we need to address NaN values as a part of data cleaning process."
   ]
  },
  {
   "cell_type": "code",
   "execution_count": 12,
   "id": "d0f45efb-ed04-444c-88ed-957ce07fa28b",
   "metadata": {},
   "outputs": [],
   "source": [
    "## Make sure all values are numerical\n",
    "X_num = X.apply(pd.to_numeric, errors='coerce')"
   ]
  },
  {
   "cell_type": "code",
   "execution_count": 13,
   "id": "408b910f-c3ac-4f4b-9029-2c26ad7ff08a",
   "metadata": {},
   "outputs": [
    {
     "data": {
      "text/plain": [
       "Age                                                    4939\n",
       "Annual_Income                                          6980\n",
       "Monthly_Inhand_Salary                                 15002\n",
       "Num_Bank_Accounts                                         0\n",
       "Num_Credit_Card                                           0\n",
       "Interest_Rate                                             0\n",
       "Num_of_Loan                                            4785\n",
       "Delay_from_due_date                                       0\n",
       "Num_of_Delayed_Payment                                 9746\n",
       "Changed_Credit_Limit                                   2091\n",
       "Num_Credit_Inquiries                                   1965\n",
       "Outstanding_Debt                                       1009\n",
       "Credit_Utilization_Ratio                                  0\n",
       "Credit_History_Age                                     9030\n",
       "Total_EMI_per_month                                       0\n",
       "Amount_invested_monthly                                8784\n",
       "Monthly_Balance                                        1209\n",
       "Month_April                                               0\n",
       "Month_August                                              0\n",
       "Month_February                                            0\n",
       "Month_January                                             0\n",
       "Month_July                                                0\n",
       "Month_June                                                0\n",
       "Month_March                                               0\n",
       "Month_May                                                 0\n",
       "Credit_Mix_Bad                                            0\n",
       "Credit_Mix_Good                                           0\n",
       "Credit_Mix_Standard                                       0\n",
       "Credit_Mix__                                              0\n",
       "Payment_of_Min_Amount_NM                                  0\n",
       "Payment_of_Min_Amount_No                                  0\n",
       "Payment_of_Min_Amount_Yes                                 0\n",
       "Payment_Behaviour_!@9#%8                                  0\n",
       "Payment_Behaviour_High_spent_Large_value_payments         0\n",
       "Payment_Behaviour_High_spent_Medium_value_payments        0\n",
       "Payment_Behaviour_High_spent_Small_value_payments         0\n",
       "Payment_Behaviour_Low_spent_Large_value_payments          0\n",
       "Payment_Behaviour_Low_spent_Medium_value_payments         0\n",
       "Payment_Behaviour_Low_spent_Small_value_payments          0\n",
       "dtype: int64"
      ]
     },
     "execution_count": 13,
     "metadata": {},
     "output_type": "execute_result"
    }
   ],
   "source": [
    "X_num.isna().sum()"
   ]
  },
  {
   "cell_type": "code",
   "execution_count": 16,
   "id": "5ded4b04-3c8e-4c6e-af66-72d7314d5c86",
   "metadata": {},
   "outputs": [
    {
     "name": "stdout",
     "output_type": "stream",
     "text": [
      "KNNImputer fitting time: 719.2777955532074 seconds\n"
     ]
    }
   ],
   "source": [
    "## Fill the missing values with mean in each column\n",
    "# X_num = X_num.fillna(X_num.mean())\n",
    "\n",
    "# Initialize the KNN imputer\n",
    "imputer = KNNImputer(missing_values=np.nan, n_neighbors=5)\n",
    "\n",
    "# Fit and transform the data\n",
    "start_time = time.time()\n",
    "X_imputed = imputer.fit_transform(X_num)\n",
    "end_time = time.time()\n",
    "\n",
    "print(f\"KNNImputer fitting time: {end_time - start_time} seconds\")\n",
    "\n",
    "# Convert back to DataFrame\n",
    "X_num = pd.DataFrame(X_imputed, columns=X_num.columns)\n",
    "del X_imputed"
   ]
  },
  {
   "cell_type": "code",
   "execution_count": 17,
   "id": "df447e4f-561f-40f8-89bd-945d9c953d26",
   "metadata": {},
   "outputs": [
    {
     "data": {
      "text/plain": [
       "Age                                                   0\n",
       "Annual_Income                                         0\n",
       "Monthly_Inhand_Salary                                 0\n",
       "Num_Bank_Accounts                                     0\n",
       "Num_Credit_Card                                       0\n",
       "Interest_Rate                                         0\n",
       "Num_of_Loan                                           0\n",
       "Delay_from_due_date                                   0\n",
       "Num_of_Delayed_Payment                                0\n",
       "Changed_Credit_Limit                                  0\n",
       "Num_Credit_Inquiries                                  0\n",
       "Outstanding_Debt                                      0\n",
       "Credit_Utilization_Ratio                              0\n",
       "Credit_History_Age                                    0\n",
       "Total_EMI_per_month                                   0\n",
       "Amount_invested_monthly                               0\n",
       "Monthly_Balance                                       0\n",
       "Month_April                                           0\n",
       "Month_August                                          0\n",
       "Month_February                                        0\n",
       "Month_January                                         0\n",
       "Month_July                                            0\n",
       "Month_June                                            0\n",
       "Month_March                                           0\n",
       "Month_May                                             0\n",
       "Credit_Mix_Bad                                        0\n",
       "Credit_Mix_Good                                       0\n",
       "Credit_Mix_Standard                                   0\n",
       "Credit_Mix__                                          0\n",
       "Payment_of_Min_Amount_NM                              0\n",
       "Payment_of_Min_Amount_No                              0\n",
       "Payment_of_Min_Amount_Yes                             0\n",
       "Payment_Behaviour_!@9#%8                              0\n",
       "Payment_Behaviour_High_spent_Large_value_payments     0\n",
       "Payment_Behaviour_High_spent_Medium_value_payments    0\n",
       "Payment_Behaviour_High_spent_Small_value_payments     0\n",
       "Payment_Behaviour_Low_spent_Large_value_payments      0\n",
       "Payment_Behaviour_Low_spent_Medium_value_payments     0\n",
       "Payment_Behaviour_Low_spent_Small_value_payments      0\n",
       "dtype: int64"
      ]
     },
     "execution_count": 17,
     "metadata": {},
     "output_type": "execute_result"
    }
   ],
   "source": [
    "X_num.isna().sum()"
   ]
  },
  {
   "cell_type": "markdown",
   "id": "3ef41deb-76fd-4b1d-a488-a40109156fb1",
   "metadata": {},
   "source": [
    "## Feature engineering"
   ]
  },
  {
   "cell_type": "markdown",
   "id": "0d134afc-0d0e-462d-aa91-c0e07618e425",
   "metadata": {},
   "source": [
    "Feature engineering lets us create new features by combining existing ones. These new features help the model to see the relationship between features and can improve the model's performance."
   ]
  },
  {
   "cell_type": "code",
   "execution_count": 18,
   "id": "a7e84fe0-58d7-41ef-93af-bb097fe172d3",
   "metadata": {},
   "outputs": [],
   "source": [
    "## Interaction features\n",
    "X_num['Debt_to_Income_Ratio'] = X_num['Outstanding_Debt'] / X_num['Annual_Income']\n",
    "X_num['Loan_to_Income_Ratio'] = X_num['Num_of_Loan'] / X_num['Annual_Income']\n",
    "X_num['Investment_Ratio'] = X_num['Amount_invested_monthly'] / X_num['Monthly_Inhand_Salary']\n",
    "X_num['Credit_Card_Utilization'] = X_num['Credit_Utilization_Ratio'] * X_num['Num_Credit_Card']\n",
    "\n",
    "## Aggregated features\n",
    "X_num['Total_Debt'] = X_num['Outstanding_Debt'] + X_num['Total_EMI_per_month']\n",
    "\n",
    "## One-hot encoding for seasons\n",
    "## --> Winter\n",
    "X_num['Winter'] = X_num['Month_January'] + X_num['Month_February']\n",
    "## --> Spring\n",
    "X_num['Spring'] = X_num['Month_March'] + X_num['Month_April'] + X_num['Month_May']\n",
    "## --> Summer\n",
    "X_num['Summer'] = X_num['Month_June'] + X_num['Month_July'] + X_num['Month_August']"
   ]
  },
  {
   "cell_type": "markdown",
   "id": "581e4c28-c7aa-424c-b77b-e04a6d649a65",
   "metadata": {},
   "source": [
    "We also need to perform normalization to some features so that all features are in a virtually comparable range of values (feature scaling). We will use z-score normalization that subtracts the mean from each feature and divide the resulting value by its standard deviation."
   ]
  },
  {
   "cell_type": "markdown",
   "id": "75684c34-bb54-4110-af84-9a840028085f",
   "metadata": {},
   "source": [
    "First, we will reduce the impact of **outliers** (i.e., skewed, and possibly incorrect,\n",
    "values in columns that might distort z-score normalization results) by applying natural log transformation."
   ]
  },
  {
   "cell_type": "code",
   "execution_count": 19,
   "id": "c6504a45-ec66-4f77-b2a5-378efb4dc73b",
   "metadata": {},
   "outputs": [],
   "source": [
    "columns_log = [\n",
    "    'Age', 'Annual_Income', 'Monthly_Inhand_Salary', 'Num_Bank_Accounts',\n",
    "    'Num_Credit_Card',\n",
    "    'Interest_Rate', 'Num_of_Loan', 'Delay_from_due_date', 'Num_of_Delayed_Payment',\n",
    "    'Changed_Credit_Limit', 'Num_Credit_Inquiries', 'Outstanding_Debt',\n",
    "    'Credit_Utilization_Ratio', 'Credit_History_Age', 'Total_EMI_per_month',\n",
    "    'Amount_invested_monthly', 'Monthly_Balance',\n",
    "    'Debt_to_Income_Ratio', 'Loan_to_Income_Ratio', 'Investment_Ratio', \n",
    "    'Credit_Card_Utilization', 'Total_Debt'\n",
    "]\n",
    "\n",
    "## Prevent FloatingPointError\n",
    "X_num[columns_log] = X_num[columns_log].map(lambda x: x if x >= 0 else 0.01)\n",
    "\n",
    "## Apply log transformation to necessary columns\n",
    "X_num[columns_log] = np.log1p(X_num[columns_log])"
   ]
  },
  {
   "cell_type": "markdown",
   "id": "afb4b188-0f8f-40bb-8f6b-e1b19450dc62",
   "metadata": {},
   "source": [
    "We can then proceed for normalization."
   ]
  },
  {
   "cell_type": "code",
   "execution_count": 20,
   "id": "07bee17f-5bdc-41b7-944e-e020477c9dc2",
   "metadata": {},
   "outputs": [],
   "source": [
    "## We want to normalize all columns except one-hot encoding vectors\n",
    "columns_norm = [\n",
    "    'Age', 'Annual_Income', 'Monthly_Inhand_Salary', 'Num_Bank_Accounts', \n",
    "    'Num_Credit_Card',\n",
    "    'Interest_Rate', 'Num_of_Loan', 'Delay_from_due_date', 'Num_of_Delayed_Payment',\n",
    "    'Changed_Credit_Limit', 'Num_Credit_Inquiries', 'Outstanding_Debt',\n",
    "    'Credit_Utilization_Ratio', 'Credit_History_Age', 'Total_EMI_per_month',\n",
    "    'Amount_invested_monthly', 'Monthly_Balance',\n",
    "    'Debt_to_Income_Ratio', 'Loan_to_Income_Ratio', 'Investment_Ratio', \n",
    "    'Credit_Card_Utilization', 'Total_Debt'\n",
    "]\n",
    "\n",
    "## Initialize the scaler\n",
    "scaler = StandardScaler()\n",
    "\n",
    "## Fit and transform the selected columns\n",
    "X_num[columns_norm] = scaler.fit_transform(X_num[columns_norm])"
   ]
  },
  {
   "cell_type": "code",
   "execution_count": 21,
   "id": "5433c7bf-76db-4231-bf35-ce6d0124215a",
   "metadata": {},
   "outputs": [
    {
     "data": {
      "text/plain": [
       "0   -0.183463\n",
       "1   -0.183463\n",
       "2   -0.183463\n",
       "3   -0.183463\n",
       "4   -0.183463\n",
       "Name: Debt_to_Income_Ratio, dtype: float64"
      ]
     },
     "execution_count": 21,
     "metadata": {},
     "output_type": "execute_result"
    }
   ],
   "source": [
    "X_num['Debt_to_Income_Ratio'].head()"
   ]
  },
  {
   "cell_type": "code",
   "execution_count": 22,
   "id": "625511f3-2f45-46b1-8d8d-7b3439d29991",
   "metadata": {},
   "outputs": [
    {
     "data": {
      "text/plain": [
       "0   -0.409512\n",
       "1   -0.409512\n",
       "2   -0.409512\n",
       "3   -0.409512\n",
       "4   -0.409512\n",
       "Name: Num_Credit_Card, dtype: float64"
      ]
     },
     "execution_count": 22,
     "metadata": {},
     "output_type": "execute_result"
    }
   ],
   "source": [
    "X_num['Num_Credit_Card'].head()"
   ]
  },
  {
   "cell_type": "markdown",
   "id": "0112f27d-3673-4f07-ba4b-10e8246cf68e",
   "metadata": {},
   "source": [
    "## Risk minimization"
   ]
  },
  {
   "cell_type": "markdown",
   "id": "c82d198a-686d-41a2-8db0-53db37783c2e",
   "metadata": {},
   "source": [
    "We need to come to an understanding that logistic regression model cannot be trained on the target label of three possible binary values."
   ]
  },
  {
   "cell_type": "code",
   "execution_count": 23,
   "id": "40eedbf1-30ee-4560-adda-1eee27b3e4de",
   "metadata": {},
   "outputs": [
    {
     "data": {
      "text/html": [
       "<div>\n",
       "<style scoped>\n",
       "    .dataframe tbody tr th:only-of-type {\n",
       "        vertical-align: middle;\n",
       "    }\n",
       "\n",
       "    .dataframe tbody tr th {\n",
       "        vertical-align: top;\n",
       "    }\n",
       "\n",
       "    .dataframe thead th {\n",
       "        text-align: right;\n",
       "    }\n",
       "</style>\n",
       "<table border=\"1\" class=\"dataframe\">\n",
       "  <thead>\n",
       "    <tr style=\"text-align: right;\">\n",
       "      <th></th>\n",
       "      <th>Good</th>\n",
       "      <th>Poor</th>\n",
       "      <th>Standard</th>\n",
       "    </tr>\n",
       "  </thead>\n",
       "  <tbody>\n",
       "    <tr>\n",
       "      <th>0</th>\n",
       "      <td>True</td>\n",
       "      <td>False</td>\n",
       "      <td>False</td>\n",
       "    </tr>\n",
       "    <tr>\n",
       "      <th>1</th>\n",
       "      <td>True</td>\n",
       "      <td>False</td>\n",
       "      <td>False</td>\n",
       "    </tr>\n",
       "    <tr>\n",
       "      <th>2</th>\n",
       "      <td>True</td>\n",
       "      <td>False</td>\n",
       "      <td>False</td>\n",
       "    </tr>\n",
       "    <tr>\n",
       "      <th>3</th>\n",
       "      <td>True</td>\n",
       "      <td>False</td>\n",
       "      <td>False</td>\n",
       "    </tr>\n",
       "    <tr>\n",
       "      <th>4</th>\n",
       "      <td>True</td>\n",
       "      <td>False</td>\n",
       "      <td>False</td>\n",
       "    </tr>\n",
       "  </tbody>\n",
       "</table>\n",
       "</div>"
      ],
      "text/plain": [
       "   Good   Poor  Standard\n",
       "0  True  False     False\n",
       "1  True  False     False\n",
       "2  True  False     False\n",
       "3  True  False     False\n",
       "4  True  False     False"
      ]
     },
     "execution_count": 23,
     "metadata": {},
     "output_type": "execute_result"
    }
   ],
   "source": [
    "y.head()"
   ]
  },
  {
   "cell_type": "markdown",
   "id": "01bf6a51-d7df-429d-b9d9-58eedd9eb15d",
   "metadata": {},
   "source": [
    "Let's assume that the global finance company we're working with is not looking for more market expansion and is trying to minimize loan risk. Therefore, we want to label parties with **Good** credit scores as being eligible for loans, while the rest are not."
   ]
  },
  {
   "cell_type": "code",
   "execution_count": 24,
   "id": "c664fe69-3232-45b4-8fbe-c672c2c19ed3",
   "metadata": {},
   "outputs": [],
   "source": [
    "## Create a new binary label\n",
    "y['Target'] = y['Good']\n",
    "\n",
    "## Drop the original one-hot encoded columns\n",
    "y = y.drop(columns=['Good', 'Standard', 'Poor'])"
   ]
  },
  {
   "cell_type": "code",
   "execution_count": 25,
   "id": "f3401fcc-8904-4c0d-bd18-f33b0e09ea1d",
   "metadata": {},
   "outputs": [
    {
     "data": {
      "text/plain": [
       "(100000, 1)"
      ]
     },
     "execution_count": 25,
     "metadata": {},
     "output_type": "execute_result"
    }
   ],
   "source": [
    "y.shape"
   ]
  },
  {
   "cell_type": "markdown",
   "id": "b8323b09-2c8a-4e56-8783-840e378f70ee",
   "metadata": {},
   "source": [
    "## Preparing data for training"
   ]
  },
  {
   "cell_type": "code",
   "execution_count": 86,
   "id": "e67b5852-cde1-44c9-a243-e2c055d7a6ed",
   "metadata": {},
   "outputs": [
    {
     "name": "stdout",
     "output_type": "stream",
     "text": [
      "Train X shape is: (4096, 47)\n",
      "Train Y shape is: (4096, 1)\n",
      "Test X shape is: (4096, 47)\n",
      "Test Y shape is: (4096, 1)\n"
     ]
    }
   ],
   "source": [
    "## NUM_SAMPLES is the combination of all sets (NUM_TRAINING + NUM_TEST)\n",
    "NUM_SAMPLES = 8192\n",
    "COMPARE_TO_R_REF = False\n",
    "lr = 0.001\n",
    "mu = 0.5\n",
    "\n",
    "## Slice data into NumPy arrays and split into training and test sets\n",
    "X_train, X_test, y_train, y_test = slice_split(\n",
    "    X_num, y,\n",
    "    num_samples=NUM_SAMPLES,\n",
    "    compare_to_r_ref=COMPARE_TO_R_REF\n",
    ")\n",
    "\n",
    "## n = num_of_features\n",
    "n = X_train.shape[1]\n",
    "\n",
    "# Same shape as Marcelo's reference code\n",
    "betas = np.zeros((n, ))\n",
    "# betas = np.random.randn(n)"
   ]
  },
  {
   "cell_type": "code",
   "execution_count": 87,
   "id": "4d3dac9a-80a4-4212-b985-c7185b4b645c",
   "metadata": {},
   "outputs": [
    {
     "data": {
      "text/plain": [
       "47"
      ]
     },
     "execution_count": 87,
     "metadata": {},
     "output_type": "execute_result"
    }
   ],
   "source": [
    "n"
   ]
  },
  {
   "cell_type": "markdown",
   "id": "8420f71b-22cd-4359-81e9-7e3611916ce9",
   "metadata": {},
   "source": [
    "## Applying Principal Component Analysis"
   ]
  },
  {
   "cell_type": "markdown",
   "id": "1ee3c68c-afce-425d-be4c-5a32f48dd375",
   "metadata": {},
   "source": [
    "Principal Component Analysis (PCA) allows for a reduced dataset, meaning the new dataset will have a small number of new features (called the principal components), which explains all original features. \n",
    "\n",
    "How well these new features explain the original ones is parameterized by explained variance ratio."
   ]
  },
  {
   "cell_type": "code",
   "execution_count": 88,
   "id": "6c9d3d70-5a61-4c01-85cb-bfc8ae877a85",
   "metadata": {},
   "outputs": [],
   "source": [
    "from sklearn.decomposition import PCA\n",
    "\n",
    "def apply_pca(X_train, X_test, n_components):\n",
    "    pca = PCA(n_components=n_components)\n",
    "    X_train_pca = pca.fit_transform(X_train)\n",
    "    X_test_pca = pca.transform(X_test)\n",
    "    \n",
    "    print(f\"Explained variance ratio: {pca.explained_variance_ratio_}\")\n",
    "    print(f\"Number of components after PCA: {X_train_pca.shape[1]}\")\n",
    "    \n",
    "    return X_train_pca, X_test_pca"
   ]
  },
  {
   "cell_type": "code",
   "execution_count": 89,
   "id": "216f5d07-cad5-458e-9b67-c5d49c28856d",
   "metadata": {},
   "outputs": [
    {
     "name": "stdout",
     "output_type": "stream",
     "text": [
      "Explained variance ratio: [0.21939469 0.0915127  0.08018888 0.07458434 0.05153002 0.04331276\n",
      " 0.04107244 0.03735378 0.03498121 0.03048053 0.0273365  0.02678491\n",
      " 0.02415991 0.02111715 0.02027564 0.01919968 0.01663116 0.01569339\n",
      " 0.01512239 0.01095883 0.00982277 0.00861407 0.00802758 0.00687137\n",
      " 0.00639006 0.00629253 0.00549047 0.00502738 0.00495027 0.00487403\n",
      " 0.004825   0.00474715]\n",
      "Number of components after PCA: 32\n",
      "n = 32\n"
     ]
    }
   ],
   "source": [
    "X_train, X_test = apply_pca(X_train, X_test, n_components=32)\n",
    "\n",
    "## n = num_of_features\n",
    "n = X_train.shape[1]\n",
    "print(f\"n = {n}\")\n",
    "\n",
    "# Same shape as Marcelo's reference code\n",
    "betas = np.zeros((n, ))"
   ]
  },
  {
   "cell_type": "code",
   "execution_count": 90,
   "id": "cf93a652-ddc7-4341-bf03-4312e8aaa411",
   "metadata": {},
   "outputs": [
    {
     "name": "stdout",
     "output_type": "stream",
     "text": [
      "Train X shape is: (4096, 32)\n",
      "Train Y shape is: (4096, 1)\n",
      "Test X shape is: (4096, 32)\n",
      "Test Y shape is: (4096, 1)\n"
     ]
    }
   ],
   "source": [
    "print(f\"Train X shape is: {X_train.shape}\")\n",
    "print(f\"Train Y shape is: {y_train.shape}\")\n",
    "print(f\"Test X shape is: {X_test.shape}\")\n",
    "print(f\"Test Y shape is: {y_test.shape}\")"
   ]
  },
  {
   "cell_type": "markdown",
   "id": "efc52987-85d1-4be1-96a5-921d52f46586",
   "metadata": {},
   "source": [
    "## Nesterov model training"
   ]
  },
  {
   "cell_type": "code",
   "execution_count": 91,
   "id": "e4ac1694-7e68-4e4a-999a-b60e3b564b3f",
   "metadata": {},
   "outputs": [],
   "source": [
    "@njit\n",
    "def sigmoid(z):\n",
    "    return 1 / (1 + np.exp(-z))\n",
    "\n",
    "@njit\n",
    "def fwd(train_x, betas, dbg=False):\n",
    "    preds = train_x @ betas   # A vector of linear_predictions/logits z = train_x @ weights\n",
    "    if dbg:\n",
    "        print(f\"Logits: {preds}\")\n",
    "    return np.expand_dims(sigmoid(preds), -1)   # Shape: (m, 1)\n",
    "\n",
    "@njit\n",
    "def calculate_gradient(train_x, train_y, betas, fwd, dbg):\n",
    "    preds = fwd(train_x, betas, dbg)   # A vector of logistic predictions y_hat = sigmoid(z)\n",
    "    gradient = -train_x.T @ (train_y - preds) / len(train_y)\n",
    "    return gradient   # Shape: (10, 1) == Rows correspond to num_features\n",
    "    ## This function is used to update the values of betas: w_new = w_old + lr * gradient\n",
    "\n",
    "def cost(x, y, theta):\n",
    "    m = x.shape[0]\n",
    "    h = sigmoid(np.matmul(x, theta))   # h: hypothesis, basically preds/y_hat\n",
    "    t1 = np.matmul(-y.T, np.log(np.clip(h, 0.000000000000001, np.max(h))))\n",
    "    t2_a = (1 - y.T)\n",
    "    t2_b = np.log(np.clip(1 - h, 0.000000000000001, np.max(1 - h)))  # Used to get numerical issues\n",
    "    ## np.clip() function prevents computing the log of 0, by taking the minimum of 1e-15.\n",
    "    t2 = np.matmul(t2_a, t2_b)\n",
    "\n",
    "    return ((t1 - t2) / m)[0]   # Shape: (1,) == scalar value\n",
    "\n",
    "def nesterov(betas, epochs, patience, lr, mu, train_x, train_y):\n",
    "    import copy\n",
    "\n",
    "    phi = copy.deepcopy(betas)\n",
    "    theta = copy.deepcopy(betas)\n",
    "\n",
    "    check_early = 0\n",
    "    best_loss = float('inf')\n",
    "    best_epochs_list = []\n",
    "\n",
    "    nesterov_loss = [0 for _ in range(epochs)]\n",
    "    for i in tqdm.trange(epochs):\n",
    "    # for i in range(epochs):\n",
    "        gradient = calculate_gradient(train_x, train_y, theta, fwd, dbg=False)\n",
    "\n",
    "        ## Assign updated weights into phi_prime\n",
    "        phi_prime = theta - lr * np.squeeze(gradient)   # np.squeeze() removes single dimensions --> shape (10,)\n",
    "        \n",
    "        ## Nesterov acceleration process\n",
    "        if i == 0:\n",
    "            theta = phi_prime\n",
    "        else:\n",
    "            ## If current updated weight (phi_prime) < previous weight (phi), \n",
    "            ## The updated weight theta will be even smaller.\n",
    "            theta = phi_prime + mu * (phi_prime - phi)\n",
    "        phi = phi_prime   # phi is then the weight of the previous epoch/update\n",
    "        loss = cost(train_x, train_y, theta)\n",
    "\n",
    "        ## Early stopping\n",
    "        if patience > 0:\n",
    "            if loss < best_loss:\n",
    "                best_loss = loss\n",
    "                best_epoch = i\n",
    "                best_theta = theta\n",
    "                best_epochs_list.append(best_epoch)\n",
    "                check_early = 0\n",
    "            else:\n",
    "                check_early += 1\n",
    "                if check_early >= patience:\n",
    "                    print(f\"Early stopping at {patience} epochs after {best_epoch} with best loss {best_loss}\")\n",
    "                    return nesterov_loss[:best_epoch + 1], best_theta, phi, best_epochs_list\n",
    "        else:\n",
    "            best_epoch = epochs - 1\n",
    "            best_theta = theta\n",
    "\n",
    "        ## Update list\n",
    "        nesterov_loss[i] = loss\n",
    "\n",
    "        # print(f\"New loss: {cost(train_x, train_y, v)[0]}\")\n",
    "    return nesterov_loss[:best_epoch + 1], best_theta, phi, best_epochs_list\n"
   ]
  },
  {
   "cell_type": "code",
   "execution_count": 92,
   "id": "682bb6fb-95bc-4d2d-b8f6-2cff40112de7",
   "metadata": {},
   "outputs": [],
   "source": [
    "# Ensure inputs are of the correct type\n",
    "betas = np.array(betas, dtype=np.float64)\n",
    "X_train = np.array(X_train, dtype=np.float64)\n",
    "y_train = np.array(y_train, dtype=np.float64)\n",
    "X_test = np.array(X_test, dtype=np.float64)\n",
    "y_test = np.array(y_test, dtype=np.float64)\n",
    "lr = float(lr)\n",
    "mu = float(mu)"
   ]
  },
  {
   "cell_type": "code",
   "execution_count": 93,
   "id": "c0271d02-84d7-47cf-bc92-7a3c41b22631",
   "metadata": {},
   "outputs": [
    {
     "name": "stderr",
     "output_type": "stream",
     "text": [
      "100%|██████████| 800/800 [00:02<00:00, 288.13it/s]\n"
     ]
    }
   ],
   "source": [
    "losses, theta, phi, best_epochs_list = nesterov(betas, 800, -1, lr, mu, X_train, y_train)"
   ]
  },
  {
   "cell_type": "code",
   "execution_count": 94,
   "id": "eb5e2d30-f268-4348-9bb0-10182cf18bdf",
   "metadata": {
    "scrolled": true
   },
   "outputs": [
    {
     "name": "stdout",
     "output_type": "stream",
     "text": [
      "0: 0.693003682604868\n",
      "1: 0.6927890738578446\n",
      "2: 0.692539657072174\n",
      "3: 0.6922735958810877\n",
      "4: 0.6919999660780027\n",
      "5: 0.6917232979658036\n",
      "6: 0.6914458502201825\n",
      "7: 0.6911687467462324\n",
      "8: 0.6908925447138424\n",
      "9: 0.6906175182900889\n",
      "10: 0.6903438003406072\n",
      "11: 0.690071453192347\n",
      "12: 0.6898005039696082\n",
      "13: 0.6895309622390359\n",
      "14: 0.6892628288205002\n",
      "15: 0.6889961001866802\n",
      "16: 0.6887307706598937\n",
      "17: 0.6884668335089974\n",
      "18: 0.6882042814970458\n",
      "19: 0.6879431071546931\n",
      "20: 0.6876833029166447\n",
      "21: 0.6874248611897253\n",
      "22: 0.6871677743867979\n",
      "23: 0.6869120349436328\n",
      "24: 0.6866576353272601\n",
      "25: 0.686404568040071\n",
      "26: 0.6861528256217955\n",
      "27: 0.6859024006504187\n",
      "28: 0.6856532857425672\n",
      "29: 0.6854054735536306\n",
      "30: 0.685158956777751\n",
      "31: 0.6849137281477451\n",
      "32: 0.6846697804349935\n",
      "33: 0.6844271064493125\n",
      "34: 0.6841856990388175\n",
      "35: 0.6839455510897812\n",
      "36: 0.683706655526491\n",
      "37: 0.6834690053111021\n",
      "38: 0.6832325934434923\n",
      "39: 0.6829974129611145\n",
      "40: 0.6827634569388492\n",
      "41: 0.6825307184888574\n",
      "42: 0.6822991907604306\n",
      "43: 0.6820688669398435\n",
      "44: 0.6818397402502044\n",
      "45: 0.681611803951306\n",
      "46: 0.6813850513394755\n",
      "47: 0.6811594757474245\n",
      "48: 0.6809350705440996\n",
      "49: 0.6807118291345313\n",
      "50: 0.6804897449596835\n",
      "51: 0.6802688114963026\n",
      "52: 0.680049022256767\n",
      "53: 0.6798303707889347\n",
      "54: 0.6796128506759938\n",
      "55: 0.6793964555363087\n",
      "56: 0.6791811790232707\n",
      "57: 0.6789670148251449\n",
      "58: 0.6787539566649187\n",
      "59: 0.6785419983001502\n",
      "60: 0.6783311335228163\n",
      "61: 0.67812135615916\n",
      "62: 0.6779126600695392\n",
      "63: 0.6777050391482743\n",
      "64: 0.6774984873234965\n",
      "65: 0.6772929985569947\n",
      "66: 0.677088566844065\n",
      "67: 0.6768851862133577\n",
      "68: 0.6766828507267257\n",
      "69: 0.6764815544790728\n",
      "70: 0.6762812915982013\n",
      "71: 0.6760820562446612\n",
      "72: 0.6758838426115976\n",
      "73: 0.6756866449246001\n",
      "74: 0.6754904574415512\n",
      "75: 0.6752952744524742\n",
      "76: 0.6751010902793833\n",
      "77: 0.6749078992761318\n",
      "78: 0.6747156958282621\n",
      "79: 0.674524474352854\n",
      "80: 0.6743342292983754\n",
      "81: 0.6741449551445312\n",
      "82: 0.6739566464021138\n",
      "83: 0.6737692976128531\n",
      "84: 0.6735829033492664\n",
      "85: 0.6733974582145105\n",
      "86: 0.6732129568422306\n",
      "87: 0.673029393896413\n",
      "88: 0.6728467640712356\n",
      "89: 0.6726650620909203\n",
      "90: 0.6724842827095835\n",
      "91: 0.6723044207110905\n",
      "92: 0.6721254709089061\n",
      "93: 0.6719474281459479\n",
      "94: 0.6717702872944401\n",
      "95: 0.6715940432557659\n",
      "96: 0.6714186909603219\n",
      "97: 0.6712442253673723\n",
      "98: 0.6710706414649023\n",
      "99: 0.6708979342694743\n",
      "100: 0.6707260988260816\n",
      "101: 0.6705551302080046\n",
      "102: 0.6703850235166666\n",
      "103: 0.6702157738814898\n",
      "104: 0.6700473764597518\n",
      "105: 0.6698798264364422\n",
      "106: 0.6697131190241212\n",
      "107: 0.6695472494627757\n",
      "108: 0.6693822130196778\n",
      "109: 0.6692180049892443\n",
      "110: 0.6690546206928947\n",
      "111: 0.6688920554789102\n",
      "112: 0.6687303047222941\n",
      "113: 0.668569363824632\n",
      "114: 0.6684092282139514\n",
      "115: 0.6682498933445844\n",
      "116: 0.6680913546970273\n",
      "117: 0.6679336077778032\n",
      "118: 0.6677766481193251\n",
      "119: 0.6676204712797573\n",
      "120: 0.6674650728428793\n",
      "121: 0.6673104484179495\n",
      "122: 0.6671565936395693\n",
      "123: 0.6670035041675473\n",
      "124: 0.666851175686765\n",
      "125: 0.6666996039070411\n",
      "126: 0.6665487845629994\n",
      "127: 0.6663987134139331\n",
      "128: 0.6662493862436729\n",
      "129: 0.6661007988604553\n",
      "130: 0.6659529470967877\n",
      "131: 0.6658058268093194\n",
      "132: 0.6656594338787101\n",
      "133: 0.6655137642094975\n",
      "134: 0.6653688137299688\n",
      "135: 0.6652245783920309\n",
      "136: 0.66508105417108\n",
      "137: 0.6649382370658746\n",
      "138: 0.6647961230984063\n",
      "139: 0.6646547083137717\n",
      "140: 0.6645139887800465\n",
      "141: 0.6643739605881583\n",
      "142: 0.6642346198517596\n",
      "143: 0.6640959627071032\n",
      "144: 0.6639579853129169\n",
      "145: 0.6638206838502788\n",
      "146: 0.6636840545224926\n",
      "147: 0.6635480935549647\n",
      "148: 0.6634127971950807\n",
      "149: 0.6632781617120836\n",
      "150: 0.6631441833969507\n",
      "151: 0.6630108585622723\n",
      "152: 0.6628781835421319\n",
      "153: 0.6627461546919832\n",
      "154: 0.6626147683885332\n",
      "155: 0.6624840210296202\n",
      "156: 0.6623539090340964\n",
      "157: 0.6622244288417087\n",
      "158: 0.6620955769129812\n",
      "159: 0.6619673497290977\n",
      "160: 0.661839743791785\n",
      "161: 0.6617127556231966\n",
      "162: 0.6615863817657965\n",
      "163: 0.6614606187822443\n",
      "164: 0.6613354632552808\n",
      "165: 0.6612109117876134\n",
      "166: 0.6610869610018016\n",
      "167: 0.6609636075401462\n",
      "168: 0.6608408480645737\n",
      "169: 0.6607186792565265\n",
      "170: 0.6605970978168505\n",
      "171: 0.6604761004656835\n",
      "172: 0.6603556839423459\n",
      "173: 0.6602358450052292\n",
      "174: 0.6601165804316882\n",
      "175: 0.6599978870179305\n",
      "176: 0.659879761578909\n",
      "177: 0.659762200948214\n",
      "178: 0.6596452019779651\n",
      "179: 0.659528761538705\n",
      "180: 0.6594128765192929\n",
      "181: 0.659297543826799\n",
      "182: 0.6591827603863982\n",
      "183: 0.6590685231412671\n",
      "184: 0.6589548290524778\n",
      "185: 0.6588416750988954\n",
      "186: 0.6587290582770741\n",
      "187: 0.6586169756011553\n",
      "188: 0.6585054241027648\n",
      "189: 0.6583944008309108\n",
      "190: 0.6582839028518834\n",
      "191: 0.6581739272491539\n",
      "192: 0.6580644711232742\n",
      "193: 0.6579555315917771\n",
      "194: 0.6578471057890782\n",
      "195: 0.6577391908663761\n",
      "196: 0.6576317839915549\n",
      "197: 0.6575248823490863\n",
      "198: 0.6574184831399329\n",
      "199: 0.6573125835814511\n",
      "200: 0.6572071809072956\n",
      "201: 0.6571022723673229\n",
      "202: 0.6569978552274975\n",
      "203: 0.6568939267697963\n",
      "204: 0.6567904842921145\n",
      "205: 0.6566875251081726\n",
      "206: 0.656585046547423\n",
      "207: 0.6564830459549572\n",
      "208: 0.6563815206914141\n",
      "209: 0.6562804681328878\n",
      "210: 0.6561798856708371\n",
      "211: 0.6560797707119941\n",
      "212: 0.6559801206782754\n",
      "213: 0.6558809330066903\n",
      "214: 0.6557822051492533\n",
      "215: 0.6556839345728953\n",
      "216: 0.6555861187593739\n",
      "217: 0.6554887552051878\n",
      "218: 0.6553918414214874\n",
      "219: 0.6552953749339899\n",
      "220: 0.655199353282891\n",
      "221: 0.6551037740227807\n",
      "222: 0.6550086347225574\n",
      "223: 0.6549139329653424\n",
      "224: 0.6548196663483961\n",
      "225: 0.6547258324830338\n",
      "226: 0.6546324289945422\n",
      "227: 0.6545394535220963\n",
      "228: 0.6544469037186766\n",
      "229: 0.6543547772509875\n",
      "230: 0.6542630717993747\n",
      "231: 0.6541717850577453\n",
      "232: 0.6540809147334858\n",
      "233: 0.6539904585473818\n",
      "234: 0.6539004142335393\n",
      "235: 0.6538107795393039\n",
      "236: 0.6537215522251827\n",
      "237: 0.6536327300647656\n",
      "238: 0.6535443108446465\n",
      "239: 0.6534562923643468\n",
      "240: 0.6533686724362371\n",
      "241: 0.6532814488854614\n",
      "242: 0.6531946195498597\n",
      "243: 0.6531081822798931\n",
      "244: 0.6530221349385675\n",
      "245: 0.6529364754013591\n",
      "246: 0.6528512015561397\n",
      "247: 0.652766311303102\n",
      "248: 0.6526818025546867\n",
      "249: 0.6525976732355079\n",
      "250: 0.6525139212822817\n",
      "251: 0.6524305446437527\n",
      "252: 0.6523475412806219\n",
      "253: 0.6522649091654755\n",
      "254: 0.6521826462827132\n",
      "255: 0.6521007506284776\n",
      "256: 0.6520192202105836\n",
      "257: 0.6519380530484487\n",
      "258: 0.651857247173023\n",
      "259: 0.6517768006267194\n",
      "260: 0.6516967114633468\n",
      "261: 0.6516169777480395\n",
      "262: 0.6515375975571902\n",
      "263: 0.6514585689783817\n",
      "264: 0.6513798901103209\n",
      "265: 0.651301559062771\n",
      "266: 0.6512235739564851\n",
      "267: 0.6511459329231403\n",
      "268: 0.6510686341052723\n",
      "269: 0.6509916756562093\n",
      "270: 0.6509150557400082\n",
      "271: 0.6508387725313893\n",
      "272: 0.6507628242156723\n",
      "273: 0.6506872089887127\n",
      "274: 0.6506119250568383\n",
      "275: 0.6505369706367857\n",
      "276: 0.6504623439556392\n",
      "277: 0.6503880432507668\n",
      "278: 0.6503140667697588\n",
      "279: 0.6502404127703668\n",
      "280: 0.650167079520442\n",
      "281: 0.6500940652978746\n",
      "282: 0.6500213683905335\n",
      "283: 0.6499489870962054\n",
      "284: 0.6498769197225365\n",
      "285: 0.6498051645869718\n",
      "286: 0.6497337200166965\n",
      "287: 0.6496625843485778\n",
      "288: 0.6495917559291058\n",
      "289: 0.6495212331143362\n",
      "290: 0.6494510142698324\n",
      "291: 0.6493810977706078\n",
      "292: 0.6493114820010698\n",
      "293: 0.6492421653549623\n",
      "294: 0.6491731462353101\n",
      "295: 0.6491044230543624\n",
      "296: 0.6490359942335377\n",
      "297: 0.6489678582033687\n",
      "298: 0.6489000134034462\n",
      "299: 0.648832458282366\n",
      "300: 0.648765191297674\n",
      "301: 0.6486982109158118\n",
      "302: 0.6486315156120641\n",
      "303: 0.6485651038705045\n",
      "304: 0.6484989741839432\n",
      "305: 0.6484331250538736\n",
      "306: 0.6483675549904212\n",
      "307: 0.6483022625122898\n",
      "308: 0.648237246146712\n",
      "309: 0.6481725044293957\n",
      "310: 0.6481080359044745\n",
      "311: 0.6480438391244562\n",
      "312: 0.6479799126501729\n",
      "313: 0.6479162550507301\n",
      "314: 0.6478528649034575\n",
      "315: 0.6477897407938592\n",
      "316: 0.6477268813155647\n",
      "317: 0.6476642850702794\n",
      "318: 0.6476019506677367\n",
      "319: 0.647539876725649\n",
      "320: 0.64747806186966\n",
      "321: 0.6474165047332969\n",
      "322: 0.6473552039579229\n",
      "323: 0.6472941581926901\n",
      "324: 0.6472333660944923\n",
      "325: 0.6471728263279191\n",
      "326: 0.647112537565208\n",
      "327: 0.6470524984862009\n",
      "328: 0.646992707778296\n",
      "329: 0.6469331641364034\n",
      "330: 0.6468738662628998\n",
      "331: 0.6468148128675835\n",
      "332: 0.6467560026676293\n",
      "333: 0.6466974343875457\n",
      "334: 0.6466391067591284\n",
      "335: 0.6465810185214185\n",
      "336: 0.6465231684206579\n",
      "337: 0.6464655552102465\n",
      "338: 0.6464081776506987\n",
      "339: 0.6463510345096006\n",
      "340: 0.6462941245615688\n",
      "341: 0.6462374465882057\n",
      "342: 0.6461809993780602\n",
      "343: 0.6461247817265838\n",
      "344: 0.6460687924360904\n",
      "345: 0.646013030315715\n",
      "346: 0.6459574941813716\n",
      "347: 0.6459021828557143\n",
      "348: 0.6458470951680954\n",
      "349: 0.6457922299545251\n",
      "350: 0.6457375860576333\n",
      "351: 0.6456831623266275\n",
      "352: 0.6456289576172553\n",
      "353: 0.6455749707917637\n",
      "354: 0.6455212007188614\n",
      "355: 0.6454676462736788\n",
      "356: 0.6454143063377306\n",
      "357: 0.6453611797988764\n",
      "358: 0.6453082655512841\n",
      "359: 0.6452555624953904\n",
      "360: 0.6452030695378645\n",
      "361: 0.6451507855915708\n",
      "362: 0.6450987095755303\n",
      "363: 0.6450468404148856\n",
      "364: 0.644995177040863\n",
      "365: 0.6449437183907365\n",
      "366: 0.6448924634077915\n",
      "367: 0.6448414110412893\n",
      "368: 0.6447905602464307\n",
      "369: 0.6447399099843201\n",
      "370: 0.6446894592219317\n",
      "371: 0.6446392069320728\n",
      "372: 0.6445891520933498\n",
      "373: 0.6445392936901333\n",
      "374: 0.6444896307125237\n",
      "375: 0.6444401621563167\n",
      "376: 0.6443908870229696\n",
      "377: 0.6443418043195677\n",
      "378: 0.6442929130587894\n",
      "379: 0.644244212258875\n",
      "380: 0.6441957009435914\n",
      "381: 0.6441473781421998\n",
      "382: 0.6440992428894237\n",
      "383: 0.6440512942254152\n",
      "384: 0.6440035311957233\n",
      "385: 0.6439559528512616\n",
      "386: 0.643908558248276\n",
      "387: 0.643861346448313\n",
      "388: 0.6438143165181888\n",
      "389: 0.6437674675299567\n",
      "390: 0.643720798560877\n",
      "391: 0.6436743086933855\n",
      "392: 0.6436279970150622\n",
      "393: 0.6435818626186018\n",
      "394: 0.6435359046017826\n",
      "395: 0.6434901220674358\n",
      "396: 0.6434445141234164\n",
      "397: 0.6433990798825728\n",
      "398: 0.6433538184627172\n",
      "399: 0.6433087289865956\n",
      "400: 0.6432638105818599\n",
      "401: 0.6432190623810368\n",
      "402: 0.6431744835215004\n",
      "403: 0.6431300731454428\n",
      "404: 0.6430858303998453\n",
      "405: 0.6430417544364506\n",
      "406: 0.6429978444117336\n",
      "407: 0.6429540994868747\n",
      "408: 0.6429105188277302\n",
      "409: 0.642867101604806\n",
      "410: 0.6428238469932295\n",
      "411: 0.6427807541727218\n",
      "412: 0.6427378223275713\n",
      "413: 0.6426950506466059\n",
      "414: 0.6426524383231664\n",
      "415: 0.6426099845550807\n",
      "416: 0.6425676885446349\n",
      "417: 0.6425255494985493\n",
      "418: 0.6424835666279514\n",
      "419: 0.6424417391483489\n",
      "420: 0.6424000662796054\n",
      "421: 0.6423585472459132\n",
      "422: 0.6423171812757689\n",
      "423: 0.6422759676019466\n",
      "424: 0.6422349054614745\n",
      "425: 0.6421939940956082\n",
      "426: 0.6421532327498058\n",
      "427: 0.6421126206737047\n",
      "428: 0.6420721571210948\n",
      "429: 0.6420318413498955\n",
      "430: 0.6419916726221309\n",
      "431: 0.6419516502039055\n",
      "432: 0.6419117733653802\n",
      "433: 0.6418720413807485\n",
      "434: 0.6418324535282127\n",
      "435: 0.6417930090899602\n",
      "436: 0.64175370735214\n",
      "437: 0.6417145476048399\n",
      "438: 0.6416755291420629\n",
      "439: 0.6416366512617036\n",
      "440: 0.6415979132655265\n",
      "441: 0.6415593144591427\n",
      "442: 0.641520854151987\n",
      "443: 0.6414825316572957\n",
      "444: 0.6414443462920847\n",
      "445: 0.6414062973771262\n",
      "446: 0.6413683842369282\n",
      "447: 0.6413306061997112\n",
      "448: 0.6412929625973868\n",
      "449: 0.6412554527655365\n",
      "450: 0.64121807604339\n",
      "451: 0.6411808317738034\n",
      "452: 0.6411437193032385\n",
      "453: 0.6411067379817414\n",
      "454: 0.6410698871629216\n",
      "455: 0.6410331662039306\n",
      "456: 0.6409965744654424\n",
      "457: 0.6409601113116318\n",
      "458: 0.6409237761101544\n",
      "459: 0.6408875682321259\n",
      "460: 0.6408514870521022\n",
      "461: 0.6408155319480594\n",
      "462: 0.6407797023013737\n",
      "463: 0.6407439974968013\n",
      "464: 0.6407084169224587\n",
      "465: 0.6406729599698036\n",
      "466: 0.6406376260336145\n",
      "467: 0.6406024145119725\n",
      "468: 0.6405673248062413\n",
      "469: 0.6405323563210474\n",
      "470: 0.6404975084642636\n",
      "471: 0.6404627806469863\n",
      "472: 0.6404281722835204\n",
      "473: 0.6403936827913583\n",
      "474: 0.6403593115911622\n",
      "475: 0.6403250581067457\n",
      "476: 0.6402909217650548\n",
      "477: 0.6402569019961508\n",
      "478: 0.6402229982331913\n",
      "479: 0.6401892099124129\n",
      "480: 0.640155536473112\n",
      "481: 0.640121977357629\n",
      "482: 0.6400885320113288\n",
      "483: 0.6400551998825845\n",
      "484: 0.6400219804227596\n",
      "485: 0.6399888730861899\n",
      "486: 0.6399558773301675\n",
      "487: 0.6399229926149228\n",
      "488: 0.6398902184036077\n",
      "489: 0.6398575541622795\n",
      "490: 0.6398249993598821\n",
      "491: 0.6397925534682314\n",
      "492: 0.6397602159619974\n",
      "493: 0.6397279863186883\n",
      "494: 0.6396958640186339\n",
      "495: 0.639663848544969\n",
      "496: 0.6396319393836177\n",
      "497: 0.639600136023277\n",
      "498: 0.639568437955401\n",
      "499: 0.6395368446741845\n",
      "500: 0.6395053556765478\n",
      "501: 0.6394739704621203\n",
      "502: 0.639442688533226\n",
      "503: 0.6394115093948665\n",
      "504: 0.6393804325547066\n",
      "505: 0.6393494575230586\n",
      "506: 0.6393185838128672\n",
      "507: 0.6392878109396944\n",
      "508: 0.6392571384217042\n",
      "509: 0.6392265657796472\n",
      "510: 0.6391960925368471\n",
      "511: 0.6391657182191846\n",
      "512: 0.6391354423550831\n",
      "513: 0.6391052644754944\n",
      "514: 0.639075184113884\n",
      "515: 0.639045200806216\n",
      "516: 0.6390153140909403\n",
      "517: 0.6389855235089764\n",
      "518: 0.6389558286037011\n",
      "519: 0.638926228920933\n",
      "520: 0.6388967240089193\n",
      "521: 0.6388673134183214\n",
      "522: 0.6388379967022015\n",
      "523: 0.6388087734160085\n",
      "524: 0.638779643117565\n",
      "525: 0.6387506053670523\n",
      "526: 0.6387216597269986\n",
      "527: 0.6386928057622644\n",
      "528: 0.6386640430400297\n",
      "529: 0.6386353711297807\n",
      "530: 0.6386067896032963\n",
      "531: 0.6385782980346356\n",
      "532: 0.6385498960001241\n",
      "533: 0.6385215830783415\n",
      "534: 0.6384933588501085\n",
      "535: 0.638465222898474\n",
      "536: 0.6384371748087024\n",
      "537: 0.638409214168261\n",
      "538: 0.638381340566808\n",
      "539: 0.6383535535961784\n",
      "540: 0.6383258528503739\n",
      "541: 0.6382982379255489\n",
      "542: 0.6382707084199986\n",
      "543: 0.6382432639341469\n",
      "544: 0.6382159040705346\n",
      "545: 0.6381886284338074\n",
      "546: 0.6381614366307029\n",
      "547: 0.6381343282700399\n",
      "548: 0.6381073029627067\n",
      "549: 0.6380803603216478\n",
      "550: 0.6380534999618542\n",
      "551: 0.6380267215003501\n",
      "552: 0.6380000245561829\n",
      "553: 0.6379734087504101\n",
      "554: 0.6379468737060895\n",
      "555: 0.637920419048267\n",
      "556: 0.6378940444039652\n",
      "557: 0.6378677494021726\n",
      "558: 0.6378415336738329\n",
      "559: 0.6378153968518323\n",
      "560: 0.6377893385709913\n",
      "561: 0.6377633584680504\n",
      "562: 0.637737456181662\n",
      "563: 0.6377116313523784\n",
      "564: 0.637685883622641\n",
      "565: 0.6376602126367702\n",
      "566: 0.6376346180409542\n",
      "567: 0.637609099483239\n",
      "568: 0.6375836566135175\n",
      "569: 0.6375582890835194\n",
      "570: 0.6375329965468004\n",
      "571: 0.6375077786587326\n",
      "572: 0.6374826350764939\n",
      "573: 0.6374575654590575\n",
      "574: 0.6374325694671825\n",
      "575: 0.6374076467634036\n",
      "576: 0.6373827970120203\n",
      "577: 0.6373580198790886\n",
      "578: 0.6373333150324096\n",
      "579: 0.6373086821415208\n",
      "580: 0.6372841208776854\n",
      "581: 0.6372596309138835\n",
      "582: 0.6372352119248018\n",
      "583: 0.6372108635868245\n",
      "584: 0.6371865855780234\n",
      "585: 0.637162377578149\n",
      "586: 0.6371382392686199\n",
      "587: 0.6371141703325153\n",
      "588: 0.6370901704545637\n",
      "589: 0.6370662393211357\n",
      "590: 0.6370423766202328\n",
      "591: 0.6370185820414797\n",
      "592: 0.6369948552761149\n",
      "593: 0.636971196016981\n",
      "594: 0.6369476039585169\n",
      "595: 0.6369240787967481\n",
      "596: 0.6369006202292776\n",
      "597: 0.636877227955278\n",
      "598: 0.6368539016754822\n",
      "599: 0.6368306410921745\n",
      "600: 0.6368074459091824\n",
      "601: 0.6367843158318676\n",
      "602: 0.6367612505671179\n",
      "603: 0.6367382498233384\n",
      "604: 0.6367153133104433\n",
      "605: 0.6366924407398465\n",
      "606: 0.6366696318244552\n",
      "607: 0.6366468862786597\n",
      "608: 0.6366242038183261\n",
      "609: 0.6366015841607884\n",
      "610: 0.6365790270248386\n",
      "611: 0.6365565321307215\n",
      "612: 0.6365340992001237\n",
      "613: 0.6365117279561678\n",
      "614: 0.6364894181234028\n",
      "615: 0.6364671694277975\n",
      "616: 0.6364449815967316\n",
      "617: 0.6364228543589887\n",
      "618: 0.636400787444748\n",
      "619: 0.636378780585577\n",
      "620: 0.6363568335144228\n",
      "621: 0.6363349459656059\n",
      "622: 0.6363131176748119\n",
      "623: 0.6362913483790836\n",
      "624: 0.6362696378168141\n",
      "625: 0.636247985727739\n",
      "626: 0.6362263918529293\n",
      "627: 0.6362048559347836\n",
      "628: 0.6361833777170208\n",
      "629: 0.6361619569446734\n",
      "630: 0.6361405933640796\n",
      "631: 0.6361192867228763\n",
      "632: 0.6360980367699924\n",
      "633: 0.6360768432556408\n",
      "634: 0.6360557059313121\n",
      "635: 0.6360346245497668\n",
      "636: 0.6360135988650295\n",
      "637: 0.6359926286323807\n",
      "638: 0.6359717136083503\n",
      "639: 0.6359508535507111\n",
      "640: 0.6359300482184721\n",
      "641: 0.6359092973718704\n",
      "642: 0.6358886007723658\n",
      "643: 0.6358679581826339\n",
      "644: 0.635847369366559\n",
      "645: 0.6358268340892275\n",
      "646: 0.6358063521169215\n",
      "647: 0.6357859232171121\n",
      "648: 0.6357655471584536\n",
      "649: 0.6357452237107754\n",
      "650: 0.6357249526450773\n",
      "651: 0.635704733733522\n",
      "652: 0.6356845667494293\n",
      "653: 0.6356644514672691\n",
      "654: 0.6356443876626563\n",
      "655: 0.6356243751123432\n",
      "656: 0.6356044135942138\n",
      "657: 0.6355845028872783\n",
      "658: 0.6355646427716659\n",
      "659: 0.635544833028619\n",
      "660: 0.6355250734404876\n",
      "661: 0.6355053637907228\n",
      "662: 0.6354857038638707\n",
      "663: 0.6354660934455669\n",
      "664: 0.6354465323225303\n",
      "665: 0.635427020282557\n",
      "666: 0.6354075571145146\n",
      "667: 0.6353881426083366\n",
      "668: 0.6353687765550162\n",
      "669: 0.6353494587466008\n",
      "670: 0.6353301889761862\n",
      "671: 0.6353109670379108\n",
      "672: 0.63529179272695\n",
      "673: 0.6352726658395108\n",
      "674: 0.6352535861728256\n",
      "675: 0.6352345535251473\n",
      "676: 0.6352155676957435\n",
      "677: 0.6351966284848908\n",
      "678: 0.6351777356938695\n",
      "679: 0.6351588891249581\n",
      "680: 0.635140088581428\n",
      "681: 0.6351213338675381\n",
      "682: 0.6351026247885292\n",
      "683: 0.6350839611506194\n",
      "684: 0.6350653427609975\n",
      "685: 0.6350467694278192\n",
      "686: 0.6350282409602009\n",
      "687: 0.635009757168215\n",
      "688: 0.6349913178628843\n",
      "689: 0.6349729228561772\n",
      "690: 0.6349545719610028\n",
      "691: 0.634936264991205\n",
      "692: 0.6349180017615584\n",
      "693: 0.6348997820877625\n",
      "694: 0.6348816057864375\n",
      "695: 0.6348634726751184\n",
      "696: 0.6348453825722511\n",
      "697: 0.6348273352971863\n",
      "698: 0.634809330670176\n",
      "699: 0.6347913685123674\n",
      "700: 0.6347734486457987\n",
      "701: 0.6347555708933945\n",
      "702: 0.6347377350789604\n",
      "703: 0.6347199410271785\n",
      "704: 0.6347021885636036\n",
      "705: 0.6346844775146566\n",
      "706: 0.6346668077076216\n",
      "707: 0.6346491789706409\n",
      "708: 0.6346315911327093\n",
      "709: 0.6346140440236707\n",
      "710: 0.6345965374742133\n",
      "711: 0.6345790713158649\n",
      "712: 0.6345616453809882\n",
      "713: 0.634544259502777\n",
      "714: 0.6345269135152508\n",
      "715: 0.6345096072532515\n",
      "716: 0.6344923405524378\n",
      "717: 0.6344751132492815\n",
      "718: 0.6344579251810636\n",
      "719: 0.6344407761858689\n",
      "720: 0.6344236661025824\n",
      "721: 0.6344065947708849\n",
      "722: 0.6343895620312485\n",
      "723: 0.6343725677249332\n",
      "724: 0.6343556116939812\n",
      "725: 0.6343386937812141\n",
      "726: 0.6343218138302286\n",
      "727: 0.634304971685391\n",
      "728: 0.634288167191835\n",
      "729: 0.6342714001954565\n",
      "730: 0.6342546705429094\n",
      "731: 0.6342379780816023\n",
      "732: 0.6342213226596939\n",
      "733: 0.6342047041260892\n",
      "734: 0.6341881223304358\n",
      "735: 0.6341715771231193\n",
      "736: 0.6341550683552599\n",
      "737: 0.6341385958787084\n",
      "738: 0.6341221595460422\n",
      "739: 0.6341057592105617\n",
      "740: 0.6340893947262859\n",
      "741: 0.6340730659479491\n",
      "742: 0.634056772730997\n",
      "743: 0.6340405149315832\n",
      "744: 0.6340242924065644\n",
      "745: 0.6340081050134981\n",
      "746: 0.6339919526106377\n",
      "747: 0.6339758350569293\n",
      "748: 0.6339597522120083\n",
      "749: 0.6339437039361957\n",
      "750: 0.6339276900904935\n",
      "751: 0.6339117105365825\n",
      "752: 0.6338957651368176\n",
      "753: 0.6338798537542251\n",
      "754: 0.6338639762524982\n",
      "755: 0.6338481324959947\n",
      "756: 0.6338323223497323\n",
      "757: 0.6338165456793858\n",
      "758: 0.6338008023512833\n",
      "759: 0.6337850922324033\n",
      "760: 0.6337694151903702\n",
      "761: 0.6337537710934522\n",
      "762: 0.6337381598105568\n",
      "763: 0.6337225812112284\n",
      "764: 0.6337070351656442\n",
      "765: 0.6336915215446108\n",
      "766: 0.6336760402195615\n",
      "767: 0.6336605910625527\n",
      "768: 0.6336451739462609\n",
      "769: 0.6336297887439784\n",
      "770: 0.6336144353296115\n",
      "771: 0.6335991135776762\n",
      "772: 0.6335838233632961\n",
      "773: 0.6335685645621973\n",
      "774: 0.6335533370507075\n",
      "775: 0.6335381407057512\n",
      "776: 0.6335229754048475\n",
      "777: 0.6335078410261062\n",
      "778: 0.6334927374482257\n",
      "779: 0.6334776645504885\n",
      "780: 0.63346262221276\n",
      "781: 0.6334476103154838\n",
      "782: 0.6334326287396792\n",
      "783: 0.6334176773669388\n",
      "784: 0.6334027560794246\n",
      "785: 0.6333878647598654\n",
      "786: 0.6333730032915541\n",
      "787: 0.6333581715583445\n",
      "788: 0.6333433694446478\n",
      "789: 0.6333285968354307\n",
      "790: 0.6333138536162124\n",
      "791: 0.6332991396730605\n",
      "792: 0.6332844548925898\n",
      "793: 0.6332697991619578\n",
      "794: 0.633255172368864\n",
      "795: 0.6332405744015442\n",
      "796: 0.6332260051487708\n",
      "797: 0.6332114644998472\n",
      "798: 0.633196952344607\n",
      "799: 0.6331824685734109\n"
     ]
    }
   ],
   "source": [
    "for j in range(len(losses)):\n",
    "    print(f\"{j}: {losses[j]}\", end='\\n')\n",
    "# Ideal Gradient (800 epochs) #\n",
    "## seed(42), lr = 0.001, mu = 0.3 --> loss = 0.5433165928958901\n",
    "## seed(42), lr = 0.001, mu = 0.5 --> loss = 0.5139704562064134\n",
    "\n",
    "# Oscillating Gradient (800 epochs) #\n",
    "## seed(42), lr = 0.003, mu = 0.5 --> loss = 0.49509424569059735\n",
    "## seed(42), lr = 0.003, mu = 0.6 --> loss = 0.4102733269497619\n",
    "\n",
    "# Early stopping (patience = 50) #\n",
    "## seed(42), lr = 0.003, mu = 0.5 --> 964: 0.410228534339208\n",
    "## seed(42), lr = 0.003, mu = 0.6 --> 422: 0.46334269494781627\n",
    "\n",
    "# Ideal Gradient (800 epochs) with Feature Engineering #\n",
    "## seed(42), lr = 0.001, mu = 0.3 --> loss = 0.523951850559082\n",
    "## seed(42), lr = 0.001, mu = 0.5 --> loss = 0.4922252143522289\n",
    "\n",
    "# Early stopping (patience = 50) with Feature Engineering #\n",
    "## seed(42), lr = 0.003, mu = 0.5 --> 739: 0.41164361016071044\n",
    "## seed(42), lr = 0.003, mu = 0.6 --> 314: 0.4688941580652026"
   ]
  },
  {
   "cell_type": "code",
   "execution_count": 95,
   "id": "476c796f-207e-442b-ad72-e9716763c7bb",
   "metadata": {
    "scrolled": true
   },
   "outputs": [],
   "source": [
    "for j in range(len(best_epochs_list)):\n",
    "    print(f\"{j}: {best_epochs_list[j]}\", end='\\n')"
   ]
  },
  {
   "cell_type": "code",
   "execution_count": 96,
   "id": "cbdfe00a-3a2c-4552-81cf-276f49b0eb33",
   "metadata": {},
   "outputs": [
    {
     "data": {
      "text/plain": [
       "array([-0.24007112, -0.01535225, -0.02042874, -0.00850244, -0.10020641,\n",
       "        0.01383243,  0.00412154,  0.00176149, -0.00310306,  0.01833061,\n",
       "        0.01326636, -0.01421149, -0.01135224, -0.02777846, -0.02074188,\n",
       "       -0.00917358,  0.0174313 , -0.00543941, -0.01252769, -0.06180679,\n",
       "        0.01662555, -0.0187003 , -0.00613393, -0.00466333, -0.01164758,\n",
       "        0.00279842, -0.00797512,  0.00346959,  0.00086546, -0.00201151,\n",
       "       -0.00347156,  0.00446255])"
      ]
     },
     "execution_count": 96,
     "metadata": {},
     "output_type": "execute_result"
    }
   ],
   "source": [
    "theta"
   ]
  },
  {
   "cell_type": "markdown",
   "id": "e224970a-dd25-48f1-84b9-34b7f75b5558",
   "metadata": {},
   "source": [
    "## Model performance on training set"
   ]
  },
  {
   "cell_type": "markdown",
   "id": "299f24da-bee9-41ce-9496-a6a7d4ef66f8",
   "metadata": {},
   "source": [
    "We can test the performance of the model through its confusion matrix, F1 score, and accuracy score."
   ]
  },
  {
   "cell_type": "markdown",
   "id": "8b4dc532-cdd6-4e7d-b420-e1f932155e94",
   "metadata": {},
   "source": [
    "First, we predict on the training set."
   ]
  },
  {
   "cell_type": "code",
   "execution_count": 97,
   "id": "d1b1b0a7-3759-491d-a2be-255da74061b3",
   "metadata": {},
   "outputs": [],
   "source": [
    "## On training data\n",
    "pred = fwd(X_train, theta, dbg=False)\n",
    "\n",
    "## Decision (Threshold = 0.5)\n",
    "y_train_hat = (pred >= 0.5).astype(int)"
   ]
  },
  {
   "cell_type": "code",
   "execution_count": 98,
   "id": "daeeb20c-970f-4ad6-90b8-fdb4aaf80dfb",
   "metadata": {},
   "outputs": [
    {
     "data": {
      "text/plain": [
       "(4096, 1)"
      ]
     },
     "execution_count": 98,
     "metadata": {},
     "output_type": "execute_result"
    }
   ],
   "source": [
    "y_train_hat.shape"
   ]
  },
  {
   "cell_type": "code",
   "execution_count": 99,
   "id": "ec33b49e-a044-4fb4-83a1-014773609e85",
   "metadata": {},
   "outputs": [
    {
     "data": {
      "text/plain": [
       "(4096, 1)"
      ]
     },
     "execution_count": 99,
     "metadata": {},
     "output_type": "execute_result"
    }
   ],
   "source": [
    "y_train.shape"
   ]
  },
  {
   "cell_type": "code",
   "execution_count": 100,
   "id": "736d05c1-d3e8-4f96-b3d8-a77e0baeb242",
   "metadata": {},
   "outputs": [
    {
     "name": "stdout",
     "output_type": "stream",
     "text": [
      "[[2006 1357]\n",
      " [  69  664]]\n"
     ]
    }
   ],
   "source": [
    "print(confusion_matrix(y_train, y_train_hat))"
   ]
  },
  {
   "cell_type": "code",
   "execution_count": 101,
   "id": "0e758c39-d892-4bae-9850-e4f198cc1adc",
   "metadata": {},
   "outputs": [
    {
     "name": "stdout",
     "output_type": "stream",
     "text": [
      "0.4822076978939724\n"
     ]
    }
   ],
   "source": [
    "print(f1_score(y_train, y_train_hat))"
   ]
  },
  {
   "cell_type": "code",
   "execution_count": 102,
   "id": "39363b39-a534-4dd2-8b62-4d0584334cad",
   "metadata": {},
   "outputs": [
    {
     "name": "stdout",
     "output_type": "stream",
     "text": [
      "0.3285502226620485\n"
     ]
    }
   ],
   "source": [
    "print(precision_score(y_train, y_train_hat))"
   ]
  },
  {
   "cell_type": "code",
   "execution_count": 103,
   "id": "87bd042a-d37e-42da-a22b-30ffca437722",
   "metadata": {},
   "outputs": [
    {
     "name": "stdout",
     "output_type": "stream",
     "text": [
      "0.9058663028649386\n"
     ]
    }
   ],
   "source": [
    "print(recall_score(y_train, y_train_hat))"
   ]
  },
  {
   "cell_type": "code",
   "execution_count": 104,
   "id": "0a6baea1-60a5-48cb-8f99-099a9cf7f40d",
   "metadata": {},
   "outputs": [
    {
     "name": "stdout",
     "output_type": "stream",
     "text": [
      "0.8402854431845795\n"
     ]
    }
   ],
   "source": [
    "print(roc_auc_score(y_train, pred))"
   ]
  },
  {
   "cell_type": "code",
   "execution_count": 105,
   "id": "e550946e-d85e-4f1d-a61f-45b1023c2adb",
   "metadata": {},
   "outputs": [
    {
     "name": "stdout",
     "output_type": "stream",
     "text": [
      "0.65185546875\n"
     ]
    }
   ],
   "source": [
    "print(accuracy_score(y_train, y_train_hat))"
   ]
  },
  {
   "cell_type": "markdown",
   "id": "8a282797-cbb6-4758-98fc-0493a8806112",
   "metadata": {},
   "source": [
    "## Model performance on test set"
   ]
  },
  {
   "cell_type": "markdown",
   "id": "cb8e923c-5aa5-43a1-9368-08a1b6d89162",
   "metadata": {},
   "source": [
    "Now, we predict on the test set."
   ]
  },
  {
   "cell_type": "code",
   "execution_count": 106,
   "id": "8f7563e6-be5e-4eac-94b5-fe0403d2a8e3",
   "metadata": {},
   "outputs": [],
   "source": [
    "## On test data\n",
    "\n",
    "pred = fwd(X_test, theta, dbg=False)\n",
    "\n",
    "## Decision (Threshold = 0.5)\n",
    "y_test_hat = (pred >= 0.5).astype(int)"
   ]
  },
  {
   "cell_type": "code",
   "execution_count": 107,
   "id": "65b8cbab-e86f-422b-9e28-6c757710fa48",
   "metadata": {},
   "outputs": [
    {
     "data": {
      "text/plain": [
       "(4096, 1)"
      ]
     },
     "execution_count": 107,
     "metadata": {},
     "output_type": "execute_result"
    }
   ],
   "source": [
    "y_test_hat.shape"
   ]
  },
  {
   "cell_type": "code",
   "execution_count": 108,
   "id": "7243e085-bec0-4925-a951-6176ec93d355",
   "metadata": {},
   "outputs": [
    {
     "data": {
      "text/plain": [
       "(4096, 1)"
      ]
     },
     "execution_count": 108,
     "metadata": {},
     "output_type": "execute_result"
    }
   ],
   "source": [
    "y_test.shape"
   ]
  },
  {
   "cell_type": "code",
   "execution_count": 109,
   "id": "12b74855-2278-4ca2-8666-ef44f2570b6c",
   "metadata": {},
   "outputs": [
    {
     "name": "stdout",
     "output_type": "stream",
     "text": [
      "[[1954 1359]\n",
      " [  59  724]]\n"
     ]
    }
   ],
   "source": [
    "print(confusion_matrix(y_test, y_test_hat))"
   ]
  },
  {
   "cell_type": "code",
   "execution_count": 110,
   "id": "28d2b97d-3609-4d17-9c64-f3b70ed67fb4",
   "metadata": {},
   "outputs": [
    {
     "name": "stdout",
     "output_type": "stream",
     "text": [
      "0.5052337752965806\n"
     ]
    }
   ],
   "source": [
    "print(f1_score(y_test, y_test_hat))"
   ]
  },
  {
   "cell_type": "code",
   "execution_count": 111,
   "id": "8630873e-a3d8-48ee-99d9-a1f05e6ca0a0",
   "metadata": {},
   "outputs": [
    {
     "name": "stdout",
     "output_type": "stream",
     "text": [
      "0.8458358438582636\n"
     ]
    }
   ],
   "source": [
    "print(roc_auc_score(y_test, pred))"
   ]
  },
  {
   "cell_type": "code",
   "execution_count": 112,
   "id": "964b4d21-ad2e-435c-a411-8912ce882b16",
   "metadata": {},
   "outputs": [
    {
     "name": "stdout",
     "output_type": "stream",
     "text": [
      "0.65380859375\n"
     ]
    }
   ],
   "source": [
    "print(accuracy_score(y_test, y_test_hat))"
   ]
  },
  {
   "cell_type": "markdown",
   "id": "e0f60e83-7208-489b-9e46-b727051d0873",
   "metadata": {},
   "source": [
    "## Write to a CSV file"
   ]
  },
  {
   "cell_type": "code",
   "execution_count": 113,
   "id": "02b3c5af-1c3f-452e-9f2a-4d3fe178e64b",
   "metadata": {},
   "outputs": [],
   "source": [
    "# Convert the NumPy array to a DataFrame\n",
    "X_train_csv = pd.DataFrame(X_train)\n",
    "y_train_csv = pd.DataFrame(y_train)\n",
    "X_test_csv = pd.DataFrame(X_test)\n",
    "y_test_csv = pd.DataFrame(y_test)\n",
    "\n",
    "# Save the DataFrame to a CSV file\n",
    "X_train_csv.to_csv(\"../cscore_data/X_train_4096.csv\", index=False)\n",
    "y_train_csv.to_csv(\"../cscore_data/y_train_4096.csv\", index=False)\n",
    "X_test_csv.to_csv(\"../cscore_data/X_test_4096.csv\", index=False)\n",
    "y_test_csv.to_csv(\"../cscore_data/y_test_4096.csv\", index=False)"
   ]
  },
  {
   "cell_type": "code",
   "execution_count": null,
   "id": "aec99244-3473-4416-b2fe-66a81ce93f61",
   "metadata": {},
   "outputs": [],
   "source": [
    "del X"
   ]
  },
  {
   "cell_type": "code",
   "execution_count": 117,
   "id": "a70a0e2d-1bdb-4844-93b0-a88ced8e16b8",
   "metadata": {},
   "outputs": [
    {
     "data": {
      "text/html": [
       "<div>\n",
       "<style scoped>\n",
       "    .dataframe tbody tr th:only-of-type {\n",
       "        vertical-align: middle;\n",
       "    }\n",
       "\n",
       "    .dataframe tbody tr th {\n",
       "        vertical-align: top;\n",
       "    }\n",
       "\n",
       "    .dataframe thead th {\n",
       "        text-align: right;\n",
       "    }\n",
       "</style>\n",
       "<table border=\"1\" class=\"dataframe\">\n",
       "  <thead>\n",
       "    <tr style=\"text-align: right;\">\n",
       "      <th></th>\n",
       "      <th>0</th>\n",
       "      <th>1</th>\n",
       "      <th>2</th>\n",
       "      <th>3</th>\n",
       "      <th>4</th>\n",
       "      <th>5</th>\n",
       "      <th>6</th>\n",
       "      <th>7</th>\n",
       "      <th>8</th>\n",
       "      <th>9</th>\n",
       "      <th>...</th>\n",
       "      <th>22</th>\n",
       "      <th>23</th>\n",
       "      <th>24</th>\n",
       "      <th>25</th>\n",
       "      <th>26</th>\n",
       "      <th>27</th>\n",
       "      <th>28</th>\n",
       "      <th>29</th>\n",
       "      <th>30</th>\n",
       "      <th>31</th>\n",
       "    </tr>\n",
       "  </thead>\n",
       "  <tbody>\n",
       "    <tr>\n",
       "      <th>0</th>\n",
       "      <td>2.198939</td>\n",
       "      <td>-1.386113</td>\n",
       "      <td>-1.754133</td>\n",
       "      <td>0.066202</td>\n",
       "      <td>2.772689</td>\n",
       "      <td>0.524358</td>\n",
       "      <td>-0.752849</td>\n",
       "      <td>-0.078448</td>\n",
       "      <td>-0.641564</td>\n",
       "      <td>5.230106</td>\n",
       "      <td>...</td>\n",
       "      <td>-0.212204</td>\n",
       "      <td>0.613856</td>\n",
       "      <td>-0.068885</td>\n",
       "      <td>0.024195</td>\n",
       "      <td>-0.083641</td>\n",
       "      <td>-0.189059</td>\n",
       "      <td>-0.526651</td>\n",
       "      <td>-0.084249</td>\n",
       "      <td>-0.372196</td>\n",
       "      <td>-0.218408</td>\n",
       "    </tr>\n",
       "    <tr>\n",
       "      <th>1</th>\n",
       "      <td>-3.582945</td>\n",
       "      <td>-3.104108</td>\n",
       "      <td>1.625395</td>\n",
       "      <td>0.851905</td>\n",
       "      <td>0.408469</td>\n",
       "      <td>-0.366360</td>\n",
       "      <td>-0.829054</td>\n",
       "      <td>0.219654</td>\n",
       "      <td>0.002127</td>\n",
       "      <td>-1.248474</td>\n",
       "      <td>...</td>\n",
       "      <td>-0.019534</td>\n",
       "      <td>-0.078361</td>\n",
       "      <td>-0.034219</td>\n",
       "      <td>0.874848</td>\n",
       "      <td>-0.126403</td>\n",
       "      <td>-0.466379</td>\n",
       "      <td>0.080115</td>\n",
       "      <td>-0.369146</td>\n",
       "      <td>0.422136</td>\n",
       "      <td>-0.028935</td>\n",
       "    </tr>\n",
       "    <tr>\n",
       "      <th>2</th>\n",
       "      <td>-0.931388</td>\n",
       "      <td>-0.637706</td>\n",
       "      <td>-0.867205</td>\n",
       "      <td>0.723298</td>\n",
       "      <td>0.263651</td>\n",
       "      <td>0.146046</td>\n",
       "      <td>-0.278242</td>\n",
       "      <td>-0.426526</td>\n",
       "      <td>0.710626</td>\n",
       "      <td>0.850852</td>\n",
       "      <td>...</td>\n",
       "      <td>-0.524058</td>\n",
       "      <td>0.492138</td>\n",
       "      <td>0.114483</td>\n",
       "      <td>-0.232441</td>\n",
       "      <td>0.448486</td>\n",
       "      <td>0.740165</td>\n",
       "      <td>-0.191677</td>\n",
       "      <td>-0.103786</td>\n",
       "      <td>0.087587</td>\n",
       "      <td>-0.055254</td>\n",
       "    </tr>\n",
       "    <tr>\n",
       "      <th>3</th>\n",
       "      <td>0.480324</td>\n",
       "      <td>1.332575</td>\n",
       "      <td>-2.139174</td>\n",
       "      <td>0.902649</td>\n",
       "      <td>-2.605806</td>\n",
       "      <td>0.655541</td>\n",
       "      <td>0.107937</td>\n",
       "      <td>-0.094884</td>\n",
       "      <td>0.528272</td>\n",
       "      <td>1.650635</td>\n",
       "      <td>...</td>\n",
       "      <td>-0.309875</td>\n",
       "      <td>0.050581</td>\n",
       "      <td>0.813386</td>\n",
       "      <td>-0.197001</td>\n",
       "      <td>-0.360753</td>\n",
       "      <td>-0.360105</td>\n",
       "      <td>0.286082</td>\n",
       "      <td>0.646569</td>\n",
       "      <td>-0.541250</td>\n",
       "      <td>0.096434</td>\n",
       "    </tr>\n",
       "    <tr>\n",
       "      <th>4</th>\n",
       "      <td>-1.529067</td>\n",
       "      <td>-0.186602</td>\n",
       "      <td>0.864413</td>\n",
       "      <td>-0.623240</td>\n",
       "      <td>1.343525</td>\n",
       "      <td>-1.313599</td>\n",
       "      <td>1.146676</td>\n",
       "      <td>0.715594</td>\n",
       "      <td>-1.318801</td>\n",
       "      <td>0.361061</td>\n",
       "      <td>...</td>\n",
       "      <td>-0.588974</td>\n",
       "      <td>0.030033</td>\n",
       "      <td>1.137614</td>\n",
       "      <td>0.439302</td>\n",
       "      <td>-0.342790</td>\n",
       "      <td>-0.216500</td>\n",
       "      <td>-0.514616</td>\n",
       "      <td>0.007480</td>\n",
       "      <td>-0.525417</td>\n",
       "      <td>-0.090916</td>\n",
       "    </tr>\n",
       "  </tbody>\n",
       "</table>\n",
       "<p>5 rows × 32 columns</p>\n",
       "</div>"
      ],
      "text/plain": [
       "         0         1         2         3         4         5         6   \\\n",
       "0  2.198939 -1.386113 -1.754133  0.066202  2.772689  0.524358 -0.752849   \n",
       "1 -3.582945 -3.104108  1.625395  0.851905  0.408469 -0.366360 -0.829054   \n",
       "2 -0.931388 -0.637706 -0.867205  0.723298  0.263651  0.146046 -0.278242   \n",
       "3  0.480324  1.332575 -2.139174  0.902649 -2.605806  0.655541  0.107937   \n",
       "4 -1.529067 -0.186602  0.864413 -0.623240  1.343525 -1.313599  1.146676   \n",
       "\n",
       "         7         8         9   ...        22        23        24        25  \\\n",
       "0 -0.078448 -0.641564  5.230106  ... -0.212204  0.613856 -0.068885  0.024195   \n",
       "1  0.219654  0.002127 -1.248474  ... -0.019534 -0.078361 -0.034219  0.874848   \n",
       "2 -0.426526  0.710626  0.850852  ... -0.524058  0.492138  0.114483 -0.232441   \n",
       "3 -0.094884  0.528272  1.650635  ... -0.309875  0.050581  0.813386 -0.197001   \n",
       "4  0.715594 -1.318801  0.361061  ... -0.588974  0.030033  1.137614  0.439302   \n",
       "\n",
       "         26        27        28        29        30        31  \n",
       "0 -0.083641 -0.189059 -0.526651 -0.084249 -0.372196 -0.218408  \n",
       "1 -0.126403 -0.466379  0.080115 -0.369146  0.422136 -0.028935  \n",
       "2  0.448486  0.740165 -0.191677 -0.103786  0.087587 -0.055254  \n",
       "3 -0.360753 -0.360105  0.286082  0.646569 -0.541250  0.096434  \n",
       "4 -0.342790 -0.216500 -0.514616  0.007480 -0.525417 -0.090916  \n",
       "\n",
       "[5 rows x 32 columns]"
      ]
     },
     "execution_count": 117,
     "metadata": {},
     "output_type": "execute_result"
    }
   ],
   "source": [
    "X_train_csv[X_train_csv.columns[:]].head()"
   ]
  },
  {
   "cell_type": "code",
   "execution_count": null,
   "id": "c523c5a8-2f97-45c7-aa55-48e47d1e14b2",
   "metadata": {},
   "outputs": [],
   "source": []
  }
 ],
 "metadata": {
  "kernelspec": {
   "display_name": "Python 3 (ipykernel)",
   "language": "python",
   "name": "python3"
  },
  "language_info": {
   "codemirror_mode": {
    "name": "ipython",
    "version": 3
   },
   "file_extension": ".py",
   "mimetype": "text/x-python",
   "name": "python",
   "nbconvert_exporter": "python",
   "pygments_lexer": "ipython3",
   "version": "3.10.13"
  }
 },
 "nbformat": 4,
 "nbformat_minor": 5
}
