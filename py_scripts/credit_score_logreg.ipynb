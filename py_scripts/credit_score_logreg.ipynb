{
 "cells": [
  {
   "cell_type": "markdown",
   "id": "dab2dd2e-97ae-441b-a3ad-8fa37f50e703",
   "metadata": {},
   "source": [
    "# Credit score classification using logistic regression "
   ]
  },
  {
   "cell_type": "markdown",
   "id": "88f92936-ae0e-4a91-becb-b274541a008d",
   "metadata": {},
   "source": [
    "We are using a credit-related dataset found in Kaggle (source: https://www.kaggle.com/datasets/parisrohan/credit-score-classification/data). The dataset consists of 27 input features and one target label, that is the credit score."
   ]
  },
  {
   "cell_type": "markdown",
   "id": "7482adc8-bb1b-4458-8d73-7457db8e82ae",
   "metadata": {},
   "source": [
    "Goal : To predict the credit score of a new, unseen data using logistic regression model."
   ]
  },
  {
   "cell_type": "code",
   "execution_count": 128,
   "id": "4766b21f-e8c0-43a6-86df-f89f2d11da45",
   "metadata": {},
   "outputs": [
    {
     "data": {
      "text/plain": [
       "{'divide': 'raise', 'over': 'raise', 'under': 'raise', 'invalid': 'raise'}"
      ]
     },
     "execution_count": 128,
     "metadata": {},
     "output_type": "execute_result"
    }
   ],
   "source": [
    "import numpy as np\n",
    "np.random.seed(42)\n",
    "import pandas as pd\n",
    "import tqdm\n",
    "\n",
    "from sklearn.model_selection import train_test_split\n",
    "from sklearn.preprocessing import StandardScaler\n",
    "from sklearn.metrics import roc_auc_score, precision_score, recall_score\n",
    "from sklearn.metrics import confusion_matrix, accuracy_score, f1_score\n",
    "from sklearn.impute import KNNImputer\n",
    "from numba import njit\n",
    "\n",
    "np.seterr(all='raise')"
   ]
  },
  {
   "cell_type": "markdown",
   "id": "e51ed538-0687-4235-9e4b-9526f7397194",
   "metadata": {},
   "source": [
    "## Load and clean the data"
   ]
  },
  {
   "cell_type": "code",
   "execution_count": 2,
   "id": "64034e0b-460c-4d41-8478-516cf9a866a6",
   "metadata": {},
   "outputs": [],
   "source": [
    "def load_data():\n",
    "    filename = \"../train_data/cs_train.csv\"\n",
    "    df = pd.read_csv(filename)\n",
    "\n",
    "    ## Separate target from features\n",
    "    X = df.drop(columns=['Credit_Score'])\n",
    "    y = df['Credit_Score']\n",
    "\n",
    "    return X, y"
   ]
  },
  {
   "cell_type": "code",
   "execution_count": 3,
   "id": "f2c654aa-4cb0-4733-a1dd-1117e1ec4005",
   "metadata": {},
   "outputs": [],
   "source": [
    "def slice_split(X, y, num_samples, compare_to_r_ref):\n",
    "    X = X.to_numpy()[:num_samples]\n",
    "    y = y.to_numpy()[:num_samples]\n",
    "    \n",
    "    ## Split into training and test set\n",
    "    X_train, X_test, y_train, y_test = train_test_split(X, y, test_size=0.2, random_state=1332)\n",
    "    \n",
    "    print(f\"Train X shape is: {X_train.shape}\")\n",
    "    print(f\"Train Y shape is: {y_train.shape}\")\n",
    "    print(f\"Test X shape is: {X_test.shape}\")\n",
    "    print(f\"Test Y shape is: {y_test.shape}\")\n",
    "    return X_train, X_test, y_train, y_test"
   ]
  },
  {
   "cell_type": "code",
   "execution_count": 4,
   "id": "95631795-2313-4740-8e98-9fdb16e3b426",
   "metadata": {},
   "outputs": [
    {
     "name": "stderr",
     "output_type": "stream",
     "text": [
      "C:\\Users\\USER\\AppData\\Local\\Temp\\ipykernel_15832\\566418612.py:3: DtypeWarning: Columns (26) have mixed types. Specify dtype option on import or set low_memory=False.\n",
      "  df = pd.read_csv(filename)\n"
     ]
    },
    {
     "data": {
      "text/html": [
       "<div>\n",
       "<style scoped>\n",
       "    .dataframe tbody tr th:only-of-type {\n",
       "        vertical-align: middle;\n",
       "    }\n",
       "\n",
       "    .dataframe tbody tr th {\n",
       "        vertical-align: top;\n",
       "    }\n",
       "\n",
       "    .dataframe thead th {\n",
       "        text-align: right;\n",
       "    }\n",
       "</style>\n",
       "<table border=\"1\" class=\"dataframe\">\n",
       "  <thead>\n",
       "    <tr style=\"text-align: right;\">\n",
       "      <th></th>\n",
       "      <th>ID</th>\n",
       "      <th>Customer_ID</th>\n",
       "      <th>Month</th>\n",
       "      <th>Name</th>\n",
       "      <th>Age</th>\n",
       "      <th>SSN</th>\n",
       "      <th>Occupation</th>\n",
       "      <th>Annual_Income</th>\n",
       "      <th>Monthly_Inhand_Salary</th>\n",
       "      <th>Num_Bank_Accounts</th>\n",
       "      <th>...</th>\n",
       "      <th>Num_Credit_Inquiries</th>\n",
       "      <th>Credit_Mix</th>\n",
       "      <th>Outstanding_Debt</th>\n",
       "      <th>Credit_Utilization_Ratio</th>\n",
       "      <th>Credit_History_Age</th>\n",
       "      <th>Payment_of_Min_Amount</th>\n",
       "      <th>Total_EMI_per_month</th>\n",
       "      <th>Amount_invested_monthly</th>\n",
       "      <th>Payment_Behaviour</th>\n",
       "      <th>Monthly_Balance</th>\n",
       "    </tr>\n",
       "  </thead>\n",
       "  <tbody>\n",
       "    <tr>\n",
       "      <th>0</th>\n",
       "      <td>0x1602</td>\n",
       "      <td>CUS_0xd40</td>\n",
       "      <td>January</td>\n",
       "      <td>Aaron Maashoh</td>\n",
       "      <td>23</td>\n",
       "      <td>821-00-0265</td>\n",
       "      <td>Scientist</td>\n",
       "      <td>19114.12</td>\n",
       "      <td>1824.843333</td>\n",
       "      <td>3</td>\n",
       "      <td>...</td>\n",
       "      <td>4.0</td>\n",
       "      <td>_</td>\n",
       "      <td>809.98</td>\n",
       "      <td>26.822620</td>\n",
       "      <td>22 Years and 1 Months</td>\n",
       "      <td>No</td>\n",
       "      <td>49.574949</td>\n",
       "      <td>80.41529543900253</td>\n",
       "      <td>High_spent_Small_value_payments</td>\n",
       "      <td>312.49408867943663</td>\n",
       "    </tr>\n",
       "    <tr>\n",
       "      <th>1</th>\n",
       "      <td>0x1603</td>\n",
       "      <td>CUS_0xd40</td>\n",
       "      <td>February</td>\n",
       "      <td>Aaron Maashoh</td>\n",
       "      <td>23</td>\n",
       "      <td>821-00-0265</td>\n",
       "      <td>Scientist</td>\n",
       "      <td>19114.12</td>\n",
       "      <td>NaN</td>\n",
       "      <td>3</td>\n",
       "      <td>...</td>\n",
       "      <td>4.0</td>\n",
       "      <td>Good</td>\n",
       "      <td>809.98</td>\n",
       "      <td>31.944960</td>\n",
       "      <td>NaN</td>\n",
       "      <td>No</td>\n",
       "      <td>49.574949</td>\n",
       "      <td>118.28022162236736</td>\n",
       "      <td>Low_spent_Large_value_payments</td>\n",
       "      <td>284.62916249607184</td>\n",
       "    </tr>\n",
       "    <tr>\n",
       "      <th>2</th>\n",
       "      <td>0x1604</td>\n",
       "      <td>CUS_0xd40</td>\n",
       "      <td>March</td>\n",
       "      <td>Aaron Maashoh</td>\n",
       "      <td>-500</td>\n",
       "      <td>821-00-0265</td>\n",
       "      <td>Scientist</td>\n",
       "      <td>19114.12</td>\n",
       "      <td>NaN</td>\n",
       "      <td>3</td>\n",
       "      <td>...</td>\n",
       "      <td>4.0</td>\n",
       "      <td>Good</td>\n",
       "      <td>809.98</td>\n",
       "      <td>28.609352</td>\n",
       "      <td>22 Years and 3 Months</td>\n",
       "      <td>No</td>\n",
       "      <td>49.574949</td>\n",
       "      <td>81.699521264648</td>\n",
       "      <td>Low_spent_Medium_value_payments</td>\n",
       "      <td>331.2098628537912</td>\n",
       "    </tr>\n",
       "    <tr>\n",
       "      <th>3</th>\n",
       "      <td>0x1605</td>\n",
       "      <td>CUS_0xd40</td>\n",
       "      <td>April</td>\n",
       "      <td>Aaron Maashoh</td>\n",
       "      <td>23</td>\n",
       "      <td>821-00-0265</td>\n",
       "      <td>Scientist</td>\n",
       "      <td>19114.12</td>\n",
       "      <td>NaN</td>\n",
       "      <td>3</td>\n",
       "      <td>...</td>\n",
       "      <td>4.0</td>\n",
       "      <td>Good</td>\n",
       "      <td>809.98</td>\n",
       "      <td>31.377862</td>\n",
       "      <td>22 Years and 4 Months</td>\n",
       "      <td>No</td>\n",
       "      <td>49.574949</td>\n",
       "      <td>199.4580743910713</td>\n",
       "      <td>Low_spent_Small_value_payments</td>\n",
       "      <td>223.45130972736786</td>\n",
       "    </tr>\n",
       "    <tr>\n",
       "      <th>4</th>\n",
       "      <td>0x1606</td>\n",
       "      <td>CUS_0xd40</td>\n",
       "      <td>May</td>\n",
       "      <td>Aaron Maashoh</td>\n",
       "      <td>23</td>\n",
       "      <td>821-00-0265</td>\n",
       "      <td>Scientist</td>\n",
       "      <td>19114.12</td>\n",
       "      <td>1824.843333</td>\n",
       "      <td>3</td>\n",
       "      <td>...</td>\n",
       "      <td>4.0</td>\n",
       "      <td>Good</td>\n",
       "      <td>809.98</td>\n",
       "      <td>24.797347</td>\n",
       "      <td>22 Years and 5 Months</td>\n",
       "      <td>No</td>\n",
       "      <td>49.574949</td>\n",
       "      <td>41.420153086217326</td>\n",
       "      <td>High_spent_Medium_value_payments</td>\n",
       "      <td>341.48923103222177</td>\n",
       "    </tr>\n",
       "  </tbody>\n",
       "</table>\n",
       "<p>5 rows × 27 columns</p>\n",
       "</div>"
      ],
      "text/plain": [
       "       ID Customer_ID     Month           Name   Age          SSN Occupation  \\\n",
       "0  0x1602   CUS_0xd40   January  Aaron Maashoh    23  821-00-0265  Scientist   \n",
       "1  0x1603   CUS_0xd40  February  Aaron Maashoh    23  821-00-0265  Scientist   \n",
       "2  0x1604   CUS_0xd40     March  Aaron Maashoh  -500  821-00-0265  Scientist   \n",
       "3  0x1605   CUS_0xd40     April  Aaron Maashoh    23  821-00-0265  Scientist   \n",
       "4  0x1606   CUS_0xd40       May  Aaron Maashoh    23  821-00-0265  Scientist   \n",
       "\n",
       "  Annual_Income  Monthly_Inhand_Salary  Num_Bank_Accounts  ...  \\\n",
       "0      19114.12            1824.843333                  3  ...   \n",
       "1      19114.12                    NaN                  3  ...   \n",
       "2      19114.12                    NaN                  3  ...   \n",
       "3      19114.12                    NaN                  3  ...   \n",
       "4      19114.12            1824.843333                  3  ...   \n",
       "\n",
       "   Num_Credit_Inquiries  Credit_Mix Outstanding_Debt Credit_Utilization_Ratio  \\\n",
       "0                   4.0           _           809.98                26.822620   \n",
       "1                   4.0        Good           809.98                31.944960   \n",
       "2                   4.0        Good           809.98                28.609352   \n",
       "3                   4.0        Good           809.98                31.377862   \n",
       "4                   4.0        Good           809.98                24.797347   \n",
       "\n",
       "      Credit_History_Age Payment_of_Min_Amount Total_EMI_per_month  \\\n",
       "0  22 Years and 1 Months                    No           49.574949   \n",
       "1                    NaN                    No           49.574949   \n",
       "2  22 Years and 3 Months                    No           49.574949   \n",
       "3  22 Years and 4 Months                    No           49.574949   \n",
       "4  22 Years and 5 Months                    No           49.574949   \n",
       "\n",
       "   Amount_invested_monthly                 Payment_Behaviour  \\\n",
       "0        80.41529543900253   High_spent_Small_value_payments   \n",
       "1       118.28022162236736    Low_spent_Large_value_payments   \n",
       "2          81.699521264648   Low_spent_Medium_value_payments   \n",
       "3        199.4580743910713    Low_spent_Small_value_payments   \n",
       "4       41.420153086217326  High_spent_Medium_value_payments   \n",
       "\n",
       "      Monthly_Balance  \n",
       "0  312.49408867943663  \n",
       "1  284.62916249607184  \n",
       "2   331.2098628537912  \n",
       "3  223.45130972736786  \n",
       "4  341.48923103222177  \n",
       "\n",
       "[5 rows x 27 columns]"
      ]
     },
     "execution_count": 4,
     "metadata": {},
     "output_type": "execute_result"
    }
   ],
   "source": [
    "X, y = load_data()\n",
    "X.head()"
   ]
  },
  {
   "cell_type": "markdown",
   "id": "fb8e3154-9126-4ace-b8ba-6743473696f7",
   "metadata": {},
   "source": [
    "We'll then perform data cleaning to filter out irrelevant features for our prediction. A little bit of feature engineering after might be necessary."
   ]
  },
  {
   "cell_type": "markdown",
   "id": "349fe467-4d9d-40dc-9ec8-6f88fef0e32f",
   "metadata": {},
   "source": [
    "First of all, we need to look more into our 'Monthly_Balance' column, which holds more than one data type, hence detected as DTypeWarning. "
   ]
  },
  {
   "cell_type": "code",
   "execution_count": 5,
   "id": "9cfc84d9-1db2-4d4c-baac-2b97e12a35cd",
   "metadata": {},
   "outputs": [
    {
     "name": "stdout",
     "output_type": "stream",
     "text": [
      "['312.49408867943663' '284.62916249607184' '331.2098628537912' ...\n",
      " 516.8090832742814 319.1649785257098 393.6736955618808]\n"
     ]
    }
   ],
   "source": [
    "print(X['Monthly_Balance'].unique())"
   ]
  },
  {
   "cell_type": "code",
   "execution_count": 6,
   "id": "6a41b7b8-30e9-403f-b727-28252852ab81",
   "metadata": {},
   "outputs": [
    {
     "data": {
      "text/html": [
       "<div>\n",
       "<style scoped>\n",
       "    .dataframe tbody tr th:only-of-type {\n",
       "        vertical-align: middle;\n",
       "    }\n",
       "\n",
       "    .dataframe tbody tr th {\n",
       "        vertical-align: top;\n",
       "    }\n",
       "\n",
       "    .dataframe thead th {\n",
       "        text-align: right;\n",
       "    }\n",
       "</style>\n",
       "<table border=\"1\" class=\"dataframe\">\n",
       "  <thead>\n",
       "    <tr style=\"text-align: right;\">\n",
       "      <th></th>\n",
       "      <th>ID</th>\n",
       "      <th>Customer_ID</th>\n",
       "      <th>Month</th>\n",
       "      <th>Name</th>\n",
       "      <th>Age</th>\n",
       "      <th>SSN</th>\n",
       "      <th>Occupation</th>\n",
       "      <th>Annual_Income</th>\n",
       "      <th>Monthly_Inhand_Salary</th>\n",
       "      <th>Num_Bank_Accounts</th>\n",
       "      <th>...</th>\n",
       "      <th>Num_Credit_Inquiries</th>\n",
       "      <th>Credit_Mix</th>\n",
       "      <th>Outstanding_Debt</th>\n",
       "      <th>Credit_Utilization_Ratio</th>\n",
       "      <th>Credit_History_Age</th>\n",
       "      <th>Payment_of_Min_Amount</th>\n",
       "      <th>Total_EMI_per_month</th>\n",
       "      <th>Amount_invested_monthly</th>\n",
       "      <th>Payment_Behaviour</th>\n",
       "      <th>Monthly_Balance</th>\n",
       "    </tr>\n",
       "  </thead>\n",
       "  <tbody>\n",
       "    <tr>\n",
       "      <th>0</th>\n",
       "      <td>0x1602</td>\n",
       "      <td>CUS_0xd40</td>\n",
       "      <td>January</td>\n",
       "      <td>Aaron Maashoh</td>\n",
       "      <td>23</td>\n",
       "      <td>821-00-0265</td>\n",
       "      <td>Scientist</td>\n",
       "      <td>19114.12</td>\n",
       "      <td>1824.843333</td>\n",
       "      <td>3</td>\n",
       "      <td>...</td>\n",
       "      <td>4.0</td>\n",
       "      <td>_</td>\n",
       "      <td>809.98</td>\n",
       "      <td>26.822620</td>\n",
       "      <td>22 Years and 1 Months</td>\n",
       "      <td>No</td>\n",
       "      <td>49.574949</td>\n",
       "      <td>80.41529543900253</td>\n",
       "      <td>High_spent_Small_value_payments</td>\n",
       "      <td>312.494089</td>\n",
       "    </tr>\n",
       "    <tr>\n",
       "      <th>1</th>\n",
       "      <td>0x1603</td>\n",
       "      <td>CUS_0xd40</td>\n",
       "      <td>February</td>\n",
       "      <td>Aaron Maashoh</td>\n",
       "      <td>23</td>\n",
       "      <td>821-00-0265</td>\n",
       "      <td>Scientist</td>\n",
       "      <td>19114.12</td>\n",
       "      <td>NaN</td>\n",
       "      <td>3</td>\n",
       "      <td>...</td>\n",
       "      <td>4.0</td>\n",
       "      <td>Good</td>\n",
       "      <td>809.98</td>\n",
       "      <td>31.944960</td>\n",
       "      <td>NaN</td>\n",
       "      <td>No</td>\n",
       "      <td>49.574949</td>\n",
       "      <td>118.28022162236736</td>\n",
       "      <td>Low_spent_Large_value_payments</td>\n",
       "      <td>284.629162</td>\n",
       "    </tr>\n",
       "    <tr>\n",
       "      <th>2</th>\n",
       "      <td>0x1604</td>\n",
       "      <td>CUS_0xd40</td>\n",
       "      <td>March</td>\n",
       "      <td>Aaron Maashoh</td>\n",
       "      <td>-500</td>\n",
       "      <td>821-00-0265</td>\n",
       "      <td>Scientist</td>\n",
       "      <td>19114.12</td>\n",
       "      <td>NaN</td>\n",
       "      <td>3</td>\n",
       "      <td>...</td>\n",
       "      <td>4.0</td>\n",
       "      <td>Good</td>\n",
       "      <td>809.98</td>\n",
       "      <td>28.609352</td>\n",
       "      <td>22 Years and 3 Months</td>\n",
       "      <td>No</td>\n",
       "      <td>49.574949</td>\n",
       "      <td>81.699521264648</td>\n",
       "      <td>Low_spent_Medium_value_payments</td>\n",
       "      <td>331.209863</td>\n",
       "    </tr>\n",
       "    <tr>\n",
       "      <th>3</th>\n",
       "      <td>0x1605</td>\n",
       "      <td>CUS_0xd40</td>\n",
       "      <td>April</td>\n",
       "      <td>Aaron Maashoh</td>\n",
       "      <td>23</td>\n",
       "      <td>821-00-0265</td>\n",
       "      <td>Scientist</td>\n",
       "      <td>19114.12</td>\n",
       "      <td>NaN</td>\n",
       "      <td>3</td>\n",
       "      <td>...</td>\n",
       "      <td>4.0</td>\n",
       "      <td>Good</td>\n",
       "      <td>809.98</td>\n",
       "      <td>31.377862</td>\n",
       "      <td>22 Years and 4 Months</td>\n",
       "      <td>No</td>\n",
       "      <td>49.574949</td>\n",
       "      <td>199.4580743910713</td>\n",
       "      <td>Low_spent_Small_value_payments</td>\n",
       "      <td>223.451310</td>\n",
       "    </tr>\n",
       "    <tr>\n",
       "      <th>4</th>\n",
       "      <td>0x1606</td>\n",
       "      <td>CUS_0xd40</td>\n",
       "      <td>May</td>\n",
       "      <td>Aaron Maashoh</td>\n",
       "      <td>23</td>\n",
       "      <td>821-00-0265</td>\n",
       "      <td>Scientist</td>\n",
       "      <td>19114.12</td>\n",
       "      <td>1824.843333</td>\n",
       "      <td>3</td>\n",
       "      <td>...</td>\n",
       "      <td>4.0</td>\n",
       "      <td>Good</td>\n",
       "      <td>809.98</td>\n",
       "      <td>24.797347</td>\n",
       "      <td>22 Years and 5 Months</td>\n",
       "      <td>No</td>\n",
       "      <td>49.574949</td>\n",
       "      <td>41.420153086217326</td>\n",
       "      <td>High_spent_Medium_value_payments</td>\n",
       "      <td>341.489231</td>\n",
       "    </tr>\n",
       "  </tbody>\n",
       "</table>\n",
       "<p>5 rows × 27 columns</p>\n",
       "</div>"
      ],
      "text/plain": [
       "       ID Customer_ID     Month           Name   Age          SSN Occupation  \\\n",
       "0  0x1602   CUS_0xd40   January  Aaron Maashoh    23  821-00-0265  Scientist   \n",
       "1  0x1603   CUS_0xd40  February  Aaron Maashoh    23  821-00-0265  Scientist   \n",
       "2  0x1604   CUS_0xd40     March  Aaron Maashoh  -500  821-00-0265  Scientist   \n",
       "3  0x1605   CUS_0xd40     April  Aaron Maashoh    23  821-00-0265  Scientist   \n",
       "4  0x1606   CUS_0xd40       May  Aaron Maashoh    23  821-00-0265  Scientist   \n",
       "\n",
       "  Annual_Income  Monthly_Inhand_Salary  Num_Bank_Accounts  ...  \\\n",
       "0      19114.12            1824.843333                  3  ...   \n",
       "1      19114.12                    NaN                  3  ...   \n",
       "2      19114.12                    NaN                  3  ...   \n",
       "3      19114.12                    NaN                  3  ...   \n",
       "4      19114.12            1824.843333                  3  ...   \n",
       "\n",
       "   Num_Credit_Inquiries  Credit_Mix Outstanding_Debt Credit_Utilization_Ratio  \\\n",
       "0                   4.0           _           809.98                26.822620   \n",
       "1                   4.0        Good           809.98                31.944960   \n",
       "2                   4.0        Good           809.98                28.609352   \n",
       "3                   4.0        Good           809.98                31.377862   \n",
       "4                   4.0        Good           809.98                24.797347   \n",
       "\n",
       "      Credit_History_Age Payment_of_Min_Amount Total_EMI_per_month  \\\n",
       "0  22 Years and 1 Months                    No           49.574949   \n",
       "1                    NaN                    No           49.574949   \n",
       "2  22 Years and 3 Months                    No           49.574949   \n",
       "3  22 Years and 4 Months                    No           49.574949   \n",
       "4  22 Years and 5 Months                    No           49.574949   \n",
       "\n",
       "   Amount_invested_monthly                 Payment_Behaviour Monthly_Balance  \n",
       "0        80.41529543900253   High_spent_Small_value_payments      312.494089  \n",
       "1       118.28022162236736    Low_spent_Large_value_payments      284.629162  \n",
       "2          81.699521264648   Low_spent_Medium_value_payments      331.209863  \n",
       "3        199.4580743910713    Low_spent_Small_value_payments      223.451310  \n",
       "4       41.420153086217326  High_spent_Medium_value_payments      341.489231  \n",
       "\n",
       "[5 rows x 27 columns]"
      ]
     },
     "execution_count": 6,
     "metadata": {},
     "output_type": "execute_result"
    }
   ],
   "source": [
    "X['Monthly_Balance'] = pd.to_numeric(X['Monthly_Balance'], errors='coerce')\n",
    "X.head()"
   ]
  },
  {
   "cell_type": "code",
   "execution_count": 7,
   "id": "ba06fa87-ce54-4f5c-bdbf-686f94b59054",
   "metadata": {},
   "outputs": [
    {
     "data": {
      "text/plain": [
       "(100000, 27)"
      ]
     },
     "execution_count": 7,
     "metadata": {},
     "output_type": "execute_result"
    }
   ],
   "source": [
    "X.shape"
   ]
  },
  {
   "cell_type": "markdown",
   "id": "52e466b3-77b9-491d-a623-f73c06f2ed15",
   "metadata": {},
   "source": [
    "'ID', 'Customer_ID', 'Name', 'SSN', 'Occupation', and 'Type_of_Loan' are, for now, **irrelevant** to the prediction."
   ]
  },
  {
   "cell_type": "code",
   "execution_count": 8,
   "id": "bf654d7e-caac-47b4-ad23-0131bf836c9a",
   "metadata": {},
   "outputs": [
    {
     "data": {
      "text/plain": [
       "(100000, 21)"
      ]
     },
     "execution_count": 8,
     "metadata": {},
     "output_type": "execute_result"
    }
   ],
   "source": [
    "## Drop irrelevant features\n",
    "X = X.drop(columns=['ID', 'Customer_ID', 'Name', 'SSN', 'Occupation', 'Type_of_Loan'])\n",
    "X.shape"
   ]
  },
  {
   "cell_type": "markdown",
   "id": "10338ddb-901f-4469-8f29-14587a489a66",
   "metadata": {},
   "source": [
    "Furthermore, there are features that hold string values, which obviously cannot be processed by the logistic regression model. We need to convert them into one-hot encoding vectors."
   ]
  },
  {
   "cell_type": "code",
   "execution_count": 9,
   "id": "b7447fc0-5f19-4407-8c42-5546d2ef72ed",
   "metadata": {},
   "outputs": [
    {
     "name": "stdout",
     "output_type": "stream",
     "text": [
      "New shape of X: (100000, 39)\n",
      "New shape of y: (100000, 3)\n"
     ]
    }
   ],
   "source": [
    "## One-hot encoding\n",
    "X = pd.get_dummies(X, columns=['Month', 'Credit_Mix', 'Payment_of_Min_Amount', 'Payment_Behaviour'])\n",
    "y = pd.get_dummies(y)\n",
    "print(f\"New shape of X: {X.shape}\")\n",
    "print(f\"New shape of y: {y.shape}\")"
   ]
  },
  {
   "cell_type": "code",
   "execution_count": 10,
   "id": "f430b316-e980-4af1-bb71-3abbec223237",
   "metadata": {},
   "outputs": [
    {
     "name": "stderr",
     "output_type": "stream",
     "text": [
      "C:\\Users\\USER\\AppData\\Local\\Temp\\ipykernel_15832\\2337723389.py:5: FutureWarning: A value is trying to be set on a copy of a DataFrame or Series through chained assignment using an inplace method.\n",
      "The behavior will change in pandas 3.0. This inplace method will never work because the intermediate object on which we are setting values always behaves as a copy.\n",
      "\n",
      "For example, when doing 'df[col].method(value, inplace=True)', try using 'df.method({col: value}, inplace=True)' or df[col] = df[col].method(value) instead, to perform the operation inplace on the original object.\n",
      "\n",
      "\n",
      "  X['Credit_History_Age'].replace('NA', pd.NA, inplace=True)\n"
     ]
    }
   ],
   "source": [
    "## Map 'Credit_History_Age' into decimals and NaN values\n",
    "import re\n",
    "\n",
    "# Replace 'NA' with NaN\n",
    "X['Credit_History_Age'].replace('NA', pd.NA, inplace=True)\n",
    "\n",
    "# Function to extract years and months\n",
    "def extract_years_months(value):\n",
    "    if pd.isna(value):\n",
    "        return value\n",
    "    match = re.match(r'(\\d+)\\s+Years?\\s+and\\s+(\\d+)\\s+Months?', value)\n",
    "    if match:\n",
    "        years, months = map(int, match.groups())\n",
    "        return years + months / 12\n",
    "    return None\n",
    "\n",
    "# Apply the function to the column\n",
    "X['Credit_History_Age'] = X['Credit_History_Age'].apply(extract_years_months)"
   ]
  },
  {
   "cell_type": "code",
   "execution_count": 11,
   "id": "5da62984-fd0d-4ab7-acec-a027b7f35a9b",
   "metadata": {},
   "outputs": [
    {
     "data": {
      "text/plain": [
       "0    22.083333\n",
       "1          NaN\n",
       "2    22.250000\n",
       "3    22.333333\n",
       "4    22.416667\n",
       "Name: Credit_History_Age, dtype: float64"
      ]
     },
     "execution_count": 11,
     "metadata": {},
     "output_type": "execute_result"
    }
   ],
   "source": [
    "X['Credit_History_Age'].head()"
   ]
  },
  {
   "cell_type": "markdown",
   "id": "c4fc936c-dfb3-496b-831c-760f817e2889",
   "metadata": {},
   "source": [
    "Now, we need to address NaN values as a part of data cleaning process."
   ]
  },
  {
   "cell_type": "code",
   "execution_count": 12,
   "id": "d0f45efb-ed04-444c-88ed-957ce07fa28b",
   "metadata": {},
   "outputs": [],
   "source": [
    "## Make sure all values are numerical\n",
    "X_num = X.apply(pd.to_numeric, errors='coerce')"
   ]
  },
  {
   "cell_type": "code",
   "execution_count": 13,
   "id": "408b910f-c3ac-4f4b-9029-2c26ad7ff08a",
   "metadata": {},
   "outputs": [
    {
     "data": {
      "text/plain": [
       "Age                                                    4939\n",
       "Annual_Income                                          6980\n",
       "Monthly_Inhand_Salary                                 15002\n",
       "Num_Bank_Accounts                                         0\n",
       "Num_Credit_Card                                           0\n",
       "Interest_Rate                                             0\n",
       "Num_of_Loan                                            4785\n",
       "Delay_from_due_date                                       0\n",
       "Num_of_Delayed_Payment                                 9746\n",
       "Changed_Credit_Limit                                   2091\n",
       "Num_Credit_Inquiries                                   1965\n",
       "Outstanding_Debt                                       1009\n",
       "Credit_Utilization_Ratio                                  0\n",
       "Credit_History_Age                                     9030\n",
       "Total_EMI_per_month                                       0\n",
       "Amount_invested_monthly                                8784\n",
       "Monthly_Balance                                        1209\n",
       "Month_April                                               0\n",
       "Month_August                                              0\n",
       "Month_February                                            0\n",
       "Month_January                                             0\n",
       "Month_July                                                0\n",
       "Month_June                                                0\n",
       "Month_March                                               0\n",
       "Month_May                                                 0\n",
       "Credit_Mix_Bad                                            0\n",
       "Credit_Mix_Good                                           0\n",
       "Credit_Mix_Standard                                       0\n",
       "Credit_Mix__                                              0\n",
       "Payment_of_Min_Amount_NM                                  0\n",
       "Payment_of_Min_Amount_No                                  0\n",
       "Payment_of_Min_Amount_Yes                                 0\n",
       "Payment_Behaviour_!@9#%8                                  0\n",
       "Payment_Behaviour_High_spent_Large_value_payments         0\n",
       "Payment_Behaviour_High_spent_Medium_value_payments        0\n",
       "Payment_Behaviour_High_spent_Small_value_payments         0\n",
       "Payment_Behaviour_Low_spent_Large_value_payments          0\n",
       "Payment_Behaviour_Low_spent_Medium_value_payments         0\n",
       "Payment_Behaviour_Low_spent_Small_value_payments          0\n",
       "dtype: int64"
      ]
     },
     "execution_count": 13,
     "metadata": {},
     "output_type": "execute_result"
    }
   ],
   "source": [
    "X_num.isna().sum()"
   ]
  },
  {
   "cell_type": "code",
   "execution_count": 14,
   "id": "5ded4b04-3c8e-4c6e-af66-72d7314d5c86",
   "metadata": {},
   "outputs": [],
   "source": [
    "## Fill the missing values with mean in each column\n",
    "# X_num = X_num.fillna(X_num.mean())\n",
    "\n",
    "# Initialize the KNN imputer\n",
    "imputer = KNNImputer(missing_values=np.nan, n_neighbors=5)\n",
    "\n",
    "# Fit and transform the data\n",
    "X_imputed = imputer.fit_transform(X_num)\n",
    "\n",
    "# Convert back to DataFrame\n",
    "X_num = pd.DataFrame(X_imputed, columns=X_num.columns)\n",
    "del X_imputed"
   ]
  },
  {
   "cell_type": "code",
   "execution_count": 15,
   "id": "df447e4f-561f-40f8-89bd-945d9c953d26",
   "metadata": {},
   "outputs": [
    {
     "data": {
      "text/plain": [
       "Age                                                   0\n",
       "Annual_Income                                         0\n",
       "Monthly_Inhand_Salary                                 0\n",
       "Num_Bank_Accounts                                     0\n",
       "Num_Credit_Card                                       0\n",
       "Interest_Rate                                         0\n",
       "Num_of_Loan                                           0\n",
       "Delay_from_due_date                                   0\n",
       "Num_of_Delayed_Payment                                0\n",
       "Changed_Credit_Limit                                  0\n",
       "Num_Credit_Inquiries                                  0\n",
       "Outstanding_Debt                                      0\n",
       "Credit_Utilization_Ratio                              0\n",
       "Credit_History_Age                                    0\n",
       "Total_EMI_per_month                                   0\n",
       "Amount_invested_monthly                               0\n",
       "Monthly_Balance                                       0\n",
       "Month_April                                           0\n",
       "Month_August                                          0\n",
       "Month_February                                        0\n",
       "Month_January                                         0\n",
       "Month_July                                            0\n",
       "Month_June                                            0\n",
       "Month_March                                           0\n",
       "Month_May                                             0\n",
       "Credit_Mix_Bad                                        0\n",
       "Credit_Mix_Good                                       0\n",
       "Credit_Mix_Standard                                   0\n",
       "Credit_Mix__                                          0\n",
       "Payment_of_Min_Amount_NM                              0\n",
       "Payment_of_Min_Amount_No                              0\n",
       "Payment_of_Min_Amount_Yes                             0\n",
       "Payment_Behaviour_!@9#%8                              0\n",
       "Payment_Behaviour_High_spent_Large_value_payments     0\n",
       "Payment_Behaviour_High_spent_Medium_value_payments    0\n",
       "Payment_Behaviour_High_spent_Small_value_payments     0\n",
       "Payment_Behaviour_Low_spent_Large_value_payments      0\n",
       "Payment_Behaviour_Low_spent_Medium_value_payments     0\n",
       "Payment_Behaviour_Low_spent_Small_value_payments      0\n",
       "dtype: int64"
      ]
     },
     "execution_count": 15,
     "metadata": {},
     "output_type": "execute_result"
    }
   ],
   "source": [
    "X_num.isna().sum()"
   ]
  },
  {
   "cell_type": "markdown",
   "id": "3ef41deb-76fd-4b1d-a488-a40109156fb1",
   "metadata": {},
   "source": [
    "## Feature engineering"
   ]
  },
  {
   "cell_type": "markdown",
   "id": "0d134afc-0d0e-462d-aa91-c0e07618e425",
   "metadata": {},
   "source": [
    "Feature engineering lets us create new features by combining existing ones. These new features help the model to see the relationship between features and can improve the model's performance."
   ]
  },
  {
   "cell_type": "code",
   "execution_count": 16,
   "id": "a7e84fe0-58d7-41ef-93af-bb097fe172d3",
   "metadata": {},
   "outputs": [],
   "source": [
    "## Interaction features\n",
    "X_num['Debt_to_Income_Ratio'] = X_num['Outstanding_Debt'] / X_num['Annual_Income']\n",
    "X_num['Loan_to_Income_Ratio'] = X_num['Num_of_Loan'] / X_num['Annual_Income']\n",
    "X_num['Investment_Ratio'] = X_num['Amount_invested_monthly'] / X_num['Monthly_Inhand_Salary']\n",
    "X_num['Credit_Card_Utilization'] = X_num['Credit_Utilization_Ratio'] * X_num['Num_Credit_Card']\n",
    "\n",
    "## Aggregated features\n",
    "X_num['Total_Debt'] = X_num['Outstanding_Debt'] + X_num['Total_EMI_per_month']\n",
    "\n",
    "## One-hot encoding for seasons\n",
    "## --> Winter\n",
    "X_num['Winter'] = X_num['Month_January'] + X_num['Month_February']\n",
    "## --> Spring\n",
    "X_num['Spring'] = X_num['Month_March'] + X_num['Month_April'] + X_num['Month_May']\n",
    "## --> Summer\n",
    "X_num['Summer'] = X_num['Month_June'] + X_num['Month_July'] + X_num['Month_August']"
   ]
  },
  {
   "cell_type": "markdown",
   "id": "581e4c28-c7aa-424c-b77b-e04a6d649a65",
   "metadata": {},
   "source": [
    "We also need to perform normalization to some features so that all features are in a virtually comparable range of values (feature scaling). We will use z-score normalization that subtracts the mean from each feature and divide the resulting value by its standard deviation."
   ]
  },
  {
   "cell_type": "markdown",
   "id": "75684c34-bb54-4110-af84-9a840028085f",
   "metadata": {},
   "source": [
    "First, we will reduce the impact of **outliers** (i.e., skewed, and possibly incorrect,\n",
    "values in columns that might distort z-score normalization results) by applying natural log transformation."
   ]
  },
  {
   "cell_type": "code",
   "execution_count": 17,
   "id": "c6504a45-ec66-4f77-b2a5-378efb4dc73b",
   "metadata": {},
   "outputs": [],
   "source": [
    "columns_log = [\n",
    "    'Age', 'Annual_Income', 'Monthly_Inhand_Salary', 'Num_Bank_Accounts',\n",
    "    'Num_Credit_Card',\n",
    "    'Interest_Rate', 'Num_of_Loan', 'Delay_from_due_date', 'Num_of_Delayed_Payment',\n",
    "    'Changed_Credit_Limit', 'Num_Credit_Inquiries', 'Outstanding_Debt',\n",
    "    'Credit_Utilization_Ratio', 'Credit_History_Age', 'Total_EMI_per_month',\n",
    "    'Amount_invested_monthly', 'Monthly_Balance',\n",
    "    'Debt_to_Income_Ratio', 'Loan_to_Income_Ratio', 'Investment_Ratio', \n",
    "    'Credit_Card_Utilization', 'Total_Debt'\n",
    "]\n",
    "\n",
    "## Prevent FloatingPointError\n",
    "X_num[columns_log] = X_num[columns_log].map(lambda x: x if x >= 0 else 0.01)\n",
    "\n",
    "## Apply log transformation to necessary columns\n",
    "X_num[columns_log] = np.log1p(X_num[columns_log])"
   ]
  },
  {
   "cell_type": "markdown",
   "id": "afb4b188-0f8f-40bb-8f6b-e1b19450dc62",
   "metadata": {},
   "source": [
    "We can then proceed for normalization."
   ]
  },
  {
   "cell_type": "code",
   "execution_count": 18,
   "id": "07bee17f-5bdc-41b7-944e-e020477c9dc2",
   "metadata": {},
   "outputs": [],
   "source": [
    "## We want to normalize all columns except one-hot encoding vectors\n",
    "columns_norm = [\n",
    "    'Age', 'Annual_Income', 'Monthly_Inhand_Salary', 'Num_Bank_Accounts', \n",
    "    'Num_Credit_Card',\n",
    "    'Interest_Rate', 'Num_of_Loan', 'Delay_from_due_date', 'Num_of_Delayed_Payment',\n",
    "    'Changed_Credit_Limit', 'Num_Credit_Inquiries', 'Outstanding_Debt',\n",
    "    'Credit_Utilization_Ratio', 'Credit_History_Age', 'Total_EMI_per_month',\n",
    "    'Amount_invested_monthly', 'Monthly_Balance',\n",
    "    'Debt_to_Income_Ratio', 'Loan_to_Income_Ratio', 'Investment_Ratio', \n",
    "    'Credit_Card_Utilization', 'Total_Debt'\n",
    "]\n",
    "\n",
    "## Initialize the scaler\n",
    "scaler = StandardScaler()\n",
    "\n",
    "## Fit and transform the selected columns\n",
    "X_num[columns_norm] = scaler.fit_transform(X_num[columns_norm])"
   ]
  },
  {
   "cell_type": "code",
   "execution_count": 19,
   "id": "5433c7bf-76db-4231-bf35-ce6d0124215a",
   "metadata": {},
   "outputs": [
    {
     "data": {
      "text/plain": [
       "0   -0.183463\n",
       "1   -0.183463\n",
       "2   -0.183463\n",
       "3   -0.183463\n",
       "4   -0.183463\n",
       "Name: Debt_to_Income_Ratio, dtype: float64"
      ]
     },
     "execution_count": 19,
     "metadata": {},
     "output_type": "execute_result"
    }
   ],
   "source": [
    "X_num['Debt_to_Income_Ratio'].head()"
   ]
  },
  {
   "cell_type": "code",
   "execution_count": 20,
   "id": "625511f3-2f45-46b1-8d8d-7b3439d29991",
   "metadata": {},
   "outputs": [
    {
     "data": {
      "text/plain": [
       "0   -0.409512\n",
       "1   -0.409512\n",
       "2   -0.409512\n",
       "3   -0.409512\n",
       "4   -0.409512\n",
       "Name: Num_Credit_Card, dtype: float64"
      ]
     },
     "execution_count": 20,
     "metadata": {},
     "output_type": "execute_result"
    }
   ],
   "source": [
    "X_num['Num_Credit_Card'].head()"
   ]
  },
  {
   "cell_type": "markdown",
   "id": "0112f27d-3673-4f07-ba4b-10e8246cf68e",
   "metadata": {},
   "source": [
    "## Risk minimization"
   ]
  },
  {
   "cell_type": "markdown",
   "id": "c82d198a-686d-41a2-8db0-53db37783c2e",
   "metadata": {},
   "source": [
    "We need to come to an understanding that logistic regression model cannot be trained on the target label of three possible binary values."
   ]
  },
  {
   "cell_type": "code",
   "execution_count": 21,
   "id": "40eedbf1-30ee-4560-adda-1eee27b3e4de",
   "metadata": {},
   "outputs": [
    {
     "data": {
      "text/html": [
       "<div>\n",
       "<style scoped>\n",
       "    .dataframe tbody tr th:only-of-type {\n",
       "        vertical-align: middle;\n",
       "    }\n",
       "\n",
       "    .dataframe tbody tr th {\n",
       "        vertical-align: top;\n",
       "    }\n",
       "\n",
       "    .dataframe thead th {\n",
       "        text-align: right;\n",
       "    }\n",
       "</style>\n",
       "<table border=\"1\" class=\"dataframe\">\n",
       "  <thead>\n",
       "    <tr style=\"text-align: right;\">\n",
       "      <th></th>\n",
       "      <th>Good</th>\n",
       "      <th>Poor</th>\n",
       "      <th>Standard</th>\n",
       "    </tr>\n",
       "  </thead>\n",
       "  <tbody>\n",
       "    <tr>\n",
       "      <th>0</th>\n",
       "      <td>True</td>\n",
       "      <td>False</td>\n",
       "      <td>False</td>\n",
       "    </tr>\n",
       "    <tr>\n",
       "      <th>1</th>\n",
       "      <td>True</td>\n",
       "      <td>False</td>\n",
       "      <td>False</td>\n",
       "    </tr>\n",
       "    <tr>\n",
       "      <th>2</th>\n",
       "      <td>True</td>\n",
       "      <td>False</td>\n",
       "      <td>False</td>\n",
       "    </tr>\n",
       "    <tr>\n",
       "      <th>3</th>\n",
       "      <td>True</td>\n",
       "      <td>False</td>\n",
       "      <td>False</td>\n",
       "    </tr>\n",
       "    <tr>\n",
       "      <th>4</th>\n",
       "      <td>True</td>\n",
       "      <td>False</td>\n",
       "      <td>False</td>\n",
       "    </tr>\n",
       "  </tbody>\n",
       "</table>\n",
       "</div>"
      ],
      "text/plain": [
       "   Good   Poor  Standard\n",
       "0  True  False     False\n",
       "1  True  False     False\n",
       "2  True  False     False\n",
       "3  True  False     False\n",
       "4  True  False     False"
      ]
     },
     "execution_count": 21,
     "metadata": {},
     "output_type": "execute_result"
    }
   ],
   "source": [
    "y.head()"
   ]
  },
  {
   "cell_type": "markdown",
   "id": "01bf6a51-d7df-429d-b9d9-58eedd9eb15d",
   "metadata": {},
   "source": [
    "Let's assume that the global finance company we're working with is not looking for more market expansion and is trying to minimize loan risk. Therefore, we want to label parties with **Good** credit scores as being eligible for loans, while the rest are not."
   ]
  },
  {
   "cell_type": "code",
   "execution_count": 22,
   "id": "c664fe69-3232-45b4-8fbe-c672c2c19ed3",
   "metadata": {},
   "outputs": [],
   "source": [
    "## Create a new binary label\n",
    "y['Target'] = y['Good']\n",
    "\n",
    "## Drop the original one-hot encoded columns\n",
    "y = y.drop(columns=['Good', 'Standard', 'Poor'])"
   ]
  },
  {
   "cell_type": "code",
   "execution_count": 23,
   "id": "f3401fcc-8904-4c0d-bd18-f33b0e09ea1d",
   "metadata": {},
   "outputs": [
    {
     "data": {
      "text/plain": [
       "(100000, 1)"
      ]
     },
     "execution_count": 23,
     "metadata": {},
     "output_type": "execute_result"
    }
   ],
   "source": [
    "y.shape"
   ]
  },
  {
   "cell_type": "markdown",
   "id": "b8323b09-2c8a-4e56-8783-840e378f70ee",
   "metadata": {},
   "source": [
    "## Preparing data for training"
   ]
  },
  {
   "cell_type": "code",
   "execution_count": 52,
   "id": "e67b5852-cde1-44c9-a243-e2c055d7a6ed",
   "metadata": {},
   "outputs": [
    {
     "name": "stdout",
     "output_type": "stream",
     "text": [
      "Train X shape is: (79999, 47)\n",
      "Train Y shape is: (79999, 1)\n",
      "Test X shape is: (20000, 47)\n",
      "Test Y shape is: (20000, 1)\n"
     ]
    }
   ],
   "source": [
    "## NUM_SAMPLES is the combination of all sets (NUM_TRAINING + NUM_TEST)\n",
    "NUM_SAMPLES = -1\n",
    "COMPARE_TO_R_REF = False\n",
    "lr = 0.1\n",
    "mu = 0.1\n",
    "\n",
    "## Slice data into NumPy arrays and split into training and test sets\n",
    "X_train, X_test, y_train, y_test = slice_split(\n",
    "    X_num, y,\n",
    "    num_samples=NUM_SAMPLES,\n",
    "    compare_to_r_ref=COMPARE_TO_R_REF\n",
    ")\n",
    "\n",
    "## n = num_of_features\n",
    "n = X_train.shape[1]\n",
    "\n",
    "# Same shape as Marcelo's reference code\n",
    "betas = np.zeros((n, ))\n",
    "# betas = np.random.randn(n)"
   ]
  },
  {
   "cell_type": "code",
   "execution_count": 53,
   "id": "4d3dac9a-80a4-4212-b985-c7185b4b645c",
   "metadata": {},
   "outputs": [
    {
     "data": {
      "text/plain": [
       "47"
      ]
     },
     "execution_count": 53,
     "metadata": {},
     "output_type": "execute_result"
    }
   ],
   "source": [
    "n"
   ]
  },
  {
   "cell_type": "markdown",
   "id": "efc52987-85d1-4be1-96a5-921d52f46586",
   "metadata": {},
   "source": [
    "## Nesterov model training"
   ]
  },
  {
   "cell_type": "code",
   "execution_count": 54,
   "id": "e4ac1694-7e68-4e4a-999a-b60e3b564b3f",
   "metadata": {},
   "outputs": [],
   "source": [
    "@njit\n",
    "def sigmoid(z):\n",
    "    return 1 / (1 + np.exp(-z))\n",
    "\n",
    "@njit\n",
    "def fwd(train_x, betas, dbg=False):\n",
    "    preds = train_x @ betas   # A vector of linear_predictions/logits z = train_x @ weights\n",
    "    if dbg:\n",
    "        print(f\"Logits: {preds}\")\n",
    "    return np.expand_dims(sigmoid(preds), -1)   # Shape: (m, 1)\n",
    "\n",
    "@njit\n",
    "def calculate_gradient(train_x, train_y, betas, fwd, dbg):\n",
    "    preds = fwd(train_x, betas, dbg)   # A vector of logistic predictions y_hat = sigmoid(z)\n",
    "    gradient = -train_x.T @ (train_y - preds) / len(train_y)\n",
    "    return gradient   # Shape: (10, 1) == Rows correspond to num_features\n",
    "    ## This function is used to update the values of betas: w_new = w_old + lr * gradient\n",
    "\n",
    "def cost(x, y, theta):\n",
    "    m = x.shape[0]\n",
    "    h = sigmoid(np.matmul(x, theta))   # h: hypothesis, basically preds/y_hat\n",
    "    t1 = np.matmul(-y.T, np.log(np.clip(h, 0.000000000000001, np.max(h))))\n",
    "    t2_a = (1 - y.T)\n",
    "    t2_b = np.log(np.clip(1 - h, 0.000000000000001, np.max(1 - h)))  # Used to get numerical issues\n",
    "    ## np.clip() function prevents computing the log of 0, by taking the minimum of 1e-15.\n",
    "    t2 = np.matmul(t2_a, t2_b)\n",
    "\n",
    "    return ((t1 - t2) / m)[0]   # Shape: (1,) == scalar value\n",
    "\n",
    "def nesterov(betas, epochs, patience, lr, mu, train_x, train_y):\n",
    "    import copy\n",
    "\n",
    "    phi = copy.deepcopy(betas)\n",
    "    theta = copy.deepcopy(betas)\n",
    "\n",
    "    check_early = 0\n",
    "    best_loss = float('inf')\n",
    "    best_epochs_list = []\n",
    "\n",
    "    nesterov_loss = [0 for _ in range(epochs)]\n",
    "    for i in tqdm.trange(epochs):\n",
    "    # for i in range(epochs):\n",
    "        gradient = calculate_gradient(train_x, train_y, theta, fwd, dbg=False)\n",
    "\n",
    "        ## Assign updated weights into phi_prime\n",
    "        phi_prime = theta - lr * np.squeeze(gradient)   # np.squeeze() removes single dimensions --> shape (10,)\n",
    "        \n",
    "        ## Nesterov acceleration process\n",
    "        if i == 0:\n",
    "            theta = phi_prime\n",
    "        else:\n",
    "            ## If current updated weight (phi_prime) < previous weight (phi), \n",
    "            ## The updated weight theta will be even smaller.\n",
    "            theta = phi_prime + mu * (phi_prime - phi)\n",
    "        phi = phi_prime   # phi is then the weight of the previous epoch/update\n",
    "        loss = cost(train_x, train_y, theta)\n",
    "\n",
    "        ## Early stopping\n",
    "        if patience > 0:\n",
    "            if loss < best_loss:\n",
    "                best_loss = loss\n",
    "                best_epoch = i\n",
    "                best_theta = theta\n",
    "                best_epochs_list.append(best_epoch)\n",
    "                check_early = 0\n",
    "            else:\n",
    "                check_early += 1\n",
    "                if check_early >= patience:\n",
    "                    print(f\"Early stopping at {patience} epochs after {best_epoch} with best loss {best_loss}\")\n",
    "                    return nesterov_loss[:best_epoch + 1], best_theta, phi, best_epochs_list\n",
    "        else:\n",
    "            best_epoch = epochs - 1\n",
    "            best_theta = theta\n",
    "\n",
    "        ## Update list\n",
    "        nesterov_loss[i] = loss\n",
    "\n",
    "        # print(f\"New loss: {cost(train_x, train_y, v)[0]}\")\n",
    "    return nesterov_loss[:best_epoch + 1], best_theta, phi, best_epochs_list\n"
   ]
  },
  {
   "cell_type": "code",
   "execution_count": 55,
   "id": "682bb6fb-95bc-4d2d-b8f6-2cff40112de7",
   "metadata": {},
   "outputs": [],
   "source": [
    "# Ensure inputs are of the correct type\n",
    "betas = np.array(betas, dtype=np.float64)\n",
    "X_train = np.array(X_train, dtype=np.float64)\n",
    "y_train = np.array(y_train, dtype=np.float64)\n",
    "X_test = np.array(X_test, dtype=np.float64)\n",
    "y_test = np.array(y_test, dtype=np.float64)\n",
    "lr = float(lr)\n",
    "mu = float(mu)"
   ]
  },
  {
   "cell_type": "code",
   "execution_count": 56,
   "id": "c0271d02-84d7-47cf-bc92-7a3c41b22631",
   "metadata": {},
   "outputs": [
    {
     "name": "stderr",
     "output_type": "stream",
     "text": [
      "100%|██████████| 800/800 [00:23<00:00, 34.26it/s]\n"
     ]
    }
   ],
   "source": [
    "losses, theta, phi, best_epochs_list = nesterov(betas, 800, -1, lr, mu, X_train, y_train)"
   ]
  },
  {
   "cell_type": "code",
   "execution_count": 57,
   "id": "eb5e2d30-f268-4348-9bb0-10182cf18bdf",
   "metadata": {
    "scrolled": true
   },
   "outputs": [
    {
     "name": "stdout",
     "output_type": "stream",
     "text": [
      "0: 0.6662307574983946\n",
      "1: 0.6411336690110037\n",
      "2: 0.6195886841117227\n",
      "3: 0.6009712912972424\n",
      "4: 0.5846556796864298\n",
      "5: 0.5701713056750173\n",
      "6: 0.5571718622388139\n",
      "7: 0.5453999878856545\n",
      "8: 0.5346613462522284\n",
      "9: 0.5248065220239051\n",
      "10: 0.5157184587696794\n",
      "11: 0.5073037144884686\n",
      "12: 0.49948633203039045\n",
      "13: 0.4922035033511145\n",
      "14: 0.48540247055345587\n",
      "15: 0.47903828557576167\n",
      "16: 0.47307217080755787\n",
      "17: 0.46747030394998756\n",
      "18: 0.462202905156182\n",
      "19: 0.4572435416311396\n",
      "20: 0.45256859024757795\n",
      "21: 0.4481568161914426\n",
      "22: 0.4439890377449296\n",
      "23: 0.44004785575290045\n",
      "24: 0.43631743224684905\n",
      "25: 0.4327833068943242\n",
      "26: 0.42943224292866083\n",
      "27: 0.42625209635579764\n",
      "28: 0.4232317037815188\n",
      "29: 0.4203607853270021\n",
      "30: 0.4176298599242342\n",
      "31: 0.41503017089076516\n",
      "32: 0.41255362013559377\n",
      "33: 0.41019270968738447\n",
      "34: 0.40794048949325534\n",
      "35: 0.40579051063288984\n",
      "36: 0.4037367832445094\n",
      "37: 0.4017737385777184\n",
      "38: 0.3998961946817301\n",
      "39: 0.39809932531207565\n",
      "40: 0.39637863169909443\n",
      "41: 0.3947299168706016\n",
      "42: 0.3931492622616123\n",
      "43: 0.3916330063777206\n",
      "44: 0.3901777253070846\n",
      "45: 0.38878021490002396\n",
      "46: 0.38743747445580873\n",
      "47: 0.3861466917739456\n",
      "48: 0.38490522944263433\n",
      "49: 0.38371061225048003\n",
      "50: 0.3825605156192937\n",
      "51: 0.3814527549661705\n",
      "52: 0.38038527591218146\n",
      "53: 0.3793561452631348\n",
      "54: 0.3783635426950808\n",
      "55: 0.3774057530836825\n",
      "56: 0.3764811594223286\n",
      "57: 0.3755882362790271\n",
      "58: 0.3747255437467489\n",
      "59: 0.37389172184605163\n",
      "60: 0.37308548534256003\n",
      "61: 0.3723056189452556\n",
      "62: 0.3715509728545736\n",
      "63: 0.37082045863205826\n",
      "64: 0.37011304536581213\n",
      "65: 0.36942775610822953\n",
      "66: 0.3687636645645402\n",
      "67: 0.3681198920125391\n",
      "68: 0.3674956044355543\n",
      "69: 0.36689000985222786\n",
      "70: 0.36630235582806614\n",
      "71: 0.36573192715497455\n",
      "72: 0.36517804368613715\n",
      "73: 0.364640058314638\n",
      "74: 0.36411735508517706\n",
      "75: 0.36360934742909307\n",
      "76: 0.36311547651369674\n",
      "77: 0.36263520969763935\n",
      "78: 0.36216803908469675\n",
      "79: 0.36171348016895344\n",
      "80: 0.3612710705649191\n",
      "81: 0.3608403688166131\n",
      "82: 0.3604209532801155\n",
      "83: 0.3600124210745024\n",
      "84: 0.35961438709647336\n",
      "85: 0.3592264830943307\n",
      "86: 0.35884835679729843\n",
      "87: 0.3584796710964684\n",
      "88: 0.3581201032739328\n",
      "89: 0.3577693442769195\n",
      "90: 0.35742709803397527\n",
      "91: 0.3570930808104598\n",
      "92: 0.35676702060080684\n",
      "93: 0.3564486565551936\n",
      "94: 0.3561377384384257\n",
      "95: 0.3558340261189993\n",
      "96: 0.35553728908644616\n",
      "97: 0.3552473059951969\n",
      "98: 0.3549638642333222\n",
      "99: 0.35468675951462203\n",
      "100: 0.35441579549263846\n",
      "101: 0.3541507833952633\n",
      "102: 0.35389154167870135\n",
      "103: 0.35363789569963383\n",
      "104: 0.35338967740450017\n",
      "105: 0.3531467250348914\n",
      "106: 0.35290888284811145\n",
      "107: 0.3526760008520247\n",
      "108: 0.35244793455336626\n",
      "109: 0.3522245447187418\n",
      "110: 0.35200569714759583\n",
      "111: 0.3517912624564702\n",
      "112: 0.3515811158739198\n",
      "113: 0.3513751370454907\n",
      "114: 0.35117320984820083\n",
      "115: 0.35097522221400324\n",
      "116: 0.3507810659617382\n",
      "117: 0.3505906366371128\n",
      "118: 0.3504038333602765\n",
      "119: 0.3502205586805825\n",
      "120: 0.3500407184381537\n",
      "121: 0.3498642216318925\n",
      "122: 0.3496909802935944\n",
      "123: 0.3495209093678474\n",
      "124: 0.34935392659741593\n",
      "125: 0.34918995241382544\n",
      "126: 0.34902890983288215\n",
      "127: 0.34887072435487504\n",
      "128: 0.34871532386922294\n",
      "129: 0.34856263856334285\n",
      "130: 0.3484126008355289\n",
      "131: 0.34826514521164004\n",
      "132: 0.34812020826541096\n",
      "133: 0.34797772854220527\n",
      "134: 0.3478376464860453\n",
      "135: 0.3476999043697564\n",
      "136: 0.3475644462280778\n",
      "137: 0.347431217793596\n",
      "138: 0.34730016643536626\n",
      "139: 0.34717124110009484\n",
      "140: 0.3470443922557609\n",
      "141: 0.3469195718375632\n",
      "142: 0.3467967331960844\n",
      "143: 0.3466758310475669\n",
      "144: 0.34655682142620786\n",
      "145: 0.34643966163837536\n",
      "146: 0.34632431021866233\n",
      "147: 0.34621072688769094\n",
      "148: 0.34609887251159277\n",
      "149: 0.3459887090630858\n",
      "150: 0.34588019958407856\n",
      "151: 0.34577330814973417\n",
      "152: 0.3456679998339281\n",
      "153: 0.34556424067604063\n",
      "154: 0.3454619976490233\n",
      "155: 0.34536123862868584\n",
      "156: 0.34526193236415026\n",
      "157: 0.3451640484494211\n",
      "158: 0.34506755729602556\n",
      "159: 0.34497243010667683\n",
      "160: 0.3448786388499171\n",
      "161: 0.3447861562357012\n",
      "162: 0.3446949556918775\n",
      "163: 0.344605011341533\n",
      "164: 0.3445162979811629\n",
      "165: 0.3444287910596345\n",
      "166: 0.34434246665790835\n",
      "167: 0.34425730146949\n",
      "168: 0.34417327278157944\n",
      "169: 0.3440903584568923\n",
      "170: 0.3440085369161234\n",
      "171: 0.3439277871210296\n",
      "172: 0.3438480885581052\n",
      "173: 0.34376942122282667\n",
      "174: 0.3436917656044454\n",
      "175: 0.3436151026713054\n",
      "176: 0.3435394138566669\n",
      "177: 0.34346468104501465\n",
      "178: 0.343390886558833\n",
      "179: 0.34331801314583027\n",
      "180: 0.34324604396659364\n",
      "181: 0.3431749625826594\n",
      "182: 0.3431047529449824\n",
      "183: 0.3430353993827892\n",
      "184: 0.34296688659280145\n",
      "185: 0.3428991996288136\n",
      "186: 0.34283232389161467\n",
      "187: 0.3427662451192384\n",
      "188: 0.3427009493775315\n",
      "189: 0.34263642305102715\n",
      "190: 0.34257265283411387\n",
      "191: 0.34250962572248683\n",
      "192: 0.34244732900487407\n",
      "193: 0.3423857502550253\n",
      "194: 0.34232487732395495\n",
      "195: 0.3422646983324301\n",
      "196: 0.3422052016636951\n",
      "197: 0.34214637595642305\n",
      "198: 0.34208821009788754\n",
      "199: 0.3420306932173463\n",
      "200: 0.3419738146796294\n",
      "201: 0.341917564078924\n",
      "202: 0.34186193123275077\n",
      "203: 0.3418069061761234\n",
      "204: 0.3417524791558854\n",
      "205: 0.34169864062521893\n",
      "206: 0.3416453812383188\n",
      "207: 0.34159269184522606\n",
      "208: 0.3415405634868166\n",
      "209: 0.3414889873899383\n",
      "210: 0.34143795496269297\n",
      "211: 0.3413874577898569\n",
      "212: 0.34133748762843685\n",
      "213: 0.34128803640335553\n",
      "214: 0.34123909620326337\n",
      "215: 0.3411906592764715\n",
      "216: 0.34114271802700324\n",
      "217: 0.3410952650107585\n",
      "218: 0.3410482929317888\n",
      "219: 0.3410017946386785\n",
      "220: 0.34095576312103\n",
      "221: 0.34091019150604673\n",
      "222: 0.3408650730552153\n",
      "223: 0.3408204011610785\n",
      "224: 0.34077616934410077\n",
      "225: 0.34073237124962014\n",
      "226: 0.34068900064488516\n",
      "227: 0.3406460514161744\n",
      "228: 0.3406035175659945\n",
      "229: 0.34056139321035694\n",
      "230: 0.34051967257612753\n",
      "231: 0.34047834999844967\n",
      "232: 0.3404374199182373\n",
      "233: 0.34039687687973497\n",
      "234: 0.3403567155281452\n",
      "235: 0.34031693060731866\n",
      "236: 0.3402775169575061\n",
      "237: 0.3402384695131712\n",
      "238: 0.34019978330086087\n",
      "239: 0.34016145343713167\n",
      "240: 0.3401234751265321\n",
      "241: 0.3400858436596367\n",
      "242: 0.34004855441113263\n",
      "243: 0.34001160283795556\n",
      "244: 0.3399749844774741\n",
      "245: 0.33993869494572215\n",
      "246: 0.3399027299356753\n",
      "247: 0.33986708521557313\n",
      "248: 0.33983175662728354\n",
      "249: 0.33979674008470934\n",
      "250: 0.33976203157223517\n",
      "251: 0.33972762714321375\n",
      "252: 0.33969352291849075\n",
      "253: 0.3396597150849663\n",
      "254: 0.3396261998941929\n",
      "255: 0.3395929736610086\n",
      "256: 0.33956003276220353\n",
      "257: 0.3395273736352201\n",
      "258: 0.3394949927768855\n",
      "259: 0.33946288674217473\n",
      "260: 0.3394310521430045\n",
      "261: 0.339399485647057\n",
      "262: 0.3393681839766315\n",
      "263: 0.33933714390752445\n",
      "264: 0.3393063622679366\n",
      "265: 0.3392758359374066\n",
      "266: 0.33924556184576976\n",
      "267: 0.3392155369721427\n",
      "268: 0.33918575834393105\n",
      "269: 0.339156223035862\n",
      "270: 0.3391269281690389\n",
      "271: 0.3390978709100186\n",
      "272: 0.3390690484699106\n",
      "273: 0.3390404581034969\n",
      "274: 0.33901209710837343\n",
      "275: 0.33898396282411025\n",
      "276: 0.33895605263143197\n",
      "277: 0.33892836395141746\n",
      "278: 0.3389008942447172\n",
      "279: 0.33887364101078943\n",
      "280: 0.3388466017871535\n",
      "281: 0.33881977414865977\n",
      "282: 0.33879315570677737\n",
      "283: 0.33876674410889696\n",
      "284: 0.3387405370376498\n",
      "285: 0.33871453221024217\n",
      "286: 0.3386887273778048\n",
      "287: 0.33866312032475643\n",
      "288: 0.3386377088681822\n",
      "289: 0.33861249085722567\n",
      "290: 0.3385874641724939\n",
      "291: 0.3385626267254764\n",
      "292: 0.33853797645797645\n",
      "293: 0.3385135113415547\n",
      "294: 0.338489229376986\n",
      "295: 0.33846512859372613\n",
      "296: 0.33844120704939273\n",
      "297: 0.3384174628292549\n",
      "298: 0.33839389404573583\n",
      "299: 0.338370498837925\n",
      "300: 0.3383472753711013\n",
      "301: 0.33832422183626587\n",
      "302: 0.33830133644968613\n",
      "303: 0.3382786174524478\n",
      "304: 0.338256063110018\n",
      "305: 0.33823367171181595\n",
      "306: 0.33821144157079486\n",
      "307: 0.33818937102303037\n",
      "308: 0.3381674584273191\n",
      "309: 0.3381457021647849\n",
      "310: 0.33812410063849346\n",
      "311: 0.33810265227307507\n",
      "312: 0.3380813555143549\n",
      "313: 0.3380602088289911\n",
      "314: 0.33803921070412\n",
      "315: 0.3380183596470093\n",
      "316: 0.33799765418471756\n",
      "317: 0.3379770928637607\n",
      "318: 0.3379566742497861\n",
      "319: 0.33793639692725186\n",
      "320: 0.3379162594991143\n",
      "321: 0.33789626058651967\n",
      "322: 0.33787639882850407\n",
      "323: 0.337856672881698\n",
      "324: 0.3378370814200371\n",
      "325: 0.33781762313447905\n",
      "326: 0.3377982967327254\n",
      "327: 0.3377791009389496\n",
      "328: 0.33776003449352976\n",
      "329: 0.33774109615278686\n",
      "330: 0.3377222846887285\n",
      "331: 0.33770359888879675\n",
      "332: 0.33768503755562157\n",
      "333: 0.3376665995067792\n",
      "334: 0.33764828357455406\n",
      "335: 0.33763008860570676\n",
      "336: 0.3376120134612453\n",
      "337: 0.33759405701620165\n",
      "338: 0.33757621815941125\n",
      "339: 0.33755849579329844\n",
      "340: 0.3375408888336645\n",
      "341: 0.33752339620948046\n",
      "342: 0.33750601686268333\n",
      "343: 0.33748874974797677\n",
      "344: 0.33747159383263486\n",
      "345: 0.3374545480963098\n",
      "346: 0.33743761153084334\n",
      "347: 0.33742078314008145\n",
      "348: 0.33740406193969247\n",
      "349: 0.33738744695698886\n",
      "350: 0.3373709372307515\n",
      "351: 0.3373545318110585\n",
      "352: 0.3373382297591157\n",
      "353: 0.3373220301470913\n",
      "354: 0.33730593205795273\n",
      "355: 0.3372899345853072\n",
      "356: 0.33727403683324486\n",
      "357: 0.3372582379161842\n",
      "358: 0.33724253695872125\n",
      "359: 0.3372269330954804\n",
      "360: 0.3372114254709691\n",
      "361: 0.3371960132394336\n",
      "362: 0.337180695564719\n",
      "363: 0.33716547162013044\n",
      "364: 0.33715034058829696\n",
      "365: 0.33713530166103833\n",
      "366: 0.33712035403923396\n",
      "367: 0.33710549693269337\n",
      "368: 0.33709072956003017\n",
      "369: 0.3370760511485373\n",
      "370: 0.3370614609340645\n",
      "371: 0.3370469581608989\n",
      "372: 0.3370325420816458\n",
      "373: 0.3370182119571133\n",
      "374: 0.33700396705619784\n",
      "375: 0.3369898066557724\n",
      "376: 0.33697573004057557\n",
      "377: 0.33696173650310385\n",
      "378: 0.3369478253435046\n",
      "379: 0.33693399586947137\n",
      "380: 0.33692024739614107\n",
      "381: 0.3369065792459923\n",
      "382: 0.3368929907487462\n",
      "383: 0.336879481241268\n",
      "384: 0.33686605006747106\n",
      "385: 0.3368526965782221\n",
      "386: 0.33683942013124796\n",
      "387: 0.3368262200910439\n",
      "388: 0.3368130958287836\n",
      "389: 0.3368000467222306\n",
      "390: 0.33678707215565057\n",
      "391: 0.33677417151972616\n",
      "392: 0.3367613442114724\n",
      "393: 0.3367485896341536\n",
      "394: 0.33673590719720126\n",
      "395: 0.3367232963161345\n",
      "396: 0.3367107564124806\n",
      "397: 0.3366982869136966\n",
      "398: 0.3366858872530938\n",
      "399: 0.33667355686976147\n",
      "400: 0.3366612952084931\n",
      "401: 0.33664910171971335\n",
      "402: 0.33663697585940605\n",
      "403: 0.3366249170890436\n",
      "404: 0.33661292487551725\n",
      "405: 0.33660099869106885\n",
      "406: 0.33658913801322293\n",
      "407: 0.33657734232472053\n",
      "408: 0.33656561111345384\n",
      "409: 0.3365539438724019\n",
      "410: 0.33654234009956674\n",
      "411: 0.3365307992979115\n",
      "412: 0.3365193209752989\n",
      "413: 0.3365079046444303\n",
      "414: 0.3364965498227866\n",
      "415: 0.33648525603256907\n",
      "416: 0.3364740228006421\n",
      "417: 0.33646284965847556\n",
      "418: 0.33645173614208956\n",
      "419: 0.3364406817919983\n",
      "420: 0.3364296861531564\n",
      "421: 0.3364187487749049\n",
      "422: 0.3364078692109186\n",
      "423: 0.33639704701915396\n",
      "424: 0.33638628176179797\n",
      "425: 0.33637557300521753\n",
      "426: 0.33636492031990944\n",
      "427: 0.3363543232804522\n",
      "428: 0.336343781465457\n",
      "429: 0.33633329445751997\n",
      "430: 0.33632286184317606\n",
      "431: 0.33631248321285206\n",
      "432: 0.3363021581608214\n",
      "433: 0.33629188628515905\n",
      "434: 0.3362816671876978\n",
      "435: 0.3362715004739837\n",
      "436: 0.33626138575323394\n",
      "437: 0.33625132263829394\n",
      "438: 0.3362413107455959\n",
      "439: 0.33623134969511714\n",
      "440: 0.3362214391103402\n",
      "441: 0.33621157861821205\n",
      "442: 0.3362017678491052\n",
      "443: 0.33619200643677855\n",
      "444: 0.3361822940183388\n",
      "445: 0.33617263023420324\n",
      "446: 0.3361630147280616\n",
      "447: 0.33615344714684\n",
      "448: 0.3361439271406641\n",
      "449: 0.33613445436282385\n",
      "450: 0.33612502846973774\n",
      "451: 0.33611564912091835\n",
      "452: 0.33610631597893753\n",
      "453: 0.3360970287093932\n",
      "454: 0.3360877869808754\n",
      "455: 0.3360785904649335\n",
      "456: 0.336069438836044\n",
      "457: 0.33606033177157796\n",
      "458: 0.3360512689517698\n",
      "459: 0.33604225005968563\n",
      "460: 0.33603327478119316\n",
      "461: 0.3360243428049305\n",
      "462: 0.3360154538222768\n",
      "463: 0.33600660752732264\n",
      "464: 0.33599780361684034\n",
      "465: 0.3359890417902557\n",
      "466: 0.3359803217496191\n",
      "467: 0.33597164319957834\n",
      "468: 0.33596300584734984\n",
      "469: 0.3359544094026919\n",
      "470: 0.335945853577878\n",
      "471: 0.33593733808766946\n",
      "472: 0.33592886264929\n",
      "473: 0.3359204269823992\n",
      "474: 0.3359120308090672\n",
      "475: 0.33590367385374925\n",
      "476: 0.335895355843261\n",
      "477: 0.335887076506754\n",
      "478: 0.33587883557569065\n",
      "479: 0.3358706327838212\n",
      "480: 0.33586246786715945\n",
      "481: 0.33585434056395946\n",
      "482: 0.3358462506146926\n",
      "483: 0.3358381977620246\n",
      "484: 0.33583018175079316\n",
      "485: 0.3358222023279855\n",
      "486: 0.33581425924271685\n",
      "487: 0.3358063522462081\n",
      "488: 0.3357984810917652\n",
      "489: 0.3357906455347572\n",
      "490: 0.3357828453325959\n",
      "491: 0.3357750802447153\n",
      "492: 0.3357673500325506\n",
      "493: 0.3357596544595188\n",
      "494: 0.3357519932909984\n",
      "495: 0.3357443662943099\n",
      "496: 0.3357367732386964\n",
      "497: 0.33572921389530436\n",
      "498: 0.3357216880371648\n",
      "499: 0.33571419543917463\n",
      "500: 0.3357067358780779\n",
      "501: 0.33569930913244816\n",
      "502: 0.3356919149826695\n",
      "503: 0.3356845532109196\n",
      "504: 0.3356772236011517\n",
      "505: 0.33566992593907746\n",
      "506: 0.3356626600121494\n",
      "507: 0.3356554256095443\n",
      "508: 0.3356482225221462\n",
      "509: 0.33564105054252996\n",
      "510: 0.3356339094649447\n",
      "511: 0.33562679908529774\n",
      "512: 0.33561971920113876\n",
      "513: 0.3356126696116435\n",
      "514: 0.3356056501175985\n",
      "515: 0.33559866052138576\n",
      "516: 0.33559170062696714\n",
      "517: 0.3355847702398694\n",
      "518: 0.33557786916716925\n",
      "519: 0.3355709972174788\n",
      "520: 0.3355641542009307\n",
      "521: 0.3355573399291639\n",
      "522: 0.3355505542153094\n",
      "523: 0.335543796873976\n",
      "524: 0.3355370677212366\n",
      "525: 0.33553036657461427\n",
      "526: 0.33552369325306886\n",
      "527: 0.33551704757698325\n",
      "528: 0.33551042936815023\n",
      "529: 0.3355038384497593\n",
      "530: 0.3354972746463837\n",
      "531: 0.33549073778396743\n",
      "532: 0.33548422768981273\n",
      "533: 0.3354777441925675\n",
      "534: 0.33547128712221247\n",
      "535: 0.33546485631004935\n",
      "536: 0.33545845158868864\n",
      "537: 0.33545207279203726\n",
      "538: 0.33544571975528714\n",
      "539: 0.33543939231490283\n",
      "540: 0.33543309030861057\n",
      "541: 0.33542681357538623\n",
      "542: 0.33542056195544423\n",
      "543: 0.33541433529022624\n",
      "544: 0.33540813342238984\n",
      "545: 0.3354019561957978\n",
      "546: 0.33539580345550707\n",
      "547: 0.3353896750477578\n",
      "548: 0.33538357081996306\n",
      "549: 0.33537749062069805\n",
      "550: 0.33537143429968963\n",
      "551: 0.3353654017078061\n",
      "552: 0.33535939269704707\n",
      "553: 0.3353534071205332\n",
      "554: 0.3353474448324962\n",
      "555: 0.33534150568826904\n",
      "556: 0.3353355895442762\n",
      "557: 0.3353296962580239\n",
      "558: 0.33532382568809044\n",
      "559: 0.33531797769411686\n",
      "560: 0.3353121521367976\n",
      "561: 0.33530634887787114\n",
      "562: 0.3353005677801108\n",
      "563: 0.33529480870731554\n",
      "564: 0.33528907152430126\n",
      "565: 0.3352833560968917\n",
      "566: 0.3352776622919098\n",
      "567: 0.3352719899771686\n",
      "568: 0.3352663390214631\n",
      "569: 0.33526070929456137\n",
      "570: 0.33525510066719627\n",
      "571: 0.3352495130110571\n",
      "572: 0.33524394619878123\n",
      "573: 0.33523840010394584\n",
      "574: 0.33523287460106016\n",
      "575: 0.33522736956555704\n",
      "576: 0.3352218848737852\n",
      "577: 0.3352164204030013\n",
      "578: 0.3352109760313623\n",
      "579: 0.3352055516379176\n",
      "580: 0.33520014710260154\n",
      "581: 0.3351947623062253\n",
      "582: 0.3351893971304707\n",
      "583: 0.3351840514578814\n",
      "584: 0.33517872517185626\n",
      "585: 0.3351734181566422\n",
      "586: 0.33516813029732667\n",
      "587: 0.33516286147983054\n",
      "588: 0.33515761159090157\n",
      "589: 0.33515238051810675\n",
      "590: 0.335147168149826\n",
      "591: 0.3351419743752448\n",
      "592: 0.3351367990843477\n",
      "593: 0.33513164216791186\n",
      "594: 0.3351265035175\n",
      "595: 0.335121383025454\n",
      "596: 0.3351162805848884\n",
      "597: 0.335111196089684\n",
      "598: 0.3351061294344814\n",
      "599: 0.3351010805146748\n",
      "600: 0.3350960492264055\n",
      "601: 0.3350910354665561\n",
      "602: 0.335086039132744\n",
      "603: 0.33508106012331534\n",
      "604: 0.3350760983373395\n",
      "605: 0.3350711536746024\n",
      "606: 0.3350662260356012\n",
      "607: 0.33506131532153793\n",
      "608: 0.33505642143431413\n",
      "609: 0.33505154427652517\n",
      "610: 0.335046683751454\n",
      "611: 0.33504183976306623\n",
      "612: 0.33503701221600396\n",
      "613: 0.3350322010155807\n",
      "614: 0.33502740606777565\n",
      "615: 0.3350226272792283\n",
      "616: 0.3350178645572333\n",
      "617: 0.3350131178097349\n",
      "618: 0.33500838694532176\n",
      "619: 0.3350036718732217\n",
      "620: 0.33499897250329674\n",
      "621: 0.3349942887460375\n",
      "622: 0.334989620512559\n",
      "623: 0.3349849677145943\n",
      "624: 0.3349803302644912\n",
      "625: 0.3349757080752058\n",
      "626: 0.3349711010602985\n",
      "627: 0.3349665091339289\n",
      "628: 0.33496193221085085\n",
      "629: 0.33495737020640814\n",
      "630: 0.3349528230365295\n",
      "631: 0.3349482906177235\n",
      "632: 0.3349437728670751\n",
      "633: 0.33493926970223986\n",
      "634: 0.33493478104144003\n",
      "635: 0.3349303068034601\n",
      "636: 0.334925846907642\n",
      "637: 0.334921401273881\n",
      "638: 0.334916969822621\n",
      "639: 0.33491255247485086\n",
      "640: 0.3349081491520992\n",
      "641: 0.3349037597764308\n",
      "642: 0.33489938427044225\n",
      "643: 0.33489502255725767\n",
      "644: 0.33489067456052457\n",
      "645: 0.33488634020440994\n",
      "646: 0.3348820194135958\n",
      "647: 0.3348777121132756\n",
      "648: 0.3348734182291501\n",
      "649: 0.3348691376874232\n",
      "650: 0.3348648704147982\n",
      "651: 0.33486061633847386\n",
      "652: 0.33485637538614077\n",
      "653: 0.3348521474859771\n",
      "654: 0.3348479325666452\n",
      "655: 0.3348437305572876\n",
      "656: 0.3348395413875235\n",
      "657: 0.33483536498744493\n",
      "658: 0.3348312012876132\n",
      "659: 0.334827050219055\n",
      "660: 0.33482291171325956\n",
      "661: 0.334818785702174\n",
      "662: 0.33481467211820076\n",
      "663: 0.3348105708941936\n",
      "664: 0.33480648196345425\n",
      "665: 0.33480240525972904\n",
      "666: 0.33479834071720527\n",
      "667: 0.33479428827050856\n",
      "668: 0.33479024785469824\n",
      "669: 0.3347862194052653\n",
      "670: 0.33478220285812826\n",
      "671: 0.3347781981496304\n",
      "672: 0.3347742052165362\n",
      "673: 0.33477022399602846\n",
      "674: 0.33476625442570485\n",
      "675: 0.33476229644357475\n",
      "676: 0.3347583499880564\n",
      "677: 0.33475441499797376\n",
      "678: 0.3347504914125529\n",
      "679: 0.3347465791714199\n",
      "680: 0.3347426782145972\n",
      "681: 0.3347387884825004\n",
      "682: 0.33473490991593613\n",
      "683: 0.33473104245609825\n",
      "684: 0.33472718604456564\n",
      "685: 0.3347233406232987\n",
      "686: 0.33471950613463697\n",
      "687: 0.33471568252129597\n",
      "688: 0.3347118697263645\n",
      "689: 0.3347080676933021\n",
      "690: 0.3347042763659357\n",
      "691: 0.33470049568845744\n",
      "692: 0.3346967256054218\n",
      "693: 0.3346929660617426\n",
      "694: 0.3346892170026906\n",
      "695: 0.334685478373891\n",
      "696: 0.3346817501213204\n",
      "697: 0.3346780321913047\n",
      "698: 0.3346743245305159\n",
      "699: 0.33467062708596984\n",
      "700: 0.3346669398050241\n",
      "701: 0.3346632626353746\n",
      "702: 0.33465959552505375\n",
      "703: 0.3346559384224278\n",
      "704: 0.3346522912761942\n",
      "705: 0.33464865403537963\n",
      "706: 0.3346450266493368\n",
      "707: 0.33464140906774287\n",
      "708: 0.33463780124059667\n",
      "709: 0.33463420311821623\n",
      "710: 0.33463061465123684\n",
      "711: 0.3346270357906083\n",
      "712: 0.3346234664875928\n",
      "713: 0.3346199066937628\n",
      "714: 0.33461635636099846\n",
      "715: 0.3346128154414856\n",
      "716: 0.3346092838877134\n",
      "717: 0.33460576165247236\n",
      "718: 0.3346022486888518\n",
      "719: 0.3345987449502378\n",
      "720: 0.33459525039031124\n",
      "721: 0.33459176496304555\n",
      "722: 0.3345882886227044\n",
      "723: 0.3345848213238398\n",
      "724: 0.33458136302129005\n",
      "725: 0.33457791367017753\n",
      "726: 0.33457447322590667\n",
      "727: 0.33457104164416207\n",
      "728: 0.3345676188809063\n",
      "729: 0.3345642048923779\n",
      "730: 0.3345607996350897\n",
      "731: 0.3345574030658262\n",
      "732: 0.3345540151416425\n",
      "733: 0.3345506358198615\n",
      "734: 0.33454726505807264\n",
      "735: 0.3345439028141294\n",
      "736: 0.3345405490461481\n",
      "737: 0.33453720371250534\n",
      "738: 0.3345338667718367\n",
      "739: 0.33453053818303446\n",
      "740: 0.334527217905246\n",
      "741: 0.33452390589787184\n",
      "742: 0.3345206021205641\n",
      "743: 0.3345173065332245\n",
      "744: 0.33451401909600237\n",
      "745: 0.3345107397692937\n",
      "746: 0.33450746851373814\n",
      "747: 0.33450420529021857\n",
      "748: 0.33450095005985836\n",
      "749: 0.33449770278402036\n",
      "750: 0.33449446342430456\n",
      "751: 0.3344912319425473\n",
      "752: 0.33448800830081876\n",
      "753: 0.3344847924614216\n",
      "754: 0.3344815843868896\n",
      "755: 0.3344783840399854\n",
      "756: 0.33447519138369974\n",
      "757: 0.334472006381249\n",
      "758: 0.3344688289960743\n",
      "759: 0.33446565919183946\n",
      "760: 0.3344624969324296\n",
      "761: 0.3344593421819497\n",
      "762: 0.33445619490472306\n",
      "763: 0.3344530550652894\n",
      "764: 0.3344499226284037\n",
      "765: 0.33444679755903467\n",
      "766: 0.3344436798223633\n",
      "767: 0.3344405693837812\n",
      "768: 0.33443746620888903\n",
      "769: 0.3344343702634956\n",
      "770: 0.33443128151361573\n",
      "771: 0.3344281999254694\n",
      "772: 0.33442512546547987\n",
      "773: 0.33442205810027253\n",
      "774: 0.3344189977966735\n",
      "775: 0.334415944521708\n",
      "776: 0.33441289824259934\n",
      "777: 0.3344098589267672\n",
      "778: 0.3344068265418267\n",
      "779: 0.33440380105558637\n",
      "780: 0.3344007824360475\n",
      "781: 0.3343977706514026\n",
      "782: 0.33439476567003373\n",
      "783: 0.33439176746051175\n",
      "784: 0.3343887759915946\n",
      "785: 0.33438579123222634\n",
      "786: 0.3343828131515354\n",
      "787: 0.3343798417188339\n",
      "788: 0.33437687690361595\n",
      "789: 0.33437391867555666\n",
      "790: 0.3343709670045108\n",
      "791: 0.3343680218605114\n",
      "792: 0.33436508321376884\n",
      "793: 0.33436215103466965\n",
      "794: 0.33435922529377476\n",
      "795: 0.3343563059618192\n",
      "796: 0.33435339300970984\n",
      "797: 0.33435048640852544\n",
      "798: 0.3343475861295143\n",
      "799: 0.3343446921440941\n"
     ]
    }
   ],
   "source": [
    "for j in range(len(losses)):\n",
    "    print(f\"{j}: {losses[j]}\", end='\\n')\n",
    "# Ideal Gradient (800 epochs) #\n",
    "## seed(42), lr = 0.001, mu = 0.3 --> loss = 0.5433165928958901\n",
    "## seed(42), lr = 0.001, mu = 0.5 --> loss = 0.5139704562064134\n",
    "\n",
    "# Oscillating Gradient (800 epochs) #\n",
    "## seed(42), lr = 0.003, mu = 0.5 --> loss = 0.49509424569059735\n",
    "## seed(42), lr = 0.003, mu = 0.6 --> loss = 0.4102733269497619\n",
    "\n",
    "# Early stopping (patience = 50) #\n",
    "## seed(42), lr = 0.003, mu = 0.5 --> 964: 0.410228534339208\n",
    "## seed(42), lr = 0.003, mu = 0.6 --> 422: 0.46334269494781627\n",
    "\n",
    "# Ideal Gradient (800 epochs) with Feature Engineering #\n",
    "## seed(42), lr = 0.001, mu = 0.3 --> loss = 0.523951850559082\n",
    "## seed(42), lr = 0.001, mu = 0.5 --> loss = 0.4922252143522289\n",
    "\n",
    "# Early stopping (patience = 50) with Feature Engineering #\n",
    "## seed(42), lr = 0.003, mu = 0.5 --> 739: 0.41164361016071044\n",
    "## seed(42), lr = 0.003, mu = 0.6 --> 314: 0.4688941580652026"
   ]
  },
  {
   "cell_type": "code",
   "execution_count": 58,
   "id": "476c796f-207e-442b-ad72-e9716763c7bb",
   "metadata": {
    "scrolled": true
   },
   "outputs": [],
   "source": [
    "for j in range(len(best_epochs_list)):\n",
    "    print(f\"{j}: {best_epochs_list[j]}\", end='\\n')"
   ]
  },
  {
   "cell_type": "code",
   "execution_count": 59,
   "id": "cbdfe00a-3a2c-4552-81cf-276f49b0eb33",
   "metadata": {},
   "outputs": [
    {
     "data": {
      "text/plain": [
       "array([ 0.00510997, -0.020483  ,  0.03658122, -0.01540356,  0.06814969,\n",
       "       -0.10549659, -0.11352047, -0.309909  , -0.04039474, -0.01195563,\n",
       "       -0.06367129, -0.06494003,  0.02578842,  0.29113647,  0.11156793,\n",
       "       -0.00176145, -0.1022421 , -0.12549267, -0.14863908, -0.28419676,\n",
       "       -0.32385316, -0.13514482, -0.18454338, -0.32314728, -0.12773646,\n",
       "       -0.55238058,  0.31481863, -1.14186148, -0.27333017, -0.32744554,\n",
       "       -0.15897546, -1.1663326 , -0.1824781 , -0.09633045, -0.12689423,\n",
       "       -0.17669138, -0.23959142, -0.30984549, -0.52092254, -0.12506084,\n",
       "        0.02636924,  0.05140074, -0.30081072, -0.04350579, -0.60804991,\n",
       "       -0.57637641, -0.46832728])"
      ]
     },
     "execution_count": 59,
     "metadata": {},
     "output_type": "execute_result"
    }
   ],
   "source": [
    "theta"
   ]
  },
  {
   "cell_type": "markdown",
   "id": "e224970a-dd25-48f1-84b9-34b7f75b5558",
   "metadata": {},
   "source": [
    "## Model performance on training set"
   ]
  },
  {
   "cell_type": "markdown",
   "id": "299f24da-bee9-41ce-9496-a6a7d4ef66f8",
   "metadata": {},
   "source": [
    "We can test the performance of the model through its confusion matrix, F1 score, and accuracy score."
   ]
  },
  {
   "cell_type": "markdown",
   "id": "8b4dc532-cdd6-4e7d-b420-e1f932155e94",
   "metadata": {},
   "source": [
    "First, we predict on the training set."
   ]
  },
  {
   "cell_type": "code",
   "execution_count": 157,
   "id": "d1b1b0a7-3759-491d-a2be-255da74061b3",
   "metadata": {},
   "outputs": [],
   "source": [
    "## On training data\n",
    "pred = fwd(X_train, theta, dbg=False)\n",
    "\n",
    "## Decision (Threshold = 0.5)\n",
    "y_train_hat = (pred >= 0.35).astype(int)"
   ]
  },
  {
   "cell_type": "code",
   "execution_count": 158,
   "id": "daeeb20c-970f-4ad6-90b8-fdb4aaf80dfb",
   "metadata": {},
   "outputs": [
    {
     "data": {
      "text/plain": [
       "(79999, 1)"
      ]
     },
     "execution_count": 158,
     "metadata": {},
     "output_type": "execute_result"
    }
   ],
   "source": [
    "y_train_hat.shape"
   ]
  },
  {
   "cell_type": "code",
   "execution_count": 159,
   "id": "ec33b49e-a044-4fb4-83a1-014773609e85",
   "metadata": {},
   "outputs": [
    {
     "data": {
      "text/plain": [
       "(79999, 1)"
      ]
     },
     "execution_count": 159,
     "metadata": {},
     "output_type": "execute_result"
    }
   ],
   "source": [
    "y_train.shape"
   ]
  },
  {
   "cell_type": "code",
   "execution_count": 160,
   "id": "736d05c1-d3e8-4f96-b3d8-a77e0baeb242",
   "metadata": {},
   "outputs": [
    {
     "name": "stdout",
     "output_type": "stream",
     "text": [
      "[[56063  9556]\n",
      " [ 4469  9911]]\n"
     ]
    }
   ],
   "source": [
    "print(confusion_matrix(y_train, y_train_hat))"
   ]
  },
  {
   "cell_type": "code",
   "execution_count": 161,
   "id": "0e758c39-d892-4bae-9850-e4f198cc1adc",
   "metadata": {},
   "outputs": [
    {
     "name": "stdout",
     "output_type": "stream",
     "text": [
      "0.585635359116022\n"
     ]
    }
   ],
   "source": [
    "print(f1_score(y_train, y_train_hat))"
   ]
  },
  {
   "cell_type": "code",
   "execution_count": 162,
   "id": "39363b39-a534-4dd2-8b62-4d0584334cad",
   "metadata": {},
   "outputs": [
    {
     "name": "stdout",
     "output_type": "stream",
     "text": [
      "0.5091179945548877\n"
     ]
    }
   ],
   "source": [
    "print(precision_score(y_train, y_train_hat))"
   ]
  },
  {
   "cell_type": "code",
   "execution_count": 163,
   "id": "87bd042a-d37e-42da-a22b-30ffca437722",
   "metadata": {},
   "outputs": [
    {
     "name": "stdout",
     "output_type": "stream",
     "text": [
      "0.689221140472879\n"
     ]
    }
   ],
   "source": [
    "print(recall_score(y_train, y_train_hat))"
   ]
  },
  {
   "cell_type": "code",
   "execution_count": 164,
   "id": "0a6baea1-60a5-48cb-8f99-099a9cf7f40d",
   "metadata": {},
   "outputs": [
    {
     "name": "stdout",
     "output_type": "stream",
     "text": [
      "0.8567083402032905\n"
     ]
    }
   ],
   "source": [
    "print(roc_auc_score(y_train, pred))"
   ]
  },
  {
   "cell_type": "code",
   "execution_count": 165,
   "id": "e550946e-d85e-4f1d-a61f-45b1023c2adb",
   "metadata": {},
   "outputs": [
    {
     "name": "stdout",
     "output_type": "stream",
     "text": [
      "0.8246853085663571\n"
     ]
    }
   ],
   "source": [
    "print(accuracy_score(y_train, y_train_hat))"
   ]
  },
  {
   "cell_type": "markdown",
   "id": "8a282797-cbb6-4758-98fc-0493a8806112",
   "metadata": {},
   "source": [
    "## Model performance on test set"
   ]
  },
  {
   "cell_type": "markdown",
   "id": "cb8e923c-5aa5-43a1-9368-08a1b6d89162",
   "metadata": {},
   "source": [
    "Now, we predict on the test set."
   ]
  },
  {
   "cell_type": "code",
   "execution_count": 121,
   "id": "8f7563e6-be5e-4eac-94b5-fe0403d2a8e3",
   "metadata": {},
   "outputs": [],
   "source": [
    "## On test data\n",
    "\n",
    "pred = fwd(X_test, theta, dbg=False)\n",
    "\n",
    "## Decision (Threshold = 0.5)\n",
    "y_test_hat = (pred >= 0.5).astype(int)"
   ]
  },
  {
   "cell_type": "code",
   "execution_count": 122,
   "id": "65b8cbab-e86f-422b-9e28-6c757710fa48",
   "metadata": {},
   "outputs": [
    {
     "data": {
      "text/plain": [
       "(20000, 1)"
      ]
     },
     "execution_count": 122,
     "metadata": {},
     "output_type": "execute_result"
    }
   ],
   "source": [
    "y_test_hat.shape"
   ]
  },
  {
   "cell_type": "code",
   "execution_count": 123,
   "id": "7243e085-bec0-4925-a951-6176ec93d355",
   "metadata": {},
   "outputs": [
    {
     "data": {
      "text/plain": [
       "(20000, 1)"
      ]
     },
     "execution_count": 123,
     "metadata": {},
     "output_type": "execute_result"
    }
   ],
   "source": [
    "y_test.shape"
   ]
  },
  {
   "cell_type": "code",
   "execution_count": 124,
   "id": "12b74855-2278-4ca2-8666-ef44f2570b6c",
   "metadata": {},
   "outputs": [
    {
     "name": "stdout",
     "output_type": "stream",
     "text": [
      "[[15571   981]\n",
      " [ 2282  1166]]\n"
     ]
    }
   ],
   "source": [
    "print(confusion_matrix(y_test, y_test_hat))"
   ]
  },
  {
   "cell_type": "code",
   "execution_count": 125,
   "id": "28d2b97d-3609-4d17-9c64-f3b70ed67fb4",
   "metadata": {},
   "outputs": [
    {
     "name": "stdout",
     "output_type": "stream",
     "text": [
      "0.4168007149240393\n"
     ]
    }
   ],
   "source": [
    "print(f1_score(y_test, y_test_hat))"
   ]
  },
  {
   "cell_type": "code",
   "execution_count": 126,
   "id": "8630873e-a3d8-48ee-99d9-a1f05e6ca0a0",
   "metadata": {},
   "outputs": [
    {
     "name": "stdout",
     "output_type": "stream",
     "text": [
      "0.8568200729137113\n"
     ]
    }
   ],
   "source": [
    "print(roc_auc_score(y_test, pred))"
   ]
  },
  {
   "cell_type": "code",
   "execution_count": 127,
   "id": "964b4d21-ad2e-435c-a411-8912ce882b16",
   "metadata": {},
   "outputs": [
    {
     "name": "stdout",
     "output_type": "stream",
     "text": [
      "0.83685\n"
     ]
    }
   ],
   "source": [
    "print(accuracy_score(y_test, y_test_hat))"
   ]
  },
  {
   "cell_type": "markdown",
   "id": "e0f60e83-7208-489b-9e46-b727051d0873",
   "metadata": {},
   "source": [
    "## Write to a CSV file"
   ]
  },
  {
   "cell_type": "code",
   "execution_count": 48,
   "id": "02b3c5af-1c3f-452e-9f2a-4d3fe178e64b",
   "metadata": {},
   "outputs": [],
   "source": [
    "# Convert the NumPy array to a DataFrame\n",
    "X_train_csv = pd.DataFrame(X_train)\n",
    "y_train_csv = pd.DataFrame(y_train)\n",
    "X_test_csv = pd.DataFrame(X_test)\n",
    "y_test_csv = pd.DataFrame(y_test)\n",
    "\n",
    "# Save the DataFrame to a CSV file\n",
    "X_train_csv.to_csv(\"../cscore_data/X_train_79999.csv\", index=False)\n",
    "y_train_csv.to_csv(\"../cscore_data/y_train_79999.csv\", index=False)\n",
    "X_test_csv.to_csv(\"../cscore_data/X_test_20000.csv\", index=False)\n",
    "y_test_csv.to_csv(\"../cscore_data/y_test_20000.csv\", index=False)"
   ]
  },
  {
   "cell_type": "code",
   "execution_count": 49,
   "id": "aec99244-3473-4416-b2fe-66a81ce93f61",
   "metadata": {},
   "outputs": [],
   "source": [
    "del X"
   ]
  },
  {
   "cell_type": "code",
   "execution_count": 51,
   "id": "a70a0e2d-1bdb-4844-93b0-a88ced8e16b8",
   "metadata": {},
   "outputs": [
    {
     "data": {
      "text/html": [
       "<div>\n",
       "<style scoped>\n",
       "    .dataframe tbody tr th:only-of-type {\n",
       "        vertical-align: middle;\n",
       "    }\n",
       "\n",
       "    .dataframe tbody tr th {\n",
       "        vertical-align: top;\n",
       "    }\n",
       "\n",
       "    .dataframe thead th {\n",
       "        text-align: right;\n",
       "    }\n",
       "</style>\n",
       "<table border=\"1\" class=\"dataframe\">\n",
       "  <thead>\n",
       "    <tr style=\"text-align: right;\">\n",
       "      <th></th>\n",
       "      <th>0</th>\n",
       "      <th>1</th>\n",
       "      <th>2</th>\n",
       "      <th>3</th>\n",
       "      <th>4</th>\n",
       "      <th>5</th>\n",
       "      <th>6</th>\n",
       "      <th>7</th>\n",
       "      <th>8</th>\n",
       "      <th>9</th>\n",
       "      <th>10</th>\n",
       "      <th>11</th>\n",
       "      <th>12</th>\n",
       "      <th>13</th>\n",
       "      <th>14</th>\n",
       "    </tr>\n",
       "  </thead>\n",
       "  <tbody>\n",
       "    <tr>\n",
       "      <th>0</th>\n",
       "      <td>-0.346602</td>\n",
       "      <td>0.393752</td>\n",
       "      <td>0.508346</td>\n",
       "      <td>0.515046</td>\n",
       "      <td>0.493245</td>\n",
       "      <td>0.568628</td>\n",
       "      <td>0.839726</td>\n",
       "      <td>1.303072</td>\n",
       "      <td>0.824098</td>\n",
       "      <td>1.640900</td>\n",
       "      <td>0.853853</td>\n",
       "      <td>0.962306</td>\n",
       "      <td>-0.468365</td>\n",
       "      <td>-0.578554</td>\n",
       "      <td>0.681646</td>\n",
       "    </tr>\n",
       "    <tr>\n",
       "      <th>1</th>\n",
       "      <td>-0.256603</td>\n",
       "      <td>-0.522647</td>\n",
       "      <td>-0.499451</td>\n",
       "      <td>0.364394</td>\n",
       "      <td>-0.700135</td>\n",
       "      <td>0.292650</td>\n",
       "      <td>-1.674983</td>\n",
       "      <td>-1.078513</td>\n",
       "      <td>0.181687</td>\n",
       "      <td>-0.765559</td>\n",
       "      <td>-0.185656</td>\n",
       "      <td>0.105056</td>\n",
       "      <td>1.266617</td>\n",
       "      <td>0.369884</td>\n",
       "      <td>-2.089671</td>\n",
       "    </tr>\n",
       "    <tr>\n",
       "      <th>2</th>\n",
       "      <td>0.319596</td>\n",
       "      <td>-1.757556</td>\n",
       "      <td>-1.954014</td>\n",
       "      <td>0.515046</td>\n",
       "      <td>-0.172056</td>\n",
       "      <td>0.393296</td>\n",
       "      <td>0.116532</td>\n",
       "      <td>-0.230175</td>\n",
       "      <td>2.366066</td>\n",
       "      <td>0.069805</td>\n",
       "      <td>0.514149</td>\n",
       "      <td>0.565818</td>\n",
       "      <td>0.012495</td>\n",
       "      <td>-0.756321</td>\n",
       "      <td>-0.640697</td>\n",
       "    </tr>\n",
       "    <tr>\n",
       "      <th>3</th>\n",
       "      <td>-0.394233</td>\n",
       "      <td>-0.817221</td>\n",
       "      <td>-0.886786</td>\n",
       "      <td>0.771718</td>\n",
       "      <td>0.493245</td>\n",
       "      <td>0.717882</td>\n",
       "      <td>1.300659</td>\n",
       "      <td>0.891266</td>\n",
       "      <td>0.478968</td>\n",
       "      <td>0.439414</td>\n",
       "      <td>0.610375</td>\n",
       "      <td>0.930182</td>\n",
       "      <td>0.988590</td>\n",
       "      <td>0.348242</td>\n",
       "      <td>0.597783</td>\n",
       "    </tr>\n",
       "    <tr>\n",
       "      <th>4</th>\n",
       "      <td>-0.300769</td>\n",
       "      <td>0.682193</td>\n",
       "      <td>0.888724</td>\n",
       "      <td>0.771718</td>\n",
       "      <td>0.028710</td>\n",
       "      <td>0.484778</td>\n",
       "      <td>1.164501</td>\n",
       "      <td>1.488163</td>\n",
       "      <td>0.604833</td>\n",
       "      <td>0.985493</td>\n",
       "      <td>0.610375</td>\n",
       "      <td>1.268575</td>\n",
       "      <td>1.459624</td>\n",
       "      <td>-2.181498</td>\n",
       "      <td>1.286865</td>\n",
       "    </tr>\n",
       "  </tbody>\n",
       "</table>\n",
       "</div>"
      ],
      "text/plain": [
       "         0         1         2         3         4         5         6   \\\n",
       "0 -0.346602  0.393752  0.508346  0.515046  0.493245  0.568628  0.839726   \n",
       "1 -0.256603 -0.522647 -0.499451  0.364394 -0.700135  0.292650 -1.674983   \n",
       "2  0.319596 -1.757556 -1.954014  0.515046 -0.172056  0.393296  0.116532   \n",
       "3 -0.394233 -0.817221 -0.886786  0.771718  0.493245  0.717882  1.300659   \n",
       "4 -0.300769  0.682193  0.888724  0.771718  0.028710  0.484778  1.164501   \n",
       "\n",
       "         7         8         9         10        11        12        13  \\\n",
       "0  1.303072  0.824098  1.640900  0.853853  0.962306 -0.468365 -0.578554   \n",
       "1 -1.078513  0.181687 -0.765559 -0.185656  0.105056  1.266617  0.369884   \n",
       "2 -0.230175  2.366066  0.069805  0.514149  0.565818  0.012495 -0.756321   \n",
       "3  0.891266  0.478968  0.439414  0.610375  0.930182  0.988590  0.348242   \n",
       "4  1.488163  0.604833  0.985493  0.610375  1.268575  1.459624 -2.181498   \n",
       "\n",
       "         14  \n",
       "0  0.681646  \n",
       "1 -2.089671  \n",
       "2 -0.640697  \n",
       "3  0.597783  \n",
       "4  1.286865  "
      ]
     },
     "execution_count": 51,
     "metadata": {},
     "output_type": "execute_result"
    }
   ],
   "source": [
    "X_train_csv[X_train_csv.columns[:15]].head()"
   ]
  },
  {
   "cell_type": "code",
   "execution_count": null,
   "id": "c523c5a8-2f97-45c7-aa55-48e47d1e14b2",
   "metadata": {},
   "outputs": [],
   "source": []
  }
 ],
 "metadata": {
  "kernelspec": {
   "display_name": "Python 3 (ipykernel)",
   "language": "python",
   "name": "python3"
  },
  "language_info": {
   "codemirror_mode": {
    "name": "ipython",
    "version": 3
   },
   "file_extension": ".py",
   "mimetype": "text/x-python",
   "name": "python",
   "nbconvert_exporter": "python",
   "pygments_lexer": "ipython3",
   "version": "3.10.13"
  }
 },
 "nbformat": 4,
 "nbformat_minor": 5
}
