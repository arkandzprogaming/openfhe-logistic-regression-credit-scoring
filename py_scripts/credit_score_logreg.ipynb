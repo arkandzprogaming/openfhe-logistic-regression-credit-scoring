{
 "cells": [
  {
   "cell_type": "markdown",
   "id": "dab2dd2e-97ae-441b-a3ad-8fa37f50e703",
   "metadata": {},
   "source": [
    "# Credit score classification using logistic regression "
   ]
  },
  {
   "cell_type": "markdown",
   "id": "88f92936-ae0e-4a91-becb-b274541a008d",
   "metadata": {},
   "source": [
    "We are using a credit-related dataset found in Kaggle (source: https://www.kaggle.com/datasets/parisrohan/credit-score-classification/data). The dataset consists of 27 input features and one target label, that is the credit score."
   ]
  },
  {
   "cell_type": "markdown",
   "id": "7482adc8-bb1b-4458-8d73-7457db8e82ae",
   "metadata": {},
   "source": [
    "Goal : To predict the credit score of a new, unseen data using logistic regression model."
   ]
  },
  {
   "cell_type": "code",
   "execution_count": 1,
   "id": "4766b21f-e8c0-43a6-86df-f89f2d11da45",
   "metadata": {},
   "outputs": [
    {
     "data": {
      "text/plain": [
       "{'divide': 'warn', 'over': 'warn', 'under': 'ignore', 'invalid': 'warn'}"
      ]
     },
     "execution_count": 1,
     "metadata": {},
     "output_type": "execute_result"
    }
   ],
   "source": [
    "import numpy as np\n",
    "np.random.seed(42)\n",
    "import pandas as pd\n",
    "import tqdm\n",
    "\n",
    "from sklearn.model_selection import train_test_split\n",
    "from sklearn.preprocessing import StandardScaler\n",
    "from sklearn.metrics import roc_auc_score\n",
    "from sklearn.metrics import confusion_matrix, accuracy_score, f1_score\n",
    "from sklearn.impute import KNNImputer\n",
    "from numba import njit\n",
    "\n",
    "np.seterr(all='raise')"
   ]
  },
  {
   "cell_type": "markdown",
   "id": "e51ed538-0687-4235-9e4b-9526f7397194",
   "metadata": {},
   "source": [
    "## Load and clean the data"
   ]
  },
  {
   "cell_type": "code",
   "execution_count": 2,
   "id": "64034e0b-460c-4d41-8478-516cf9a866a6",
   "metadata": {},
   "outputs": [],
   "source": [
    "def load_data():\n",
    "    filename = \"../train_data/cs_train.csv\"\n",
    "    df = pd.read_csv(filename)\n",
    "\n",
    "    ## Separate target from features\n",
    "    X = df.drop(columns=['Credit_Score'])\n",
    "    y = df['Credit_Score']\n",
    "\n",
    "    return X, y"
   ]
  },
  {
   "cell_type": "code",
   "execution_count": 3,
   "id": "f2c654aa-4cb0-4733-a1dd-1117e1ec4005",
   "metadata": {},
   "outputs": [],
   "source": [
    "def slice_split(X, y, num_samples, compare_to_r_ref):\n",
    "    X = X.to_numpy()[:num_samples]\n",
    "    y = y.to_numpy()[:num_samples]\n",
    "    \n",
    "    ## Split into training and test set\n",
    "    X_train, X_test, y_train, y_test = train_test_split(X, y, test_size=0.2, random_state=1332)\n",
    "    \n",
    "    print(f\"Train X shape is: {X_train.shape}\")\n",
    "    print(f\"Train Y shape is: {y_train.shape}\")\n",
    "    print(f\"Test X shape is: {X_test.shape}\")\n",
    "    print(f\"Test Y shape is: {y_test.shape}\")\n",
    "    return X_train, X_test, y_train, y_test"
   ]
  },
  {
   "cell_type": "code",
   "execution_count": 4,
   "id": "95631795-2313-4740-8e98-9fdb16e3b426",
   "metadata": {},
   "outputs": [
    {
     "name": "stderr",
     "output_type": "stream",
     "text": [
      "C:\\Users\\USER\\AppData\\Local\\Temp\\ipykernel_13332\\566418612.py:3: DtypeWarning: Columns (26) have mixed types. Specify dtype option on import or set low_memory=False.\n",
      "  df = pd.read_csv(filename)\n"
     ]
    },
    {
     "data": {
      "text/html": [
       "<div>\n",
       "<style scoped>\n",
       "    .dataframe tbody tr th:only-of-type {\n",
       "        vertical-align: middle;\n",
       "    }\n",
       "\n",
       "    .dataframe tbody tr th {\n",
       "        vertical-align: top;\n",
       "    }\n",
       "\n",
       "    .dataframe thead th {\n",
       "        text-align: right;\n",
       "    }\n",
       "</style>\n",
       "<table border=\"1\" class=\"dataframe\">\n",
       "  <thead>\n",
       "    <tr style=\"text-align: right;\">\n",
       "      <th></th>\n",
       "      <th>ID</th>\n",
       "      <th>Customer_ID</th>\n",
       "      <th>Month</th>\n",
       "      <th>Name</th>\n",
       "      <th>Age</th>\n",
       "      <th>SSN</th>\n",
       "      <th>Occupation</th>\n",
       "      <th>Annual_Income</th>\n",
       "      <th>Monthly_Inhand_Salary</th>\n",
       "      <th>Num_Bank_Accounts</th>\n",
       "      <th>...</th>\n",
       "      <th>Num_Credit_Inquiries</th>\n",
       "      <th>Credit_Mix</th>\n",
       "      <th>Outstanding_Debt</th>\n",
       "      <th>Credit_Utilization_Ratio</th>\n",
       "      <th>Credit_History_Age</th>\n",
       "      <th>Payment_of_Min_Amount</th>\n",
       "      <th>Total_EMI_per_month</th>\n",
       "      <th>Amount_invested_monthly</th>\n",
       "      <th>Payment_Behaviour</th>\n",
       "      <th>Monthly_Balance</th>\n",
       "    </tr>\n",
       "  </thead>\n",
       "  <tbody>\n",
       "    <tr>\n",
       "      <th>0</th>\n",
       "      <td>0x1602</td>\n",
       "      <td>CUS_0xd40</td>\n",
       "      <td>January</td>\n",
       "      <td>Aaron Maashoh</td>\n",
       "      <td>23</td>\n",
       "      <td>821-00-0265</td>\n",
       "      <td>Scientist</td>\n",
       "      <td>19114.12</td>\n",
       "      <td>1824.843333</td>\n",
       "      <td>3</td>\n",
       "      <td>...</td>\n",
       "      <td>4.0</td>\n",
       "      <td>_</td>\n",
       "      <td>809.98</td>\n",
       "      <td>26.822620</td>\n",
       "      <td>22 Years and 1 Months</td>\n",
       "      <td>No</td>\n",
       "      <td>49.574949</td>\n",
       "      <td>80.41529543900253</td>\n",
       "      <td>High_spent_Small_value_payments</td>\n",
       "      <td>312.49408867943663</td>\n",
       "    </tr>\n",
       "    <tr>\n",
       "      <th>1</th>\n",
       "      <td>0x1603</td>\n",
       "      <td>CUS_0xd40</td>\n",
       "      <td>February</td>\n",
       "      <td>Aaron Maashoh</td>\n",
       "      <td>23</td>\n",
       "      <td>821-00-0265</td>\n",
       "      <td>Scientist</td>\n",
       "      <td>19114.12</td>\n",
       "      <td>NaN</td>\n",
       "      <td>3</td>\n",
       "      <td>...</td>\n",
       "      <td>4.0</td>\n",
       "      <td>Good</td>\n",
       "      <td>809.98</td>\n",
       "      <td>31.944960</td>\n",
       "      <td>NaN</td>\n",
       "      <td>No</td>\n",
       "      <td>49.574949</td>\n",
       "      <td>118.28022162236736</td>\n",
       "      <td>Low_spent_Large_value_payments</td>\n",
       "      <td>284.62916249607184</td>\n",
       "    </tr>\n",
       "    <tr>\n",
       "      <th>2</th>\n",
       "      <td>0x1604</td>\n",
       "      <td>CUS_0xd40</td>\n",
       "      <td>March</td>\n",
       "      <td>Aaron Maashoh</td>\n",
       "      <td>-500</td>\n",
       "      <td>821-00-0265</td>\n",
       "      <td>Scientist</td>\n",
       "      <td>19114.12</td>\n",
       "      <td>NaN</td>\n",
       "      <td>3</td>\n",
       "      <td>...</td>\n",
       "      <td>4.0</td>\n",
       "      <td>Good</td>\n",
       "      <td>809.98</td>\n",
       "      <td>28.609352</td>\n",
       "      <td>22 Years and 3 Months</td>\n",
       "      <td>No</td>\n",
       "      <td>49.574949</td>\n",
       "      <td>81.699521264648</td>\n",
       "      <td>Low_spent_Medium_value_payments</td>\n",
       "      <td>331.2098628537912</td>\n",
       "    </tr>\n",
       "    <tr>\n",
       "      <th>3</th>\n",
       "      <td>0x1605</td>\n",
       "      <td>CUS_0xd40</td>\n",
       "      <td>April</td>\n",
       "      <td>Aaron Maashoh</td>\n",
       "      <td>23</td>\n",
       "      <td>821-00-0265</td>\n",
       "      <td>Scientist</td>\n",
       "      <td>19114.12</td>\n",
       "      <td>NaN</td>\n",
       "      <td>3</td>\n",
       "      <td>...</td>\n",
       "      <td>4.0</td>\n",
       "      <td>Good</td>\n",
       "      <td>809.98</td>\n",
       "      <td>31.377862</td>\n",
       "      <td>22 Years and 4 Months</td>\n",
       "      <td>No</td>\n",
       "      <td>49.574949</td>\n",
       "      <td>199.4580743910713</td>\n",
       "      <td>Low_spent_Small_value_payments</td>\n",
       "      <td>223.45130972736786</td>\n",
       "    </tr>\n",
       "    <tr>\n",
       "      <th>4</th>\n",
       "      <td>0x1606</td>\n",
       "      <td>CUS_0xd40</td>\n",
       "      <td>May</td>\n",
       "      <td>Aaron Maashoh</td>\n",
       "      <td>23</td>\n",
       "      <td>821-00-0265</td>\n",
       "      <td>Scientist</td>\n",
       "      <td>19114.12</td>\n",
       "      <td>1824.843333</td>\n",
       "      <td>3</td>\n",
       "      <td>...</td>\n",
       "      <td>4.0</td>\n",
       "      <td>Good</td>\n",
       "      <td>809.98</td>\n",
       "      <td>24.797347</td>\n",
       "      <td>22 Years and 5 Months</td>\n",
       "      <td>No</td>\n",
       "      <td>49.574949</td>\n",
       "      <td>41.420153086217326</td>\n",
       "      <td>High_spent_Medium_value_payments</td>\n",
       "      <td>341.48923103222177</td>\n",
       "    </tr>\n",
       "  </tbody>\n",
       "</table>\n",
       "<p>5 rows × 27 columns</p>\n",
       "</div>"
      ],
      "text/plain": [
       "       ID Customer_ID     Month           Name   Age          SSN Occupation  \\\n",
       "0  0x1602   CUS_0xd40   January  Aaron Maashoh    23  821-00-0265  Scientist   \n",
       "1  0x1603   CUS_0xd40  February  Aaron Maashoh    23  821-00-0265  Scientist   \n",
       "2  0x1604   CUS_0xd40     March  Aaron Maashoh  -500  821-00-0265  Scientist   \n",
       "3  0x1605   CUS_0xd40     April  Aaron Maashoh    23  821-00-0265  Scientist   \n",
       "4  0x1606   CUS_0xd40       May  Aaron Maashoh    23  821-00-0265  Scientist   \n",
       "\n",
       "  Annual_Income  Monthly_Inhand_Salary  Num_Bank_Accounts  ...  \\\n",
       "0      19114.12            1824.843333                  3  ...   \n",
       "1      19114.12                    NaN                  3  ...   \n",
       "2      19114.12                    NaN                  3  ...   \n",
       "3      19114.12                    NaN                  3  ...   \n",
       "4      19114.12            1824.843333                  3  ...   \n",
       "\n",
       "   Num_Credit_Inquiries  Credit_Mix Outstanding_Debt Credit_Utilization_Ratio  \\\n",
       "0                   4.0           _           809.98                26.822620   \n",
       "1                   4.0        Good           809.98                31.944960   \n",
       "2                   4.0        Good           809.98                28.609352   \n",
       "3                   4.0        Good           809.98                31.377862   \n",
       "4                   4.0        Good           809.98                24.797347   \n",
       "\n",
       "      Credit_History_Age Payment_of_Min_Amount Total_EMI_per_month  \\\n",
       "0  22 Years and 1 Months                    No           49.574949   \n",
       "1                    NaN                    No           49.574949   \n",
       "2  22 Years and 3 Months                    No           49.574949   \n",
       "3  22 Years and 4 Months                    No           49.574949   \n",
       "4  22 Years and 5 Months                    No           49.574949   \n",
       "\n",
       "   Amount_invested_monthly                 Payment_Behaviour  \\\n",
       "0        80.41529543900253   High_spent_Small_value_payments   \n",
       "1       118.28022162236736    Low_spent_Large_value_payments   \n",
       "2          81.699521264648   Low_spent_Medium_value_payments   \n",
       "3        199.4580743910713    Low_spent_Small_value_payments   \n",
       "4       41.420153086217326  High_spent_Medium_value_payments   \n",
       "\n",
       "      Monthly_Balance  \n",
       "0  312.49408867943663  \n",
       "1  284.62916249607184  \n",
       "2   331.2098628537912  \n",
       "3  223.45130972736786  \n",
       "4  341.48923103222177  \n",
       "\n",
       "[5 rows x 27 columns]"
      ]
     },
     "execution_count": 4,
     "metadata": {},
     "output_type": "execute_result"
    }
   ],
   "source": [
    "X, y = load_data()\n",
    "X.head()"
   ]
  },
  {
   "cell_type": "markdown",
   "id": "fb8e3154-9126-4ace-b8ba-6743473696f7",
   "metadata": {},
   "source": [
    "We'll then perform data cleaning to filter out irrelevant features for our prediction. A little bit of feature engineering after might be necessary."
   ]
  },
  {
   "cell_type": "markdown",
   "id": "349fe467-4d9d-40dc-9ec8-6f88fef0e32f",
   "metadata": {},
   "source": [
    "First of all, we need to look more into our 'Monthly_Balance' column, which holds more than one data type, hence detected as DTypeWarning. "
   ]
  },
  {
   "cell_type": "code",
   "execution_count": 5,
   "id": "9cfc84d9-1db2-4d4c-baac-2b97e12a35cd",
   "metadata": {},
   "outputs": [
    {
     "name": "stdout",
     "output_type": "stream",
     "text": [
      "['312.49408867943663' '284.62916249607184' '331.2098628537912' ...\n",
      " 516.8090832742814 319.1649785257098 393.6736955618808]\n"
     ]
    }
   ],
   "source": [
    "print(X['Monthly_Balance'].unique())"
   ]
  },
  {
   "cell_type": "code",
   "execution_count": 6,
   "id": "6a41b7b8-30e9-403f-b727-28252852ab81",
   "metadata": {},
   "outputs": [
    {
     "data": {
      "text/html": [
       "<div>\n",
       "<style scoped>\n",
       "    .dataframe tbody tr th:only-of-type {\n",
       "        vertical-align: middle;\n",
       "    }\n",
       "\n",
       "    .dataframe tbody tr th {\n",
       "        vertical-align: top;\n",
       "    }\n",
       "\n",
       "    .dataframe thead th {\n",
       "        text-align: right;\n",
       "    }\n",
       "</style>\n",
       "<table border=\"1\" class=\"dataframe\">\n",
       "  <thead>\n",
       "    <tr style=\"text-align: right;\">\n",
       "      <th></th>\n",
       "      <th>ID</th>\n",
       "      <th>Customer_ID</th>\n",
       "      <th>Month</th>\n",
       "      <th>Name</th>\n",
       "      <th>Age</th>\n",
       "      <th>SSN</th>\n",
       "      <th>Occupation</th>\n",
       "      <th>Annual_Income</th>\n",
       "      <th>Monthly_Inhand_Salary</th>\n",
       "      <th>Num_Bank_Accounts</th>\n",
       "      <th>...</th>\n",
       "      <th>Num_Credit_Inquiries</th>\n",
       "      <th>Credit_Mix</th>\n",
       "      <th>Outstanding_Debt</th>\n",
       "      <th>Credit_Utilization_Ratio</th>\n",
       "      <th>Credit_History_Age</th>\n",
       "      <th>Payment_of_Min_Amount</th>\n",
       "      <th>Total_EMI_per_month</th>\n",
       "      <th>Amount_invested_monthly</th>\n",
       "      <th>Payment_Behaviour</th>\n",
       "      <th>Monthly_Balance</th>\n",
       "    </tr>\n",
       "  </thead>\n",
       "  <tbody>\n",
       "    <tr>\n",
       "      <th>0</th>\n",
       "      <td>0x1602</td>\n",
       "      <td>CUS_0xd40</td>\n",
       "      <td>January</td>\n",
       "      <td>Aaron Maashoh</td>\n",
       "      <td>23</td>\n",
       "      <td>821-00-0265</td>\n",
       "      <td>Scientist</td>\n",
       "      <td>19114.12</td>\n",
       "      <td>1824.843333</td>\n",
       "      <td>3</td>\n",
       "      <td>...</td>\n",
       "      <td>4.0</td>\n",
       "      <td>_</td>\n",
       "      <td>809.98</td>\n",
       "      <td>26.822620</td>\n",
       "      <td>22 Years and 1 Months</td>\n",
       "      <td>No</td>\n",
       "      <td>49.574949</td>\n",
       "      <td>80.41529543900253</td>\n",
       "      <td>High_spent_Small_value_payments</td>\n",
       "      <td>312.494089</td>\n",
       "    </tr>\n",
       "    <tr>\n",
       "      <th>1</th>\n",
       "      <td>0x1603</td>\n",
       "      <td>CUS_0xd40</td>\n",
       "      <td>February</td>\n",
       "      <td>Aaron Maashoh</td>\n",
       "      <td>23</td>\n",
       "      <td>821-00-0265</td>\n",
       "      <td>Scientist</td>\n",
       "      <td>19114.12</td>\n",
       "      <td>NaN</td>\n",
       "      <td>3</td>\n",
       "      <td>...</td>\n",
       "      <td>4.0</td>\n",
       "      <td>Good</td>\n",
       "      <td>809.98</td>\n",
       "      <td>31.944960</td>\n",
       "      <td>NaN</td>\n",
       "      <td>No</td>\n",
       "      <td>49.574949</td>\n",
       "      <td>118.28022162236736</td>\n",
       "      <td>Low_spent_Large_value_payments</td>\n",
       "      <td>284.629162</td>\n",
       "    </tr>\n",
       "    <tr>\n",
       "      <th>2</th>\n",
       "      <td>0x1604</td>\n",
       "      <td>CUS_0xd40</td>\n",
       "      <td>March</td>\n",
       "      <td>Aaron Maashoh</td>\n",
       "      <td>-500</td>\n",
       "      <td>821-00-0265</td>\n",
       "      <td>Scientist</td>\n",
       "      <td>19114.12</td>\n",
       "      <td>NaN</td>\n",
       "      <td>3</td>\n",
       "      <td>...</td>\n",
       "      <td>4.0</td>\n",
       "      <td>Good</td>\n",
       "      <td>809.98</td>\n",
       "      <td>28.609352</td>\n",
       "      <td>22 Years and 3 Months</td>\n",
       "      <td>No</td>\n",
       "      <td>49.574949</td>\n",
       "      <td>81.699521264648</td>\n",
       "      <td>Low_spent_Medium_value_payments</td>\n",
       "      <td>331.209863</td>\n",
       "    </tr>\n",
       "    <tr>\n",
       "      <th>3</th>\n",
       "      <td>0x1605</td>\n",
       "      <td>CUS_0xd40</td>\n",
       "      <td>April</td>\n",
       "      <td>Aaron Maashoh</td>\n",
       "      <td>23</td>\n",
       "      <td>821-00-0265</td>\n",
       "      <td>Scientist</td>\n",
       "      <td>19114.12</td>\n",
       "      <td>NaN</td>\n",
       "      <td>3</td>\n",
       "      <td>...</td>\n",
       "      <td>4.0</td>\n",
       "      <td>Good</td>\n",
       "      <td>809.98</td>\n",
       "      <td>31.377862</td>\n",
       "      <td>22 Years and 4 Months</td>\n",
       "      <td>No</td>\n",
       "      <td>49.574949</td>\n",
       "      <td>199.4580743910713</td>\n",
       "      <td>Low_spent_Small_value_payments</td>\n",
       "      <td>223.451310</td>\n",
       "    </tr>\n",
       "    <tr>\n",
       "      <th>4</th>\n",
       "      <td>0x1606</td>\n",
       "      <td>CUS_0xd40</td>\n",
       "      <td>May</td>\n",
       "      <td>Aaron Maashoh</td>\n",
       "      <td>23</td>\n",
       "      <td>821-00-0265</td>\n",
       "      <td>Scientist</td>\n",
       "      <td>19114.12</td>\n",
       "      <td>1824.843333</td>\n",
       "      <td>3</td>\n",
       "      <td>...</td>\n",
       "      <td>4.0</td>\n",
       "      <td>Good</td>\n",
       "      <td>809.98</td>\n",
       "      <td>24.797347</td>\n",
       "      <td>22 Years and 5 Months</td>\n",
       "      <td>No</td>\n",
       "      <td>49.574949</td>\n",
       "      <td>41.420153086217326</td>\n",
       "      <td>High_spent_Medium_value_payments</td>\n",
       "      <td>341.489231</td>\n",
       "    </tr>\n",
       "  </tbody>\n",
       "</table>\n",
       "<p>5 rows × 27 columns</p>\n",
       "</div>"
      ],
      "text/plain": [
       "       ID Customer_ID     Month           Name   Age          SSN Occupation  \\\n",
       "0  0x1602   CUS_0xd40   January  Aaron Maashoh    23  821-00-0265  Scientist   \n",
       "1  0x1603   CUS_0xd40  February  Aaron Maashoh    23  821-00-0265  Scientist   \n",
       "2  0x1604   CUS_0xd40     March  Aaron Maashoh  -500  821-00-0265  Scientist   \n",
       "3  0x1605   CUS_0xd40     April  Aaron Maashoh    23  821-00-0265  Scientist   \n",
       "4  0x1606   CUS_0xd40       May  Aaron Maashoh    23  821-00-0265  Scientist   \n",
       "\n",
       "  Annual_Income  Monthly_Inhand_Salary  Num_Bank_Accounts  ...  \\\n",
       "0      19114.12            1824.843333                  3  ...   \n",
       "1      19114.12                    NaN                  3  ...   \n",
       "2      19114.12                    NaN                  3  ...   \n",
       "3      19114.12                    NaN                  3  ...   \n",
       "4      19114.12            1824.843333                  3  ...   \n",
       "\n",
       "   Num_Credit_Inquiries  Credit_Mix Outstanding_Debt Credit_Utilization_Ratio  \\\n",
       "0                   4.0           _           809.98                26.822620   \n",
       "1                   4.0        Good           809.98                31.944960   \n",
       "2                   4.0        Good           809.98                28.609352   \n",
       "3                   4.0        Good           809.98                31.377862   \n",
       "4                   4.0        Good           809.98                24.797347   \n",
       "\n",
       "      Credit_History_Age Payment_of_Min_Amount Total_EMI_per_month  \\\n",
       "0  22 Years and 1 Months                    No           49.574949   \n",
       "1                    NaN                    No           49.574949   \n",
       "2  22 Years and 3 Months                    No           49.574949   \n",
       "3  22 Years and 4 Months                    No           49.574949   \n",
       "4  22 Years and 5 Months                    No           49.574949   \n",
       "\n",
       "   Amount_invested_monthly                 Payment_Behaviour Monthly_Balance  \n",
       "0        80.41529543900253   High_spent_Small_value_payments      312.494089  \n",
       "1       118.28022162236736    Low_spent_Large_value_payments      284.629162  \n",
       "2          81.699521264648   Low_spent_Medium_value_payments      331.209863  \n",
       "3        199.4580743910713    Low_spent_Small_value_payments      223.451310  \n",
       "4       41.420153086217326  High_spent_Medium_value_payments      341.489231  \n",
       "\n",
       "[5 rows x 27 columns]"
      ]
     },
     "execution_count": 6,
     "metadata": {},
     "output_type": "execute_result"
    }
   ],
   "source": [
    "X['Monthly_Balance'] = pd.to_numeric(X['Monthly_Balance'], errors='coerce')\n",
    "X.head()"
   ]
  },
  {
   "cell_type": "code",
   "execution_count": 7,
   "id": "ba06fa87-ce54-4f5c-bdbf-686f94b59054",
   "metadata": {},
   "outputs": [
    {
     "data": {
      "text/plain": [
       "(100000, 27)"
      ]
     },
     "execution_count": 7,
     "metadata": {},
     "output_type": "execute_result"
    }
   ],
   "source": [
    "X.shape"
   ]
  },
  {
   "cell_type": "markdown",
   "id": "52e466b3-77b9-491d-a623-f73c06f2ed15",
   "metadata": {},
   "source": [
    "'ID', 'Customer_ID', 'Name', 'SSN', 'Occupation', and 'Type_of_Loan' are, for now, **irrelevant** to the prediction."
   ]
  },
  {
   "cell_type": "code",
   "execution_count": 8,
   "id": "bf654d7e-caac-47b4-ad23-0131bf836c9a",
   "metadata": {},
   "outputs": [
    {
     "data": {
      "text/plain": [
       "(100000, 21)"
      ]
     },
     "execution_count": 8,
     "metadata": {},
     "output_type": "execute_result"
    }
   ],
   "source": [
    "## Drop irrelevant features\n",
    "X = X.drop(columns=['ID', 'Customer_ID', 'Name', 'SSN', 'Occupation', 'Type_of_Loan'])\n",
    "X.shape"
   ]
  },
  {
   "cell_type": "markdown",
   "id": "10338ddb-901f-4469-8f29-14587a489a66",
   "metadata": {},
   "source": [
    "Furthermore, there are features that hold string values, which obviously cannot be processed by the logistic regression model. We need to convert them into one-hot encoding vectors."
   ]
  },
  {
   "cell_type": "code",
   "execution_count": 9,
   "id": "b7447fc0-5f19-4407-8c42-5546d2ef72ed",
   "metadata": {},
   "outputs": [
    {
     "name": "stdout",
     "output_type": "stream",
     "text": [
      "New shape of X: (100000, 39)\n",
      "New shape of y: (100000, 3)\n"
     ]
    }
   ],
   "source": [
    "## One-hot encoding\n",
    "X = pd.get_dummies(X, columns=['Month', 'Credit_Mix', 'Payment_of_Min_Amount', 'Payment_Behaviour'])\n",
    "y = pd.get_dummies(y)\n",
    "print(f\"New shape of X: {X.shape}\")\n",
    "print(f\"New shape of y: {y.shape}\")"
   ]
  },
  {
   "cell_type": "code",
   "execution_count": 10,
   "id": "f430b316-e980-4af1-bb71-3abbec223237",
   "metadata": {},
   "outputs": [
    {
     "name": "stderr",
     "output_type": "stream",
     "text": [
      "C:\\Users\\USER\\AppData\\Local\\Temp\\ipykernel_13332\\2337723389.py:5: FutureWarning: A value is trying to be set on a copy of a DataFrame or Series through chained assignment using an inplace method.\n",
      "The behavior will change in pandas 3.0. This inplace method will never work because the intermediate object on which we are setting values always behaves as a copy.\n",
      "\n",
      "For example, when doing 'df[col].method(value, inplace=True)', try using 'df.method({col: value}, inplace=True)' or df[col] = df[col].method(value) instead, to perform the operation inplace on the original object.\n",
      "\n",
      "\n",
      "  X['Credit_History_Age'].replace('NA', pd.NA, inplace=True)\n"
     ]
    }
   ],
   "source": [
    "## Map 'Credit_History_Age' into decimals and NaN values\n",
    "import re\n",
    "\n",
    "# Replace 'NA' with NaN\n",
    "X['Credit_History_Age'].replace('NA', pd.NA, inplace=True)\n",
    "\n",
    "# Function to extract years and months\n",
    "def extract_years_months(value):\n",
    "    if pd.isna(value):\n",
    "        return value\n",
    "    match = re.match(r'(\\d+)\\s+Years?\\s+and\\s+(\\d+)\\s+Months?', value)\n",
    "    if match:\n",
    "        years, months = map(int, match.groups())\n",
    "        return years + months / 12\n",
    "    return None\n",
    "\n",
    "# Apply the function to the column\n",
    "X['Credit_History_Age'] = X['Credit_History_Age'].apply(extract_years_months)"
   ]
  },
  {
   "cell_type": "code",
   "execution_count": 11,
   "id": "5da62984-fd0d-4ab7-acec-a027b7f35a9b",
   "metadata": {},
   "outputs": [
    {
     "data": {
      "text/plain": [
       "0    22.083333\n",
       "1          NaN\n",
       "2    22.250000\n",
       "3    22.333333\n",
       "4    22.416667\n",
       "Name: Credit_History_Age, dtype: float64"
      ]
     },
     "execution_count": 11,
     "metadata": {},
     "output_type": "execute_result"
    }
   ],
   "source": [
    "X['Credit_History_Age'].head()"
   ]
  },
  {
   "cell_type": "markdown",
   "id": "c4fc936c-dfb3-496b-831c-760f817e2889",
   "metadata": {},
   "source": [
    "Now, we need to address NaN values as a part of data cleaning process."
   ]
  },
  {
   "cell_type": "code",
   "execution_count": 12,
   "id": "d0f45efb-ed04-444c-88ed-957ce07fa28b",
   "metadata": {},
   "outputs": [],
   "source": [
    "## Make sure all values are numerical\n",
    "X_num = X.apply(pd.to_numeric, errors='coerce')"
   ]
  },
  {
   "cell_type": "code",
   "execution_count": 13,
   "id": "408b910f-c3ac-4f4b-9029-2c26ad7ff08a",
   "metadata": {},
   "outputs": [
    {
     "data": {
      "text/plain": [
       "Age                                                    4939\n",
       "Annual_Income                                          6980\n",
       "Monthly_Inhand_Salary                                 15002\n",
       "Num_Bank_Accounts                                         0\n",
       "Num_Credit_Card                                           0\n",
       "Interest_Rate                                             0\n",
       "Num_of_Loan                                            4785\n",
       "Delay_from_due_date                                       0\n",
       "Num_of_Delayed_Payment                                 9746\n",
       "Changed_Credit_Limit                                   2091\n",
       "Num_Credit_Inquiries                                   1965\n",
       "Outstanding_Debt                                       1009\n",
       "Credit_Utilization_Ratio                                  0\n",
       "Credit_History_Age                                     9030\n",
       "Total_EMI_per_month                                       0\n",
       "Amount_invested_monthly                                8784\n",
       "Monthly_Balance                                        1209\n",
       "Month_April                                               0\n",
       "Month_August                                              0\n",
       "Month_February                                            0\n",
       "Month_January                                             0\n",
       "Month_July                                                0\n",
       "Month_June                                                0\n",
       "Month_March                                               0\n",
       "Month_May                                                 0\n",
       "Credit_Mix_Bad                                            0\n",
       "Credit_Mix_Good                                           0\n",
       "Credit_Mix_Standard                                       0\n",
       "Credit_Mix__                                              0\n",
       "Payment_of_Min_Amount_NM                                  0\n",
       "Payment_of_Min_Amount_No                                  0\n",
       "Payment_of_Min_Amount_Yes                                 0\n",
       "Payment_Behaviour_!@9#%8                                  0\n",
       "Payment_Behaviour_High_spent_Large_value_payments         0\n",
       "Payment_Behaviour_High_spent_Medium_value_payments        0\n",
       "Payment_Behaviour_High_spent_Small_value_payments         0\n",
       "Payment_Behaviour_Low_spent_Large_value_payments          0\n",
       "Payment_Behaviour_Low_spent_Medium_value_payments         0\n",
       "Payment_Behaviour_Low_spent_Small_value_payments          0\n",
       "dtype: int64"
      ]
     },
     "execution_count": 13,
     "metadata": {},
     "output_type": "execute_result"
    }
   ],
   "source": [
    "X_num.isna().sum()"
   ]
  },
  {
   "cell_type": "code",
   "execution_count": 14,
   "id": "5ded4b04-3c8e-4c6e-af66-72d7314d5c86",
   "metadata": {},
   "outputs": [],
   "source": [
    "## Fill the missing values with mean in each column\n",
    "# X_num = X_num.fillna(X_num.mean())\n",
    "\n",
    "# Initialize the KNN imputer\n",
    "imputer = KNNImputer(missing_values=np.nan, n_neighbors=5)\n",
    "\n",
    "# Fit and transform the data\n",
    "X_imputed = imputer.fit_transform(X_num)\n",
    "\n",
    "# Convert back to DataFrame\n",
    "X_num = pd.DataFrame(X_imputed, columns=X_num.columns)\n",
    "del X_imputed"
   ]
  },
  {
   "cell_type": "code",
   "execution_count": 15,
   "id": "df447e4f-561f-40f8-89bd-945d9c953d26",
   "metadata": {},
   "outputs": [
    {
     "data": {
      "text/plain": [
       "Age                                                   0\n",
       "Annual_Income                                         0\n",
       "Monthly_Inhand_Salary                                 0\n",
       "Num_Bank_Accounts                                     0\n",
       "Num_Credit_Card                                       0\n",
       "Interest_Rate                                         0\n",
       "Num_of_Loan                                           0\n",
       "Delay_from_due_date                                   0\n",
       "Num_of_Delayed_Payment                                0\n",
       "Changed_Credit_Limit                                  0\n",
       "Num_Credit_Inquiries                                  0\n",
       "Outstanding_Debt                                      0\n",
       "Credit_Utilization_Ratio                              0\n",
       "Credit_History_Age                                    0\n",
       "Total_EMI_per_month                                   0\n",
       "Amount_invested_monthly                               0\n",
       "Monthly_Balance                                       0\n",
       "Month_April                                           0\n",
       "Month_August                                          0\n",
       "Month_February                                        0\n",
       "Month_January                                         0\n",
       "Month_July                                            0\n",
       "Month_June                                            0\n",
       "Month_March                                           0\n",
       "Month_May                                             0\n",
       "Credit_Mix_Bad                                        0\n",
       "Credit_Mix_Good                                       0\n",
       "Credit_Mix_Standard                                   0\n",
       "Credit_Mix__                                          0\n",
       "Payment_of_Min_Amount_NM                              0\n",
       "Payment_of_Min_Amount_No                              0\n",
       "Payment_of_Min_Amount_Yes                             0\n",
       "Payment_Behaviour_!@9#%8                              0\n",
       "Payment_Behaviour_High_spent_Large_value_payments     0\n",
       "Payment_Behaviour_High_spent_Medium_value_payments    0\n",
       "Payment_Behaviour_High_spent_Small_value_payments     0\n",
       "Payment_Behaviour_Low_spent_Large_value_payments      0\n",
       "Payment_Behaviour_Low_spent_Medium_value_payments     0\n",
       "Payment_Behaviour_Low_spent_Small_value_payments      0\n",
       "dtype: int64"
      ]
     },
     "execution_count": 15,
     "metadata": {},
     "output_type": "execute_result"
    }
   ],
   "source": [
    "X_num.isna().sum()"
   ]
  },
  {
   "cell_type": "markdown",
   "id": "3ef41deb-76fd-4b1d-a488-a40109156fb1",
   "metadata": {},
   "source": [
    "## Feature engineering"
   ]
  },
  {
   "cell_type": "markdown",
   "id": "0d134afc-0d0e-462d-aa91-c0e07618e425",
   "metadata": {},
   "source": [
    "Feature engineering lets us create new features by combining existing ones. These new features help the model to see the relationship between features and can improve the model's performance."
   ]
  },
  {
   "cell_type": "code",
   "execution_count": 16,
   "id": "a7e84fe0-58d7-41ef-93af-bb097fe172d3",
   "metadata": {},
   "outputs": [],
   "source": [
    "## Interaction features\n",
    "X_num['Debt_to_Income_Ratio'] = X_num['Outstanding_Debt'] / X_num['Annual_Income']\n",
    "X_num['Loan_to_Income_Ratio'] = X_num['Num_of_Loan'] / X_num['Annual_Income']\n",
    "X_num['Investment_Ratio'] = X_num['Amount_invested_monthly'] / X_num['Monthly_Inhand_Salary']\n",
    "X_num['Credit_Card_Utilization'] = X_num['Credit_Utilization_Ratio'] * X_num['Num_Credit_Card']\n",
    "\n",
    "## Aggregated features\n",
    "X_num['Total_Debt'] = X_num['Outstanding_Debt'] + X_num['Total_EMI_per_month']\n",
    "\n",
    "## One-hot encoding for seasons\n",
    "## --> Winter\n",
    "X_num['Winter'] = X_num['Month_January'] + X_num['Month_February']\n",
    "## --> Spring\n",
    "X_num['Spring'] = X_num['Month_March'] + X_num['Month_April'] + X_num['Month_May']\n",
    "## --> Summer\n",
    "X_num['Summer'] = X_num['Month_June'] + X_num['Month_July'] + X_num['Month_August']"
   ]
  },
  {
   "cell_type": "markdown",
   "id": "581e4c28-c7aa-424c-b77b-e04a6d649a65",
   "metadata": {},
   "source": [
    "We also need to perform normalization to some features so that all features are in a virtually comparable range of values (feature scaling). We will use z-score normalization that subtracts the mean from each feature and divide the resulting value by its standard deviation."
   ]
  },
  {
   "cell_type": "markdown",
   "id": "75684c34-bb54-4110-af84-9a840028085f",
   "metadata": {},
   "source": [
    "First, we will reduce the impact of **outliers** (i.e., skewed, and possibly incorrect,\n",
    "values in columns that might distort z-score normalization results) by applying natural log transformation."
   ]
  },
  {
   "cell_type": "code",
   "execution_count": 17,
   "id": "c6504a45-ec66-4f77-b2a5-378efb4dc73b",
   "metadata": {},
   "outputs": [],
   "source": [
    "columns_log = [\n",
    "    'Age', 'Annual_Income', 'Monthly_Inhand_Salary', 'Num_Bank_Accounts',\n",
    "    'Interest_Rate', 'Num_of_Loan', 'Delay_from_due_date', 'Num_of_Delayed_Payment',\n",
    "    'Changed_Credit_Limit', 'Num_Credit_Inquiries', 'Outstanding_Debt',\n",
    "    'Credit_Utilization_Ratio', 'Credit_History_Age', 'Total_EMI_per_month',\n",
    "    'Amount_invested_monthly', 'Monthly_Balance',\n",
    "    'Debt_to_Income_Ratio', 'Loan_to_Income_Ratio', 'Investment_Ratio', \n",
    "    'Credit_Card_Utilization', 'Total_Debt'\n",
    "]\n",
    "\n",
    "## Prevent FloatingPointError\n",
    "X_num[columns_log] = X_num[columns_log].map(lambda x: x if x >= 0 else 0.01)\n",
    "\n",
    "## Apply log transformation to necessary columns\n",
    "X_num[columns_log] = np.log1p(X_num[columns_log])"
   ]
  },
  {
   "cell_type": "markdown",
   "id": "afb4b188-0f8f-40bb-8f6b-e1b19450dc62",
   "metadata": {},
   "source": [
    "We can then proceed for normalization."
   ]
  },
  {
   "cell_type": "code",
   "execution_count": 18,
   "id": "07bee17f-5bdc-41b7-944e-e020477c9dc2",
   "metadata": {},
   "outputs": [],
   "source": [
    "## We want to normalize all columns except one-hot encoding vectors\n",
    "columns_norm = [\n",
    "    'Age', 'Annual_Income', 'Monthly_Inhand_Salary', 'Num_Bank_Accounts',\n",
    "    'Interest_Rate', 'Num_of_Loan', 'Delay_from_due_date', 'Num_of_Delayed_Payment',\n",
    "    'Changed_Credit_Limit', 'Num_Credit_Inquiries', 'Outstanding_Debt',\n",
    "    'Credit_Utilization_Ratio', 'Credit_History_Age', 'Total_EMI_per_month',\n",
    "    'Amount_invested_monthly', 'Monthly_Balance',\n",
    "    'Debt_to_Income_Ratio', 'Loan_to_Income_Ratio', 'Investment_Ratio', \n",
    "    'Credit_Card_Utilization', 'Total_Debt'\n",
    "]\n",
    "\n",
    "## Initialize the scaler\n",
    "scaler = StandardScaler()\n",
    "\n",
    "## Fit and transform the selected columns\n",
    "X_num[columns_norm] = scaler.fit_transform(X_num[columns_norm])"
   ]
  },
  {
   "cell_type": "code",
   "execution_count": 19,
   "id": "5433c7bf-76db-4231-bf35-ce6d0124215a",
   "metadata": {},
   "outputs": [
    {
     "data": {
      "text/plain": [
       "0   -0.183463\n",
       "1   -0.183463\n",
       "2   -0.183463\n",
       "3   -0.183463\n",
       "4   -0.183463\n",
       "Name: Debt_to_Income_Ratio, dtype: float64"
      ]
     },
     "execution_count": 19,
     "metadata": {},
     "output_type": "execute_result"
    }
   ],
   "source": [
    "X_num['Debt_to_Income_Ratio'].head()"
   ]
  },
  {
   "cell_type": "code",
   "execution_count": 20,
   "id": "625511f3-2f45-46b1-8d8d-7b3439d29991",
   "metadata": {},
   "outputs": [
    {
     "data": {
      "text/plain": [
       "0   -0.235871\n",
       "1   -0.411556\n",
       "2   -0.126432\n",
       "3   -0.866470\n",
       "4   -0.068918\n",
       "Name: Monthly_Balance, dtype: float64"
      ]
     },
     "execution_count": 20,
     "metadata": {},
     "output_type": "execute_result"
    }
   ],
   "source": [
    "X_num['Monthly_Balance'].head()"
   ]
  },
  {
   "cell_type": "markdown",
   "id": "0112f27d-3673-4f07-ba4b-10e8246cf68e",
   "metadata": {},
   "source": [
    "## Risk minimization"
   ]
  },
  {
   "cell_type": "markdown",
   "id": "c82d198a-686d-41a2-8db0-53db37783c2e",
   "metadata": {},
   "source": [
    "We need to come to an understanding that logistic regression model cannot be trained on the target label of three possible binary values."
   ]
  },
  {
   "cell_type": "code",
   "execution_count": 21,
   "id": "40eedbf1-30ee-4560-adda-1eee27b3e4de",
   "metadata": {},
   "outputs": [
    {
     "data": {
      "text/html": [
       "<div>\n",
       "<style scoped>\n",
       "    .dataframe tbody tr th:only-of-type {\n",
       "        vertical-align: middle;\n",
       "    }\n",
       "\n",
       "    .dataframe tbody tr th {\n",
       "        vertical-align: top;\n",
       "    }\n",
       "\n",
       "    .dataframe thead th {\n",
       "        text-align: right;\n",
       "    }\n",
       "</style>\n",
       "<table border=\"1\" class=\"dataframe\">\n",
       "  <thead>\n",
       "    <tr style=\"text-align: right;\">\n",
       "      <th></th>\n",
       "      <th>Good</th>\n",
       "      <th>Poor</th>\n",
       "      <th>Standard</th>\n",
       "    </tr>\n",
       "  </thead>\n",
       "  <tbody>\n",
       "    <tr>\n",
       "      <th>0</th>\n",
       "      <td>True</td>\n",
       "      <td>False</td>\n",
       "      <td>False</td>\n",
       "    </tr>\n",
       "    <tr>\n",
       "      <th>1</th>\n",
       "      <td>True</td>\n",
       "      <td>False</td>\n",
       "      <td>False</td>\n",
       "    </tr>\n",
       "    <tr>\n",
       "      <th>2</th>\n",
       "      <td>True</td>\n",
       "      <td>False</td>\n",
       "      <td>False</td>\n",
       "    </tr>\n",
       "    <tr>\n",
       "      <th>3</th>\n",
       "      <td>True</td>\n",
       "      <td>False</td>\n",
       "      <td>False</td>\n",
       "    </tr>\n",
       "    <tr>\n",
       "      <th>4</th>\n",
       "      <td>True</td>\n",
       "      <td>False</td>\n",
       "      <td>False</td>\n",
       "    </tr>\n",
       "  </tbody>\n",
       "</table>\n",
       "</div>"
      ],
      "text/plain": [
       "   Good   Poor  Standard\n",
       "0  True  False     False\n",
       "1  True  False     False\n",
       "2  True  False     False\n",
       "3  True  False     False\n",
       "4  True  False     False"
      ]
     },
     "execution_count": 21,
     "metadata": {},
     "output_type": "execute_result"
    }
   ],
   "source": [
    "y.head()"
   ]
  },
  {
   "cell_type": "markdown",
   "id": "01bf6a51-d7df-429d-b9d9-58eedd9eb15d",
   "metadata": {},
   "source": [
    "Let's assume that the global finance company we're working with is not looking for more market expansion and is trying to minimize loan risk. Therefore, we want to label parties with **Good** credit scores as being eligible for loans, while the rest are not."
   ]
  },
  {
   "cell_type": "code",
   "execution_count": 22,
   "id": "c664fe69-3232-45b4-8fbe-c672c2c19ed3",
   "metadata": {},
   "outputs": [],
   "source": [
    "## Create a new binary label\n",
    "y['Target'] = y['Good']\n",
    "\n",
    "## Drop the original one-hot encoded columns\n",
    "y = y.drop(columns=['Good', 'Standard', 'Poor'])"
   ]
  },
  {
   "cell_type": "code",
   "execution_count": 23,
   "id": "f3401fcc-8904-4c0d-bd18-f33b0e09ea1d",
   "metadata": {},
   "outputs": [
    {
     "data": {
      "text/plain": [
       "(100000, 1)"
      ]
     },
     "execution_count": 23,
     "metadata": {},
     "output_type": "execute_result"
    }
   ],
   "source": [
    "y.shape"
   ]
  },
  {
   "cell_type": "markdown",
   "id": "b8323b09-2c8a-4e56-8783-840e378f70ee",
   "metadata": {},
   "source": [
    "## Preparing data for training"
   ]
  },
  {
   "cell_type": "code",
   "execution_count": 24,
   "id": "e67b5852-cde1-44c9-a243-e2c055d7a6ed",
   "metadata": {},
   "outputs": [
    {
     "name": "stdout",
     "output_type": "stream",
     "text": [
      "Train X shape is: (79999, 47)\n",
      "Train Y shape is: (79999, 1)\n",
      "Test X shape is: (20000, 47)\n",
      "Test Y shape is: (20000, 1)\n"
     ]
    }
   ],
   "source": [
    "## NUM_SAMPLES is the combination of all sets (NUM_TRAINING + NUM_TEST)\n",
    "NUM_SAMPLES = -1\n",
    "COMPARE_TO_R_REF = False\n",
    "lr = 0.001\n",
    "mu = 0.5\n",
    "\n",
    "## Slice data into NumPy arrays and split into training and test sets\n",
    "X_train, X_test, y_train, y_test = slice_split(\n",
    "    X_num, y,\n",
    "    num_samples=NUM_SAMPLES,\n",
    "    compare_to_r_ref=COMPARE_TO_R_REF\n",
    ")\n",
    "\n",
    "## n = num_of_features\n",
    "n = X_train.shape[1]\n",
    "\n",
    "# Same shape as Marcelo's reference code\n",
    "betas = np.zeros((n, ))\n",
    "# betas = np.random.randn(n)"
   ]
  },
  {
   "cell_type": "code",
   "execution_count": 25,
   "id": "4d3dac9a-80a4-4212-b985-c7185b4b645c",
   "metadata": {},
   "outputs": [
    {
     "data": {
      "text/plain": [
       "47"
      ]
     },
     "execution_count": 25,
     "metadata": {},
     "output_type": "execute_result"
    }
   ],
   "source": [
    "n"
   ]
  },
  {
   "cell_type": "markdown",
   "id": "efc52987-85d1-4be1-96a5-921d52f46586",
   "metadata": {},
   "source": [
    "## Nesterov model training"
   ]
  },
  {
   "cell_type": "code",
   "execution_count": 26,
   "id": "e4ac1694-7e68-4e4a-999a-b60e3b564b3f",
   "metadata": {},
   "outputs": [],
   "source": [
    "@njit\n",
    "def sigmoid(z):\n",
    "    return 1 / (1 + np.exp(-z))\n",
    "\n",
    "@njit\n",
    "def fwd(train_x, betas, dbg=False):\n",
    "    preds = train_x @ betas   # A vector of linear_predictions/logits z = train_x @ weights\n",
    "    if dbg:\n",
    "        print(f\"Logits: {preds}\")\n",
    "    return np.expand_dims(sigmoid(preds), -1)   # Shape: (m, 1)\n",
    "\n",
    "@njit\n",
    "def calculate_gradient(train_x, train_y, betas, fwd, dbg):\n",
    "    preds = fwd(train_x, betas, dbg)   # A vector of logistic predictions y_hat = sigmoid(z)\n",
    "    gradient = -train_x.T @ (train_y - preds) / len(train_y)\n",
    "    return gradient   # Shape: (10, 1) == Rows correspond to num_features\n",
    "    ## This function is used to update the values of betas: w_new = w_old + lr * gradient\n",
    "\n",
    "def cost(x, y, theta):\n",
    "    m = x.shape[0]\n",
    "    h = sigmoid(np.matmul(x, theta))   # h: hypothesis, basically preds/y_hat\n",
    "    t1 = np.matmul(-y.T, np.log(np.clip(h, 0.000000000000001, np.max(h))))\n",
    "    t2_a = (1 - y.T)\n",
    "    t2_b = np.log(np.clip(1 - h, 0.000000000000001, np.max(1 - h)))  # Used to get numerical issues\n",
    "    ## np.clip() function prevents computing the log of 0, by taking the minimum of 1e-15.\n",
    "    t2 = np.matmul(t2_a, t2_b)\n",
    "\n",
    "    return ((t1 - t2) / m)[0]   # Shape: (1,) == scalar value\n",
    "\n",
    "def nesterov(betas, epochs, patience, lr, mu, train_x, train_y):\n",
    "    import copy\n",
    "\n",
    "    phi = copy.deepcopy(betas)\n",
    "    theta = copy.deepcopy(betas)\n",
    "\n",
    "    check_early = 0\n",
    "    best_loss = float('inf')\n",
    "    best_epochs_list = []\n",
    "\n",
    "    nesterov_loss = [0 for _ in range(epochs)]\n",
    "    for i in tqdm.trange(epochs):\n",
    "    # for i in range(epochs):\n",
    "        gradient = calculate_gradient(train_x, train_y, theta, fwd, dbg=False)\n",
    "\n",
    "        ## Assign updated weights into phi_prime\n",
    "        phi_prime = theta - lr * np.squeeze(gradient)   # np.squeeze() removes single dimensions --> shape (10,)\n",
    "        \n",
    "        ## Nesterov acceleration process\n",
    "        if i == 0:\n",
    "            theta = phi_prime\n",
    "        else:\n",
    "            ## If current updated weight (phi_prime) < previous weight (phi), \n",
    "            ## The updated weight theta will be even smaller.\n",
    "            theta = phi_prime + mu * (phi_prime - phi)\n",
    "        phi = phi_prime   # phi is then the weight of the previous epoch/update\n",
    "        loss = cost(train_x, train_y, theta)\n",
    "\n",
    "        ## Early stopping\n",
    "        if patience > 0:\n",
    "            if loss < best_loss:\n",
    "                best_loss = loss\n",
    "                best_epoch = i\n",
    "                best_theta = theta\n",
    "                best_epochs_list.append(best_epoch)\n",
    "                check_early = 0\n",
    "            else:\n",
    "                check_early += 1\n",
    "                if check_early >= patience:\n",
    "                    print(f\"Early stopping at {patience} epochs after {best_epoch} with best loss {best_loss}\")\n",
    "                    return nesterov_loss[:best_epoch + 1], best_theta, phi, best_epochs_list\n",
    "        else:\n",
    "            best_epoch = epochs - 1\n",
    "            best_theta = theta\n",
    "\n",
    "        ## Update list\n",
    "        nesterov_loss[i] = loss\n",
    "\n",
    "        # print(f\"New loss: {cost(train_x, train_y, v)[0]}\")\n",
    "    return nesterov_loss[:best_epoch + 1], best_theta, phi, best_epochs_list\n"
   ]
  },
  {
   "cell_type": "code",
   "execution_count": 27,
   "id": "682bb6fb-95bc-4d2d-b8f6-2cff40112de7",
   "metadata": {},
   "outputs": [],
   "source": [
    "# Ensure inputs are of the correct type\n",
    "betas = np.array(betas, dtype=np.float64)\n",
    "X_train = np.array(X_train, dtype=np.float64)\n",
    "y_train = np.array(y_train, dtype=np.float64)\n",
    "X_test = np.array(X_test, dtype=np.float64)\n",
    "y_test = np.array(y_test, dtype=np.float64)\n",
    "lr = float(lr)\n",
    "mu = float(mu)"
   ]
  },
  {
   "cell_type": "code",
   "execution_count": 28,
   "id": "c0271d02-84d7-47cf-bc92-7a3c41b22631",
   "metadata": {},
   "outputs": [
    {
     "name": "stderr",
     "output_type": "stream",
     "text": [
      "100%|██████████| 800/800 [00:35<00:00, 22.67it/s]\n"
     ]
    }
   ],
   "source": [
    "losses, theta, phi, best_epochs_list = nesterov(betas, 800, -1, lr, mu, X_train, y_train)"
   ]
  },
  {
   "cell_type": "code",
   "execution_count": 29,
   "id": "eb5e2d30-f268-4348-9bb0-10182cf18bdf",
   "metadata": {
    "scrolled": true
   },
   "outputs": [
    {
     "name": "stdout",
     "output_type": "stream",
     "text": [
      "0: 0.687853331123845\n",
      "1: 0.6859797886275819\n",
      "2: 0.6843570834006404\n",
      "3: 0.683507654132249\n",
      "4: 0.6830425706585992\n",
      "5: 0.6825001390404388\n",
      "6: 0.6819856637486666\n",
      "7: 0.6814738682234893\n",
      "8: 0.6809625488302338\n",
      "9: 0.6804522944560306\n",
      "10: 0.6799433542775205\n",
      "11: 0.6794358433635015\n",
      "12: 0.6789298203602303\n",
      "13: 0.6784253112534846\n",
      "14: 0.6779223255717673\n",
      "15: 0.6774208646905095\n",
      "16: 0.6769209259158302\n",
      "17: 0.6764225045343751\n",
      "18: 0.6759255948388069\n",
      "19: 0.6754301906399194\n",
      "20: 0.674936285522481\n",
      "21: 0.6744438729730334\n",
      "22: 0.6739529464437124\n",
      "23: 0.6734634993841034\n",
      "24: 0.6729755252571248\n",
      "25: 0.6724890175469327\n",
      "26: 0.6720039697628372\n",
      "27: 0.671520375441226\n",
      "28: 0.6710382281464935\n",
      "29: 0.6705575214714696\n",
      "30: 0.6700782490376014\n",
      "31: 0.6696004044950072\n",
      "32: 0.6691239815224708\n",
      "33: 0.6686489738274007\n",
      "34: 0.6681753751457763\n",
      "35: 0.667703179242082\n",
      "36: 0.6672323799092399\n",
      "37: 0.6667629709685365\n",
      "38: 0.6662949462695515\n",
      "39: 0.6658282996900816\n",
      "40: 0.6653630251360654\n",
      "41: 0.6648991165415068\n",
      "42: 0.6644365678683984\n",
      "43: 0.6639753731066426\n",
      "44: 0.6635155262739737\n",
      "45: 0.6630570214158784\n",
      "46: 0.6625998526055152\n",
      "47: 0.6621440139436349\n",
      "48: 0.6616894995584979\n",
      "49: 0.661236303605794\n",
      "50: 0.6607844202685581\n",
      "51: 0.6603338437570888\n",
      "52: 0.6598845683088639\n",
      "53: 0.659436588188456\n",
      "54: 0.6589898976874491\n",
      "55: 0.6585444911243522\n",
      "56: 0.658100362844514\n",
      "57: 0.6576575072200366\n",
      "58: 0.6572159186496898\n",
      "59: 0.656775591558822\n",
      "60: 0.6563365203992756\n",
      "61: 0.6558986996492954\n",
      "62: 0.6554621238134435\n",
      "63: 0.6550267874225091\n",
      "64: 0.6545926850334187\n",
      "65: 0.6541598112291485\n",
      "66: 0.653728160618632\n",
      "67: 0.6532977278366716\n",
      "68: 0.6528685075438483\n",
      "69: 0.6524404944264284\n",
      "70: 0.6520136831962752\n",
      "71: 0.6515880685907555\n",
      "72: 0.6511636453726485\n",
      "73: 0.6507404083300541\n",
      "74: 0.6503183522762995\n",
      "75: 0.649897472049848\n",
      "76: 0.6494777625142049\n",
      "77: 0.649059218557825\n",
      "78: 0.6486418350940198\n",
      "79: 0.648225607060863\n",
      "80: 0.6478105294210975\n",
      "81: 0.6473965971620417\n",
      "82: 0.6469838052954949\n",
      "83: 0.6465721488576436\n",
      "84: 0.6461616229089665\n",
      "85: 0.6457522225341407\n",
      "86: 0.645343942841947\n",
      "87: 0.6449367789651744\n",
      "88: 0.6445307260605264\n",
      "89: 0.6441257793085249\n",
      "90: 0.6437219339134159\n",
      "91: 0.643319185103074\n",
      "92: 0.6429175281289071\n",
      "93: 0.6425169582657613\n",
      "94: 0.6421174708118254\n",
      "95: 0.6417190610885353\n",
      "96: 0.6413217244404795\n",
      "97: 0.640925456235302\n",
      "98: 0.640530251863608\n",
      "99: 0.640136106738868\n",
      "100: 0.6397430162973219\n",
      "101: 0.639350975997884\n",
      "102: 0.6389599813220476\n",
      "103: 0.638570027773788\n",
      "104: 0.6381811108794689\n",
      "105: 0.6377932261877456\n",
      "106: 0.6374063692694697\n",
      "107: 0.6370205357175945\n",
      "108: 0.6366357211470788\n",
      "109: 0.6362519211947913\n",
      "110: 0.6358691315194163\n",
      "111: 0.6354873478013578\n",
      "112: 0.6351065657426448\n",
      "113: 0.6347267810668354\n",
      "114: 0.6343479895189236\n",
      "115: 0.6339701868652418\n",
      "116: 0.6335933688933686\n",
      "117: 0.6332175314120327\n",
      "118: 0.6328426702510186\n",
      "119: 0.6324687812610722\n",
      "120: 0.6320958603138065\n",
      "121: 0.6317239033016074\n",
      "122: 0.6313529061375399\n",
      "123: 0.630982864755253\n",
      "124: 0.6306137751088882\n",
      "125: 0.6302456331729829\n",
      "126: 0.6298784349423795\n",
      "127: 0.6295121764321308\n",
      "128: 0.6291468536774065\n",
      "129: 0.6287824627334015\n",
      "130: 0.6284189996752421\n",
      "131: 0.6280564605978929\n",
      "132: 0.6276948416160651\n",
      "133: 0.6273341388641249\n",
      "134: 0.6269743484959993\n",
      "135: 0.6266154666850863\n",
      "136: 0.6262574896241618\n",
      "137: 0.6259004135252884\n",
      "138: 0.6255442346197244\n",
      "139: 0.6251889491578326\n",
      "140: 0.6248345534089889\n",
      "141: 0.624481043661492\n",
      "142: 0.6241284162224734\n",
      "143: 0.6237766674178059\n",
      "144: 0.6234257935920147\n",
      "145: 0.6230757911081869\n",
      "146: 0.6227266563478826\n",
      "147: 0.6223783857110449\n",
      "148: 0.6220309756159107\n",
      "149: 0.621684422498923\n",
      "150: 0.6213387228146404\n",
      "151: 0.6209938730356512\n",
      "152: 0.6206498696524824\n",
      "153: 0.6203067091735138\n",
      "154: 0.6199643881248905\n",
      "155: 0.6196229030504338\n",
      "156: 0.6192822505115557\n",
      "157: 0.6189424270871715\n",
      "158: 0.6186034293736132\n",
      "159: 0.6182652539845431\n",
      "160: 0.6179278975508676\n",
      "161: 0.6175913567206521\n",
      "162: 0.6172556281590351\n",
      "163: 0.616920708548142\n",
      "164: 0.6165865945870017\n",
      "165: 0.6162532829914615\n",
      "166: 0.6159207704941015\n",
      "167: 0.6155890538441524\n",
      "168: 0.6152581298074095\n",
      "169: 0.6149279951661509\n",
      "170: 0.6145986467190544\n",
      "171: 0.6142700812811116\n",
      "172: 0.6139422956835493\n",
      "173: 0.613615286773744\n",
      "174: 0.6132890514151408\n",
      "175: 0.6129635864871724\n",
      "176: 0.6126388888851761\n",
      "177: 0.6123149555203135\n",
      "178: 0.611991783319489\n",
      "179: 0.6116693692252703\n",
      "180: 0.6113477101958057\n",
      "181: 0.6110268032047471\n",
      "182: 0.6107066452411679\n",
      "183: 0.6103872333094847\n",
      "184: 0.6100685644293775\n",
      "185: 0.6097506356357114\n",
      "186: 0.6094334439784581\n",
      "187: 0.6091169865226167\n",
      "188: 0.6088012603481373\n",
      "189: 0.6084862625498424\n",
      "190: 0.6081719902373494\n",
      "191: 0.6078584405349943\n",
      "192: 0.6075456105817547\n",
      "193: 0.6072334975311735\n",
      "194: 0.6069220985512821\n",
      "195: 0.6066114108245264\n",
      "196: 0.6063014315476891\n",
      "197: 0.6059921579318164\n",
      "198: 0.6056835872021421\n",
      "199: 0.6053757165980136\n",
      "200: 0.6050685433728173\n",
      "201: 0.6047620647939052\n",
      "202: 0.6044562781425207\n",
      "203: 0.6041511807137262\n",
      "204: 0.6038467698163288\n",
      "205: 0.6035430427728096\n",
      "206: 0.6032399969192488\n",
      "207: 0.6029376296052561\n",
      "208: 0.6026359381938979\n",
      "209: 0.602334920061626\n",
      "210: 0.602034572598206\n",
      "211: 0.6017348932066476\n",
      "212: 0.6014358793031334\n",
      "213: 0.6011375283169488\n",
      "214: 0.6008398376904126\n",
      "215: 0.6005428048788073\n",
      "216: 0.6002464273503094\n",
      "217: 0.5999507025859212\n",
      "218: 0.5996556280794016\n",
      "219: 0.5993612013371988\n",
      "220: 0.5990674198783807\n",
      "221: 0.5987742812345693\n",
      "222: 0.5984817829498718\n",
      "223: 0.5981899225808139\n",
      "224: 0.5978986976962736\n",
      "225: 0.5976081058774143\n",
      "226: 0.5973181447176189\n",
      "227: 0.5970288118224243\n",
      "228: 0.596740104809455\n",
      "229: 0.5964520213083591\n",
      "230: 0.5961645589607422\n",
      "231: 0.5958777154201043\n",
      "232: 0.5955914883517746\n",
      "233: 0.595305875432847\n",
      "234: 0.5950208743521179\n",
      "235: 0.5947364828100221\n",
      "236: 0.5944526985185696\n",
      "237: 0.5941695192012831\n",
      "238: 0.5938869425931357\n",
      "239: 0.5936049664404889\n",
      "240: 0.59332358850103\n",
      "241: 0.5930428065437112\n",
      "242: 0.592762618348689\n",
      "243: 0.5924830217072617\n",
      "244: 0.5922040144218107\n",
      "245: 0.5919255943057382\n",
      "246: 0.5916477591834087\n",
      "247: 0.5913705068900886\n",
      "248: 0.5910938352718867\n",
      "249: 0.5908177421856956\n",
      "250: 0.5905422254991329\n",
      "251: 0.5902672830904815\n",
      "252: 0.5899929128486329\n",
      "253: 0.5897191126730275\n",
      "254: 0.5894458804735991\n",
      "255: 0.5891732141707161\n",
      "256: 0.5889011116951242\n",
      "257: 0.5886295709878907\n",
      "258: 0.588358590000347\n",
      "259: 0.588088166694033\n",
      "260: 0.5878182990406409\n",
      "261: 0.5875489850219602\n",
      "262: 0.5872802226298207\n",
      "263: 0.5870120098660391\n",
      "264: 0.586744344742364\n",
      "265: 0.5864772252804205\n",
      "266: 0.5862106495116562\n",
      "267: 0.5859446154772884\n",
      "268: 0.585679121228249\n",
      "269: 0.5854141648251314\n",
      "270: 0.5851497443381387\n",
      "271: 0.5848858578470291\n",
      "272: 0.584622503441064\n",
      "273: 0.5843596792189564\n",
      "274: 0.5840973832888174\n",
      "275: 0.5838356137681064\n",
      "276: 0.5835743687835783\n",
      "277: 0.583313646471232\n",
      "278: 0.5830534449762608\n",
      "279: 0.5827937624530006\n",
      "280: 0.5825345970648804\n",
      "281: 0.5822759469843716\n",
      "282: 0.5820178103929379\n",
      "283: 0.5817601854809863\n",
      "284: 0.5815030704478181\n",
      "285: 0.5812464635015788\n",
      "286: 0.5809903628592097\n",
      "287: 0.5807347667463999\n",
      "288: 0.5804796733975375\n",
      "289: 0.5802250810556613\n",
      "290: 0.579970987972414\n",
      "291: 0.5797173924079939\n",
      "292: 0.5794642926311078\n",
      "293: 0.5792116869189242\n",
      "294: 0.5789595735570267\n",
      "295: 0.5787079508393664\n",
      "296: 0.5784568170682176\n",
      "297: 0.57820617055413\n",
      "298: 0.5779560096158843\n",
      "299: 0.5777063325804453\n",
      "300: 0.5774571377829184\n",
      "301: 0.5772084235665033\n",
      "302: 0.5769601882824493\n",
      "303: 0.576712430290012\n",
      "304: 0.576465147956407\n",
      "305: 0.5762183396567685\n",
      "306: 0.5759720037741028\n",
      "307: 0.575726138699247\n",
      "308: 0.5754807428308241\n",
      "309: 0.5752358145752009\n",
      "310: 0.5749913523464449\n",
      "311: 0.5747473545662819\n",
      "312: 0.5745038196640527\n",
      "313: 0.5742607460766728\n",
      "314: 0.5740181322485883\n",
      "315: 0.5737759766317363\n",
      "316: 0.5735342776855021\n",
      "317: 0.5732930338766786\n",
      "318: 0.5730522436794254\n",
      "319: 0.5728119055752273\n",
      "320: 0.5725720180528553\n",
      "321: 0.5723325796083242\n",
      "322: 0.5720935887448545\n",
      "323: 0.5718550439728318\n",
      "324: 0.5716169438097667\n",
      "325: 0.5713792867802563\n",
      "326: 0.5711420714159443\n",
      "327: 0.5709052962554821\n",
      "328: 0.5706689598444913\n",
      "329: 0.5704330607355229\n",
      "330: 0.5701975974880211\n",
      "331: 0.5699625686682841\n",
      "332: 0.5697279728494264\n",
      "333: 0.5694938086113416\n",
      "334: 0.569260074540664\n",
      "335: 0.5690267692307323\n",
      "336: 0.5687938912815523\n",
      "337: 0.5685614392997599\n",
      "338: 0.5683294118985843\n",
      "339: 0.5680978076978124\n",
      "340: 0.5678666253237512\n",
      "341: 0.5676358634091936\n",
      "342: 0.567405520593381\n",
      "343: 0.5671755955219686\n",
      "344: 0.5669460868469898\n",
      "345: 0.566716993226821\n",
      "346: 0.5664883133261465\n",
      "347: 0.5662600458159234\n",
      "348: 0.5660321893733483\n",
      "349: 0.5658047426818211\n",
      "350: 0.5655777044309123\n",
      "351: 0.5653510733163281\n",
      "352: 0.5651248480398768\n",
      "353: 0.5648990273094355\n",
      "354: 0.5646736098389162\n",
      "355: 0.5644485943482326\n",
      "356: 0.5642239795632674\n",
      "357: 0.5639997642158397\n",
      "358: 0.563775947043671\n",
      "359: 0.5635525267903537\n",
      "360: 0.5633295022053195\n",
      "361: 0.5631068720438056\n",
      "362: 0.5628846350668241\n",
      "363: 0.5626627900411292\n",
      "364: 0.5624413357391868\n",
      "365: 0.562220270939142\n",
      "366: 0.5619995944247888\n",
      "367: 0.5617793049855381\n",
      "368: 0.5615594014163879\n",
      "369: 0.5613398825178921\n",
      "370: 0.5611207470961292\n",
      "371: 0.5609019939626743\n",
      "372: 0.5606836219345654\n",
      "373: 0.5604656298342775\n",
      "374: 0.5602480164896892\n",
      "375: 0.5600307807340558\n",
      "376: 0.559813921405977\n",
      "377: 0.5595974373493711\n",
      "378: 0.5593813274134427\n",
      "379: 0.5591655904526555\n",
      "380: 0.558950225326703\n",
      "381: 0.5587352309004799\n",
      "382: 0.5585206060440537\n",
      "383: 0.5583063496326365\n",
      "384: 0.5580924605465561\n",
      "385: 0.5578789376712296\n",
      "386: 0.5576657798971338\n",
      "387: 0.5574529861197788\n",
      "388: 0.5572405552396801\n",
      "389: 0.5570284861623305\n",
      "390: 0.5568167777981747\n",
      "391: 0.556605429062581\n",
      "392: 0.5563944388758143\n",
      "393: 0.55618380616301\n",
      "394: 0.5559735298541472\n",
      "395: 0.5557636088840225\n",
      "396: 0.5555540421922236\n",
      "397: 0.5553448287231025\n",
      "398: 0.5551359674257511\n",
      "399: 0.5549274572539743\n",
      "400: 0.5547192971662643\n",
      "401: 0.5545114861257756\n",
      "402: 0.5543040231002999\n",
      "403: 0.5540969070622392\n",
      "404: 0.5538901369885836\n",
      "405: 0.5536837118608832\n",
      "406: 0.5534776306652266\n",
      "407: 0.5532718923922132\n",
      "408: 0.5530664960369307\n",
      "409: 0.5528614405989299\n",
      "410: 0.5526567250822013\n",
      "411: 0.5524523484951498\n",
      "412: 0.5522483098505724\n",
      "413: 0.5520446081656325\n",
      "414: 0.5518412424618381\n",
      "415: 0.551638211765017\n",
      "416: 0.5514355151052942\n",
      "417: 0.5512331515170682\n",
      "418: 0.5510311200389882\n",
      "419: 0.550829419713931\n",
      "420: 0.5506280495889778\n",
      "421: 0.5504270087153926\n",
      "422: 0.5502262961485985\n",
      "423: 0.5500259109481558\n",
      "424: 0.5498258521777393\n",
      "425: 0.549626118905117\n",
      "426: 0.5494267102021271\n",
      "427: 0.5492276251446561\n",
      "428: 0.5490288628126181\n",
      "429: 0.5488304222899321\n",
      "430: 0.5486323026645004\n",
      "431: 0.548434503028188\n",
      "432: 0.5482370224768007\n",
      "433: 0.5480398601100644\n",
      "434: 0.5478430150316032\n",
      "435: 0.5476464863489191\n",
      "436: 0.5474502731733717\n",
      "437: 0.5472543746201565\n",
      "438: 0.5470587898082849\n",
      "439: 0.5468635178605635\n",
      "440: 0.5466685579035743\n",
      "441: 0.5464739090676539\n",
      "442: 0.5462795704868739\n",
      "443: 0.5460855412990202\n",
      "444: 0.5458918206455744\n",
      "445: 0.5456984076716924\n",
      "446: 0.5455053015261867\n",
      "447: 0.545312501361505\n",
      "448: 0.5451200063337124\n",
      "449: 0.5449278156024709\n",
      "450: 0.5447359283310209\n",
      "451: 0.5445443436861622\n",
      "452: 0.5443530608382346\n",
      "453: 0.5441620789610994\n",
      "454: 0.5439713972321205\n",
      "455: 0.5437810148321461\n",
      "456: 0.5435909309454899\n",
      "457: 0.5434011447599124\n",
      "458: 0.5432116554666033\n",
      "459: 0.543022462260163\n",
      "460: 0.5428335643385844\n",
      "461: 0.5426449609032351\n",
      "462: 0.5424566511588389\n",
      "463: 0.5422686343134594\n",
      "464: 0.5420809095784811\n",
      "465: 0.5418934761685922\n",
      "466: 0.5417063333017672\n",
      "467: 0.5415194801992496\n",
      "468: 0.5413329160855345\n",
      "469: 0.5411466401883515\n",
      "470: 0.5409606517386476\n",
      "471: 0.5407749499705704\n",
      "472: 0.5405895341214512\n",
      "473: 0.5404044034317875\n",
      "474: 0.5402195571452281\n",
      "475: 0.5400349945085542\n",
      "476: 0.5398507147716652\n",
      "477: 0.5396667171875607\n",
      "478: 0.5394830010123244\n",
      "479: 0.5392995655051092\n",
      "480: 0.5391164099281196\n",
      "481: 0.5389335335465965\n",
      "482: 0.5387509356288007\n",
      "483: 0.538568615445998\n",
      "484: 0.5383865722724427\n",
      "485: 0.5382048053853621\n",
      "486: 0.538023314064941\n",
      "487: 0.5378420975943068\n",
      "488: 0.5376611552595126\n",
      "489: 0.5374804863495244\n",
      "490: 0.5373000901562032\n",
      "491: 0.5371199659742919\n",
      "492: 0.5369401131013991\n",
      "493: 0.536760530837985\n",
      "494: 0.536581218487346\n",
      "495: 0.5364021753556002\n",
      "496: 0.5362234007516727\n",
      "497: 0.5360448939872811\n",
      "498: 0.5358666543769203\n",
      "499: 0.5356886812378495\n",
      "500: 0.5355109738900767\n",
      "501: 0.5353335316563447\n",
      "502: 0.5351563538621169\n",
      "503: 0.5349794398355638\n",
      "504: 0.5348027889075481\n",
      "505: 0.5346264004116116\n",
      "506: 0.5344502736839606\n",
      "507: 0.5342744080634528\n",
      "508: 0.5340988028915834\n",
      "509: 0.533923457512471\n",
      "510: 0.5337483712728447\n",
      "511: 0.5335735435220308\n",
      "512: 0.5333989736119388\n",
      "513: 0.5332246608970481\n",
      "514: 0.5330506047343956\n",
      "515: 0.5328768044835618\n",
      "516: 0.5327032595066579\n",
      "517: 0.5325299691683132\n",
      "518: 0.5323569328356613\n",
      "519: 0.5321841498783284\n",
      "520: 0.5320116196684197\n",
      "521: 0.5318393415805068\n",
      "522: 0.5316673149916158\n",
      "523: 0.5314955392812135\n",
      "524: 0.5313240138311961\n",
      "525: 0.531152738025876\n",
      "526: 0.5309817112519705\n",
      "527: 0.5308109328985878\n",
      "528: 0.5306404023572167\n",
      "529: 0.530470119021713\n",
      "530: 0.5303000822882884\n",
      "531: 0.5301302915554982\n",
      "532: 0.5299607462242293\n",
      "533: 0.5297914456976882\n",
      "534: 0.52962238938139\n",
      "535: 0.5294535766831455\n",
      "536: 0.5292850070130507\n",
      "537: 0.5291166797834743\n",
      "538: 0.5289485944090471\n",
      "539: 0.5287807503066496\n",
      "540: 0.5286131468954013\n",
      "541: 0.5284457835966492\n",
      "542: 0.5282786598339565\n",
      "543: 0.5281117750330913\n",
      "544: 0.5279451286220158\n",
      "545: 0.5277787200308751\n",
      "546: 0.5276125486919861\n",
      "547: 0.5274466140398264\n",
      "548: 0.5272809155110242\n",
      "549: 0.5271154525443463\n",
      "550: 0.5269502245806889\n",
      "551: 0.5267852310630651\n",
      "552: 0.5266204714365958\n",
      "553: 0.5264559451484986\n",
      "554: 0.5262916516480766\n",
      "555: 0.5261275903867096\n",
      "556: 0.5259637608178419\n",
      "557: 0.5258001623969731\n",
      "558: 0.5256367945816479\n",
      "559: 0.5254736568314449\n",
      "560: 0.5253107486079674\n",
      "561: 0.5251480693748333\n",
      "562: 0.5249856185976641\n",
      "563: 0.5248233957440762\n",
      "564: 0.52466140028367\n",
      "565: 0.5244996316880207\n",
      "566: 0.5243380894306681\n",
      "567: 0.5241767729871067\n",
      "568: 0.5240156818347766\n",
      "569: 0.5238548154530536\n",
      "570: 0.5236941733232391\n",
      "571: 0.5235337549285513\n",
      "572: 0.5233735597541154\n",
      "573: 0.5232135872869541\n",
      "574: 0.5230538370159785\n",
      "575: 0.5228943084319786\n",
      "576: 0.5227350010276137\n",
      "577: 0.5225759142974041\n",
      "578: 0.522417047737721\n",
      "579: 0.5222584008467778\n",
      "580: 0.5220999731246212\n",
      "581: 0.5219417640731218\n",
      "582: 0.5217837731959654\n",
      "583: 0.5216259999986441\n",
      "584: 0.5214684439884477\n",
      "585: 0.5213111046744539\n",
      "586: 0.5211539815675208\n",
      "587: 0.5209970741802773\n",
      "588: 0.5208403820271152\n",
      "589: 0.5206839046241799\n",
      "590: 0.5205276414893619\n",
      "591: 0.5203715921422888\n",
      "592: 0.5202157561043165\n",
      "593: 0.5200601328985209\n",
      "594: 0.5199047220496892\n",
      "595: 0.519749523084312\n",
      "596: 0.5195945355305749\n",
      "597: 0.5194397589183503\n",
      "598: 0.5192851927791888\n",
      "599: 0.519130836646312\n",
      "600: 0.5189766900546031\n",
      "601: 0.5188227525406005\n",
      "602: 0.5186690236424878\n",
      "603: 0.5185155029000879\n",
      "604: 0.5183621898548535\n",
      "605: 0.5182090840498604\n",
      "606: 0.5180561850297987\n",
      "607: 0.5179034923409653\n",
      "608: 0.5177510055312572\n",
      "609: 0.5175987241501617\n",
      "610: 0.5174466477487514\n",
      "611: 0.5172947758796738\n",
      "612: 0.517143108097146\n",
      "613: 0.516991643956946\n",
      "614: 0.5168403830164056\n",
      "615: 0.5166893248344031\n",
      "616: 0.5165384689713549\n",
      "617: 0.5163878149892102\n",
      "618: 0.5162373624514411\n",
      "619: 0.5160871109230374\n",
      "620: 0.5159370599704989\n",
      "621: 0.515787209161827\n",
      "622: 0.5156375580665191\n",
      "623: 0.5154881062555612\n",
      "624: 0.5153388533014194\n",
      "625: 0.515189798778035\n",
      "626: 0.5150409422608161\n",
      "627: 0.5148922833266307\n",
      "628: 0.5147438215538007\n",
      "629: 0.5145955565220939\n",
      "630: 0.514447487812718\n",
      "631: 0.514299615008313\n",
      "632: 0.5141519376929458\n",
      "633: 0.5140044554521016\n",
      "634: 0.5138571678726788\n",
      "635: 0.5137100745429817\n",
      "636: 0.5135631750527133\n",
      "637: 0.5134164689929704\n",
      "638: 0.5132699559562354\n",
      "639: 0.51312363553637\n",
      "640: 0.5129775073286099\n",
      "641: 0.5128315709295572\n",
      "642: 0.5126858259371745\n",
      "643: 0.5125402719507781\n",
      "644: 0.5123949085710325\n",
      "645: 0.5122497353999432\n",
      "646: 0.5121047520408512\n",
      "647: 0.511959958098426\n",
      "648: 0.51181535317866\n",
      "649: 0.5116709368888623\n",
      "650: 0.5115267088376525\n",
      "651: 0.5113826686349541\n",
      "652: 0.5112388158919894\n",
      "653: 0.5110951502212725\n",
      "654: 0.5109516712366043\n",
      "655: 0.5108083785530657\n",
      "656: 0.510665271787012\n",
      "657: 0.5105223505560673\n",
      "658: 0.5103796144791178\n",
      "659: 0.5102370631763071\n",
      "660: 0.5100946962690295\n",
      "661: 0.5099525133799246\n",
      "662: 0.5098105141328715\n",
      "663: 0.5096686981529833\n",
      "664: 0.5095270650666013\n",
      "665: 0.5093856145012889\n",
      "666: 0.5092443460858267\n",
      "667: 0.5091032594502067\n",
      "668: 0.5089623542256267\n",
      "669: 0.5088216300444844\n",
      "670: 0.5086810865403727\n",
      "671: 0.5085407233480735\n",
      "672: 0.5084005401035531\n",
      "673: 0.5082605364439555\n",
      "674: 0.5081207120075986\n",
      "675: 0.5079810664339676\n",
      "676: 0.5078415993637102\n",
      "677: 0.5077023104386318\n",
      "678: 0.507563199301689\n",
      "679: 0.5074242655969857\n",
      "680: 0.5072855089697671\n",
      "681: 0.5071469290664146\n",
      "682: 0.5070085255344411\n",
      "683: 0.5068702980224853\n",
      "684: 0.5067322461803072\n",
      "685: 0.5065943696587826\n",
      "686: 0.5064566681098983\n",
      "687: 0.5063191411867468\n",
      "688: 0.5061817885435219\n",
      "689: 0.506044609835513\n",
      "690: 0.5059076047191011\n",
      "691: 0.5057707728517528\n",
      "692: 0.5056341138920164\n",
      "693: 0.5054976274995165\n",
      "694: 0.5053613133349493\n",
      "695: 0.5052251710600781\n",
      "696: 0.505089200337728\n",
      "697: 0.5049534008317819\n",
      "698: 0.5048177722071744\n",
      "699: 0.5046823141298892\n",
      "700: 0.5045470262669525\n",
      "701: 0.5044119082864296\n",
      "702: 0.5042769598574195\n",
      "703: 0.5041421806500507\n",
      "704: 0.5040075703354768\n",
      "705: 0.5038731285858714\n",
      "706: 0.5037388550744243\n",
      "707: 0.5036047494753362\n",
      "708: 0.5034708114638151\n",
      "709: 0.503337040716071\n",
      "710: 0.5032034369093124\n",
      "711: 0.5030699997217406\n",
      "712: 0.502936728832547\n",
      "713: 0.5028036239219073\n",
      "714: 0.5026706846709779\n",
      "715: 0.5025379107618917\n",
      "716: 0.5024053018777532\n",
      "717: 0.5022728577026345\n",
      "718: 0.5021405779215719\n",
      "719: 0.50200846222056\n",
      "720: 0.5018765102865491\n",
      "721: 0.5017447218074402\n",
      "722: 0.5016130964720814\n",
      "723: 0.5014816339702624\n",
      "724: 0.5013503339927126\n",
      "725: 0.5012191962310952\n",
      "726: 0.5010882203780042\n",
      "727: 0.5009574061269592\n",
      "728: 0.5008267531724027\n",
      "729: 0.5006962612096958\n",
      "730: 0.5005659299351133\n",
      "731: 0.5004357590458408\n",
      "732: 0.5003057482399702\n",
      "733: 0.500175897216496\n",
      "734: 0.5000462056753117\n",
      "735: 0.49991667331720474\n",
      "736: 0.49978729984385456\n",
      "737: 0.499658084957827\n",
      "738: 0.49952902836257146\n",
      "739: 0.4994001297624168\n",
      "740: 0.4992713888625678\n",
      "741: 0.4991428053691011\n",
      "742: 0.49901437898896145\n",
      "743: 0.49888610942995826\n",
      "744: 0.4987579964007623\n",
      "745: 0.4986300396109007\n",
      "746: 0.4985022387707546\n",
      "747: 0.4983745935915553\n",
      "748: 0.4982471037853796\n",
      "749: 0.49811976906514793\n",
      "750: 0.49799258914461914\n",
      "751: 0.49786556373838803\n",
      "752: 0.497738692561881\n",
      "753: 0.4976119753313538\n",
      "754: 0.4974854117638861\n",
      "755: 0.49735900157738006\n",
      "756: 0.4972327444905549\n",
      "757: 0.4971066402229453\n",
      "758: 0.49698068849489696\n",
      "759: 0.4968548890275629\n",
      "760: 0.49672924154290093\n",
      "761: 0.4966037457636695\n",
      "762: 0.49647840141342503\n",
      "763: 0.496353208216518\n",
      "764: 0.49622816589809005\n",
      "765: 0.49610327418406996\n",
      "766: 0.49597853280117166\n",
      "767: 0.49585394147688944\n",
      "768: 0.4957294999394958\n",
      "769: 0.49560520791803797\n",
      "770: 0.49548106514233414\n",
      "771: 0.49535707134297075\n",
      "772: 0.49523322625129934\n",
      "773: 0.49510952959943344\n",
      "774: 0.49498598112024467\n",
      "775: 0.4948625805473606\n",
      "776: 0.49473932761516104\n",
      "777: 0.4946162220587749\n",
      "778: 0.49449326361407764\n",
      "779: 0.4943704520176875\n",
      "780: 0.4942477870069627\n",
      "781: 0.49412526831999876\n",
      "782: 0.4940028956956248\n",
      "783: 0.4938806688734012\n",
      "784: 0.4937585875936161\n",
      "785: 0.4936366515972827\n",
      "786: 0.49351486062613587\n",
      "787: 0.4933932144226301\n",
      "788: 0.49327171272993553\n",
      "789: 0.4931503552919355\n",
      "790: 0.49302914185322394\n",
      "791: 0.49290807215910176\n",
      "792: 0.49278714595557455\n",
      "793: 0.4926663629893496\n",
      "794: 0.49254572300783306\n",
      "795: 0.49242522575912656\n",
      "796: 0.4923048709920254\n",
      "797: 0.49218465845601495\n",
      "798: 0.49206458790126817\n",
      "799: 0.4919446590786426\n"
     ]
    }
   ],
   "source": [
    "for j in range(len(losses)):\n",
    "    print(f\"{j}: {losses[j]}\", end='\\n')\n",
    "# Ideal Gradient (800 epochs) #\n",
    "## seed(42), lr = 0.001, mu = 0.3 --> loss = 0.5433165928958901\n",
    "## seed(42), lr = 0.001, mu = 0.5 --> loss = 0.5139704562064134\n",
    "\n",
    "# Oscillating Gradient (800 epochs) #\n",
    "## seed(42), lr = 0.003, mu = 0.5 --> loss = 0.49509424569059735\n",
    "## seed(42), lr = 0.003, mu = 0.6 --> loss = 0.4102733269497619\n",
    "\n",
    "# Early stopping (patience = 50) #\n",
    "## seed(42), lr = 0.003, mu = 0.5 --> 964: 0.410228534339208\n",
    "## seed(42), lr = 0.003, mu = 0.6 --> 422: 0.46334269494781627\n",
    "\n",
    "# Ideal Gradient (800 epochs) with Feature Engineering #\n",
    "## seed(42), lr = 0.001, mu = 0.3 --> loss = 0.523951850559082\n",
    "## seed(42), lr = 0.001, mu = 0.5 --> loss = 0.4922252143522289\n",
    "\n",
    "# Early stopping (patience = 50) with Feature Engineering #\n",
    "## seed(42), lr = 0.003, mu = 0.5 --> 739: 0.41164361016071044\n",
    "## seed(42), lr = 0.003, mu = 0.6 --> 314: 0.4688941580652026"
   ]
  },
  {
   "cell_type": "code",
   "execution_count": 30,
   "id": "476c796f-207e-442b-ad72-e9716763c7bb",
   "metadata": {
    "scrolled": true
   },
   "outputs": [],
   "source": [
    "for j in range(len(best_epochs_list)):\n",
    "    print(f\"{j}: {best_epochs_list[j]}\", end='\\n')"
   ]
  },
  {
   "cell_type": "code",
   "execution_count": 31,
   "id": "cbdfe00a-3a2c-4552-81cf-276f49b0eb33",
   "metadata": {},
   "outputs": [
    {
     "data": {
      "text/plain": [
       "array([ 0.01212269,  0.02345473,  0.03256924, -0.07147594, -0.0016775 ,\n",
       "       -0.07653893, -0.04301386, -0.12239441, -0.08660933, -0.06100693,\n",
       "       -0.05446296, -0.05123185,  0.00370082,  0.07088009, -0.00160816,\n",
       "        0.025565  ,  0.02339999, -0.04660636, -0.04567473, -0.05258916,\n",
       "       -0.05401114, -0.04501097, -0.04710228, -0.05281951, -0.04661317,\n",
       "       -0.09413822, -0.0151079 , -0.20134004, -0.07984116, -0.04818801,\n",
       "       -0.07130058, -0.27093874, -0.02998014, -0.04865858, -0.06437008,\n",
       "       -0.04381637, -0.04140956, -0.05397295, -0.10821965, -0.039458  ,\n",
       "        0.00166869,  0.00071821, -0.01307631, -0.0333952 , -0.10660031,\n",
       "       -0.14603903, -0.13778798])"
      ]
     },
     "execution_count": 31,
     "metadata": {},
     "output_type": "execute_result"
    }
   ],
   "source": [
    "theta"
   ]
  },
  {
   "cell_type": "markdown",
   "id": "e224970a-dd25-48f1-84b9-34b7f75b5558",
   "metadata": {},
   "source": [
    "## Model performance on training set"
   ]
  },
  {
   "cell_type": "markdown",
   "id": "299f24da-bee9-41ce-9496-a6a7d4ef66f8",
   "metadata": {},
   "source": [
    "We can test the performance of the model through its confusion matrix, F1 score, and accuracy score."
   ]
  },
  {
   "cell_type": "markdown",
   "id": "8b4dc532-cdd6-4e7d-b420-e1f932155e94",
   "metadata": {},
   "source": [
    "First, we predict on the training set."
   ]
  },
  {
   "cell_type": "code",
   "execution_count": 32,
   "id": "d1b1b0a7-3759-491d-a2be-255da74061b3",
   "metadata": {},
   "outputs": [],
   "source": [
    "## On training data\n",
    "pred = fwd(X_train, theta, dbg=False)\n",
    "\n",
    "## Decision (Threshold = 0.5)\n",
    "y_train_hat = (pred >= 0.5).astype(int)"
   ]
  },
  {
   "cell_type": "code",
   "execution_count": 33,
   "id": "daeeb20c-970f-4ad6-90b8-fdb4aaf80dfb",
   "metadata": {},
   "outputs": [
    {
     "data": {
      "text/plain": [
       "(79999, 1)"
      ]
     },
     "execution_count": 33,
     "metadata": {},
     "output_type": "execute_result"
    }
   ],
   "source": [
    "y_train_hat.shape"
   ]
  },
  {
   "cell_type": "code",
   "execution_count": 34,
   "id": "ec33b49e-a044-4fb4-83a1-014773609e85",
   "metadata": {},
   "outputs": [
    {
     "data": {
      "text/plain": [
       "(79999, 1)"
      ]
     },
     "execution_count": 34,
     "metadata": {},
     "output_type": "execute_result"
    }
   ],
   "source": [
    "y_train.shape"
   ]
  },
  {
   "cell_type": "code",
   "execution_count": 35,
   "id": "736d05c1-d3e8-4f96-b3d8-a77e0baeb242",
   "metadata": {},
   "outputs": [
    {
     "name": "stdout",
     "output_type": "stream",
     "text": [
      "[[56248  9371]\n",
      " [ 5520  8860]]\n"
     ]
    }
   ],
   "source": [
    "print(confusion_matrix(y_train, y_train_hat))"
   ]
  },
  {
   "cell_type": "code",
   "execution_count": 36,
   "id": "0e758c39-d892-4bae-9850-e4f198cc1adc",
   "metadata": {},
   "outputs": [
    {
     "name": "stdout",
     "output_type": "stream",
     "text": [
      "0.5433749348379381\n"
     ]
    }
   ],
   "source": [
    "print(f1_score(y_train, y_train_hat))"
   ]
  },
  {
   "cell_type": "code",
   "execution_count": 37,
   "id": "0a6baea1-60a5-48cb-8f99-099a9cf7f40d",
   "metadata": {},
   "outputs": [
    {
     "name": "stdout",
     "output_type": "stream",
     "text": [
      "0.8283388198671469\n"
     ]
    }
   ],
   "source": [
    "print(roc_auc_score(y_train, pred))"
   ]
  },
  {
   "cell_type": "code",
   "execution_count": 38,
   "id": "e550946e-d85e-4f1d-a61f-45b1023c2adb",
   "metadata": {},
   "outputs": [
    {
     "name": "stdout",
     "output_type": "stream",
     "text": [
      "0.8138601732521656\n"
     ]
    }
   ],
   "source": [
    "print(accuracy_score(y_train, y_train_hat))"
   ]
  },
  {
   "cell_type": "markdown",
   "id": "8a282797-cbb6-4758-98fc-0493a8806112",
   "metadata": {},
   "source": [
    "## Model performance on test set"
   ]
  },
  {
   "cell_type": "markdown",
   "id": "cb8e923c-5aa5-43a1-9368-08a1b6d89162",
   "metadata": {},
   "source": [
    "Now, we predict on the test set."
   ]
  },
  {
   "cell_type": "code",
   "execution_count": 39,
   "id": "8f7563e6-be5e-4eac-94b5-fe0403d2a8e3",
   "metadata": {},
   "outputs": [],
   "source": [
    "## On test data\n",
    "\n",
    "pred = fwd(X_test, theta, dbg=False)\n",
    "\n",
    "## Decision (Threshold = 0.5)\n",
    "y_test_hat = (pred >= 0.5).astype(int)"
   ]
  },
  {
   "cell_type": "code",
   "execution_count": 40,
   "id": "65b8cbab-e86f-422b-9e28-6c757710fa48",
   "metadata": {},
   "outputs": [
    {
     "data": {
      "text/plain": [
       "(20000, 1)"
      ]
     },
     "execution_count": 40,
     "metadata": {},
     "output_type": "execute_result"
    }
   ],
   "source": [
    "y_test_hat.shape"
   ]
  },
  {
   "cell_type": "code",
   "execution_count": 41,
   "id": "7243e085-bec0-4925-a951-6176ec93d355",
   "metadata": {},
   "outputs": [
    {
     "data": {
      "text/plain": [
       "(20000, 1)"
      ]
     },
     "execution_count": 41,
     "metadata": {},
     "output_type": "execute_result"
    }
   ],
   "source": [
    "y_test.shape"
   ]
  },
  {
   "cell_type": "code",
   "execution_count": 42,
   "id": "12b74855-2278-4ca2-8666-ef44f2570b6c",
   "metadata": {},
   "outputs": [
    {
     "name": "stdout",
     "output_type": "stream",
     "text": [
      "[[14186  2366]\n",
      " [ 1323  2125]]\n"
     ]
    }
   ],
   "source": [
    "print(confusion_matrix(y_test, y_test_hat))"
   ]
  },
  {
   "cell_type": "code",
   "execution_count": 43,
   "id": "28d2b97d-3609-4d17-9c64-f3b70ed67fb4",
   "metadata": {},
   "outputs": [
    {
     "name": "stdout",
     "output_type": "stream",
     "text": [
      "0.5353319057815846\n"
     ]
    }
   ],
   "source": [
    "print(f1_score(y_test, y_test_hat))"
   ]
  },
  {
   "cell_type": "code",
   "execution_count": 44,
   "id": "8630873e-a3d8-48ee-99d9-a1f05e6ca0a0",
   "metadata": {},
   "outputs": [
    {
     "name": "stdout",
     "output_type": "stream",
     "text": [
      "0.8270147220767512\n"
     ]
    }
   ],
   "source": [
    "print(roc_auc_score(y_test, pred))"
   ]
  },
  {
   "cell_type": "code",
   "execution_count": 45,
   "id": "964b4d21-ad2e-435c-a411-8912ce882b16",
   "metadata": {},
   "outputs": [
    {
     "name": "stdout",
     "output_type": "stream",
     "text": [
      "0.81555\n"
     ]
    }
   ],
   "source": [
    "print(accuracy_score(y_test, y_test_hat))"
   ]
  },
  {
   "cell_type": "markdown",
   "id": "e0f60e83-7208-489b-9e46-b727051d0873",
   "metadata": {},
   "source": [
    "## Write to a CSV file"
   ]
  },
  {
   "cell_type": "code",
   "execution_count": 47,
   "id": "02b3c5af-1c3f-452e-9f2a-4d3fe178e64b",
   "metadata": {},
   "outputs": [],
   "source": [
    "# Convert the NumPy array to a DataFrame\n",
    "X_train_csv = pd.DataFrame(X_train)\n",
    "y_train_csv = pd.DataFrame(y_train)\n",
    "X_test_csv = pd.DataFrame(X_test)\n",
    "y_test_csv = pd.DataFrame(y_test)\n",
    "\n",
    "# Save the DataFrame to a CSV file\n",
    "X_train_csv.to_csv(\"../cscore_data/X_train_79999.csv\", index=False)\n",
    "y_train_csv.to_csv(\"../cscore_data/y_train_79999.csv\", index=False)\n",
    "X_test_csv.to_csv(\"../cscore_data/X_test_20000.csv\", index=False)\n",
    "y_test_csv.to_csv(\"../cscore_data/y_test_20000.csv\", index=False)"
   ]
  },
  {
   "cell_type": "code",
   "execution_count": 48,
   "id": "aec99244-3473-4416-b2fe-66a81ce93f61",
   "metadata": {},
   "outputs": [],
   "source": [
    "del X"
   ]
  },
  {
   "cell_type": "code",
   "execution_count": null,
   "id": "a70a0e2d-1bdb-4844-93b0-a88ced8e16b8",
   "metadata": {},
   "outputs": [],
   "source": []
  }
 ],
 "metadata": {
  "kernelspec": {
   "display_name": "Python 3 (ipykernel)",
   "language": "python",
   "name": "python3"
  },
  "language_info": {
   "codemirror_mode": {
    "name": "ipython",
    "version": 3
   },
   "file_extension": ".py",
   "mimetype": "text/x-python",
   "name": "python",
   "nbconvert_exporter": "python",
   "pygments_lexer": "ipython3",
   "version": "3.10.13"
  }
 },
 "nbformat": 4,
 "nbformat_minor": 5
}
